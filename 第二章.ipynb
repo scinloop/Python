{
 "cells": [
  {
   "cell_type": "markdown",
   "metadata": {
    "id": "D89B0EAB542642F98900CCC4D4E49360",
    "jupyter": {},
    "notebookId": "6353695500092f69e1f2cb44",
    "scrolled": false,
    "slideshow": {
     "slide_type": "slide"
    },
    "tags": []
   },
   "source": [
    "# 第二章"
   ]
  },
  {
   "cell_type": "markdown",
   "metadata": {
    "id": "810CF482643D4985AFA558B9F60AF78D",
    "jupyter": {},
    "mdEditEnable": false,
    "notebookId": "6353695500092f69e1f2cb44",
    "scrolled": false,
    "slideshow": {
     "slide_type": "slide"
    },
    "tags": []
   },
   "source": [
    "# 2.1 变量"
   ]
  },
  {
   "cell_type": "code",
   "execution_count": 9,
   "metadata": {
    "id": "4FC61B519BE24DD590C9913A15FBDA95",
    "jupyter": {},
    "notebookId": "6353695500092f69e1f2cb44",
    "scrolled": false,
    "slideshow": {
     "slide_type": "slide"
    },
    "tags": []
   },
   "outputs": [
    {
     "name": "stdout",
     "output_type": "stream",
     "text": [
      "True\n",
      "1\n"
     ]
    }
   ],
   "source": [
    "#同一个对象也可以被多个变量所指向\n",
    "n = 1\n",
    "m = n\n",
    "print(m is n)\n",
    "n = 2\n",
    "print(m)"
   ]
  },
  {
   "cell_type": "code",
   "execution_count": 10,
   "metadata": {
    "id": "16BEDEF83DF24B65ABB0E52615CECDCB",
    "jupyter": {},
    "notebookId": "6353695500092f69e1f2cb44",
    "scrolled": false,
    "slideshow": {
     "slide_type": "slide"
    },
    "tags": []
   },
   "outputs": [
    {
     "name": "stdout",
     "output_type": "stream",
     "text": [
      "12\n",
      "10\n"
     ]
    }
   ],
   "source": [
    "# 可以将已经赋值过的变量和数值混合使用\n",
    "a = 10\n",
    "print(a + 2)\n",
    "print(a)"
   ]
  },
  {
   "cell_type": "code",
   "execution_count": 11,
   "metadata": {
    "id": "D672A6DA22044421924584DCEFE45A4F",
    "jupyter": {},
    "notebookId": "6353695500092f69e1f2cb44",
    "scrolled": false,
    "slideshow": {
     "slide_type": "slide"
    },
    "tags": []
   },
   "outputs": [
    {
     "name": "stdout",
     "output_type": "stream",
     "text": [
      "12\n",
      "12\n"
     ]
    }
   ],
   "source": [
    "# 赋值\n",
    "a = a + 2\n",
    "print(a)\n",
    "#等价于\n",
    "a = 10\n",
    "temp = a + 2\n",
    "a = temp\n",
    "print(a)"
   ]
  },
  {
   "cell_type": "markdown",
   "metadata": {
    "id": "6A3694B5E703400C9B95E13BA751E8D9",
    "jupyter": {},
    "mdEditEnable": false,
    "notebookId": "6353695500092f69e1f2cb44",
    "scrolled": false,
    "slideshow": {
     "slide_type": "slide"
    },
    "tags": []
   },
   "source": [
    "# 2.2 原生数据类型\n",
    "\n",
    "## 2.21 数值"
   ]
  },
  {
   "cell_type": "code",
   "execution_count": 12,
   "metadata": {
    "id": "40FE2236BFC940C28A9F157D17160B05",
    "jupyter": {},
    "notebookId": "6353695500092f69e1f2cb44",
    "scrolled": false,
    "slideshow": {
     "slide_type": "slide"
    },
    "tags": []
   },
   "outputs": [
    {
     "name": "stdout",
     "output_type": "stream",
     "text": [
      "7\n",
      "9\n"
     ]
    }
   ],
   "source": [
    "# 运算顺序\n",
    "print(1 + 2 * 3)\n",
    "print((1 + 2) * 3)"
   ]
  },
  {
   "cell_type": "code",
   "execution_count": 13,
   "metadata": {
    "id": "2FFB7D24BA7C4E428D5B4E9B526A72FC",
    "jupyter": {},
    "notebookId": "6353695500092f69e1f2cb44",
    "scrolled": false,
    "slideshow": {
     "slide_type": "slide"
    },
    "tags": []
   },
   "outputs": [
    {
     "name": "stdout",
     "output_type": "stream",
     "text": [
      "123.0 123.0 123.0\n"
     ]
    }
   ],
   "source": [
    "# 浮点数\n",
    "print(123.0,1.23e2,12300e-2)"
   ]
  },
  {
   "cell_type": "code",
   "execution_count": 14,
   "metadata": {
    "id": "1A7B234BAC6F49E3BF67E1A45B5D602C",
    "jupyter": {},
    "notebookId": "6353695500092f69e1f2cb44",
    "scrolled": false,
    "slideshow": {
     "slide_type": "slide"
    },
    "tags": []
   },
   "outputs": [
    {
     "name": "stdout",
     "output_type": "stream",
     "text": [
      "(3.14+15j) (3.14+15j) (3.14+15j)\n"
     ]
    }
   ],
   "source": [
    "# 复数\n",
    "print(3.14+15j,314e-2+15j,3.14+1.5e1j)"
   ]
  },
  {
   "cell_type": "code",
   "execution_count": 15,
   "metadata": {
    "id": "6C1F068B77A4445BBC57E07D18BF5F82",
    "jupyter": {},
    "notebookId": "6353695500092f69e1f2cb44",
    "scrolled": false,
    "slideshow": {
     "slide_type": "slide"
    },
    "tags": []
   },
   "outputs": [
    {
     "name": "stdout",
     "output_type": "stream",
     "text": [
      "(1+4j)\n",
      "(2+4j)\n"
     ]
    }
   ],
   "source": [
    "# 复数计算\n",
    "print(1+2j * 2)  \n",
    "print((1+2j) * 2)  "
   ]
  },
  {
   "cell_type": "code",
   "execution_count": 16,
   "metadata": {
    "id": "55C2B7C7E1164C1A85D1603E70D5DCA7",
    "jupyter": {},
    "notebookId": "6353695500092f69e1f2cb44",
    "scrolled": false,
    "slideshow": {
     "slide_type": "slide"
    },
    "tags": []
   },
   "outputs": [
    {
     "name": "stdout",
     "output_type": "stream",
     "text": [
      "True\n",
      "False\n",
      "False\n",
      "True\n"
     ]
    }
   ],
   "source": [
    "# 布尔值\n",
    "print(True)\n",
    "print(False)\n",
    "print(1 > 2)\n",
    "print(3.14 < 4)"
   ]
  },
  {
   "cell_type": "code",
   "execution_count": 17,
   "metadata": {
    "id": "37FEBBC455474B4CA41B3F79969A4407",
    "jupyter": {},
    "notebookId": "6353695500092f69e1f2cb44",
    "scrolled": false,
    "slideshow": {
     "slide_type": "slide"
    },
    "tags": []
   },
   "outputs": [
    {
     "name": "stdout",
     "output_type": "stream",
     "text": [
      "2\n",
      "2\n",
      "0.5\n",
      "1\n"
     ]
    }
   ],
   "source": [
    "# 布尔值计算\n",
    "print(True + 1)\n",
    "print(True + True)\n",
    "print(True / 2)\n",
    "print(False + 1)"
   ]
  },
  {
   "cell_type": "markdown",
   "metadata": {
    "id": "13217DFACDFB48C6815873201B8E7F21",
    "jupyter": {},
    "mdEditEnable": false,
    "notebookId": "6353695500092f69e1f2cb44",
    "scrolled": false,
    "slideshow": {
     "slide_type": "slide"
    },
    "tags": []
   },
   "source": [
    "## 2.22 空值"
   ]
  },
  {
   "cell_type": "code",
   "execution_count": 18,
   "metadata": {
    "id": "64F708402BF84A8493A0D7E1ED28F4E2",
    "jupyter": {},
    "notebookId": "6353695500092f69e1f2cb44",
    "scrolled": false,
    "slideshow": {
     "slide_type": "slide"
    },
    "tags": []
   },
   "outputs": [
    {
     "name": "stdout",
     "output_type": "stream",
     "text": [
      "None\n",
      "False\n",
      "False\n",
      "False\n"
     ]
    }
   ],
   "source": [
    "#空值\n",
    "print(None)\n",
    "print(None == 0)\n",
    "print(None == True)\n",
    "print(None == False)"
   ]
  },
  {
   "cell_type": "markdown",
   "metadata": {
    "id": "9C2C143A2B0C47B89A7A1BBC15DA4237",
    "jupyter": {},
    "mdEditEnable": false,
    "notebookId": "6353695500092f69e1f2cb44",
    "scrolled": false,
    "slideshow": {
     "slide_type": "slide"
    },
    "tags": []
   },
   "source": [
    "## 2.23 字符串"
   ]
  },
  {
   "cell_type": "code",
   "execution_count": 19,
   "metadata": {
    "id": "F9F4B64304B7430A8B780406D9D0B2C1",
    "jupyter": {},
    "notebookId": "6353695500092f69e1f2cb44",
    "scrolled": false,
    "slideshow": {
     "slide_type": "slide"
    },
    "tags": []
   },
   "outputs": [
    {
     "name": "stdout",
     "output_type": "stream",
     "text": [
      "hello\n",
      "world\n",
      "hello 'world'\n",
      "good \"morning\"\n"
     ]
    }
   ],
   "source": [
    "# 字符串\n",
    "print('hello')\n",
    "print(\"world\")\n",
    "print(\"hello 'world'\")\n",
    "print('good \"morning\"')"
   ]
  },
  {
   "cell_type": "code",
   "execution_count": 20,
   "metadata": {
    "id": "A0BDA7EED3C7471987AE3A3922BE2573",
    "jupyter": {},
    "notebookId": "6353695500092f69e1f2cb44",
    "scrolled": false,
    "slideshow": {
     "slide_type": "slide"
    },
    "tags": []
   },
   "outputs": [
    {
     "name": "stdout",
     "output_type": "stream",
     "text": [
      "Hi!\n",
      "Good 'morning'\n",
      "\n",
      "Hello!\n",
      "   Good \"evening\"\n",
      "\n"
     ]
    }
   ],
   "source": [
    "# 多行字符串会保留代码中的换行符和空格\n",
    "morning = '''Hi!\n",
    "Good 'morning'\n",
    "'''\n",
    "evening = \"\"\"Hello!\n",
    "   Good \"evening\"\n",
    "\"\"\"\n",
    "print(morning)\n",
    "print(evening)\n"
   ]
  },
  {
   "cell_type": "code",
   "execution_count": 21,
   "metadata": {
    "id": "8206627CFEEE48EF82450721DEB8A389",
    "jupyter": {},
    "notebookId": "6353695500092f69e1f2cb44",
    "scrolled": false,
    "slideshow": {
     "slide_type": "slide"
    },
    "tags": []
   },
   "outputs": [
    {
     "name": "stdout",
     "output_type": "stream",
     "text": [
      "32\n",
      "32.0\n",
      "32.0\n",
      "<class 'str'>\n"
     ]
    }
   ],
   "source": [
    "# 数值类型互相转化\n",
    "print(int('32'))\n",
    "print(float('32'))\n",
    "# 数值转为字符串\n",
    "a = str(32.0)\n",
    "print(a)\n",
    "print(type(a))"
   ]
  },
  {
   "cell_type": "code",
   "execution_count": 22,
   "metadata": {
    "id": "57572CEA7594409BB72375200B97CF64",
    "jupyter": {},
    "notebookId": "6353695500092f69e1f2cb44",
    "scrolled": false,
    "slideshow": {
     "slide_type": "slide"
    },
    "tags": []
   },
   "outputs": [
    {
     "name": "stdout",
     "output_type": "stream",
     "text": [
      "hello \n",
      " world\n",
      "hello 'world'\n"
     ]
    }
   ],
   "source": [
    "# 转义符\n",
    "print('hello \\n world')\n",
    "print('hello \\'world\\'')"
   ]
  },
  {
   "cell_type": "code",
   "execution_count": 23,
   "metadata": {
    "id": "E0708BFE9CAE42F881A766878BA9078F",
    "jupyter": {},
    "notebookId": "6353695500092f69e1f2cb44",
    "scrolled": false,
    "slideshow": {
     "slide_type": "slide"
    },
    "tags": []
   },
   "outputs": [
    {
     "name": "stdout",
     "output_type": "stream",
     "text": [
      "5\n",
      "2\n"
     ]
    }
   ],
   "source": [
    "# 获取字符串长度\n",
    "print(len('hello'))\n",
    "print(len('你好'))"
   ]
  },
  {
   "cell_type": "code",
   "execution_count": 24,
   "metadata": {
    "id": "4AE6D1C242914B2888B4C6362E9828B5",
    "jupyter": {},
    "notebookId": "6353695500092f69e1f2cb44",
    "scrolled": false,
    "slideshow": {
     "slide_type": "slide"
    },
    "tags": []
   },
   "outputs": [
    {
     "name": "stdout",
     "output_type": "stream",
     "text": [
      "True\n",
      "True\n"
     ]
    }
   ],
   "source": [
    "# 用in判断是否存在子字符串\n",
    "poem = 'You need Python'\n",
    "print('nee' in poem)\n",
    "print('早' in '早上要吃早餐')"
   ]
  },
  {
   "cell_type": "markdown",
   "metadata": {
    "id": "7721E6F857BA4FA69B19493A0578152C",
    "jupyter": {},
    "mdEditEnable": false,
    "notebookId": "6353695500092f69e1f2cb44",
    "scrolled": false,
    "slideshow": {
     "slide_type": "slide"
    },
    "tags": []
   },
   "source": [
    "## 2.24 列表和元组"
   ]
  },
  {
   "cell_type": "code",
   "execution_count": 25,
   "metadata": {
    "id": "2C171A29353E4D469C08BF6B33CD2EB7",
    "jupyter": {},
    "notebookId": "6353695500092f69e1f2cb44",
    "scrolled": false,
    "slideshow": {
     "slide_type": "slide"
    },
    "tags": []
   },
   "outputs": [],
   "source": [
    "# 用[]创建列表\n",
    "list_empty = []\n",
    "list_str = ['hello', 'good', 'bye']\n",
    "list_hybrid = [1, 'one', [2, 3], True]"
   ]
  },
  {
   "cell_type": "code",
   "execution_count": 26,
   "metadata": {
    "id": "4E4B2CD95F9B44E9A9FE0FC04F44018F",
    "jupyter": {},
    "notebookId": "6353695500092f69e1f2cb44",
    "scrolled": false,
    "slideshow": {
     "slide_type": "slide"
    },
    "tags": []
   },
   "outputs": [
    {
     "name": "stdout",
     "output_type": "stream",
     "text": [
      "['h', 'e', 'l', 'l', 'o']\n",
      "[1, 2, 3]\n"
     ]
    }
   ],
   "source": [
    "# 用list()将其他序列转为列表\n",
    "print(list('hello'))\n",
    "print(list((1,2,3)))"
   ]
  },
  {
   "cell_type": "code",
   "execution_count": 27,
   "metadata": {
    "id": "9C468DE6AE574648873AACEEAE3A6743",
    "jupyter": {},
    "notebookId": "6353695500092f69e1f2cb44",
    "scrolled": false,
    "slideshow": {
     "slide_type": "slide"
    },
    "tags": []
   },
   "outputs": [
    {
     "name": "stdout",
     "output_type": "stream",
     "text": [
      "Liming\n",
      "Lili\n"
     ]
    }
   ],
   "source": [
    "# 用索引[index]获取元素\n",
    "names = ['Liming', 'Lili', 'Daming']\n",
    "print(names[0])\n",
    "print(names[1])"
   ]
  },
  {
   "cell_type": "code",
   "execution_count": 28,
   "metadata": {
    "id": "EC74F7EDC83B4E729651D8E9AC79B657",
    "jupyter": {},
    "notebookId": "6353695500092f69e1f2cb44",
    "scrolled": false,
    "slideshow": {
     "slide_type": "slide"
    },
    "tags": []
   },
   "outputs": [
    {
     "name": "stdout",
     "output_type": "stream",
     "text": [
      "Daming\n",
      "Liming\n"
     ]
    }
   ],
   "source": [
    "# 通过负向索引从列表中取出对应位置的元素\n",
    "names = ['Liming', 'Lili', 'Daming']\n",
    "print(names[-1])\n",
    "print(names[-3])"
   ]
  },
  {
   "cell_type": "code",
   "execution_count": 29,
   "metadata": {
    "id": "960BE35810504278A9560985A9AC0886",
    "jupyter": {},
    "notebookId": "6353695500092f69e1f2cb44",
    "scrolled": false,
    "slideshow": {
     "slide_type": "slide"
    },
    "tags": []
   },
   "outputs": [
    {
     "name": "stdout",
     "output_type": "stream",
     "text": [
      "['Liming', 'Lili', 'Daming']\n",
      "['David', 'Lili', 'Daming']\n"
     ]
    }
   ],
   "source": [
    "# 用索引[index]替换元素\n",
    "names = ['Liming', 'Lili', 'Daming']\n",
    "print(names)\n",
    "names[0] = 'David'\n",
    "print(names)"
   ]
  },
  {
   "cell_type": "code",
   "execution_count": 30,
   "metadata": {
    "id": "FFF0854F6D504F0FAB583ED43845F63C",
    "jupyter": {},
    "notebookId": "6353695500092f69e1f2cb44",
    "scrolled": false,
    "slideshow": {
     "slide_type": "slide"
    },
    "tags": []
   },
   "outputs": [
    {
     "name": "stdout",
     "output_type": "stream",
     "text": [
      "['Liming', 'Lili', 'Daming']\n",
      "['Liming', 'Lili', 'Daming', 'David']\n"
     ]
    }
   ],
   "source": [
    "# 用append()方法添加元素到尾部\n",
    "names = ['Liming', 'Lili', 'Daming']\n",
    "print(names)\n",
    "names.append('David')\n",
    "print(names)"
   ]
  },
  {
   "cell_type": "code",
   "execution_count": 31,
   "metadata": {
    "id": "150D445CA07E40F79AF0A0B87FF4C9D0",
    "jupyter": {},
    "notebookId": "6353695500092f69e1f2cb44",
    "scrolled": false,
    "slideshow": {
     "slide_type": "slide"
    },
    "tags": []
   },
   "outputs": [
    {
     "name": "stdout",
     "output_type": "stream",
     "text": [
      "['Liming', 'Lili', 'Daming', 'David']\n",
      "['Liming', 'Lili', 'Daming']\n",
      "Liming\n",
      "['Lili', 'Daming']\n"
     ]
    }
   ],
   "source": [
    "# 用pop()方法删除元素\n",
    "names = ['Liming', 'Lili', 'Daming', 'David']\n",
    "print(names)\n",
    "names.pop()\n",
    "print(names)\n",
    "print(names.pop(0))\n",
    "print(names)"
   ]
  },
  {
   "cell_type": "code",
   "execution_count": 32,
   "metadata": {
    "id": "B5D084A235194E0D899796DD07D69402",
    "jupyter": {},
    "notebookId": "6353695500092f69e1f2cb44",
    "scrolled": false,
    "slideshow": {
     "slide_type": "slide"
    },
    "tags": []
   },
   "outputs": [
    {
     "name": "stdout",
     "output_type": "stream",
     "text": [
      "4\n"
     ]
    }
   ],
   "source": [
    "# 用len()函数获取列表长度\n",
    "names = ['Liming', 'Lili', 'Daming', 'David']\n",
    "print(len(names))"
   ]
  },
  {
   "cell_type": "code",
   "execution_count": 33,
   "metadata": {
    "id": "3BFE193696864D83B54331BF10ED9135",
    "jupyter": {},
    "notebookId": "6353695500092f69e1f2cb44",
    "scrolled": false,
    "slideshow": {
     "slide_type": "slide"
    },
    "tags": []
   },
   "outputs": [
    {
     "name": "stdout",
     "output_type": "stream",
     "text": [
      "['Liming', 'Lili', 'Daming', 'David']\n",
      "['Liming', 'Lili', 'Daming', 'David']\n",
      "['Liming', 'Lili', 'Daming']\n",
      "['Liming', 'Lili', 'Daming']\n"
     ]
    }
   ],
   "source": [
    "# 列表的赋值与复制\n",
    "names = ['Liming', 'Lili', 'Daming', 'David']\n",
    "visitor = names\n",
    "print(names)\n",
    "print(visitor)\n",
    "names.pop()\n",
    "print(names)\n",
    "print(visitor)"
   ]
  },
  {
   "cell_type": "code",
   "execution_count": 34,
   "metadata": {
    "id": "8F7D0F0E29AD4D63A75793D975759971",
    "jupyter": {},
    "notebookId": "6353695500092f69e1f2cb44",
    "scrolled": false,
    "slideshow": {
     "slide_type": "slide"
    },
    "tags": []
   },
   "outputs": [
    {
     "name": "stdout",
     "output_type": "stream",
     "text": [
      "['Liming', 'Lili', 'Daming', 'David']\n",
      "['Liming', 'Lili', 'Daming', 'David']\n",
      "['Liming', 'Lili', 'Daming']\n",
      "['Liming', 'Lili', 'Daming', 'David']\n"
     ]
    }
   ],
   "source": [
    "# 用copy()方法复制列表\n",
    "names = ['Liming', 'Lili', 'Daming', 'David']\n",
    "visitor = names.copy()\n",
    "print(names)\n",
    "print(visitor)\n",
    "names.pop()\n",
    "print(names)\n",
    "print(visitor)"
   ]
  },
  {
   "cell_type": "code",
   "execution_count": 35,
   "metadata": {
    "id": "1F389FD9A8E24E2BA79184756C248258",
    "jupyter": {},
    "notebookId": "6353695500092f69e1f2cb44",
    "scrolled": false,
    "slideshow": {
     "slide_type": "slide"
    },
    "tags": []
   },
   "outputs": [
    {
     "name": "stdout",
     "output_type": "stream",
     "text": [
      "True\n",
      "False\n"
     ]
    }
   ],
   "source": [
    "# 用in判断元素的值是否存在\n",
    "names = ['Liming', 'Lili', 'Daming', 'David']\n",
    "print('Lili' in names)\n",
    "print('Bob' in names)"
   ]
  },
  {
   "cell_type": "code",
   "execution_count": 36,
   "metadata": {
    "id": "D013F158D92B4F1484533F14A1F2CE4E",
    "jupyter": {},
    "notebookId": "6353695500092f69e1f2cb44",
    "scrolled": false,
    "slideshow": {
     "slide_type": "slide"
    },
    "tags": []
   },
   "outputs": [],
   "source": [
    "# 用()创建元组\n",
    "tuple_empty = ()\n",
    "tuple_name = ('Lili',)\n",
    "tuple_score = (10, 2,)  # tuple_score = (10, 2)也正确"
   ]
  },
  {
   "cell_type": "code",
   "execution_count": 37,
   "metadata": {
    "id": "E256013CFA154A5AAE0E2AEDFA7F75A1",
    "jupyter": {},
    "notebookId": "6353695500092f69e1f2cb44",
    "scrolled": false,
    "slideshow": {
     "slide_type": "slide"
    },
    "tags": []
   },
   "outputs": [
    {
     "name": "stdout",
     "output_type": "stream",
     "text": [
      "<class 'str'>\n",
      "<class 'tuple'>\n"
     ]
    }
   ],
   "source": [
    "# 如果元组只有一个元素，那么元素后面一定要带上逗号，否则赋值给变量的将是元素本身，而不是“装有”单一元素的元组\n",
    "tuple_wrong = ('wrong')\n",
    "print(type(tuple_wrong))\n",
    "tuple_right = ('right',)\n",
    "print(type(tuple_right))"
   ]
  },
  {
   "cell_type": "code",
   "execution_count": 38,
   "metadata": {
    "id": "7F00564056DD414097837B514E21F240",
    "jupyter": {},
    "notebookId": "6353695500092f69e1f2cb44",
    "scrolled": false,
    "slideshow": {
     "slide_type": "slide"
    },
    "tags": []
   },
   "outputs": [
    {
     "name": "stdout",
     "output_type": "stream",
     "text": [
      "('h', 'e', 'l', 'l', 'o')\n",
      "(1, 2, 3)\n"
     ]
    }
   ],
   "source": [
    "# 用tuple()将其他序列转换成元组\n",
    "print(tuple('hello'))\n",
    "print(tuple([1,2,3]))"
   ]
  },
  {
   "cell_type": "code",
   "execution_count": 39,
   "metadata": {
    "id": "3EF9FE978188436B811BFC516E2A9685",
    "jupyter": {},
    "notebookId": "6353695500092f69e1f2cb44",
    "scrolled": false,
    "slideshow": {
     "slide_type": "slide"
    },
    "tags": []
   },
   "outputs": [
    {
     "name": "stdout",
     "output_type": "stream",
     "text": [
      "Liming\n"
     ]
    }
   ],
   "source": [
    "# 使用索引[index]获取元素\n",
    "names = ('Liming', 'Lili', 'Daming')\n",
    "print(names[0])"
   ]
  },
  {
   "cell_type": "code",
   "execution_count": 40,
   "metadata": {
    "id": "4C64546F6B2B4CB6B292F83987E704F3",
    "jupyter": {},
    "notebookId": "6353695500092f69e1f2cb44",
    "scrolled": false,
    "slideshow": {
     "slide_type": "slide"
    },
    "tags": []
   },
   "outputs": [
    {
     "name": "stdout",
     "output_type": "stream",
     "text": [
      "Daming\n",
      "Liming\n"
     ]
    }
   ],
   "source": [
    "# 通过负向索引从元组中取出对应位置的元素\n",
    "names = ('Liming', 'Lili', 'Daming')\n",
    "print(names[-1])\n",
    "print(names[-3])"
   ]
  },
  {
   "cell_type": "code",
   "execution_count": 41,
   "metadata": {
    "id": "1C6E813FD7DB402EA7D13A542026B117",
    "jupyter": {},
    "notebookId": "6353695500092f69e1f2cb44",
    "scrolled": false,
    "slideshow": {
     "slide_type": "slide"
    },
    "tags": []
   },
   "outputs": [
    {
     "name": "stdout",
     "output_type": "stream",
     "text": [
      "(1, 2, [])\n",
      "[]\n",
      "(1, 2, ['hello'])\n"
     ]
    }
   ],
   "source": [
    "# 元组中元素不可增删和替换，并不代表元素对象不可以变化\n",
    "tuple_hybrid = (1, 2, [])\n",
    "print(tuple_hybrid)\n",
    "print(tuple_hybrid[2])\n",
    "tuple_hybrid[2].append('hello')\n",
    "print(tuple_hybrid)"
   ]
  },
  {
   "cell_type": "code",
   "execution_count": 42,
   "metadata": {
    "id": "D7A6439DC73F4C17AFC7E61E09ABDE89",
    "jupyter": {},
    "notebookId": "6353695500092f69e1f2cb44",
    "scrolled": false,
    "slideshow": {
     "slide_type": "slide"
    },
    "tags": []
   },
   "outputs": [
    {
     "name": "stdout",
     "output_type": "stream",
     "text": [
      "True\n",
      "False\n"
     ]
    }
   ],
   "source": [
    "# 用in判断元素的值是否存在\n",
    "names = ('Liming', 'Lili', 'Daming', 'David')\n",
    "print('Lili' in names)\n",
    "print('Bob' in names)"
   ]
  },
  {
   "cell_type": "markdown",
   "metadata": {
    "id": "7175A23D8BBB4FFB8135465D414DEA93",
    "jupyter": {},
    "mdEditEnable": false,
    "notebookId": "6353695500092f69e1f2cb44",
    "scrolled": false,
    "slideshow": {
     "slide_type": "slide"
    },
    "tags": []
   },
   "source": [
    "## 2.25 集合"
   ]
  },
  {
   "cell_type": "code",
   "execution_count": 43,
   "metadata": {
    "id": "E94CDA4EDE4549BF8036FC9C00B8AA70",
    "jupyter": {},
    "notebookId": "6353695500092f69e1f2cb44",
    "scrolled": false,
    "slideshow": {
     "slide_type": "slide"
    },
    "tags": []
   },
   "outputs": [
    {
     "name": "stdout",
     "output_type": "stream",
     "text": [
      "set()\n",
      "{1, 3, 4, 5, 10}\n",
      "{'good', 'bye', 'hello'}\n",
      "{1, 'david'}\n"
     ]
    }
   ],
   "source": [
    "# 用{}创建集合\n",
    "set_empty = set()\n",
    "set_number = {1, 3, 10, 4, 5, 5}\n",
    "set_word = {'hello', 'good', 'bye'}\n",
    "set_hybrid = {'david', 1}\n",
    "print(set_empty)\n",
    "print(set_number)\n",
    "print(set_word)\n",
    "print(set_hybrid)"
   ]
  },
  {
   "cell_type": "code",
   "execution_count": 44,
   "metadata": {
    "id": "83A81DD0018E48F6B1D930A28E79CB65",
    "jupyter": {},
    "notebookId": "6353695500092f69e1f2cb44",
    "scrolled": false,
    "slideshow": {
     "slide_type": "slide"
    },
    "tags": []
   },
   "outputs": [
    {
     "name": "stdout",
     "output_type": "stream",
     "text": [
      "{'o', 'h', 'l', 'e'}\n",
      "{'good', 'bye'}\n",
      "{'good', 'bye'}\n"
     ]
    }
   ],
   "source": [
    "# 用set()将序列转换成集合\n",
    "print(set('hello'))\n",
    "print(set(['good', 'bye']))\n",
    "print(set(('good', 'bye')))"
   ]
  },
  {
   "cell_type": "code",
   "execution_count": 45,
   "metadata": {
    "id": "D525EEEDB42047E08FE8AC809914D0C8",
    "jupyter": {},
    "notebookId": "6353695500092f69e1f2cb44",
    "scrolled": false,
    "slideshow": {
     "slide_type": "slide"
    },
    "tags": []
   },
   "outputs": [
    {
     "name": "stdout",
     "output_type": "stream",
     "text": [
      "True\n"
     ]
    }
   ],
   "source": [
    "# 用in判断元素的值是否存在\n",
    "print('good' in {'good', 'hello'})"
   ]
  },
  {
   "cell_type": "code",
   "execution_count": 46,
   "metadata": {
    "id": "903557256B7547FDB079C6EFA333DB24",
    "jupyter": {},
    "notebookId": "6353695500092f69e1f2cb44",
    "scrolled": false,
    "slideshow": {
     "slide_type": "slide"
    },
    "tags": []
   },
   "outputs": [
    {
     "name": "stdout",
     "output_type": "stream",
     "text": [
      "{'apple'}\n",
      "set()\n",
      "{'grape', 'orange', 'banana', 'cherry', 'apple'}\n",
      "{'grape', 'orange', 'berry', 'banana', 'cherry', 'apple'}\n"
     ]
    }
   ],
   "source": [
    "# 集合运算符\n",
    "fruit_a = {'apple', 'orange', 'banana'}\n",
    "fruit_b = {'grape', 'apple', 'cherry'}\n",
    "fruit_c = {'grape', 'berry', 'cherry'}\n",
    "print(fruit_a & fruit_b)\n",
    "print(fruit_a & fruit_c)\n",
    "\n",
    "fruit_a = {'apple', 'orange', 'banana'}\n",
    "fruit_b = {'grape', 'apple', 'cherry'}\n",
    "fruit_c = {'grape', 'berry', 'cherry'}\n",
    "print(fruit_a | fruit_b)\n",
    "print(fruit_a | fruit_b | fruit_c)\n"
   ]
  },
  {
   "cell_type": "markdown",
   "metadata": {
    "id": "11ED1E9AFC824E0584567DF5812D8629",
    "jupyter": {},
    "mdEditEnable": false,
    "notebookId": "6353695500092f69e1f2cb44",
    "scrolled": false,
    "slideshow": {
     "slide_type": "slide"
    },
    "tags": []
   },
   "source": [
    "## 2.2.6  字典"
   ]
  },
  {
   "cell_type": "code",
   "execution_count": 47,
   "metadata": {
    "id": "DF2978AAFE0C4B5F8BD649986213521B",
    "jupyter": {},
    "notebookId": "6353695500092f69e1f2cb44",
    "scrolled": false,
    "slideshow": {
     "slide_type": "slide"
    },
    "tags": []
   },
   "outputs": [
    {
     "name": "stdout",
     "output_type": "stream",
     "text": [
      "{}\n",
      "{'hour': 1, 'day': 24, 'week': 168}\n",
      "{'clock': 8, 'say': 'good morning', 1: 'room'}\n"
     ]
    }
   ],
   "source": [
    "# 用{}创建字典\n",
    "dict_empty = {}\n",
    "dict_hours = {\n",
    "   'hour': 1,\n",
    "   'day': 24,\n",
    "   'week': 168\n",
    "}\n",
    "dict_hybrid = {\n",
    "   'clock': 8,\n",
    "   'say': 'good morning',\n",
    "   1: 'room'\n",
    "}\n",
    "print(dict_empty)\n",
    "print(dict_hours)\n",
    "print(dict_hybrid)"
   ]
  },
  {
   "cell_type": "code",
   "execution_count": 48,
   "metadata": {
    "id": "8AE1D4A5F0144F298A75B5AC36614903",
    "jupyter": {},
    "notebookId": "6353695500092f69e1f2cb44",
    "scrolled": false,
    "slideshow": {
     "slide_type": "slide"
    },
    "tags": []
   },
   "outputs": [
    {
     "name": "stdout",
     "output_type": "stream",
     "text": [
      "24\n"
     ]
    }
   ],
   "source": [
    "# 用键[key]获取元素\n",
    "dict_hours = {\n",
    "   'hour': 1,\n",
    "   'day': 24,\n",
    "   'week': 168\n",
    "}\n",
    "print(dict_hours['day'])"
   ]
  },
  {
   "cell_type": "code",
   "execution_count": 49,
   "metadata": {
    "id": "94C7C641BD794E458A1DE959D5512FEF",
    "jupyter": {},
    "notebookId": "6353695500092f69e1f2cb44",
    "scrolled": false,
    "slideshow": {
     "slide_type": "slide"
    },
    "tags": []
   },
   "outputs": [
    {
     "name": "stdout",
     "output_type": "stream",
     "text": [
      "False\n",
      "168\n",
      "None\n",
      "no month\n"
     ]
    }
   ],
   "source": [
    "# 测试键是否存在\n",
    "print('month' in dict_hours)\n",
    "print(dict_hours.get('week'))\n",
    "print(dict_hours.get('month'))\n",
    "print(dict_hours.get('month', 'no month'))"
   ]
  },
  {
   "cell_type": "code",
   "execution_count": 50,
   "metadata": {
    "id": "82C8705A1C9A426D8F31A13C50D667EF",
    "jupyter": {},
    "notebookId": "6353695500092f69e1f2cb44",
    "scrolled": false,
    "slideshow": {
     "slide_type": "slide"
    },
    "tags": []
   },
   "outputs": [
    {
     "name": "stdout",
     "output_type": "stream",
     "text": [
      "{'Lili': 20, 'Daming': 21}\n",
      "{'Lili': 20, 'Daming': 21, 'Tom': 25}\n"
     ]
    }
   ],
   "source": [
    "# 用键[key]添加或替换元素\n",
    "dict_ages = {\n",
    "   'Lili': 20,\n",
    "   'Daming': 21\n",
    "}\n",
    "print(dict_ages)\n",
    "dict_ages['Tom'] = 25\n",
    "print(dict_ages)\n",
    "dict_ages['Daming'] = 23"
   ]
  },
  {
   "cell_type": "code",
   "execution_count": 51,
   "metadata": {
    "id": "8697A27F8F0E45A18AA89B4175465483",
    "jupyter": {},
    "notebookId": "6353695500092f69e1f2cb44",
    "scrolled": false,
    "slideshow": {
     "slide_type": "slide"
    },
    "tags": []
   },
   "outputs": [
    {
     "name": "stdout",
     "output_type": "stream",
     "text": [
      "dict_keys(['hour', 'day', 'week'])\n",
      "['hour', 'day', 'week']\n"
     ]
    }
   ],
   "source": [
    "# 用keys()方法获取所有键\n",
    "dict_hours = {\n",
    "   'hour': 1,\n",
    "   'day': 24,\n",
    "   'week': 168\n",
    "}\n",
    "print(dict_hours.keys())\n",
    "print(list(dict_hours.keys()))"
   ]
  },
  {
   "cell_type": "code",
   "execution_count": 52,
   "metadata": {
    "id": "C382E71C93454624A394B831AD6C84F5",
    "jupyter": {},
    "notebookId": "6353695500092f69e1f2cb44",
    "scrolled": false,
    "slideshow": {
     "slide_type": "slide"
    },
    "tags": []
   },
   "outputs": [
    {
     "name": "stdout",
     "output_type": "stream",
     "text": [
      "dict_values([1, 24, 168])\n",
      "[1, 24, 168]\n"
     ]
    }
   ],
   "source": [
    "# 用values()方法获取所有值\n",
    "dict_hours = {\n",
    "   'hour': 1,\n",
    "   'day': 24,\n",
    "   'week': 168\n",
    "}\n",
    "print(dict_hours.values())\n",
    "print(list(dict_hours.values()))"
   ]
  },
  {
   "cell_type": "code",
   "execution_count": 53,
   "metadata": {
    "id": "EF8733491277442599226B371EC5EBE0",
    "jupyter": {},
    "notebookId": "6353695500092f69e1f2cb44",
    "scrolled": false,
    "slideshow": {
     "slide_type": "slide"
    },
    "tags": []
   },
   "outputs": [
    {
     "name": "stdout",
     "output_type": "stream",
     "text": [
      "{'Daming': 21, 'Lili': 20}\n",
      "{'Daming': 23, 'Lili': 20, 'Tom': 25}\n"
     ]
    }
   ],
   "source": [
    "# 用update()方法更新字典\n",
    "dict_ages = {'Daming': 21, 'Lili':20}\n",
    "print(dict_ages)\n",
    "dict_ages.update({'Daming': 23, 'Tom': 25})\n",
    "print(dict_ages)"
   ]
  },
  {
   "cell_type": "code",
   "execution_count": 54,
   "metadata": {
    "id": "C71134F28CA441D8BAC7797F3ECFAAC6",
    "jupyter": {},
    "mdEditEnable": false,
    "notebookId": "6353695500092f69e1f2cb44",
    "scrolled": false,
    "slideshow": {
     "slide_type": "slide"
    },
    "tags": []
   },
   "outputs": [
    {
     "name": "stdout",
     "output_type": "stream",
     "text": [
      "{'Daming': 21, 'Lili': 20}\n",
      "20\n",
      "{'Daming': 21}\n"
     ]
    }
   ],
   "source": [
    "# 用pop()方法删除键值对\n",
    "dict_ages = {'Daming': 21, 'Lili':20}\n",
    "print(dict_ages)\n",
    "print(dict_ages.pop('Lili'))\n",
    "print(dict_ages)"
   ]
  },
  {
   "cell_type": "code",
   "execution_count": 55,
   "metadata": {
    "id": "D32475BFC95C4EAA87386C763D919E9C",
    "jupyter": {},
    "notebookId": "6353695500092f69e1f2cb44",
    "scrolled": false,
    "slideshow": {
     "slide_type": "slide"
    },
    "tags": []
   },
   "outputs": [
    {
     "name": "stdout",
     "output_type": "stream",
     "text": [
      "{'Daming': 21, 'Lili': 20}\n",
      "{'Daming': 21, 'Lili': 20, 'Tom': 25}\n",
      "{'Daming': 21, 'Lili': 20, 'Tom': 25}\n"
     ]
    }
   ],
   "source": [
    "# 字典的赋值与复制\n",
    "dict_ages = {'Daming': 21, 'Lili':20}\n",
    "dict_new = dict_ages\n",
    "print(dict_new)\n",
    "dict_ages['Tom'] = 25\n",
    "print(dict_new)\n",
    "print(dict_ages)"
   ]
  },
  {
   "cell_type": "code",
   "execution_count": 56,
   "metadata": {
    "id": "FD3BD2E5FFFF4D9E933C144A70F357B4",
    "jupyter": {},
    "notebookId": "6353695500092f69e1f2cb44",
    "scrolled": false,
    "slideshow": {
     "slide_type": "slide"
    },
    "tags": []
   },
   "outputs": [
    {
     "name": "stdout",
     "output_type": "stream",
     "text": [
      "{'Daming': 21, 'Lili': 20}\n",
      "{'Daming': 21, 'Lili': 20}\n",
      "{'Daming': 21, 'Lili': 20, 'Tom': 25}\n"
     ]
    }
   ],
   "source": [
    "# 使用copy()方法复制一个新的字典对象\n",
    "dict_ages = {'Daming': 21, 'Lili':20}\n",
    "dict_new = dict_ages.copy()\n",
    "print(dict_new)\n",
    "dict_ages['Tom'] = 25\n",
    "print(dict_new)\n",
    "print(dict_ages)"
   ]
  },
  {
   "cell_type": "markdown",
   "metadata": {
    "id": "615BEAC1156B46EC85C929E368298539",
    "jupyter": {},
    "mdEditEnable": false,
    "notebookId": "6353695500092f69e1f2cb44",
    "scrolled": false,
    "slideshow": {
     "slide_type": "slide"
    },
    "tags": []
   },
   "source": [
    "# 2.3 判断"
   ]
  },
  {
   "cell_type": "code",
   "execution_count": 57,
   "metadata": {
    "id": "7EB596ED66164DAFA7035ACF797C383F",
    "jupyter": {},
    "notebookId": "6353695500092f69e1f2cb44",
    "scrolled": false,
    "slideshow": {
     "slide_type": "slide"
    },
    "tags": []
   },
   "outputs": [
    {
     "name": "stdout",
     "output_type": "stream",
     "text": [
      "开灯\n",
      "灯亮了\n"
     ]
    }
   ],
   "source": [
    "# 使用if语句实现条件判断\n",
    "light_on = True\n",
    "if light_on:\n",
    "   print('开灯')\n",
    "print('灯亮了')"
   ]
  },
  {
   "cell_type": "code",
   "execution_count": 58,
   "metadata": {
    "id": "78CF905E6CC341248B4CE62D22360520",
    "jupyter": {},
    "notebookId": "6353695500092f69e1f2cb44",
    "scrolled": false,
    "slideshow": {
     "slide_type": "slide"
    },
    "tags": []
   },
   "outputs": [
    {
     "name": "stdout",
     "output_type": "stream",
     "text": [
      "开灯\n",
      "灯亮了\n"
     ]
    }
   ],
   "source": [
    "# else的使用\n",
    "light_on = True\n",
    "if light_on:\n",
    "    print('开灯')\n",
    "    print('灯亮了')\n",
    "else:\n",
    "    print('灯没开')"
   ]
  },
  {
   "cell_type": "markdown",
   "metadata": {
    "id": "612442601A02461F8B0E593932293332",
    "jupyter": {},
    "mdEditEnable": false,
    "notebookId": "6353695500092f69e1f2cb44",
    "scrolled": false,
    "slideshow": {
     "slide_type": "slide"
    },
    "tags": []
   },
   "source": [
    "## 2.3.1 比较操作"
   ]
  },
  {
   "cell_type": "code",
   "execution_count": 59,
   "metadata": {
    "id": "0B9DFF5A923E424A8480563A48F6BD94",
    "jupyter": {},
    "notebookId": "6353695500092f69e1f2cb44",
    "scrolled": false,
    "slideshow": {
     "slide_type": "slide"
    },
    "tags": []
   },
   "outputs": [
    {
     "name": "stdout",
     "output_type": "stream",
     "text": [
      "True\n",
      "False\n",
      "True\n"
     ]
    }
   ],
   "source": [
    "# 逻辑运算符和比较操作符的组合使用\n",
    "a = 10\n",
    "print(a > 5 and a < 15)\n",
    "print(a > 5 and not a < 15)\n",
    "print(a > 5 or not a < 15)"
   ]
  },
  {
   "cell_type": "markdown",
   "metadata": {
    "id": "ED83646E67A24D358DDE8351D14648F8",
    "jupyter": {},
    "mdEditEnable": false,
    "notebookId": "6353695500092f69e1f2cb44",
    "scrolled": false,
    "slideshow": {
     "slide_type": "slide"
    },
    "tags": []
   },
   "source": [
    "## 2.3.2 条件值非布尔值"
   ]
  },
  {
   "cell_type": "code",
   "execution_count": 60,
   "metadata": {
    "id": "84FDB97177A24C938716775B82E1A879",
    "jupyter": {},
    "notebookId": "6353695500092f69e1f2cb44",
    "scrolled": false,
    "slideshow": {
     "slide_type": "slide"
    },
    "tags": []
   },
   "outputs": [
    {
     "name": "stdout",
     "output_type": "stream",
     "text": [
      "没人\n"
     ]
    }
   ],
   "source": [
    "# if语句的判断条件允许不是布尔值\n",
    "names = []\n",
    "if names:\n",
    "   print('有人')\n",
    "else:\n",
    "   print('没人')"
   ]
  },
  {
   "cell_type": "markdown",
   "metadata": {
    "id": "C804B6AEC6584A0D8640D1177BA4BFFD",
    "jupyter": {},
    "mdEditEnable": false,
    "notebookId": "6353695500092f69e1f2cb44",
    "scrolled": false,
    "slideshow": {
     "slide_type": "slide"
    },
    "tags": []
   },
   "source": [
    "## 2.3.3 多重条件"
   ]
  },
  {
   "cell_type": "code",
   "execution_count": 61,
   "metadata": {
    "id": "7022A9A20A4047DD9B1061A5788AC974",
    "jupyter": {},
    "notebookId": "6353695500092f69e1f2cb44",
    "scrolled": false,
    "slideshow": {
     "slide_type": "slide"
    },
    "tags": []
   },
   "outputs": [
    {
     "name": "stdout",
     "output_type": "stream",
     "text": [
      "good afternoon\n"
     ]
    }
   ],
   "source": [
    "clock = 15\n",
    "if clock < 12:\n",
    "   print('good morning')\n",
    "elif clock < 18:\n",
    "   print('good afternoon')\n",
    "elif clock < 21:\n",
    "   print('good evening')\n",
    "else:\n",
    "    print('good night')"
   ]
  },
  {
   "cell_type": "markdown",
   "metadata": {
    "id": "408E0DDCD086444D89F28F4BAD223E6C",
    "jupyter": {},
    "mdEditEnable": false,
    "notebookId": "6353695500092f69e1f2cb44",
    "scrolled": false,
    "slideshow": {
     "slide_type": "slide"
    },
    "tags": []
   },
   "source": [
    "# 2.4  循环和迭代"
   ]
  },
  {
   "cell_type": "markdown",
   "metadata": {
    "id": "9FD98A4634284CE6B9C81B09372B2710",
    "jupyter": {},
    "mdEditEnable": false,
    "notebookId": "6353695500092f69e1f2cb44",
    "scrolled": false,
    "slideshow": {
     "slide_type": "slide"
    },
    "tags": []
   },
   "source": [
    "## 2.4.1  循环"
   ]
  },
  {
   "cell_type": "code",
   "execution_count": 62,
   "metadata": {
    "id": "E7421A737ABD45E9837CD10D9C4C5BB3",
    "jupyter": {},
    "notebookId": "6353695500092f69e1f2cb44",
    "scrolled": false,
    "slideshow": {
     "slide_type": "slide"
    },
    "tags": []
   },
   "outputs": [
    {
     "name": "stdout",
     "output_type": "stream",
     "text": [
      "0\n",
      "1\n",
      "2\n",
      "循环结束\n"
     ]
    }
   ],
   "source": [
    "# while循环\n",
    "n = 0\n",
    "while n < 3:\n",
    "   print(n)\n",
    "   n = n +1\n",
    "print('循环结束')"
   ]
  },
  {
   "cell_type": "code",
   "execution_count": 63,
   "metadata": {
    "id": "BE85DC6C97314585831D746A20F829E5",
    "jupyter": {},
    "notebookId": "6353695500092f69e1f2cb44",
    "scrolled": false,
    "slideshow": {
     "slide_type": "slide"
    },
    "tags": []
   },
   "outputs": [
    {
     "name": "stdout",
     "output_type": "stream",
     "text": [
      "Daming 不是Tom\n",
      "Lili 不是Tom\n",
      "找到Tom了\n",
      "Tom 所对应的索引是 2\n"
     ]
    }
   ],
   "source": [
    "# 用break语句结束循环\n",
    "names = ['Daming', 'Lili', 'Tom', 'Liming']\n",
    "i = 0\n",
    "while True:\n",
    "   if i >= len(names):\n",
    "      print('找不到Tom')\n",
    "      break\n",
    "   elif names[i] == 'Tom':\n",
    "      print('找到Tom了')\n",
    "      break\n",
    "   print(names[i], '不是Tom')\n",
    "   i = i + 1\n",
    "print('Tom 所对应的索引是', i)"
   ]
  },
  {
   "cell_type": "code",
   "execution_count": 64,
   "metadata": {
    "id": "CB3A750A037F4DDD8FB057BB24C51AB3",
    "jupyter": {},
    "notebookId": "6353695500092f69e1f2cb44",
    "scrolled": false,
    "slideshow": {
     "slide_type": "slide"
    },
    "tags": []
   },
   "outputs": [
    {
     "name": "stdout",
     "output_type": "stream",
     "text": [
      "1 不是偶数\n",
      "3 不是偶数\n",
      "5 不是偶数\n",
      "7 不是偶数\n",
      "9 不是偶数\n",
      "25\n"
     ]
    }
   ],
   "source": [
    "# 用continue语句跳过当前循环\n",
    "n = 1\n",
    "n_sum = 0\n",
    "while n < 10:\n",
    "   if n % 2 == 0:\n",
    "      n = n + 1\n",
    "      continue\n",
    "   print(n, '不是偶数')\n",
    "   n_sum = n_sum + n\n",
    "   n = n + 1\n",
    "print(n_sum)"
   ]
  },
  {
   "cell_type": "markdown",
   "metadata": {
    "id": "A9EDE1EF28134DAE87E623426121487F",
    "jupyter": {},
    "mdEditEnable": false,
    "notebookId": "6353695500092f69e1f2cb44",
    "scrolled": false,
    "slideshow": {
     "slide_type": "slide"
    },
    "tags": []
   },
   "source": [
    "## 2.4.2  迭代"
   ]
  },
  {
   "cell_type": "code",
   "execution_count": 65,
   "metadata": {
    "id": "AF03A7F435704CF592C16E780F96A56F",
    "jupyter": {},
    "mdEditEnable": false,
    "notebookId": "6353695500092f69e1f2cb44",
    "scrolled": false,
    "slideshow": {
     "slide_type": "slide"
    },
    "tags": []
   },
   "outputs": [
    {
     "name": "stdout",
     "output_type": "stream",
     "text": [
      "apple\n",
      "orange\n",
      "我最爱orange\n",
      "banana\n"
     ]
    }
   ],
   "source": [
    "# 在数据长度未知和具体实现结果未知的情况下遍历整个数据结构\n",
    "fruits = ['apple', 'orange', 'banana']\n",
    "for fruit in fruits:\n",
    "   print(fruit)\n",
    "   if fruit == 'orange':\n",
    "      print('我最爱orange')"
   ]
  },
  {
   "cell_type": "code",
   "execution_count": 66,
   "metadata": {
    "id": "F0D90F50935E45D28DE52E8788749194",
    "jupyter": {},
    "notebookId": "6353695500092f69e1f2cb44",
    "scrolled": false,
    "slideshow": {
     "slide_type": "slide"
    },
    "tags": []
   },
   "outputs": [
    {
     "name": "stdout",
     "output_type": "stream",
     "text": [
      "T\n",
      "o\n",
      "m\n"
     ]
    }
   ],
   "source": [
    "# 字符串迭代\n",
    "name = 'Tom'\n",
    "for letter in name:\n",
    "    print(letter)"
   ]
  },
  {
   "cell_type": "code",
   "execution_count": 67,
   "metadata": {
    "id": "250E307A14A84D4E94CEBC0B53ACF6A9",
    "jupyter": {},
    "notebookId": "6353695500092f69e1f2cb44",
    "scrolled": false,
    "slideshow": {
     "slide_type": "slide"
    },
    "tags": []
   },
   "outputs": [
    {
     "name": "stdout",
     "output_type": "stream",
     "text": [
      "Daming\n",
      "Lili\n"
     ]
    }
   ],
   "source": [
    "# 对字典的键迭代可以使用keys()方法\n",
    "dict_ages = {'Daming': 21, 'Lili': 20}\n",
    "for key in dict_ages.keys():\n",
    "    print(key)"
   ]
  },
  {
   "cell_type": "code",
   "execution_count": 68,
   "metadata": {
    "id": "349C749075C0417C885DA080488EA911",
    "jupyter": {},
    "notebookId": "6353695500092f69e1f2cb44",
    "scrolled": false,
    "slideshow": {
     "slide_type": "slide"
    },
    "tags": []
   },
   "outputs": [
    {
     "name": "stdout",
     "output_type": "stream",
     "text": [
      "21\n",
      "20\n"
     ]
    }
   ],
   "source": [
    "# 对字典的值迭代可以使用values()方法\n",
    "dict_ages = {'Daming': 21, 'Lili': 20}\n",
    "for value in dict_ages.values():\n",
    "    print(value)"
   ]
  },
  {
   "cell_type": "code",
   "execution_count": 69,
   "metadata": {
    "id": "20FF8971682F4FEB8E7C95D2F5CC98F3",
    "jupyter": {},
    "notebookId": "6353695500092f69e1f2cb44",
    "scrolled": false,
    "slideshow": {
     "slide_type": "slide"
    },
    "tags": []
   },
   "outputs": [
    {
     "name": "stdout",
     "output_type": "stream",
     "text": [
      "('Daming', 21)\n",
      "('Lili', 20)\n"
     ]
    }
   ],
   "source": [
    "# 对字典的键值对迭代可以使用items()方法\n",
    "dict_ages = {'Daming': 21, 'Lili': 20}\n",
    "for item in dict_ages.items():\n",
    "    print(item)"
   ]
  },
  {
   "cell_type": "code",
   "execution_count": 70,
   "metadata": {
    "id": "6A7E4AAEDEAC41998271E6D72373D33F",
    "jupyter": {},
    "notebookId": "6353695500092f69e1f2cb44",
    "scrolled": false,
    "slideshow": {
     "slide_type": "slide"
    },
    "tags": []
   },
   "outputs": [
    {
     "name": "stdout",
     "output_type": "stream",
     "text": [
      "Daming is 21\n",
      "Lili is 20\n"
     ]
    }
   ],
   "source": [
    "# 对于元组可以使用单独的变量名将元组“解包”\n",
    "dict_ages = {'Daming': 21, 'Lili': 20}\n",
    "for name, age in dict_ages.items():\n",
    "    print(name, 'is', age)"
   ]
  },
  {
   "cell_type": "code",
   "execution_count": 71,
   "metadata": {
    "id": "5982011D4AFB4B7CB14FE2EBEBEF3787",
    "jupyter": {},
    "notebookId": "6353695500092f69e1f2cb44",
    "scrolled": false,
    "slideshow": {
     "slide_type": "slide"
    },
    "tags": []
   },
   "outputs": [
    {
     "name": "stdout",
     "output_type": "stream",
     "text": [
      "orange\n"
     ]
    }
   ],
   "source": [
    "# 用break语句结束迭代\n",
    "fruits = ['apple', 'orange', 'banana']\n",
    "for fruit in fruits:\n",
    "   if fruit == 'orange':\n",
    "      break\n",
    "print(fruit)"
   ]
  },
  {
   "cell_type": "code",
   "execution_count": 72,
   "metadata": {
    "id": "904EA97E7E0940A5A09B1FC32A54EEFE",
    "jupyter": {},
    "notebookId": "6353695500092f69e1f2cb44",
    "scrolled": false,
    "slideshow": {
     "slide_type": "slide"
    },
    "tags": []
   },
   "outputs": [
    {
     "name": "stdout",
     "output_type": "stream",
     "text": [
      "banana\n"
     ]
    }
   ],
   "source": [
    "# 用continue语句跳过当前迭代\n",
    "fruits = ['apple', 'orange', 'banana']\n",
    "for fruit in fruits:\n",
    "   if fruit == 'orange':\n",
    "      continue\n",
    "print(fruit)"
   ]
  },
  {
   "cell_type": "code",
   "execution_count": 73,
   "metadata": {
    "id": "22F6CE05A7AE4A8C9BAA77A240092C91",
    "jupyter": {},
    "notebookId": "6353695500092f69e1f2cb44",
    "scrolled": false,
    "slideshow": {
     "slide_type": "slide"
    },
    "tags": []
   },
   "outputs": [
    {
     "name": "stdout",
     "output_type": "stream",
     "text": [
      "0\n",
      "1\n",
      "2\n",
      "2\n",
      "0\n",
      "2\n"
     ]
    }
   ],
   "source": [
    "# 用range()函数生成等差数列\n",
    "#只有一个参数时，指定的是stop\n",
    "for i in range(3):\n",
    "    print(i)\n",
    "#有两个参数时，指定的分别是start、stop\n",
    "for i in range(2, 3):\n",
    "    print(i)\n",
    "#有3个参数时，指定的分别是start、stop和step\n",
    "for i in range(0, 3, 2):\n",
    "    print(i)"
   ]
  },
  {
   "cell_type": "code",
   "execution_count": 74,
   "metadata": {
    "id": "7D1D9E880150471782EDE64820C37D14",
    "jupyter": {},
    "notebookId": "6353695500092f69e1f2cb44",
    "scrolled": false,
    "slideshow": {
     "slide_type": "slide"
    },
    "tags": []
   },
   "outputs": [
    {
     "name": "stdout",
     "output_type": "stream",
     "text": [
      "3\n",
      "1\n",
      "-1\n"
     ]
    }
   ],
   "source": [
    "# 使用值为负数的step来创建一个反向数列\n",
    "for i in range(3, -3, -2):\n",
    "   print(i)"
   ]
  },
  {
   "cell_type": "code",
   "execution_count": 75,
   "metadata": {
    "id": "04C2C3420A394E2CBE7F8CD3D24648E4",
    "jupyter": {},
    "notebookId": "6353695500092f69e1f2cb44",
    "scrolled": false,
    "slideshow": {
     "slide_type": "slide"
    },
    "tags": []
   },
   "outputs": [
    {
     "name": "stdout",
     "output_type": "stream",
     "text": [
      "while重复3次\n",
      "while重复3次\n",
      "while重复3次\n",
      "for重复3次\n",
      "for重复3次\n",
      "for重复3次\n"
     ]
    }
   ],
   "source": [
    "# 通过结合使用for...in语句与range()函数来代替while语句\n",
    "i = 0\n",
    "while i < 3:\n",
    "   print('while重复3次')\n",
    "   i = i + 1\n",
    "   \n",
    "for i in range(3):\n",
    "    print('for重复3次')"
   ]
  },
  {
   "cell_type": "markdown",
   "metadata": {
    "id": "9A12BE6E65724CDB8E8575248BB52473",
    "jupyter": {},
    "mdEditEnable": false,
    "notebookId": "6353695500092f69e1f2cb44",
    "scrolled": false,
    "slideshow": {
     "slide_type": "slide"
    },
    "tags": []
   },
   "source": [
    "# 2.5  序列切片"
   ]
  },
  {
   "cell_type": "code",
   "execution_count": 76,
   "metadata": {
    "id": "42FA2B2E849F449E879B3E3D44FD3D27",
    "jupyter": {},
    "notebookId": "6353695500092f69e1f2cb44",
    "scrolled": false,
    "slideshow": {
     "slide_type": "slide"
    },
    "tags": []
   },
   "outputs": [
    {
     "name": "stdout",
     "output_type": "stream",
     "text": [
      "good morning\n",
      "orning\n",
      "good\n",
      "d mo\n",
      "dm\n",
      "go onn\n"
     ]
    }
   ],
   "source": [
    "# 对字符串切片\n",
    "greeting = 'good morning'\n",
    "print(greeting[:])\n",
    "print(greeting[6:])\n",
    "print(greeting[:4])\n",
    "print(greeting[3:7])\n",
    "print(greeting[3:7:2])\n",
    "print(greeting[::2])"
   ]
  },
  {
   "cell_type": "code",
   "execution_count": 77,
   "metadata": {
    "id": "73FB3E644912444C8F3F1B5B05CE00D6",
    "jupyter": {},
    "notebookId": "6353695500092f69e1f2cb44",
    "scrolled": false,
    "slideshow": {
     "slide_type": "slide"
    },
    "tags": []
   },
   "outputs": [
    {
     "name": "stdout",
     "output_type": "stream",
     "text": [
      " doog\n",
      "gninrom doog\n"
     ]
    }
   ],
   "source": [
    "# 反向切片\n",
    "greeting = 'good morning'\n",
    "print(greeting[4::-1])\n",
    "print(greeting[::-1])"
   ]
  },
  {
   "cell_type": "markdown",
   "metadata": {
    "id": "3677101F44404CFCBE5C9531E1E6531F",
    "jupyter": {},
    "mdEditEnable": false,
    "notebookId": "6353695500092f69e1f2cb44",
    "scrolled": false,
    "slideshow": {
     "slide_type": "slide"
    },
    "tags": []
   },
   "source": [
    "# 2.6  解析式"
   ]
  },
  {
   "cell_type": "markdown",
   "metadata": {
    "id": "35A09318B2874E939DDD87A11A658C7E",
    "jupyter": {},
    "mdEditEnable": false,
    "notebookId": "6353695500092f69e1f2cb44",
    "scrolled": false,
    "slideshow": {
     "slide_type": "slide"
    },
    "tags": []
   },
   "source": [
    "## 2.6.1  列表解析式"
   ]
  },
  {
   "cell_type": "code",
   "execution_count": 78,
   "metadata": {
    "id": "3CE00B5457A643228F95C88EEDD04B65",
    "jupyter": {},
    "notebookId": "6353695500092f69e1f2cb44",
    "scrolled": false,
    "slideshow": {
     "slide_type": "slide"
    },
    "tags": []
   },
   "outputs": [
    {
     "name": "stdout",
     "output_type": "stream",
     "text": [
      "[0, 1, 2, 3, 4, 5, 6, 7, 8, 9]\n",
      "[0, 1, 2, 3, 4, 5, 6, 7, 8, 9]\n",
      "[0, 1, 2, 3, 4, 5, 6, 7, 8, 9]\n",
      "[0, 1, 4, 9, 16, 25, 36, 49, 64, 81]\n",
      "['hi', 'hi', 'hi', 'hi', 'hi', 'hi', 'hi', 'hi', 'hi', 'hi']\n",
      "[1, 3, 5, 7, 9]\n"
     ]
    }
   ],
   "source": [
    "#创建列表的普通方式\n",
    "numbers = []\n",
    "for i in range(10):\n",
    "   numbers.append(i)\n",
    "print(numbers)\n",
    "# 或\n",
    "numbers = list(range(10))\n",
    "print(numbers)\n",
    "#使用列表解析式创建\n",
    "numbers = [i for i in range(10)]\n",
    "print(numbers)\n",
    "numbers = [i**2 for i in range(10)]\n",
    "print(numbers)\n",
    "numbers = ['hi' for i in range(10)]\n",
    "print(numbers)\n",
    "numbers = [i for i in range(10) if i % 2 != 0]\n",
    "print(numbers)"
   ]
  },
  {
   "cell_type": "code",
   "execution_count": 79,
   "metadata": {
    "id": "3DE0C8B5D45F462582F9368B2AE4AF0D",
    "jupyter": {},
    "notebookId": "6353695500092f69e1f2cb44",
    "scrolled": false,
    "slideshow": {
     "slide_type": "slide"
    },
    "tags": []
   },
   "outputs": [
    {
     "name": "stdout",
     "output_type": "stream",
     "text": [
      "[(0, 0), (0, 1), (0, 2), (1, 0), (1, 1), (1, 2)]\n",
      "[(0, 0), (0, 1), (0, 2), (1, 0), (1, 1), (1, 2)]\n"
     ]
    }
   ],
   "source": [
    "# 对比列表解析式与传统for迭代方法\n",
    "# 列表解析式\n",
    "numbers = [(i, j) for i in range(2) for j in range(3)]\n",
    "print(numbers)\n",
    "\n",
    "# for迭代\n",
    "numbers = []\n",
    "for i in range(2):\n",
    "   for j in range(3):\n",
    "      numbers.append((i, j))\n",
    "print(numbers)"
   ]
  },
  {
   "cell_type": "markdown",
   "metadata": {
    "id": "8FA6B99D30A44084AC2B7CC7607A5B1F",
    "jupyter": {},
    "mdEditEnable": false,
    "notebookId": "6353695500092f69e1f2cb44",
    "scrolled": false,
    "slideshow": {
     "slide_type": "slide"
    },
    "tags": []
   },
   "source": [
    "## 2.6.2  字典解析式"
   ]
  },
  {
   "cell_type": "code",
   "execution_count": 80,
   "metadata": {
    "id": "0A87440A1A4B46CA8D579F296325BE81",
    "jupyter": {},
    "notebookId": "6353695500092f69e1f2cb44",
    "scrolled": false,
    "slideshow": {
     "slide_type": "slide"
    },
    "tags": []
   },
   "outputs": [
    {
     "name": "stdout",
     "output_type": "stream",
     "text": [
      "{0: 0, 1: 1, 2: 4, 3: 9, 4: 16, 5: 25, 6: 36, 7: 49, 8: 64, 9: 81}\n",
      "{7: 49, 8: 64, 9: 81}\n"
     ]
    }
   ],
   "source": [
    "# 通过字典解析式创建字典\n",
    "mapping = {i: i**2 for i in range(10)}\n",
    "print(mapping)\n",
    "mapping = {i: i**2 for i in range(10) if i**2>40}\n",
    "print(mapping)"
   ]
  },
  {
   "cell_type": "markdown",
   "metadata": {
    "id": "77D0765F40BB401998EBFB2A36A51244",
    "jupyter": {},
    "mdEditEnable": false,
    "notebookId": "6353695500092f69e1f2cb44",
    "scrolled": false,
    "slideshow": {
     "slide_type": "slide"
    },
    "tags": []
   },
   "source": [
    "## 2.6.3  集合解析式"
   ]
  },
  {
   "cell_type": "code",
   "execution_count": 81,
   "metadata": {
    "id": "5D5D4DBB975E49AD8271713BB6BB5D57",
    "jupyter": {},
    "notebookId": "6353695500092f69e1f2cb44",
    "scrolled": false,
    "slideshow": {
     "slide_type": "slide"
    },
    "tags": []
   },
   "outputs": [
    {
     "name": "stdout",
     "output_type": "stream",
     "text": [
      "{0, 1, 2, 3, 4, 5, 6, 7, 8, 9}\n"
     ]
    }
   ],
   "source": [
    "# 通过集合解析式创建集合\n",
    "numbers = {i for i in range(10)}\n",
    "print(numbers)"
   ]
  },
  {
   "cell_type": "markdown",
   "metadata": {
    "id": "A619E0841F89415C99EFF395947C2B07",
    "jupyter": {},
    "mdEditEnable": false,
    "notebookId": "6353695500092f69e1f2cb44",
    "scrolled": false,
    "slideshow": {
     "slide_type": "slide"
    },
    "tags": []
   },
   "source": [
    "## 2.6.4  生成器解析式"
   ]
  },
  {
   "cell_type": "code",
   "execution_count": 82,
   "metadata": {
    "id": "C492E2E0E84E49A4A965A57922FE350E",
    "jupyter": {},
    "notebookId": "6353695500092f69e1f2cb44",
    "scrolled": false,
    "slideshow": {
     "slide_type": "slide"
    },
    "tags": []
   },
   "outputs": [
    {
     "name": "stdout",
     "output_type": "stream",
     "text": [
      "0\n",
      "1\n",
      "2\n",
      "第一次迭代完成\n"
     ]
    }
   ],
   "source": [
    "#使用生成器来进行迭代\n",
    "numbers = (i for i in range(3))\n",
    "for i in numbers:\n",
    "   print(i)\n",
    "print('第一次迭代完成')\n",
    "for i in numbers:\n",
    "    print(i)"
   ]
  },
  {
   "cell_type": "markdown",
   "metadata": {
    "id": "49792C9CA7BC451785A00F96D268BE81",
    "jupyter": {},
    "mdEditEnable": false,
    "notebookId": "6353695500092f69e1f2cb44",
    "scrolled": false,
    "slideshow": {
     "slide_type": "slide"
    },
    "tags": []
   },
   "source": [
    "# 2.7  函数"
   ]
  },
  {
   "cell_type": "markdown",
   "metadata": {
    "id": "CFBBCAB699894A8FA9B0394F92BD881C",
    "jupyter": {},
    "mdEditEnable": false,
    "notebookId": "6353695500092f69e1f2cb44",
    "scrolled": false,
    "slideshow": {
     "slide_type": "slide"
    },
    "tags": []
   },
   "source": [
    "## 2.7.1  定义函数"
   ]
  },
  {
   "cell_type": "code",
   "execution_count": 83,
   "metadata": {
    "id": "2E7169CC1DCE476391138B732D3A696A",
    "jupyter": {},
    "notebookId": "6353695500092f69e1f2cb44",
    "scrolled": false,
    "slideshow": {
     "slide_type": "slide"
    },
    "tags": []
   },
   "outputs": [],
   "source": [
    "# 定义一个没有任何参数和功能的函数\n",
    "def nothing():\n",
    "   pass\n",
    "nothing()"
   ]
  },
  {
   "cell_type": "code",
   "execution_count": 84,
   "metadata": {
    "id": "1B4C4B211C8C4E53AD9B7BD64B7A86C5",
    "jupyter": {},
    "notebookId": "6353695500092f69e1f2cb44",
    "scrolled": false,
    "slideshow": {
     "slide_type": "slide"
    },
    "tags": []
   },
   "outputs": [
    {
     "name": "stdout",
     "output_type": "stream",
     "text": [
      "Hi\n"
     ]
    }
   ],
   "source": [
    "# 定义一个无参数，输出一个单词的函数\n",
    "def say_hi():\n",
    "   print('Hi')\n",
    "say_hi()"
   ]
  },
  {
   "cell_type": "code",
   "execution_count": 85,
   "metadata": {
    "id": "088F7D28BA2D4EAF8BE324442E0F9F7B",
    "jupyter": {},
    "notebookId": "6353695500092f69e1f2cb44",
    "scrolled": false,
    "slideshow": {
     "slide_type": "slide"
    },
    "tags": []
   },
   "outputs": [
    {
     "name": "stdout",
     "output_type": "stream",
     "text": [
      "Hi, Daming\n"
     ]
    }
   ],
   "source": [
    "# 给函数加上参数\n",
    "def say_hi(name):\n",
    "   print('Hi,', name)\n",
    "\n",
    "say_hi('Daming')\n"
   ]
  },
  {
   "cell_type": "code",
   "execution_count": 86,
   "metadata": {
    "id": "95D8272149EB4822A464101D3760C082",
    "jupyter": {},
    "notebookId": "6353695500092f69e1f2cb44",
    "scrolled": false,
    "slideshow": {
     "slide_type": "slide"
    },
    "tags": []
   },
   "outputs": [
    {
     "name": "stdout",
     "output_type": "stream",
     "text": [
      "good afternoon\n",
      "Hi\n",
      "None\n"
     ]
    }
   ],
   "source": [
    "# 没有return语句，则在函数执行结束之后自动返回None\n",
    "def greet(clock):\n",
    "   if clock < 12:\n",
    "      return 'good morning'\n",
    "   elif clock < 18:\n",
    "      return 'good afternoon'\n",
    "   elif clock < 21:\n",
    "      return 'good evening'\n",
    "   else:\n",
    "      return 'good night'\n",
    "greeting = greet(13)\n",
    "print(greeting)\n",
    "\n",
    "#对比\n",
    "def say_hi():\n",
    "   print('Hi')\n",
    "print(say_hi())"
   ]
  },
  {
   "cell_type": "markdown",
   "metadata": {
    "id": "3B7A82BAF10C412886FCF9CF8EFBA6DA",
    "jupyter": {},
    "mdEditEnable": false,
    "notebookId": "6353695500092f69e1f2cb44",
    "scrolled": false,
    "slideshow": {
     "slide_type": "slide"
    },
    "tags": []
   },
   "source": [
    "## 2.7.2  函数的参数"
   ]
  },
  {
   "cell_type": "code",
   "execution_count": 87,
   "metadata": {
    "id": "525EF2668A74449B86523D1BE046DAF7",
    "jupyter": {},
    "notebookId": "6353695500092f69e1f2cb44",
    "scrolled": false,
    "slideshow": {
     "slide_type": "slide"
    },
    "tags": []
   },
   "outputs": [
    {
     "name": "stdout",
     "output_type": "stream",
     "text": [
      "a is 1\n",
      "b is 3\n",
      "c is 5\n"
     ]
    }
   ],
   "source": [
    "# 位置参数\n",
    "def pos_abc(a, b, c):\n",
    "   print('a is', a)\n",
    "   print('b is', b)\n",
    "   print('c is', c)\n",
    "\n",
    "pos_abc(1, 3, 5)"
   ]
  },
  {
   "cell_type": "code",
   "execution_count": 88,
   "metadata": {
    "id": "446017158599402C848356BE9E931537",
    "jupyter": {},
    "notebookId": "6353695500092f69e1f2cb44",
    "scrolled": false,
    "slideshow": {
     "slide_type": "slide"
    },
    "tags": []
   },
   "outputs": [
    {
     "name": "stdout",
     "output_type": "stream",
     "text": [
      "a is 1\n",
      "b is 3\n",
      "c is 5\n"
     ]
    }
   ],
   "source": [
    "# 关键字参数\n",
    "def pos_abc(a, b, c):\n",
    "   print('a is', a)\n",
    "   print('b is', b)\n",
    "   print('c is', c)\n",
    "   \n",
    "pos_abc(b=3, a=1, c=5)"
   ]
  },
  {
   "cell_type": "code",
   "execution_count": 89,
   "metadata": {
    "id": "6F907174458C444889C1DF940A43A327",
    "jupyter": {},
    "notebookId": "6353695500092f69e1f2cb44",
    "scrolled": false,
    "slideshow": {
     "slide_type": "slide"
    },
    "tags": []
   },
   "outputs": [
    {
     "name": "stdout",
     "output_type": "stream",
     "text": [
      "a is 1\n",
      "b is 3\n",
      "c is 5\n"
     ]
    }
   ],
   "source": [
    "# 混合使用位置参数和关键字参数\n",
    "def pos_abc(a, b, c):\n",
    "   print('a is', a)\n",
    "   print('b is', b)\n",
    "   print('c is', c)\n",
    "   \n",
    "pos_abc(1, c=5, b=3)"
   ]
  },
  {
   "cell_type": "code",
   "execution_count": 90,
   "metadata": {
    "id": "CF2584ECBC4845218CE0791C8C50B29A",
    "jupyter": {},
    "notebookId": "6353695500092f69e1f2cb44",
    "scrolled": false,
    "slideshow": {
     "slide_type": "slide"
    },
    "tags": []
   },
   "outputs": [
    {
     "name": "stdout",
     "output_type": "stream",
     "text": [
      "a is 1\n",
      "b is 3\n",
      "c is 10\n"
     ]
    }
   ],
   "source": [
    "# 指定参数默认值\n",
    "def pos_abc(a, b=3, c=10):\n",
    "   print('a is', a)\n",
    "   print('b is', b)\n",
    "   print('c is', c)\n",
    "\n",
    "pos_abc(1, 3)"
   ]
  },
  {
   "cell_type": "code",
   "execution_count": 91,
   "metadata": {
    "id": "BE6E39C3A31B42D5BF2BAA7FA17544B2",
    "jupyter": {},
    "notebookId": "6353695500092f69e1f2cb44",
    "scrolled": false,
    "slideshow": {
     "slide_type": "slide"
    },
    "tags": []
   },
   "outputs": [
    {
     "name": "stdout",
     "output_type": "stream",
     "text": [
      "a is 1\n",
      "b is 3\n",
      "c is 5\n"
     ]
    }
   ],
   "source": [
    "# 选择传入新参数代替默认值\n",
    "def pos_abc(a, b, c=10):\n",
    "   print('a is', a)\n",
    "   print('b is', b)\n",
    "   print('c is', c)\n",
    "\n",
    "pos_abc(1, 3, 5)\n"
   ]
  },
  {
   "cell_type": "code",
   "execution_count": 92,
   "metadata": {
    "id": "1CCA40CADDED415680DCB7EB2E3B8A3E",
    "jupyter": {},
    "notebookId": "6353695500092f69e1f2cb44",
    "scrolled": false,
    "slideshow": {
     "slide_type": "slide"
    },
    "tags": []
   },
   "outputs": [
    {
     "name": "stdout",
     "output_type": "stream",
     "text": [
      "a is 1\n",
      "b is 3\n",
      "c is 5\n"
     ]
    }
   ],
   "source": [
    "# 定义所有参数都带默认值的函数\n",
    "def pos_abc(a=1, b=3, c=5):\n",
    "   print('a is', a)\n",
    "   print('b is', b)\n",
    "   print('c is', c)\n",
    "\n",
    "pos_abc()\n"
   ]
  },
  {
   "cell_type": "code",
   "execution_count": 93,
   "metadata": {
    "id": "B4DF575D4D7A4CA48C1E4D699DF8FCAA",
    "jupyter": {},
    "notebookId": "6353695500092f69e1f2cb44",
    "scrolled": false,
    "slideshow": {
     "slide_type": "slide"
    },
    "tags": []
   },
   "outputs": [
    {
     "name": "stdout",
     "output_type": "stream",
     "text": [
      "(1, 2, 3)\n",
      "()\n"
     ]
    }
   ],
   "source": [
    "# 用*收集位置参数\n",
    "def print_args(*args):\n",
    "   print(args)\n",
    "print_args(1, 2 ,3)\n",
    "# 以及\n",
    "def print_args(*args):\n",
    "   print(args)\n",
    "print_args()"
   ]
  },
  {
   "cell_type": "code",
   "execution_count": 94,
   "metadata": {
    "id": "4865CB62B5D94C25BADE4358B519D139",
    "jupyter": {},
    "notebookId": "6353695500092f69e1f2cb44",
    "scrolled": false,
    "slideshow": {
     "slide_type": "slide"
    },
    "tags": []
   },
   "outputs": [
    {
     "name": "stdout",
     "output_type": "stream",
     "text": [
      "{'a': 1, 'b': 2}\n"
     ]
    }
   ],
   "source": [
    "# 用**收集关键字参数\n",
    "def print_kwargs(**kwargs):\n",
    "   print(kwargs)\n",
    "\n",
    "print_kwargs(a=1, b=2)"
   ]
  },
  {
   "cell_type": "markdown",
   "metadata": {
    "id": "81585D858BAF41BA8AC88514F8BDA255",
    "jupyter": {},
    "mdEditEnable": false,
    "notebookId": "6353695500092f69e1f2cb44",
    "scrolled": false,
    "slideshow": {
     "slide_type": "slide"
    },
    "tags": []
   },
   "source": [
    "## 2.7.3  匿名函数"
   ]
  },
  {
   "cell_type": "code",
   "execution_count": 95,
   "metadata": {
    "id": "F16B5C39877C4B908894029702B8337B",
    "jupyter": {},
    "notebookId": "6353695500092f69e1f2cb44",
    "scrolled": false,
    "slideshow": {
     "slide_type": "slide"
    },
    "tags": []
   },
   "outputs": [
    {
     "name": "stdout",
     "output_type": "stream",
     "text": [
      "4\n",
      "hello\n",
      "3\n"
     ]
    }
   ],
   "source": [
    "# 用lambda关键字定义匿名函数\n",
    "func = lambda x: x**2\n",
    "print(func(2))\n",
    "#或\n",
    "greet = lambda: print('hello')\n",
    "pos_ab = lambda a,b: print(a + b)\n",
    "greet()\n",
    "pos_ab(1, 2)"
   ]
  },
  {
   "cell_type": "markdown",
   "metadata": {
    "id": "A1C2EFB9E60745AE861AC77479150C95",
    "jupyter": {},
    "mdEditEnable": false,
    "notebookId": "6353695500092f69e1f2cb44",
    "scrolled": false,
    "slideshow": {
     "slide_type": "slide"
    },
    "tags": []
   },
   "source": [
    "## 2.7.4  闭包与装饰器"
   ]
  },
  {
   "cell_type": "code",
   "execution_count": 96,
   "metadata": {
    "id": "B8DAF8F5EE8F46E58F2A37F50BD2D0A9",
    "jupyter": {},
    "notebookId": "6353695500092f69e1f2cb44",
    "scrolled": false,
    "slideshow": {
     "slide_type": "slide"
    },
    "tags": []
   },
   "outputs": [
    {
     "name": "stdout",
     "output_type": "stream",
     "text": [
      "I'm outer func\n",
      "I'm inner func\n"
     ]
    }
   ],
   "source": [
    "# 闭包\n",
    "def outer():\n",
    "   def inner():\n",
    "      print(\"I'm inner func\")\n",
    "   print(\"I'm outer func\")\n",
    "   inner()\n",
    "outer()"
   ]
  },
  {
   "cell_type": "code",
   "execution_count": 97,
   "metadata": {
    "id": "5B703B0F36C541898A82E941498D893F",
    "jupyter": {},
    "notebookId": "6353695500092f69e1f2cb44",
    "scrolled": false,
    "slideshow": {
     "slide_type": "slide"
    },
    "tags": []
   },
   "outputs": [
    {
     "name": "stdout",
     "output_type": "stream",
     "text": [
      "I'm outer func\n",
      "下面执行func\n",
      "I'm inner func\n"
     ]
    }
   ],
   "source": [
    "#将outer()函数的返回值指定为inner()函数本身\n",
    "def outer():\n",
    "   def inner():\n",
    "      print(\"I'm inner func\")\n",
    "   print(\"I'm outer func\")\n",
    "   return inner\n",
    "func = outer()\n",
    "print('下面执行func')\n",
    "func()"
   ]
  },
  {
   "cell_type": "code",
   "execution_count": 90,
   "metadata": {
    "id": "E79EAD3507C84B39B3528F1756CAA89B",
    "jupyter": {},
    "notebookId": "6353695500092f69e1f2cb44",
    "scrolled": false,
    "slideshow": {
     "slide_type": "slide"
    },
    "tags": []
   },
   "outputs": [
    {
     "name": "stdout",
     "output_type": "stream",
     "text": [
      "I'm outer func\n",
      "下面执行say_hi\n",
      "Hi!\n",
      "I'm inner func\n",
      "再次执行say_hi\n",
      "Hi!\n",
      "I'm inner func\n"
     ]
    }
   ],
   "source": [
    "# 创建一个新的函数say_hi()作为参数放进outer()函数\n",
    "def outer(func):\n",
    "   def inner():\n",
    "      func()\n",
    "      print(\"I'm inner func\")\n",
    "   print(\"I'm outer func\")\n",
    "   return inner\n",
    "\n",
    "def say_hi():\n",
    "   print('Hi!')\n",
    "\n",
    "say_hi = outer(say_hi)\n",
    "print('下面执行say_hi')\n",
    "say_hi()\n",
    "print('再次执行say_hi')\n",
    "say_hi()"
   ]
  },
  {
   "cell_type": "code",
   "execution_count": 91,
   "metadata": {
    "id": "733816BAD1DE4A568C773E361DE50287",
    "jupyter": {},
    "notebookId": "6353695500092f69e1f2cb44",
    "scrolled": false,
    "slideshow": {
     "slide_type": "slide"
    },
    "tags": []
   },
   "outputs": [
    {
     "name": "stdout",
     "output_type": "stream",
     "text": [
      "4\n",
      "6\n",
      "20\n",
      "30\n"
     ]
    }
   ],
   "source": [
    "# 根据放进工厂函数的不同的变量，生产出有不同作用的函数\n",
    "def factory(n):\n",
    "   def multiply(m):\n",
    "      return n * m\n",
    "   return multiply\n",
    "\n",
    "x2 = factory(2)\n",
    "print(x2(2))\n",
    "print(x2(3))\n",
    "x10 = factory(10)\n",
    "print(x10(2))\n",
    "print(x10(3))"
   ]
  },
  {
   "cell_type": "code",
   "execution_count": 92,
   "metadata": {
    "id": "486026C8E0AD4A93BFF378A8DF80F78C",
    "jupyter": {},
    "notebookId": "6353695500092f69e1f2cb44",
    "scrolled": false,
    "slideshow": {
     "slide_type": "slide"
    },
    "tags": []
   },
   "outputs": [
    {
     "name": "stdout",
     "output_type": "stream",
     "text": [
      "I'm outer func\n",
      "下面执行say_hi\n",
      "Hi!\n",
      "I'm inner func\n",
      "再次执行say_hi\n",
      "Hi!\n",
      "I'm inner func\n"
     ]
    }
   ],
   "source": [
    "# 将代码改写为装饰器的形式\n",
    "def outer(func):\n",
    "   def inner():\n",
    "      func()\n",
    "      print(\"I'm inner func\")\n",
    "   print(\"I'm outer func\")\n",
    "   return inner\n",
    "\n",
    "@outer\n",
    "def say_hi():\n",
    "   print('Hi!')\n",
    "\n",
    "print('下面执行say_hi')\n",
    "say_hi()\n",
    "print('再次执行say_hi')\n",
    "say_hi()"
   ]
  },
  {
   "cell_type": "markdown",
   "metadata": {
    "id": "93328ED69F8E4B3F8E64EC174B026783",
    "jupyter": {},
    "mdEditEnable": false,
    "notebookId": "6353695500092f69e1f2cb44",
    "scrolled": false,
    "slideshow": {
     "slide_type": "slide"
    },
    "tags": []
   },
   "source": [
    "## 2.7.5 高阶函数\n"
   ]
  },
  {
   "cell_type": "code",
   "execution_count": 93,
   "metadata": {
    "id": "0FFEC976AA5045DCA4585C827D42D7B4",
    "jupyter": {},
    "notebookId": "6353695500092f69e1f2cb44",
    "scrolled": false,
    "slideshow": {
     "slide_type": "slide"
    },
    "tags": []
   },
   "outputs": [
    {
     "name": "stdout",
     "output_type": "stream",
     "text": [
      "<map object at 0x7fa310300ed0>\n",
      "[3, 5, 7, 8]\n",
      "[3, 5, 7, 8]\n",
      "<map object at 0x7fa310300c90>\n",
      "[3, 5, 7, 8]\n"
     ]
    }
   ],
   "source": [
    "# 映射\n",
    "def plus2(x):\n",
    "   return x + 2\n",
    "numbers = [1, 3, 5, 6]\n",
    "new_numbers = map(plus2, numbers)\n",
    "print(new_numbers)\n",
    "print(list(new_numbers))\n",
    "# 等效于\n",
    "def plus2(x):\n",
    "   return x + 2\n",
    "numbers = [1, 3, 5, 6]\n",
    "new_numbers = [plus2(n) for n in numbers]\n",
    "print(new_numbers)\n",
    "#用匿名函数来实现\n",
    "numbers = [1, 3, 5, 6]\n",
    "new_numbers = map(lambda x: x + 2, numbers)\n",
    "print(new_numbers)\n",
    "print(list(new_numbers))"
   ]
  },
  {
   "cell_type": "code",
   "execution_count": 94,
   "metadata": {
    "id": "A6A939ECE1814FACA7B5FBFEACEB33A7",
    "jupyter": {},
    "notebookId": "6353695500092f69e1f2cb44",
    "scrolled": false,
    "slideshow": {
     "slide_type": "slide"
    },
    "tags": []
   },
   "outputs": [
    {
     "name": "stdout",
     "output_type": "stream",
     "text": [
      "<filter object at 0x7fa310300cd0>\n",
      "[1, 3]\n",
      "[1, 3]\n"
     ]
    }
   ],
   "source": [
    "# 过滤\n",
    "def lt_5(x):\n",
    "   return x < 5\n",
    "\n",
    "numbers = [1, 3, 5, 6]\n",
    "new_numbers = filter(lt_5, numbers)\n",
    "print(new_numbers)\n",
    "print(list(new_numbers))\n",
    "# 等效于\n",
    "def lt_5(x):\n",
    "   return x < 5\n",
    "\n",
    "numbers = [1, 3, 5, 6]\n",
    "new_numbers = [n for n in numbers if lt_5(n)]\n",
    "print(new_numbers)"
   ]
  },
  {
   "cell_type": "markdown",
   "metadata": {
    "id": "8CEFF1AADAC848678FE39B3A1A78FCE3",
    "jupyter": {},
    "mdEditEnable": false,
    "notebookId": "6353695500092f69e1f2cb44",
    "scrolled": false,
    "slideshow": {
     "slide_type": "slide"
    },
    "tags": []
   },
   "source": [
    "# 面向对象基础"
   ]
  },
  {
   "cell_type": "markdown",
   "metadata": {
    "id": "EDA6D9B85B3B465E8E42BFBBEB5B2984",
    "jupyter": {},
    "mdEditEnable": false,
    "notebookId": "6353695500092f69e1f2cb44",
    "scrolled": false,
    "slideshow": {
     "slide_type": "slide"
    },
    "tags": []
   },
   "source": [
    "## 2.8.2  类和继承"
   ]
  },
  {
   "cell_type": "code",
   "execution_count": 95,
   "metadata": {
    "id": "CD25C6D0DE934EB38481B754D979F6FE",
    "jupyter": {},
    "notebookId": "6353695500092f69e1f2cb44",
    "scrolled": false,
    "slideshow": {
     "slide_type": "slide"
    },
    "tags": []
   },
   "outputs": [
    {
     "name": "stdout",
     "output_type": "stream",
     "text": [
      "小明\n"
     ]
    }
   ],
   "source": [
    "# 初始化方法\n",
    "class Student:\n",
    "   def __init__(self, name, age, deposit):\n",
    "      self.name = name\n",
    "      self.age = age\n",
    "      self.__deposit = deposit\n",
    "\n",
    "xiaoming = Student('小明', 12, 1000)\n",
    "print(xiaoming.name)"
   ]
  },
  {
   "cell_type": "code",
   "execution_count": 96,
   "metadata": {
    "id": "7991956E0D614E219B0DDBDA311B2970",
    "jupyter": {},
    "notebookId": "6353695500092f69e1f2cb44",
    "scrolled": false,
    "slideshow": {
     "slide_type": "slide"
    },
    "tags": []
   },
   "outputs": [
    {
     "name": "stdout",
     "output_type": "stream",
     "text": [
      "悄悄算算术，不告诉别人\n",
      "做完作业了，答案是 2\n",
      "洗过碗了，又赚 10 元，现在有 1010\n",
      "洗过碗了，又赚 50 元，现在有 1060\n",
      "洗过碗了，又赚 30 元，现在有 1090\n"
     ]
    }
   ],
   "source": [
    "class Student:\n",
    "   def __init__(self, name, age, deposit):\n",
    "      self.name = name\n",
    "      self.age = age\n",
    "      self.__deposit = deposit\n",
    "      \n",
    "   def do_homework(self):\n",
    "      # 做作业\n",
    "      answer = self.__calculate(1, 1)\n",
    "      print('做完作业了，答案是', answer)\n",
    "   \n",
    "   def wash_dishes(self, n_dishes):\n",
    "      # 洗碗\n",
    "      self.__deposit = self.__deposit + n_dishes * 10\n",
    "      print('洗过碗了，又赚', n_dishes * 10, '元，现在有', self.__deposit)\n",
    "      \n",
    "   def __calculate(self, a, b):\n",
    "      # 珠心算\n",
    "      print('悄悄算算术，不告诉别人')\n",
    "      return a + b\n",
    "\n",
    "xiaoming = Student('小明', 12, 1000)\n",
    "xiaoming.do_homework()\n",
    "xiaoming.wash_dishes(1)\n",
    "xiaoming.wash_dishes(5)\n",
    "xiaoming.wash_dishes(3)"
   ]
  },
  {
   "cell_type": "code",
   "execution_count": 97,
   "metadata": {
    "id": "929299E9C2E94C8385D0E901A6C710F3",
    "jupyter": {},
    "notebookId": "6353695500092f69e1f2cb44",
    "scrolled": false,
    "slideshow": {
     "slide_type": "slide"
    },
    "tags": []
   },
   "outputs": [
    {
     "name": "stdout",
     "output_type": "stream",
     "text": [
      "动物需要呼吸\n",
      "动物需要呼吸\n",
      "汪汪汪\n",
      "喵喵喵\n"
     ]
    }
   ],
   "source": [
    "# 创建一个父类Animal以及子类Dog和Cat，通过继承创建衍生类的新功能\n",
    "class Animal:\n",
    "   def breathe(self):\n",
    "      print('动物需要呼吸')\n",
    "\n",
    "class Dog(Animal):\n",
    "   def woof(self):\n",
    "      print('汪汪汪')\n",
    "\n",
    "class Cat(Animal):\n",
    "   def meow(self):\n",
    "      print('喵喵喵')\n",
    "#将Dog类和Cat类实例化\n",
    "speike = Dog()\n",
    "tom = Cat()\n",
    "speike.breathe()\n",
    "tom.breathe()\n",
    "#Dog类和Cat类都继承自Animal类，它们都有breathe()方法\n",
    "speike.woof()\n",
    "tom.meow()"
   ]
  },
  {
   "cell_type": "code",
   "execution_count": 98,
   "metadata": {
    "id": "EC69810808BE4C37B3CCC864A97F3AD4",
    "jupyter": {},
    "notebookId": "6353695500092f69e1f2cb44",
    "scrolled": false,
    "slideshow": {
     "slide_type": "slide"
    },
    "tags": []
   },
   "outputs": [
    {
     "name": "stdout",
     "output_type": "stream",
     "text": [
      "老鼠也需要呼吸\n"
     ]
    }
   ],
   "source": [
    "# 尝试创建一个Mouse类，用以覆盖父类的方法\n",
    "class Mouse(Animal):\n",
    "   def breathe(self):\n",
    "      print('老鼠也需要呼吸')\n",
    "jerry = Mouse()\n",
    "jerry.breathe()\n"
   ]
  }
 ],
 "metadata": {
  "kernelspec": {
   "display_name": "Python 3 (ipykernel)",
   "language": "python",
   "name": "python3"
  },
  "language_info": {
   "codemirror_mode": {
    "name": "ipython",
    "version": 3
   },
   "file_extension": ".py",
   "mimetype": "text/x-python",
   "name": "python",
   "nbconvert_exporter": "python",
   "pygments_lexer": "ipython3",
   "version": "3.10.9"
  }
 },
 "nbformat": 4,
 "nbformat_minor": 1
}
