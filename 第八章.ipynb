{
 "cells": [
  {
   "cell_type": "markdown",
   "metadata": {
    "id": "D89B0EAB542642F98900CCC4D4E49360",
    "jupyter": {},
    "mdEditEnable": false,
    "notebookId": "635e8547f827c6671f187521",
    "scrolled": false,
    "slideshow": {
     "slide_type": "slide"
    },
    "tags": []
   },
   "source": [
    "# 第8章 Python绘图基础\n"
   ]
  },
  {
   "cell_type": "markdown",
   "metadata": {
    "id": "6E69B86681E942EEBB42BF0D5F4D92E6",
    "jupyter": {},
    "mdEditEnable": false,
    "notebookId": "635e8547f827c6671f187521",
    "scrolled": false,
    "slideshow": {
     "slide_type": "slide"
    },
    "tags": []
   },
   "source": [
    "## 8.1  Matplotlib与cartopy基础知识"
   ]
  },
  {
   "cell_type": "markdown",
   "metadata": {
    "id": "AD4B9874425D4D7483F41DCB996238AC",
    "jupyter": {},
    "mdEditEnable": false,
    "notebookId": "635e8547f827c6671f187521",
    "scrolled": false,
    "slideshow": {
     "slide_type": "slide"
    },
    "tags": []
   },
   "source": [
    "### 8.1.1  绘图结构"
   ]
  },
  {
   "cell_type": "code",
   "execution_count": 1,
   "metadata": {
    "id": "D92820183EE34C5E83ACA39A6919DFF8",
    "jupyter": {},
    "notebookId": "635e8547f827c6671f187521",
    "scrolled": false,
    "slideshow": {
     "slide_type": "slide"
    },
    "tags": []
   },
   "outputs": [
    {
     "data": {
      "text/html": [
       "<img src=\"https://cdn.kesci.com/upload/rt/D92820183EE34C5E83ACA39A6919DFF8/rpavgo3zph.png\">"
      ],
      "text/plain": [
       "<Figure size 432x288 with 2 Axes>"
      ]
     },
     "metadata": {
      "needs_background": "light"
     },
     "output_type": "display_data"
    }
   ],
   "source": [
    "# 引入绘图库\n",
    "import numpy as np\n",
    "import matplotlib.pyplot as plt\n",
    "# 绘图数据计算函数\n",
    "def f(t):\n",
    "    return np.exp(-t) * np.cos(2*np.pi*t)\n",
    "# 生成两个子图对应的横轴数据\n",
    "t1 = np.arange(0.0, 5.0, 0.1)\n",
    "t2 = np.arange(0.0, 5.0, 0.02)\n",
    "# 生成figure\n",
    "plt.figure(1)\n",
    "# 生成子图1(位置为两行一列排布的从上往下数第一个)\n",
    "plt.subplot(211)\n",
    "plt.plot(t1, f(t1), 'bo', t2, f(t2), 'k')\n",
    "# 生成子图2(位置为两行一列排布的从上往下数第二个)\n",
    "plt.subplot(212)\n",
    "plt.plot(t2, np.cos(2*np.pi*t2), 'r--')\n",
    "# 进行绘图\n",
    "plt.show()\n"
   ]
  },
  {
   "cell_type": "markdown",
   "metadata": {
    "id": "50E320C0CF94406C876794F4327CA7A3",
    "jupyter": {},
    "mdEditEnable": false,
    "notebookId": "635e8547f827c6671f187521",
    "scrolled": false,
    "slideshow": {
     "slide_type": "slide"
    },
    "tags": []
   },
   "source": [
    "### 8.1.2  Figure、Axes与GeoAxes"
   ]
  },
  {
   "cell_type": "code",
   "execution_count": 2,
   "metadata": {
    "id": "649A3697B961466492E6A87178302DF2",
    "jupyter": {},
    "notebookId": "635e8547f827c6671f187521",
    "scrolled": false,
    "slideshow": {
     "slide_type": "slide"
    },
    "tags": []
   },
   "outputs": [
    {
     "data": {
      "text/html": [
       "<img src=\"https://cdn.kesci.com/upload/rt/649A3697B961466492E6A87178302DF2/rpavgo6jlj.png\">"
      ],
      "text/plain": [
       "<Figure size 864x432 with 7 Axes>"
      ]
     },
     "metadata": {
      "needs_background": "light"
     },
     "output_type": "display_data"
    }
   ],
   "source": [
    "import numpy as np\n",
    "import matplotlib.pyplot as plt\n",
    "fig=plt.figure(figsize=(12,6))\n",
    "for i in range(6):\n",
    "    ax=fig.add_subplot(2,3,i+1)\n",
    "    ax.text(0.5,0.5,f'{i+1}', fontsize=20,ha='center',va='center')\n",
    "    ax.text(0.5,0.2,f'ax=fig.add_subplot(2,3,{i+1})', fontsize=10,ha='center',va='center')\n",
    "ax = fig.add_axes([0.3, 0.35, 0.3, 0.2])\n",
    "ax.text(0.5,0.5,'ax=fig.add_axes([0.3, 0.35, 0.2, 0.2])', fontsize=10, ha='center', va='center')\n",
    "# 这里的[0.3, 0.35, 0.2, 0.2]指Axes的左轴距离左边界0.3个Figure的宽度，\n",
    "# 下轴距离下边界0.35个Figure的高度，Axes宽度为0.2个Figure的宽度，\n",
    "# Axes的高度为0.2个Figure的高度\n",
    "fig.show()\n"
   ]
  },
  {
   "cell_type": "code",
   "execution_count": 3,
   "metadata": {
    "id": "6DA246BD978B4D7C8F876DBD5C423725",
    "jupyter": {},
    "notebookId": "635e8547f827c6671f187521",
    "scrolled": false,
    "slideshow": {
     "slide_type": "slide"
    },
    "tags": []
   },
   "outputs": [
    {
     "name": "stdout",
     "output_type": "stream",
     "text": [
      "Warning: ecCodes 2.21.0 or higher is recommended. You are running version 2.14.1\n"
     ]
    },
    {
     "data": {
      "text/plain": [
       "Text(0.5, 1.0, 'GeoAxes')"
      ]
     },
     "metadata": {},
     "output_type": "execute_result"
    },
    {
     "data": {
      "text/html": [
       "<img src=\"https://cdn.kesci.com/upload/rt/6DA246BD978B4D7C8F876DBD5C423725/rpavgr6skv.png\">"
      ],
      "text/plain": [
       "<Figure size 360x360 with 2 Axes>"
      ]
     },
     "metadata": {
      "needs_background": "light"
     },
     "output_type": "display_data"
    }
   ],
   "source": [
    "import xarray as xr\n",
    "import matplotlib.pyplot as plt\n",
    "import cartopy.crs as ccrs\n",
    "f = xr.open_dataset('/home/mw/input/pythonbook9857/1980060106.nc')\n",
    "z = f['z'].loc[:,500,:,:][0] #取出第一个时刻的500hPa的位势场\n",
    "lat = f['latitude']\n",
    "lon = f['longitude']\n",
    "plt.figure(figsize=(5, 5))\n",
    "#ax1为Axes\n",
    "ax1 = plt.subplot(1,2,1)\n",
    "c1 = ax1.contour(lon, lat, z)\n",
    "ax1.set_title('Axes')\n",
    "#ax2为GeoAxes\n",
    "ax2 = plt.subplot(1,2,2, projection=ccrs.PlateCarree())\n",
    "c2 = ax2.contour(lon, lat, z,transform=ccrs.PlateCarree())\n",
    "ax2.set_title('GeoAxes')\n"
   ]
  },
  {
   "cell_type": "code",
   "execution_count": 4,
   "metadata": {
    "id": "4E071F1343EB4B50B2CF24BF24D86199",
    "jupyter": {},
    "notebookId": "635e8547f827c6671f187521",
    "scrolled": false,
    "slideshow": {
     "slide_type": "slide"
    },
    "tags": []
   },
   "outputs": [
    {
     "data": {
      "text/html": [
       "<img src=\"https://cdn.kesci.com/upload/rt/4E071F1343EB4B50B2CF24BF24D86199/rpavgr64v9.png\">"
      ],
      "text/plain": [
       "<Figure size 576x432 with 1 Axes>"
      ]
     },
     "metadata": {
      "needs_background": "light"
     },
     "output_type": "display_data"
    }
   ],
   "source": [
    "import xarray as xr\n",
    "import matplotlib.pyplot as plt\n",
    "import cartopy.crs as ccrs\n",
    "import cartopy.feature as cfeature\n",
    "import cartopy.feature as cfeature\n",
    "import cartopy.mpl.ticker as cticker\n",
    "\n",
    "f = xr.open_dataset('/home/mw/input/pythonbook9857/1980060106.nc')\n",
    "z = f['z'].loc[:,500,:,:][0]\n",
    "lat = f['latitude']\n",
    "lon = f['longitude']\n",
    "plt.figure(figsize=(8, 6))\n",
    "ax1 = plt.subplot(1,1,1, projection=ccrs.PlateCarree())\n",
    "ax1.set_extent([60,180,0,90]) #设置GeoAxes的范围，4个数字分别代表左、右、上、下边界的经纬度\n",
    "ax1.gridlines() #添加栅格线\n",
    "#ax1.coastlines() #添加海岸线\n",
    "#ax1.add_feature(cfeature.LAND) #添加大陆特征\n",
    "#添加刻度\n",
    "ax1.set_xticks(np.arange(60,210,30), crs=ccrs.PlateCarree())\n",
    "ax1.set_yticks(np.arange(0,120,30), crs=ccrs.PlateCarree())\n",
    "ax1.xaxis.set_major_formatter(cticker.LongitudeFormatter())\n",
    "ax1.yaxis.set_major_formatter(cticker.LatitudeFormatter())\n",
    "#绘制等值线\n",
    "c1 = ax1.contour(lon, lat, z,transform=ccrs.PlateCarree())\n",
    "plt.show()\n"
   ]
  },
  {
   "cell_type": "code",
   "execution_count": 5,
   "metadata": {
    "id": "2E843E718C044F8388DD8C0D9D829859",
    "jupyter": {},
    "notebookId": "635e8547f827c6671f187521",
    "scrolled": false,
    "slideshow": {
     "slide_type": "slide"
    },
    "tags": []
   },
   "outputs": [
    {
     "data": {
      "text/html": [
       "<img src=\"https://cdn.kesci.com/upload/rt/2E843E718C044F8388DD8C0D9D829859/rpavgrfj61.png\">"
      ],
      "text/plain": [
       "<Figure size 720x360 with 2 Axes>"
      ]
     },
     "metadata": {
      "needs_background": "light"
     },
     "output_type": "display_data"
    }
   ],
   "source": [
    "import matplotlib.pyplot as plt\n",
    "import cartopy.crs as ccrs\n",
    "import cartopy.feature as cfeature\n",
    "fig = plt.figure(figsize=[10, 5])\n",
    "ax1 = fig.add_subplot(1, 2, 1,projection=ccrs.PlateCarree())\n",
    "ax1.set_xticks(np.arange(-180,240,60), crs=ccrs.PlateCarree())\n",
    "ax1.set_yticks(np.arange(-90,120,30), crs=ccrs.PlateCarree())\n",
    "ax1.xaxis.set_major_formatter(cticker.LongitudeFormatter())\n",
    "ax1.yaxis.set_major_formatter(cticker.LatitudeFormatter())\n",
    "ax1.gridlines() #添加栅格线\n",
    "# ax1.add_feature(cfeature.COASTLINE.with_scale('110m'))\n",
    "ax2 = fig.add_subplot(1, 2, 2, projection=ccrs.PlateCarree(central_longitude = 120))\n",
    "ax2.set_xticks(np.arange(-180,240,60), crs=ccrs.PlateCarree())\n",
    "ax2.set_yticks(np.arange(-90,120,30), crs=ccrs.PlateCarree())\n",
    "ax2.xaxis.set_major_formatter(cticker.LongitudeFormatter())\n",
    "ax2.yaxis.set_major_formatter(cticker.LatitudeFormatter())\n",
    "ax2.gridlines() #添加栅格线\n",
    "# ax2.add_feature(cfeature.COASTLINE.with_scale('110m'))\n",
    "plt.show()\n"
   ]
  },
  {
   "cell_type": "code",
   "execution_count": 6,
   "metadata": {
    "id": "A6279A52D0F846B088363B12BF456870",
    "jupyter": {},
    "notebookId": "635e8547f827c6671f187521",
    "scrolled": false,
    "slideshow": {
     "slide_type": "slide"
    },
    "tags": []
   },
   "outputs": [
    {
     "data": {
      "text/html": [
       "<img src=\"https://cdn.kesci.com/upload/rt/A6279A52D0F846B088363B12BF456870/rpavgssjt1.png\">"
      ],
      "text/plain": [
       "<Figure size 720x360 with 2 Axes>"
      ]
     },
     "metadata": {
      "needs_background": "light"
     },
     "output_type": "display_data"
    }
   ],
   "source": [
    "import matplotlib.pyplot as plt\n",
    "import cartopy.crs as ccrs\n",
    "import cartopy.feature as cfeature\n",
    "fig = plt.figure(figsize=[10, 5])\n",
    "ax1 = fig.add_subplot(1, 2, 1, projection=ccrs.LambertConformal())\n",
    "gl1 = ax1.gridlines(draw_labels=True,x_inline=False, y_inline=False) #添加栅格线，绘制刻度标签，但禁止在栅格线内绘制标签\n",
    "gl1.rotate_labels = False #禁止刻度标签旋转\n",
    "# ax1.add_feature(cfeature.COASTLINE.with_scale('110m'))\n",
    "ax2 = fig.add_subplot(1, 2, 2, projection=ccrs.LambertConformal(central_longitude=120,cutoff=0))\n",
    "gl2 = ax2.gridlines(draw_labels=True,x_inline=False, y_inline=False) #添加栅格线\n",
    "gl2.rotate_labels = False\n",
    "# ax2.add_feature(cfeature.COASTLINE.with_scale('110m'))\n",
    "plt.show()\n"
   ]
  },
  {
   "cell_type": "code",
   "execution_count": 7,
   "metadata": {
    "id": "C2110A1F61F34892807B094B1230CC30",
    "jupyter": {},
    "notebookId": "635e8547f827c6671f187521",
    "scrolled": false,
    "slideshow": {
     "slide_type": "slide"
    },
    "tags": []
   },
   "outputs": [
    {
     "name": "stderr",
     "output_type": "stream",
     "text": [
      "/opt/conda/lib/python3.7/site-packages/cartopy/mpl/gridliner.py:307: UserWarning: The .xlabels_top attribute is deprecated. Please use .top_labels to toggle visibility instead.\n",
      "  warnings.warn('The .xlabels_top attribute is deprecated. Please '\n",
      "/opt/conda/lib/python3.7/site-packages/cartopy/mpl/gridliner.py:343: UserWarning: The .ylabels_right attribute is deprecated. Please use .right_labels to toggle visibility instead.\n",
      "  warnings.warn('The .ylabels_right attribute is deprecated. Please '\n"
     ]
    },
    {
     "data": {
      "text/html": [
       "<img src=\"https://cdn.kesci.com/upload/rt/C2110A1F61F34892807B094B1230CC30/rpavgsuxtv.png\">"
      ],
      "text/plain": [
       "<Figure size 720x360 with 1 Axes>"
      ]
     },
     "metadata": {
      "needs_background": "light"
     },
     "output_type": "display_data"
    }
   ],
   "source": [
    "import matplotlib.pyplot as plt\n",
    "import cartopy.crs as ccrs\n",
    "import cartopy.feature as cfeature\n",
    "fig = plt.figure(figsize=[10, 5])\n",
    "ax1 = fig.add_subplot(1, 2, 1, projection=ccrs.Mercator())\n",
    "# ax1.add_feature(cfeature.COASTLINE.with_scale('110m'))\n",
    "gl1 = ax1.gridlines(draw_labels=True,x_inline=False, y_inline=False) #添加栅格线\n",
    "#隐藏上、右坐标轴刻度\n",
    "gl1.xlabels_top = False\n",
    "gl1.ylabels_right = False\n",
    "plt.show()\n"
   ]
  },
  {
   "cell_type": "code",
   "execution_count": 8,
   "metadata": {
    "id": "0C7E3D3444F048158950FF7DEF26C731",
    "jupyter": {},
    "notebookId": "635e8547f827c6671f187521",
    "scrolled": false,
    "slideshow": {
     "slide_type": "slide"
    },
    "tags": []
   },
   "outputs": [
    {
     "data": {
      "text/html": [
       "<img src=\"https://cdn.kesci.com/upload/rt/0C7E3D3444F048158950FF7DEF26C731/rpavgtbenf.png\">"
      ],
      "text/plain": [
       "<Figure size 720x360 with 2 Axes>"
      ]
     },
     "metadata": {
      "needs_background": "light"
     },
     "output_type": "display_data"
    }
   ],
   "source": [
    "import matplotlib.pyplot as plt\n",
    "import cartopy.crs as ccrs\n",
    "import cartopy.feature as cfeature\n",
    "fig = plt.figure(figsize=[10, 5])\n",
    "ax1 = fig.add_subplot(1, 2, 1, projection=ccrs.NorthPolarStereo())\n",
    "# ax1.add_feature(cfeature.COASTLINE.with_scale('110m'))\n",
    "gl1 = ax1.gridlines(draw_labels=True,x_inline=False, y_inline=True) #添加栅格线\n",
    "ax2 = fig.add_subplot(1, 2, 2, projection=ccrs.SouthPolarStereo())\n",
    "# ax2.add_feature(cfeature.COASTLINE.with_scale('110m'))\n",
    "gl2 = ax2.gridlines(draw_labels=True,x_inline=False, y_inline=True) #添加栅格线\n",
    "plt.show()\n"
   ]
  },
  {
   "cell_type": "code",
   "execution_count": 9,
   "metadata": {
    "id": "B4DA4B9D7F294FC79774E02368EB3774",
    "jupyter": {},
    "notebookId": "635e8547f827c6671f187521",
    "scrolled": false,
    "slideshow": {
     "slide_type": "slide"
    },
    "tags": []
   },
   "outputs": [
    {
     "data": {
      "text/html": [
       "<img src=\"https://cdn.kesci.com/upload/rt/B4DA4B9D7F294FC79774E02368EB3774/rpavgu58pj.png\">"
      ],
      "text/plain": [
       "<Figure size 360x360 with 1 Axes>"
      ]
     },
     "metadata": {
      "needs_background": "light"
     },
     "output_type": "display_data"
    }
   ],
   "source": [
    "import matplotlib.path as mpath\n",
    "import matplotlib.pyplot as plt\n",
    "import numpy as np\n",
    "import cartopy.crs as ccrs\n",
    "import cartopy.feature as cfeature\n",
    "fig = plt.figure(figsize=[5, 5])\n",
    "ax1 = fig.add_subplot(1, 1, 1, projection=ccrs.NorthPolarStereo())\n",
    "ax1.set_extent([-180, 180, 30, 90], ccrs.PlateCarree())\n",
    "gl1 = ax1.gridlines(draw_labels=True,x_inline=False, y_inline=False) #添加栅格线\n",
    "gl1.rotate_labels = False #禁止标签旋转，设置为True时标签与栅格线平行\n",
    "# ax1.add_feature(cfeature.COASTLINE.with_scale('50m'))\n",
    "plt.show()\n"
   ]
  },
  {
   "cell_type": "code",
   "execution_count": 10,
   "metadata": {
    "id": "A5A0CA10F87E4766841BB09EC55D9BAB",
    "jupyter": {},
    "notebookId": "635e8547f827c6671f187521",
    "scrolled": false,
    "slideshow": {
     "slide_type": "slide"
    },
    "tags": []
   },
   "outputs": [
    {
     "name": "stderr",
     "output_type": "stream",
     "text": [
      "/opt/conda/lib/python3.7/site-packages/cartopy/io/__init__.py:260: DownloadWarning: Downloading: https://naciscdn.org/naturalearth/50m/physical/ne_50m_coastline.zip\n",
      "  warnings.warn('Downloading: {}'.format(url), DownloadWarning)\n"
     ]
    },
    {
     "data": {
      "text/html": [
       "<img src=\"https://cdn.kesci.com/upload/rt/A5A0CA10F87E4766841BB09EC55D9BAB/rpavgx4tex.png\">"
      ],
      "text/plain": [
       "<Figure size 360x360 with 1 Axes>"
      ]
     },
     "metadata": {
      "needs_background": "light"
     },
     "output_type": "display_data"
    }
   ],
   "source": [
    "import matplotlib.path as mpath\n",
    "import matplotlib.pyplot as plt\n",
    "import numpy as np\n",
    "import cartopy.crs as ccrs\n",
    "import cartopy.feature as cfeature\n",
    "fig = plt.figure(figsize=[5, 5])\n",
    "ax1 = fig.add_subplot(1, 1, 1, projection=ccrs.NorthPolarStereo())\n",
    "ax1.set_extent([-180, 180, 30, 90], ccrs.PlateCarree())\n",
    "ax1.gridlines()\n",
    "ax1.add_feature(cfeature.COASTLINE.with_scale('50m'))\n",
    "# 生成一个圆形的Path\n",
    "theta = np.linspace(0, 2*np.pi, 100)\n",
    "center, radius = [0.5, 0.5], 0.5\n",
    "verts = np.vstack([np.sin(theta), np.cos(theta)]).T\n",
    "circle = mpath.Path(verts * radius + center)\n",
    "# 将该Path设置为GeoAxes的边界\n",
    "ax1.set_boundary(circle, transform=ax1.transAxes)\n",
    "plt.show()\n"
   ]
  },
  {
   "cell_type": "markdown",
   "metadata": {
    "id": "1F46FA3D7944463887CE1F6C82D77730",
    "jupyter": {},
    "mdEditEnable": false,
    "notebookId": "635e8547f827c6671f187521",
    "scrolled": false,
    "slideshow": {
     "slide_type": "slide"
    },
    "tags": []
   },
   "source": [
    "## 8.2  地理绘图基础"
   ]
  },
  {
   "cell_type": "markdown",
   "metadata": {
    "id": "79FD13FD286C4D349D73F7599DA5A0FB",
    "jupyter": {},
    "mdEditEnable": false,
    "notebookId": "635e8547f827c6671f187521",
    "scrolled": false,
    "slideshow": {
     "slide_type": "slide"
    },
    "tags": []
   },
   "source": [
    "### 8.2.2  在GeoAxes上绘制"
   ]
  },
  {
   "cell_type": "code",
   "execution_count": 11,
   "metadata": {
    "id": "0F00169EE67048539D6F7DB0D07FE45E",
    "jupyter": {},
    "notebookId": "635e8547f827c6671f187521",
    "scrolled": false,
    "slideshow": {
     "slide_type": "slide"
    },
    "tags": []
   },
   "outputs": [
    {
     "data": {
      "text/html": [
       "<img src=\"https://cdn.kesci.com/upload/rt/0F00169EE67048539D6F7DB0D07FE45E/rpavgy4cri.png\">"
      ],
      "text/plain": [
       "<Figure size 720x576 with 1 Axes>"
      ]
     },
     "metadata": {
      "needs_background": "light"
     },
     "output_type": "display_data"
    }
   ],
   "source": [
    "import matplotlib.pyplot as plt\n",
    "import cartopy.crs as ccrs\n",
    "import cartopy.mpl.ticker as cticker\n",
    "import geopandas as gpd\n",
    "\n",
    "import geopandas as gpd\n",
    "gdf = gpd.GeoDataFrame.from_file('/home/mw/input/pythonbook9857/circle.json', encoding='utf8')\n",
    "\n",
    "fig = plt.figure(figsize=(10,8))\n",
    "ax = fig.add_subplot(1, 1, 1, projection=ccrs.PlateCarree())\n",
    "ax.set_extent([115.5, 123, 29.5, 36.5], ccrs.PlateCarree())\n",
    "ax.add_geometries(gdf['geometry'], crs=ccrs.PlateCarree(), facecolor='none', edgecolor='black')\n",
    "# 设置轴刻度\n",
    "ax.set_xticks(np.arange(116, 123, 1), crs=ccrs.PlateCarree())\n",
    "ax.set_yticks(np.arange(30, 36, 1), crs=ccrs.PlateCarree())\n",
    "ax.xaxis.set_major_formatter(cticker.LongitudeFormatter())\n",
    "ax.yaxis.set_major_formatter(cticker.LatitudeFormatter())\n",
    "plt.show()\n"
   ]
  },
  {
   "cell_type": "markdown",
   "metadata": {
    "id": "96693F628B1541AE9D19F1C7A29772C5",
    "jupyter": {},
    "mdEditEnable": false,
    "notebookId": "635e8547f827c6671f187521",
    "scrolled": false,
    "slideshow": {
     "slide_type": "slide"
    },
    "tags": []
   },
   "source": [
    "### 8.2.3  几何数据筛选示例"
   ]
  },
  {
   "cell_type": "code",
   "execution_count": 12,
   "metadata": {
    "id": "78FDB5B489DF46048EF3712389754E89",
    "jupyter": {},
    "notebookId": "635e8547f827c6671f187521",
    "scrolled": false,
    "slideshow": {
     "slide_type": "slide"
    },
    "tags": []
   },
   "outputs": [
    {
     "data": {
      "text/html": [
       "<img src=\"https://cdn.kesci.com/upload/rt/78FDB5B489DF46048EF3712389754E89/rpavgy9nrw.png\">"
      ],
      "text/plain": [
       "<Figure size 720x576 with 1 Axes>"
      ]
     },
     "metadata": {
      "needs_background": "light"
     },
     "output_type": "display_data"
    }
   ],
   "source": [
    "import matplotlib.pyplot as plt\n",
    "import cartopy.crs as ccrs\n",
    "import cartopy.mpl.ticker as cticker\n",
    "import geopandas as gpd\n",
    "\n",
    "name_a = gdf.loc[gdf['name']=='A']\n",
    "\n",
    "fig = plt.figure(figsize=(10,8))\n",
    "ax = fig.add_subplot(1, 1, 1, projection=ccrs.PlateCarree())\n",
    "ax.set_extent([115.5, 123, 29.5, 36.5], ccrs.PlateCarree())\n",
    "ax.add_geometries(name_a['geometry'], crs=ccrs.PlateCarree(), facecolor='none', edgecolor='black')\n",
    "# 设置轴刻度\n",
    "ax.set_xticks(np.arange(116, 123, 1), crs=ccrs.PlateCarree())\n",
    "ax.set_yticks(np.arange(30, 36, 1), crs=ccrs.PlateCarree())\n",
    "ax.xaxis.set_major_formatter(cticker.LongitudeFormatter())\n",
    "ax.yaxis.set_major_formatter(cticker.LatitudeFormatter())\n",
    "plt.show()\n"
   ]
  },
  {
   "cell_type": "markdown",
   "metadata": {
    "id": "81FF09DA16724CEC8D8AFD73AA407FA7",
    "jupyter": {},
    "mdEditEnable": false,
    "notebookId": "635e8547f827c6671f187521",
    "scrolled": false,
    "slideshow": {
     "slide_type": "slide"
    },
    "tags": []
   },
   "source": [
    "### 8.2.4  多边形合并"
   ]
  },
  {
   "cell_type": "code",
   "execution_count": 13,
   "metadata": {
    "id": "DFFA2AA8E361444A88FCC798B310096A",
    "jupyter": {},
    "notebookId": "635e8547f827c6671f187521",
    "scrolled": false,
    "slideshow": {
     "slide_type": "slide"
    },
    "tags": []
   },
   "outputs": [
    {
     "name": "stdout",
     "output_type": "stream",
     "text": [
      "<class 'geopandas.geoseries.GeoSeries'> 2\n",
      "<class 'shapely.geometry.polygon.Polygon'>\n"
     ]
    }
   ],
   "source": [
    "import matplotlib.pyplot as plt\n",
    "from shapely.ops import unary_union\n",
    "import geopandas as gpd\n",
    "import cartopy.crs as ccrs\n",
    "# 读取GeoJSON文件\n",
    "gdf = gpd.GeoDataFrame.from_file('/home/mw/input/pythonbook9857/circle.json', encoding='utf8') #也可以是shapefile\n",
    "# 合并多边形\n",
    "geom = unary_union([geom if geom.is_valid else geom.buffer(0) for geom in gdf['geometry']])\n",
    "\n",
    "print(type(gdf['geometry']), len(gdf['geometry']))\n",
    "print(type(geom))\n"
   ]
  },
  {
   "cell_type": "markdown",
   "metadata": {
    "id": "D03057BC48E74968A6467C3E591EB9D9",
    "jupyter": {},
    "mdEditEnable": false,
    "notebookId": "635e8547f827c6671f187521",
    "scrolled": false,
    "slideshow": {
     "slide_type": "slide"
    },
    "tags": []
   },
   "source": [
    "## 8.3  颜色表（colormap）"
   ]
  },
  {
   "cell_type": "markdown",
   "metadata": {
    "id": "78E40AEA44524539BCA1417A0B2BADC3",
    "jupyter": {},
    "mdEditEnable": false,
    "notebookId": "635e8547f827c6671f187521",
    "scrolled": false,
    "slideshow": {
     "slide_type": "slide"
    },
    "tags": []
   },
   "source": [
    "### 8.3.3  创建自定义色标"
   ]
  },
  {
   "cell_type": "code",
   "execution_count": 14,
   "metadata": {
    "id": "6F08DDA970DC475BA6E635C95780EA49",
    "jupyter": {},
    "notebookId": "635e8547f827c6671f187521",
    "scrolled": false,
    "slideshow": {
     "slide_type": "slide"
    },
    "tags": []
   },
   "outputs": [
    {
     "data": {
      "text/html": [
       "<img src=\"https://cdn.kesci.com/upload/rt/6F08DDA970DC475BA6E635C95780EA49/rpavgygcdi.png\">"
      ],
      "text/plain": [
       "<Figure size 432x288 with 2 Axes>"
      ]
     },
     "metadata": {
      "needs_background": "light"
     },
     "output_type": "display_data"
    }
   ],
   "source": [
    "import numpy as np\n",
    "import matplotlib.pyplot as plt\n",
    "import matplotlib.colors as mcolors\n",
    "# 样例数据生成，此段可以忽略\n",
    "N = 100\n",
    "X, Y = np.mgrid[-3:3:complex(0, N), -2:2:complex(0, N)]\n",
    "Z1 = np.exp(-X**2 - Y**2)\n",
    "Z2 = np.exp(-(X - 1)**2 - (Y - 1)**2)\n",
    "Z = (Z1 - Z2) * 2\n",
    "fig = plt.figure()\n",
    "ax = fig.add_subplot(1, 1, 1)\n",
    "levels = [0.1, 0.3, 0.5, 0.9]\n",
    "cmap = mcolors.ListedColormap(['r', 'g', 'b'])\n",
    "cmap.set_under('c')\n",
    "cmap.set_over('m')\n",
    "norm = mcolors.BoundaryNorm(levels, cmap.N)\n",
    "pcm = ax.contourf(Z, levels=levels, cmap=cmap, norm=norm, extend='both')\n",
    "fig.colorbar(pcm, ax=ax, extend='both')\n",
    "plt.show()\n"
   ]
  },
  {
   "cell_type": "code",
   "execution_count": 15,
   "metadata": {
    "id": "A95D99C240E84B6CACFDBBAFEDBB0A2D",
    "jupyter": {},
    "notebookId": "635e8547f827c6671f187521",
    "scrolled": false,
    "slideshow": {
     "slide_type": "slide"
    },
    "tags": []
   },
   "outputs": [
    {
     "data": {
      "text/html": [
       "<img src=\"https://cdn.kesci.com/upload/rt/A95D99C240E84B6CACFDBBAFEDBB0A2D/rpavgyyuvj.png\">"
      ],
      "text/plain": [
       "<Figure size 432x288 with 2 Axes>"
      ]
     },
     "metadata": {
      "needs_background": "light"
     },
     "output_type": "display_data"
    }
   ],
   "source": [
    "import numpy as np\n",
    "import matplotlib.pyplot as plt\n",
    "import matplotlib.colors as mcolors\n",
    "N = 100\n",
    "X, Y = np.mgrid[-3:3:complex(0, N), -2:2:complex(0, N)]\n",
    "Z1 = np.exp(-X**2 - Y**2)\n",
    "Z2 = np.exp(-(X - 1)**2 - (Y - 1)**2)\n",
    "Z = (Z1 - Z2) * 2\n",
    "fig = plt.figure()\n",
    "ax = fig.add_subplot(1, 1, 1)\n",
    "levels = [0.1, 0.3, 0.5, 0.9]\n",
    "cmap, norm = mcolors.from_levels_and_colors(levels, ['c', 'r', 'g', 'b', 'm'], 'both')\n",
    "pcm = ax.contourf(Z, levels=levels, cmap=cmap, norm=norm, extend='both')\n",
    "fig.colorbar(pcm, ax=ax, extend='both')\n",
    "plt.show()\n"
   ]
  },
  {
   "cell_type": "markdown",
   "metadata": {
    "id": "4C6116CC81FB44CC86C14B4C976EE36A",
    "jupyter": {},
    "mdEditEnable": false,
    "notebookId": "635e8547f827c6671f187521",
    "scrolled": false,
    "slideshow": {
     "slide_type": "slide"
    },
    "tags": []
   },
   "source": [
    "## 8.4  图像显示与保存"
   ]
  },
  {
   "cell_type": "markdown",
   "metadata": {
    "id": "5B9D42860D234832827B4AA8FF307ACD",
    "jupyter": {},
    "mdEditEnable": false,
    "notebookId": "635e8547f827c6671f187521",
    "scrolled": false,
    "slideshow": {
     "slide_type": "slide"
    },
    "tags": []
   },
   "source": [
    "### 8.4.1  图像显示"
   ]
  },
  {
   "cell_type": "code",
   "execution_count": 16,
   "metadata": {
    "id": "FCE803DBA0CD4BCC8A5F89ED917132A4",
    "jupyter": {},
    "notebookId": "635e8547f827c6671f187521",
    "scrolled": false,
    "slideshow": {
     "slide_type": "slide"
    },
    "tags": []
   },
   "outputs": [
    {
     "data": {
      "text/html": [
       "<img src=\"https://cdn.kesci.com/upload/rt/FCE803DBA0CD4BCC8A5F89ED917132A4/rpavgyf04q.png\">"
      ],
      "text/plain": [
       "<Figure size 720x576 with 1 Axes>"
      ]
     },
     "metadata": {
      "needs_background": "light"
     },
     "output_type": "display_data"
    }
   ],
   "source": [
    "import numpy as np\n",
    "import matplotlib.pyplot as plt\n",
    "#生成正弦函数\n",
    "x = np.linspace(0, 10, 500)\n",
    "y = np.sin(x)\n",
    "#绘制图像\n",
    "fig = plt.figure(figsize=(10, 8))\n",
    "ax1 = fig.add_subplot(1,1,1)\n",
    "ax1.plot(x, y)\n",
    "#显示图像\n",
    "plt.show()\n"
   ]
  },
  {
   "cell_type": "markdown",
   "metadata": {
    "id": "FBE2FF2F8423431D8B5A149AAE4372F9",
    "jupyter": {},
    "mdEditEnable": false,
    "notebookId": "635e8547f827c6671f187521",
    "scrolled": false,
    "slideshow": {
     "slide_type": "slide"
    },
    "tags": []
   },
   "source": [
    "### 8.4.2  图像保存"
   ]
  },
  {
   "cell_type": "code",
   "execution_count": 17,
   "metadata": {
    "id": "BA2FD94A4B1D401584F8DD1D85C585F5",
    "jupyter": {},
    "notebookId": "635e8547f827c6671f187521",
    "scrolled": false,
    "slideshow": {
     "slide_type": "slide"
    },
    "tags": []
   },
   "outputs": [
    {
     "data": {
      "text/html": [
       "<img src=\"https://cdn.kesci.com/upload/rt/BA2FD94A4B1D401584F8DD1D85C585F5/rpavgzi8wm.png\">"
      ],
      "text/plain": [
       "<Figure size 720x576 with 1 Axes>"
      ]
     },
     "metadata": {
      "needs_background": "light"
     },
     "output_type": "display_data"
    }
   ],
   "source": [
    "import numpy as np\n",
    "import matplotlib.pyplot as plt\n",
    "#生成正弦函数\n",
    "x = np.linspace(0, 10, 500)\n",
    "y = np.sin(x)\n",
    "#绘制图像\n",
    "fig = plt.figure(figsize=(10, 8))\n",
    "ax1 = fig.add_subplot(1,1,1)\n",
    "ax1.plot(x, y)\n",
    "plt.savefig('./sinx.png', dpi=400, bbox_inches='tight')"
   ]
  }
 ],
 "metadata": {
  "kernelspec": {
   "display_name": "Python 3 (ipykernel)",
   "language": "python",
   "name": "python3"
  },
  "language_info": {
   "codemirror_mode": {
    "name": "ipython",
    "version": 3
   },
   "file_extension": ".py",
   "mimetype": "text/x-python",
   "name": "python",
   "nbconvert_exporter": "python",
   "pygments_lexer": "ipython3",
   "version": "3.10.9"
  }
 },
 "nbformat": 4,
 "nbformat_minor": 1
}
