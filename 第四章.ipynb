{
 "cells": [
  {
   "cell_type": "markdown",
   "metadata": {
    "id": "D89B0EAB542642F98900CCC4D4E49360",
    "jupyter": {},
    "mdEditEnable": false,
    "notebookId": "635e2ef48b3f3b93635b4b9c",
    "scrolled": false,
    "slideshow": {
     "slide_type": "slide"
    },
    "tags": []
   },
   "source": [
    "# 第4章 pandas：优秀的数据分析工具\n"
   ]
  },
  {
   "cell_type": "markdown",
   "metadata": {
    "id": "810CF482643D4985AFA558B9F60AF78D",
    "jupyter": {},
    "mdEditEnable": false,
    "notebookId": "635e2ef48b3f3b93635b4b9c",
    "scrolled": false,
    "slideshow": {
     "slide_type": "slide"
    },
    "tags": []
   },
   "source": [
    "## 4.2  pd.Series——序列"
   ]
  },
  {
   "cell_type": "markdown",
   "metadata": {
    "id": "4FC61B519BE24DD590C9913A15FBDA95",
    "jupyter": {},
    "mdEditEnable": false,
    "notebookId": "635e2ef48b3f3b93635b4b9c",
    "scrolled": false,
    "slideshow": {
     "slide_type": "slide"
    },
    "tags": []
   },
   "source": [
    "### 4.2.1  创建序列"
   ]
  },
  {
   "cell_type": "code",
   "execution_count": 1,
   "metadata": {
    "id": "16BEDEF83DF24B65ABB0E52615CECDCB",
    "jupyter": {},
    "notebookId": "635e2ef48b3f3b93635b4b9c",
    "scrolled": false,
    "slideshow": {
     "slide_type": "slide"
    },
    "tags": [],
    "ExecuteTime": {
     "start_time": "2024-06-29T21:06:39.917883Z",
     "end_time": "2024-06-29T21:06:40.603464Z"
    }
   },
   "outputs": [
    {
     "name": "stdout",
     "output_type": "stream",
     "text": [
      "0     9.1\n",
      "1     9.5\n",
      "2    10.0\n",
      "3    11.2\n",
      "dtype: float64\n"
     ]
    }
   ],
   "source": [
    "# 创建序列\n",
    "import pandas as pd\n",
    "a = pd.Series([9.1, 9.5, 10.0, 11.2])\n",
    "print(a)"
   ]
  },
  {
   "cell_type": "code",
   "execution_count": 114,
   "metadata": {
    "id": "D672A6DA22044421924584DCEFE45A4F",
    "jupyter": {},
    "notebookId": "635e2ef48b3f3b93635b4b9c",
    "scrolled": false,
    "slideshow": {
     "slide_type": "slide"
    },
    "tags": []
   },
   "outputs": [
    {
     "name": "stdout",
     "output_type": "stream",
     "text": [
      "a     9.1\n",
      "b     9.5\n",
      "c    10.0\n",
      "d    11.2\n",
      "dtype: float64\n"
     ]
    }
   ],
   "source": [
    "# 创建时指定索引\n",
    "import pandas as pd\n",
    "a = pd.Series([9.1, 9.5, 10.0, 11.2], index=['a', 'b', 'c', 'd'])\n",
    "print(a)"
   ]
  },
  {
   "cell_type": "code",
   "execution_count": 2,
   "metadata": {
    "id": "2414974FC4554A56B4D0E9515EDA37E4",
    "jupyter": {},
    "notebookId": "635e2ef48b3f3b93635b4b9c",
    "scrolled": false,
    "slideshow": {
     "slide_type": "slide"
    },
    "tags": [],
    "ExecuteTime": {
     "start_time": "2024-06-29T21:07:21.132369Z",
     "end_time": "2024-06-29T21:07:21.156888Z"
    }
   },
   "outputs": [
    {
     "name": "stdout",
     "output_type": "stream",
     "text": [
      "a     9.1\n",
      "b     9.5\n",
      "c    10.0\n",
      "d    11.2\n",
      "Name: t, dtype: float64\n"
     ]
    }
   ],
   "source": [
    "# 创建时指定名称\n",
    "import pandas as pd\n",
    "a = pd.Series([9.1, 9.5, 10.0, 11.2], index=['a', 'b', 'c', 'd'], name='t')\n",
    "print(a)"
   ]
  },
  {
   "cell_type": "markdown",
   "metadata": {
    "id": "B621CEBE5AC648479E452143052B0E72",
    "jupyter": {},
    "mdEditEnable": false,
    "notebookId": "635e2ef48b3f3b93635b4b9c",
    "scrolled": false,
    "slideshow": {
     "slide_type": "slide"
    },
    "tags": []
   },
   "source": [
    "### 4.2.2  时间索引"
   ]
  },
  {
   "cell_type": "code",
   "execution_count": 5,
   "metadata": {
    "id": "F3CB2297EB944EA0922A994934B68C4C",
    "jupyter": {},
    "notebookId": "635e2ef48b3f3b93635b4b9c",
    "scrolled": false,
    "slideshow": {
     "slide_type": "slide"
    },
    "tags": [],
    "ExecuteTime": {
     "start_time": "2024-06-29T21:08:05.753029Z",
     "end_time": "2024-06-29T21:08:05.786802Z"
    }
   },
   "outputs": [
    {
     "name": "stdout",
     "output_type": "stream",
     "text": [
      "2020-02-19     9.1\n",
      "2020-02-20     9.5\n",
      "2020-02-21    10.0\n",
      "2020-02-22    11.2\n",
      "Name: t, dtype: float64\n",
      "Index([1582070400000000000, 1582156800000000000, 1582243200000000000,\n",
      "       1582329600000000000],\n",
      "      dtype='int64')\n"
     ]
    }
   ],
   "source": [
    "# 为时间序列准备的统计计算方法\n",
    "import pandas as pd\n",
    "import numpy as np\n",
    "a = pd.Series([9.1, 9.5, 10.0, 11.2], \n",
    "            index=pd.to_datetime(['2020-02-19', '2020-02-20', \n",
    "                              '2020-02-21', '2020-02-22']), \n",
    "            name='t')\n",
    "print(a)\n",
    "print(a.index.astype(np.int64))"
   ]
  },
  {
   "cell_type": "code",
   "execution_count": 117,
   "metadata": {
    "id": "C3C5A974D3C14D0AB97E4EA858D86575",
    "jupyter": {},
    "notebookId": "635e2ef48b3f3b93635b4b9c",
    "scrolled": false,
    "slideshow": {
     "slide_type": "slide"
    },
    "tags": []
   },
   "outputs": [
    {
     "name": "stdout",
     "output_type": "stream",
     "text": [
      "2020-02-18 16:00:00     9.1\n",
      "2020-02-19 16:00:00     9.5\n",
      "2020-02-20 16:00:00    10.0\n",
      "2020-02-21 16:00:00    11.2\n",
      "Name: t, dtype: float64\n"
     ]
    }
   ],
   "source": [
    "# 时区转换\n",
    "import datetime as dt\n",
    "import pandas as pd\n",
    "index_time = pd.to_datetime(['2020-02-19', '2020-02-20', '2020-02-21', '2020-02-22'])\n",
    "index_time = index_time - dt.timedelta(hours=8)\n",
    "a = pd.Series([9.1, 9.5, 10.0, 11.2], index=index_time, name='t')\n",
    "print(a)"
   ]
  },
  {
   "cell_type": "markdown",
   "metadata": {
    "id": "4ADA36AF81F04BF58DD43C69909C262D",
    "jupyter": {},
    "mdEditEnable": false,
    "notebookId": "635e2ef48b3f3b93635b4b9c",
    "scrolled": false,
    "slideshow": {
     "slide_type": "slide"
    },
    "tags": []
   },
   "source": [
    "### 4.2.3  pd.Series对象的算术运算"
   ]
  },
  {
   "cell_type": "code",
   "execution_count": 118,
   "metadata": {
    "id": "1BCA350FC3A84A0C9D20AD5370063FCF",
    "jupyter": {},
    "notebookId": "635e2ef48b3f3b93635b4b9c",
    "scrolled": false,
    "slideshow": {
     "slide_type": "slide"
    },
    "tags": []
   },
   "outputs": [
    {
     "name": "stdout",
     "output_type": "stream",
     "text": [
      "a   -0.9\n",
      "b   -0.5\n",
      "c    0.0\n",
      "d    1.2\n",
      "Name: t, dtype: float64\n"
     ]
    }
   ],
   "source": [
    "# 序列的标量运算\n",
    "import pandas as pd\n",
    "a = pd.Series([9.1, 9.5, 10.0, 11.2], index=['a', 'b', 'c', 'd'], name='t')\n",
    "b = a - 10\n",
    "print(b)"
   ]
  },
  {
   "cell_type": "code",
   "execution_count": 119,
   "metadata": {
    "id": "3EE43433EF7F402E8C229B3477DECCD8",
    "jupyter": {},
    "notebookId": "635e2ef48b3f3b93635b4b9c",
    "scrolled": false,
    "slideshow": {
     "slide_type": "slide"
    },
    "tags": []
   },
   "outputs": [
    {
     "name": "stdout",
     "output_type": "stream",
     "text": [
      "a    0.4\n",
      "b   -0.4\n",
      "c    0.0\n",
      "d    0.0\n",
      "dtype: float64\n",
      "a    NaN\n",
      "b   -0.4\n",
      "c   -0.5\n",
      "d   -1.2\n",
      "e    NaN\n",
      "dtype: float64\n",
      "a   NaN\n",
      "b   NaN\n",
      "c   NaN\n",
      "d   NaN\n",
      "e   NaN\n",
      "f   NaN\n",
      "g   NaN\n",
      "h   NaN\n",
      "dtype: float64\n"
     ]
    }
   ],
   "source": [
    "# 按照索引的运算\n",
    "import pandas as pd\n",
    "a = pd.Series([9.1, 9.5, 10.0, 11.2], index=['a', 'b', 'c', 'd'], name='t1')\n",
    "b = pd.Series([9.1, 9.5, 10.0, 11.2], index=['b', 'a', 'c', 'd'], name='t2')\n",
    "print(b - a)\n",
    "import pandas as pd\n",
    "a = pd.Series([9.1, 9.5, 10.0, 11.2], index=['a', 'b', 'c', 'd'], name='t1')\n",
    "b = pd.Series([9.1, 9.5, 10.0, 11.2], index=['b', 'c', 'd', 'e'], name='t2')\n",
    "print(b - a)\n",
    "import pandas as pd\n",
    "a = pd.Series([9.1, 9.5, 10.0, 11.2], index=['a', 'b', 'c', 'd'], name='t1')\n",
    "b = pd.Series([9.1, 9.5, 10.0, 11.2], index=['e', 'f', 'g', 'h'], name='t2')\n",
    "print(b - a)"
   ]
  },
  {
   "cell_type": "markdown",
   "metadata": {
    "id": "B943A1A8EBC84C0284C058A21E2EED54",
    "jupyter": {},
    "mdEditEnable": false,
    "notebookId": "635e2ef48b3f3b93635b4b9c",
    "scrolled": false,
    "slideshow": {
     "slide_type": "slide"
    },
    "tags": []
   },
   "source": [
    "### 4.2.4  pd.Series对象的常用属性"
   ]
  },
  {
   "cell_type": "code",
   "execution_count": 6,
   "metadata": {
    "id": "4D9F43EF5EA547A08CFE407941C577C3",
    "jupyter": {},
    "notebookId": "635e2ef48b3f3b93635b4b9c",
    "scrolled": false,
    "slideshow": {
     "slide_type": "slide"
    },
    "tags": [],
    "ExecuteTime": {
     "start_time": "2024-06-29T21:16:51.705418Z",
     "end_time": "2024-06-29T21:16:51.736313Z"
    }
   },
   "outputs": [
    {
     "name": "stdout",
     "output_type": "stream",
     "text": [
      "float64\n"
     ]
    }
   ],
   "source": [
    "# 序列的数据类型\n",
    "import pandas as pd\n",
    "a = pd.Series([9.1, 9.5, 10.0, 11.2], index=['a', 'b', 'c', 'd'], name='t')\n",
    "print(a.dtype)"
   ]
  },
  {
   "cell_type": "code",
   "execution_count": 121,
   "metadata": {
    "id": "A5B61F67B94548E99228D8B9A8E5E2D4",
    "jupyter": {},
    "notebookId": "635e2ef48b3f3b93635b4b9c",
    "scrolled": false,
    "slideshow": {
     "slide_type": "slide"
    },
    "tags": []
   },
   "outputs": [
    {
     "name": "stdout",
     "output_type": "stream",
     "text": [
      "1\n"
     ]
    }
   ],
   "source": [
    "# 序列的数据维度\n",
    "import pandas as pd\n",
    "a = pd.Series([9.1, 9.5, 10.0, 11.2], index=['a', 'b', 'c', 'd'], name='t')\n",
    "print(a.ndim)"
   ]
  },
  {
   "cell_type": "code",
   "execution_count": 122,
   "metadata": {
    "id": "64A8566B29AE47E4AE4F93B65FEC807C",
    "jupyter": {},
    "notebookId": "635e2ef48b3f3b93635b4b9c",
    "scrolled": false,
    "slideshow": {
     "slide_type": "slide"
    },
    "tags": []
   },
   "outputs": [
    {
     "name": "stdout",
     "output_type": "stream",
     "text": [
      "(4,)\n"
     ]
    }
   ],
   "source": [
    "# 序列的数据形状\n",
    "import pandas as pd\n",
    "a = pd.Series([9.1, 9.5, 10.0, 11.2], index=['a', 'b', 'c', 'd'], name='t')\n",
    "print(a.shape)"
   ]
  },
  {
   "cell_type": "code",
   "execution_count": 7,
   "metadata": {
    "id": "11D62BC86FCF48A487C019AFDAE45407",
    "jupyter": {},
    "notebookId": "635e2ef48b3f3b93635b4b9c",
    "scrolled": false,
    "slideshow": {
     "slide_type": "slide"
    },
    "tags": [],
    "ExecuteTime": {
     "start_time": "2024-06-29T21:17:37.588311Z",
     "end_time": "2024-06-29T21:17:37.616214Z"
    }
   },
   "outputs": [
    {
     "name": "stdout",
     "output_type": "stream",
     "text": [
      "9.1\n"
     ]
    }
   ],
   "source": [
    "# 通过标签索引访问单个元素\n",
    "import pandas as pd\n",
    "a = pd.Series([9.1, 9.5, 10.0, 11.2], index=['a', 'b', 'c', 'd'], name='t')\n",
    "print(a.at['a'])"
   ]
  },
  {
   "cell_type": "code",
   "execution_count": 124,
   "metadata": {
    "id": "2E4629150BCA4C4AA2228710A58A5C03",
    "jupyter": {},
    "notebookId": "635e2ef48b3f3b93635b4b9c",
    "scrolled": false,
    "slideshow": {
     "slide_type": "slide"
    },
    "tags": []
   },
   "outputs": [
    {
     "name": "stdout",
     "output_type": "stream",
     "text": [
      "9.1\n"
     ]
    }
   ],
   "source": [
    "# 通过位置数值索引访问单个元素\n",
    "import pandas as pd\n",
    "a = pd.Series([9.1, 9.5, 10.0, 11.2], index=['a', 'b', 'c', 'd'], name='t')\n",
    "print(a.iat[0])"
   ]
  },
  {
   "cell_type": "code",
   "execution_count": 8,
   "metadata": {
    "id": "21E7204BA35A49F48B52CBFFF10BEA0E",
    "jupyter": {},
    "notebookId": "635e2ef48b3f3b93635b4b9c",
    "scrolled": false,
    "slideshow": {
     "slide_type": "slide"
    },
    "tags": [],
    "ExecuteTime": {
     "start_time": "2024-06-29T21:18:22.004508Z",
     "end_time": "2024-06-29T21:18:22.032753Z"
    }
   },
   "outputs": [
    {
     "name": "stdout",
     "output_type": "stream",
     "text": [
      "9.1\n",
      "----------\n",
      "a    9.1\n",
      "b    9.5\n",
      "Name: t, dtype: float64\n"
     ]
    }
   ],
   "source": [
    "# 通过标签列访问多个元素\n",
    "import pandas as pd\n",
    "a = pd.Series([9.1, 9.5, 10.0, 11.2], index=['a', 'b', 'c', 'd'], name='t')\n",
    "print(a.loc['a'])\n",
    "print('----------')\n",
    "print(a.loc[['a', 'b']])"
   ]
  },
  {
   "cell_type": "code",
   "execution_count": 126,
   "metadata": {
    "id": "65A45E59744544738C72A8B74CAA4DE9",
    "jupyter": {},
    "notebookId": "635e2ef48b3f3b93635b4b9c",
    "scrolled": false,
    "slideshow": {
     "slide_type": "slide"
    },
    "tags": []
   },
   "outputs": [
    {
     "name": "stdout",
     "output_type": "stream",
     "text": [
      "a     9.1\n",
      "c    10.0\n",
      "Name: t, dtype: float64\n"
     ]
    }
   ],
   "source": [
    "# 通过布尔序列列访问多个元素\n",
    "import pandas as pd\n",
    "a = pd.Series([9.1, 9.5, 10.0, 11.2], index=['a', 'b', 'c', 'd'], name='t')\n",
    "print(a.loc[[True, False, True, False]])"
   ]
  },
  {
   "cell_type": "code",
   "execution_count": 127,
   "metadata": {
    "id": "DB3A0087E99A4C1FA57B034F5B294867",
    "jupyter": {},
    "notebookId": "635e2ef48b3f3b93635b4b9c",
    "scrolled": false,
    "slideshow": {
     "slide_type": "slide"
    },
    "tags": []
   },
   "outputs": [
    {
     "name": "stdout",
     "output_type": "stream",
     "text": [
      "9.1\n",
      "----------\n",
      "a    9.1\n",
      "b    9.5\n",
      "Name: t, dtype: float64\n"
     ]
    }
   ],
   "source": [
    "# 通过位置访问多个元素\n",
    "import pandas as pd\n",
    "a = pd.Series([9.1, 9.5, 10.0, 11.2], index=['a', 'b', 'c', 'd'], name='t')\n",
    "print(a.iloc[0])\n",
    "print('----------')\n",
    "print(a.iloc[[0, 1]])"
   ]
  },
  {
   "cell_type": "code",
   "execution_count": 9,
   "metadata": {
    "id": "AD4C9429063C497D8502678F321A26AF",
    "jupyter": {},
    "notebookId": "635e2ef48b3f3b93635b4b9c",
    "scrolled": false,
    "slideshow": {
     "slide_type": "slide"
    },
    "tags": [],
    "ExecuteTime": {
     "start_time": "2024-06-29T21:21:38.791522Z",
     "end_time": "2024-06-29T21:21:38.823587Z"
    }
   },
   "outputs": [
    {
     "name": "stdout",
     "output_type": "stream",
     "text": [
      "[ 9.1  9.5 10.  11.2]\n",
      "<class 'numpy.ndarray'>\n"
     ]
    }
   ],
   "source": [
    "# 获取数据的原始np.ndarray对象\n",
    "import pandas as pd\n",
    "a = pd.Series([9.1, 9.5, 10.0, 11.2], index=['a', 'b', 'c', 'd'], name='t')\n",
    "b = a.values\n",
    "print(b)\n",
    "print(type(b))"
   ]
  },
  {
   "cell_type": "markdown",
   "metadata": {
    "id": "619316DCB3AB49628A6822D459822CDD",
    "jupyter": {},
    "mdEditEnable": false,
    "notebookId": "635e2ef48b3f3b93635b4b9c",
    "scrolled": false,
    "slideshow": {
     "slide_type": "slide"
    },
    "tags": []
   },
   "source": [
    "### 4.2.5  pd.Series对象的常用方法"
   ]
  },
  {
   "cell_type": "code",
   "execution_count": 129,
   "metadata": {
    "id": "E03188C67276469E803105BB85396815",
    "jupyter": {},
    "notebookId": "635e2ef48b3f3b93635b4b9c",
    "scrolled": false,
    "slideshow": {
     "slide_type": "slide"
    },
    "tags": []
   },
   "outputs": [
    {
     "name": "stdout",
     "output_type": "stream",
     "text": [
      "a     9.1\n",
      "b     NaN\n",
      "c    10.0\n",
      "d    11.2\n",
      "Name: t, dtype: float64\n",
      "a     9.1\n",
      "c    10.0\n",
      "d    11.2\n",
      "Name: t, dtype: float64\n"
     ]
    }
   ],
   "source": [
    "# 删除缺测值NaN\n",
    "import numpy as np\n",
    "import pandas as pd\n",
    "a = pd.Series([9.1, np.nan, 10.0, 11.2], index=['a', 'b', 'c', 'd'], name='t')\n",
    "print(a)\n",
    "b = a.dropna()\n",
    "print(b)"
   ]
  },
  {
   "cell_type": "code",
   "execution_count": 130,
   "metadata": {
    "id": "3C228393540E498695361C915410F5F4",
    "jupyter": {},
    "notebookId": "635e2ef48b3f3b93635b4b9c",
    "scrolled": false,
    "slideshow": {
     "slide_type": "slide"
    },
    "tags": []
   },
   "outputs": [
    {
     "name": "stdout",
     "output_type": "stream",
     "text": [
      "sta1     9.55\n",
      "sta2    10.35\n",
      "Name: t, dtype: float64\n"
     ]
    }
   ],
   "source": [
    "# 根据站号索引分组计算平均值\n",
    "import pandas as pd\n",
    "a = pd.Series([9.1, 9.5, 10.0, 11.2],\n",
    "            index=['sta1', 'sta2', 'sta1', 'sta2'], \n",
    "            name='t')\n",
    "b = a.groupby(level=0).mean()\n",
    "print(b)"
   ]
  },
  {
   "cell_type": "code",
   "execution_count": 131,
   "metadata": {
    "id": "3ACAB5D84BE34AAD8C180087C5A6E2BB",
    "jupyter": {},
    "notebookId": "635e2ef48b3f3b93635b4b9c",
    "scrolled": false,
    "slideshow": {
     "slide_type": "slide"
    },
    "tags": []
   },
   "outputs": [
    {
     "name": "stdout",
     "output_type": "stream",
     "text": [
      "t\n",
      "False     9.3\n",
      "True     10.6\n",
      "Name: t, dtype: float64\n"
     ]
    }
   ],
   "source": [
    "# 根据阈值分组计算平均值\n",
    "import pandas as pd\n",
    "a = pd.Series([9.1, 9.5, 10.0, 11.2],\n",
    "            index=['a', 'b', 'c', 'd'], \n",
    "            name='t')\n",
    "b = a.groupby(a>9.9).mean()\n",
    "print(b)"
   ]
  },
  {
   "cell_type": "code",
   "execution_count": 132,
   "metadata": {
    "id": "5D28AD3408B74455852B4B3623F3B8DE",
    "jupyter": {},
    "notebookId": "635e2ef48b3f3b93635b4b9c",
    "scrolled": false,
    "slideshow": {
     "slide_type": "slide"
    },
    "tags": []
   },
   "outputs": [
    {
     "name": "stdout",
     "output_type": "stream",
     "text": [
      "a    4.1\n",
      "b    4.5\n",
      "c    5.0\n",
      "d    6.2\n",
      "Name: t, dtype: float64\n"
     ]
    }
   ],
   "source": [
    "# 按规则映射元素\n",
    "import pandas as pd\n",
    "a = pd.Series([9.1, 9.5, 10.0, 11.2],\n",
    "            index=['a', 'b', 'c', 'd'], \n",
    "            name='t')\n",
    "b = a.map(lambda x: x - 5)\n",
    "print(b)"
   ]
  },
  {
   "cell_type": "code",
   "execution_count": 133,
   "metadata": {
    "id": "FE7565CB6796458FADDCD2FE2FF55D63",
    "jupyter": {},
    "notebookId": "635e2ef48b3f3b93635b4b9c",
    "scrolled": false,
    "slideshow": {
     "slide_type": "slide"
    },
    "tags": []
   },
   "outputs": [
    {
     "name": "stdout",
     "output_type": "stream",
     "text": [
      "a     8.0\n",
      "b     9.0\n",
      "c    10.0\n",
      "d    11.0\n",
      "Name: t, dtype: float64\n"
     ]
    }
   ],
   "source": [
    "# 线性插值填充NaN\n",
    "import numpy as np\n",
    "import pandas as pd\n",
    "a = pd.Series([8.0, np.nan, 10.0, 11.0], \n",
    "            index=['a', 'b', 'c', 'd'], \n",
    "            name='t')\n",
    "b = a.interpolate(method='linear')\n",
    "print(b)"
   ]
  },
  {
   "cell_type": "code",
   "execution_count": 134,
   "metadata": {
    "id": "0C73989E3530404985311D0541A994D8",
    "jupyter": {},
    "notebookId": "635e2ef48b3f3b93635b4b9c",
    "scrolled": false,
    "slideshow": {
     "slide_type": "slide"
    },
    "tags": []
   },
   "outputs": [
    {
     "name": "stdout",
     "output_type": "stream",
     "text": [
      "a      8.0\n",
      "b    999.0\n",
      "c     10.0\n",
      "d     11.0\n",
      "Name: t, dtype: float64\n"
     ]
    }
   ],
   "source": [
    "# 指定值填充NaN\n",
    "import numpy as np\n",
    "import pandas as pd\n",
    "a = pd.Series([8.0, np.nan, 10.0, 11.0], \n",
    "            index=['a', 'b', 'c', 'd'], \n",
    "            name='t')\n",
    "b = a.fillna(value=999)\n",
    "print(b)"
   ]
  },
  {
   "cell_type": "code",
   "execution_count": 135,
   "metadata": {
    "id": "13131E2111084E018A08A30FDCA11E5B",
    "jupyter": {},
    "notebookId": "635e2ef48b3f3b93635b4b9c",
    "scrolled": false,
    "slideshow": {
     "slide_type": "slide"
    },
    "tags": []
   },
   "outputs": [
    {
     "name": "stdout",
     "output_type": "stream",
     "text": [
      "a     8.0\n",
      "b    10.0\n",
      "c    10.0\n",
      "d    11.0\n",
      "Name: t, dtype: float64\n",
      "a     8.0\n",
      "b     8.0\n",
      "c    10.0\n",
      "d    11.0\n",
      "Name: t, dtype: float64\n"
     ]
    }
   ],
   "source": [
    "# 利用相邻值填充NaN\n",
    "import numpy as np\n",
    "import pandas as pd\n",
    "a = pd.Series([8.0, np.nan, 10.0, 11.0], \n",
    "            index=['a', 'b', 'c', 'd'], \n",
    "            name='t')\n",
    "b = a.fillna(method='bfill')\n",
    "print(b)\n",
    "b = a.fillna(method='ffill')\n",
    "print(b)"
   ]
  },
  {
   "cell_type": "code",
   "execution_count": 136,
   "metadata": {
    "id": "CE53969B6B8D4F6186D62BA7DD0F0187",
    "jupyter": {},
    "notebookId": "635e2ef48b3f3b93635b4b9c",
    "scrolled": false,
    "slideshow": {
     "slide_type": "slide"
    },
    "tags": []
   },
   "outputs": [
    {
     "name": "stdout",
     "output_type": "stream",
     "text": [
      "2020-02-19     9.5\n",
      "2020-02-21    10.0\n",
      "2020-02-23    11.2\n",
      "Freq: 2D, Name: t, dtype: float64\n"
     ]
    }
   ],
   "source": [
    "# 降采样\n",
    "import pandas as pd\n",
    "a = pd.Series([9.1, 9.5, 10.0, 11.2], \n",
    "            index=pd.to_datetime(['2020-02-19', '2020-02-20', \n",
    "                              '2020-02-22', '2020-02-23']), \n",
    "            name='t')\n",
    "print(a.resample('2D').max())"
   ]
  },
  {
   "cell_type": "code",
   "execution_count": 137,
   "metadata": {
    "id": "DF7C3D083EA740A188F45340505D5934",
    "jupyter": {},
    "notebookId": "635e2ef48b3f3b93635b4b9c",
    "scrolled": false,
    "slideshow": {
     "slide_type": "slide"
    },
    "tags": []
   },
   "outputs": [
    {
     "name": "stdout",
     "output_type": "stream",
     "text": [
      "2020-02-19     9.1\n",
      "2020-02-20     9.5\n",
      "2020-02-21     NaN\n",
      "2020-02-22    10.0\n",
      "2020-02-23    11.2\n",
      "Freq: D, Name: t, dtype: float64\n",
      "2020-02-19     9.1\n",
      "2020-02-20     9.5\n",
      "2020-02-21    10.0\n",
      "2020-02-22    10.0\n",
      "2020-02-23    11.2\n",
      "Freq: D, Name: t, dtype: float64\n"
     ]
    }
   ],
   "source": [
    "# 升采样\n",
    "import pandas as pd\n",
    "a = pd.Series([9.1, 9.5, 10.0, 11.2], \n",
    "            index=pd.to_datetime(['2020-02-19', '2020-02-20', \n",
    "                              '2020-02-22', '2020-02-23']), \n",
    "            name='t')\n",
    "print(a.resample('1D').asfreq())\n",
    "print(a.resample('1D').bfill())"
   ]
  },
  {
   "cell_type": "code",
   "execution_count": 138,
   "metadata": {
    "id": "48A623A4A453485BB87B341E9AA131DD",
    "jupyter": {},
    "notebookId": "635e2ef48b3f3b93635b4b9c",
    "scrolled": false,
    "slideshow": {
     "slide_type": "slide"
    },
    "tags": []
   },
   "outputs": [
    {
     "name": "stdout",
     "output_type": "stream",
     "text": [
      "a     9.1\n",
      "b     9.5\n",
      "c    10.0\n",
      "d    11.2\n",
      "Name: t, dtype: float64\n",
      "d    11.2\n",
      "b     9.5\n",
      "a     9.1\n",
      "c    10.0\n",
      "Name: t, dtype: float64\n"
     ]
    }
   ],
   "source": [
    "# 按照指定顺序排序\n",
    "import pandas as pd\n",
    "a = pd.Series([9.1, 9.5, 10.0, 11.2],\n",
    "            index=['a', 'b', 'c', 'd'], \n",
    "            name='t')\n",
    "print(a)\n",
    "b = a.reindex(['d', 'b', 'a', 'c'])\n",
    "print(b)"
   ]
  },
  {
   "cell_type": "code",
   "execution_count": 139,
   "metadata": {
    "id": "9138C788DED144839C3D00A61FBE16CF",
    "jupyter": {},
    "notebookId": "635e2ef48b3f3b93635b4b9c",
    "scrolled": false,
    "slideshow": {
     "slide_type": "slide"
    },
    "tags": []
   },
   "outputs": [
    {
     "name": "stdout",
     "output_type": "stream",
     "text": [
      "a     9.1\n",
      "b     9.5\n",
      "c    10.0\n",
      "d    11.2\n",
      "Name: t1, dtype: float64\n",
      "b     9.5\n",
      "d    11.2\n",
      "a     9.1\n",
      "d    11.2\n",
      "Name: t1, dtype: float64\n"
     ]
    }
   ],
   "source": [
    "# 使用reindex_like()可以用一个序列的索引来对另一个序列进行排序\n",
    "import pandas as pd\n",
    "a = pd.Series([9.1, 9.5, 10.0, 11.2],\n",
    "            index=['a', 'b', 'c', 'd'], \n",
    "            name='t1')\n",
    "b = pd.Series([0, 0, 0, 0],\n",
    "            index=['b', 'd', 'a', 'd'], \n",
    "            name='t2')\n",
    "print(a)\n",
    "c = a.reindex_like(b)\n",
    "print(c)"
   ]
  },
  {
   "cell_type": "code",
   "execution_count": 140,
   "metadata": {
    "id": "EF9BF3270F044952834F526AA18EE9A0",
    "jupyter": {},
    "notebookId": "635e2ef48b3f3b93635b4b9c",
    "scrolled": false,
    "slideshow": {
     "slide_type": "slide"
    },
    "tags": []
   },
   "outputs": [
    {
     "name": "stdout",
     "output_type": "stream",
     "text": [
      "a     9.1\n",
      "b     9.5\n",
      "c    10.0\n",
      "d    11.2\n",
      "Name: t, dtype: float64\n"
     ]
    }
   ],
   "source": [
    "# 重命名序列\n",
    "import pandas as pd\n",
    "a = pd.Series([9.1, 9.5, 10.0, 11.2],\n",
    "            index=['a', 'b', 'c', 'd'], \n",
    "            name='hello')\n",
    "b = a.rename('t')\n",
    "print(b)"
   ]
  },
  {
   "cell_type": "code",
   "execution_count": 141,
   "metadata": {
    "id": "C8CF26FB160746208610705A40B4F66F",
    "jupyter": {},
    "notebookId": "635e2ef48b3f3b93635b4b9c",
    "scrolled": false,
    "slideshow": {
     "slide_type": "slide"
    },
    "tags": []
   },
   "outputs": [
    {
     "name": "stdout",
     "output_type": "stream",
     "text": [
      "0          NaN\n",
      "1          NaN\n",
      "2     9.533333\n",
      "3    10.233333\n",
      "4    11.100000\n",
      "5    12.300000\n",
      "6    13.400000\n",
      "7    12.733333\n",
      "Name: t, dtype: float64\n"
     ]
    }
   ],
   "source": [
    "# 滑动窗口计算\n",
    "import pandas as pd\n",
    "a = pd.Series([9.1, 9.5, 10.0, 11.2, 12.1, 13.6, 14.5, 10.1],\n",
    "            name='t')\n",
    "b = a.rolling(3).mean()\n",
    "print(b)"
   ]
  },
  {
   "cell_type": "code",
   "execution_count": 142,
   "metadata": {
    "id": "4546A9F20BA143798F1622A9138CF20E",
    "jupyter": {},
    "notebookId": "635e2ef48b3f3b93635b4b9c",
    "scrolled": false,
    "slideshow": {
     "slide_type": "slide"
    },
    "tags": []
   },
   "outputs": [
    {
     "name": "stdout",
     "output_type": "stream",
     "text": [
      "0          NaN\n",
      "1     9.533333\n",
      "2    10.233333\n",
      "3    11.100000\n",
      "4    12.300000\n",
      "5    13.400000\n",
      "6    12.733333\n",
      "7          NaN\n",
      "Name: t, dtype: float64\n"
     ]
    }
   ],
   "source": [
    "# 中央平均的滑动窗口计算\n",
    "import pandas as pd\n",
    "a = pd.Series([9.1, 9.5, 10.0, 11.2, 12.1, 13.6, 14.5, 10.1],\n",
    "            name='t')\n",
    "b = a.rolling(3, center=True).mean()\n",
    "print(b)"
   ]
  },
  {
   "cell_type": "code",
   "execution_count": 143,
   "metadata": {
    "id": "46164FCAA641458C86DDA4441C39797A",
    "jupyter": {},
    "notebookId": "635e2ef48b3f3b93635b4b9c",
    "scrolled": false,
    "slideshow": {
     "slide_type": "slide"
    },
    "tags": []
   },
   "outputs": [
    {
     "name": "stdout",
     "output_type": "stream",
     "text": [
      "a     9.1\n",
      "b     9.5\n",
      "c    10.0\n",
      "d    11.2\n",
      "Name: t, dtype: float64\n",
      "a    NaN\n",
      "b    NaN\n",
      "c    NaN\n",
      "d    9.1\n",
      "Name: t, dtype: float64\n"
     ]
    }
   ],
   "source": [
    "# 平移数据\n",
    "import pandas as pd\n",
    "a = pd.Series([9.1, 9.5, 10.0, 11.2],\n",
    "            index=['a', 'b', 'c', 'd'], \n",
    "            name='t')\n",
    "print(a)\n",
    "b = a.shift(3)\n",
    "print(b)"
   ]
  },
  {
   "cell_type": "code",
   "execution_count": 144,
   "metadata": {
    "id": "630A97073E73487E8A0252D69E978501",
    "jupyter": {},
    "notebookId": "635e2ef48b3f3b93635b4b9c",
    "scrolled": false,
    "slideshow": {
     "slide_type": "slide"
    },
    "tags": []
   },
   "outputs": [
    {
     "name": "stdout",
     "output_type": "stream",
     "text": [
      "b     9.1\n",
      "d     9.5\n",
      "c    10.0\n",
      "a    11.2\n",
      "Name: t, dtype: float64\n",
      "a    11.2\n",
      "b     9.1\n",
      "c    10.0\n",
      "d     9.5\n",
      "Name: t, dtype: float64\n",
      "d     9.5\n",
      "c    10.0\n",
      "b     9.1\n",
      "a    11.2\n",
      "Name: t, dtype: float64\n"
     ]
    }
   ],
   "source": [
    "# 按照索引排序\n",
    "import pandas as pd\n",
    "a = pd.Series([9.1, 9.5, 10.0, 11.2],\n",
    "            index=['b', 'd', 'c', 'a'], \n",
    "            name='t')\n",
    "print(a)\n",
    "b = a.sort_index()\n",
    "print(b)\n",
    "c = a.sort_index(ascending=False)\n",
    "print(c)"
   ]
  },
  {
   "cell_type": "code",
   "execution_count": 145,
   "metadata": {
    "id": "E3A19324F7014927B28D0F1816322E04",
    "jupyter": {},
    "notebookId": "635e2ef48b3f3b93635b4b9c",
    "scrolled": false,
    "slideshow": {
     "slide_type": "slide"
    },
    "tags": []
   },
   "outputs": [
    {
     "name": "stdout",
     "output_type": "stream",
     "text": [
      "a     9.5\n",
      "b     9.1\n",
      "c    11.2\n",
      "d    10.0\n",
      "Name: t, dtype: float64\n",
      "b     9.1\n",
      "a     9.5\n",
      "d    10.0\n",
      "c    11.2\n",
      "Name: t, dtype: float64\n",
      "c    11.2\n",
      "d    10.0\n",
      "a     9.5\n",
      "b     9.1\n",
      "Name: t, dtype: float64\n"
     ]
    }
   ],
   "source": [
    "# 按照数据排序\n",
    "import pandas as pd\n",
    "a = pd.Series([9.5, 9.1, 11.2, 10.0],\n",
    "            index=['a', 'b', 'c', 'd'], \n",
    "            name='t')\n",
    "print(a)\n",
    "b = a.sort_values()\n",
    "print(b)\n",
    "c = a.sort_values(ascending=False)\n",
    "print(c)"
   ]
  },
  {
   "cell_type": "code",
   "execution_count": 146,
   "metadata": {
    "id": "40F51131DF0349278D3FDA38F09D81A8",
    "jupyter": {},
    "notebookId": "635e2ef48b3f3b93635b4b9c",
    "scrolled": false,
    "slideshow": {
     "slide_type": "slide"
    },
    "tags": []
   },
   "outputs": [
    {
     "name": "stdout",
     "output_type": "stream",
     "text": [
      "11.2\n",
      "9.5\n"
     ]
    }
   ],
   "source": [
    "# 获取最大值/最小值\n",
    "import numpy as np\n",
    "import pandas as pd\n",
    "a = pd.Series([9.5, np.nan, 11.2, 10.0],\n",
    "            index=['a', 'b', 'c', 'd'], \n",
    "            name='t')\n",
    "print(a.max())\n",
    "print(a.min())"
   ]
  },
  {
   "cell_type": "code",
   "execution_count": 147,
   "metadata": {
    "id": "D74401B5FDA24196824E07800B2B6575",
    "jupyter": {},
    "notebookId": "635e2ef48b3f3b93635b4b9c",
    "scrolled": false,
    "slideshow": {
     "slide_type": "slide"
    },
    "tags": []
   },
   "outputs": [
    {
     "name": "stdout",
     "output_type": "stream",
     "text": [
      "2\n",
      "0\n"
     ]
    }
   ],
   "source": [
    "# 获取最大值/最小值对应的位置\n",
    "import numpy as np\n",
    "import pandas as pd\n",
    "a = pd.Series([9.5, np.nan, 11.2, 10.0],\n",
    "            index=['a', 'b', 'c', 'd'], \n",
    "            name='t')\n",
    "print(a.argmax())\n",
    "print(a.argmin())"
   ]
  },
  {
   "cell_type": "code",
   "execution_count": 148,
   "metadata": {
    "id": "7F19EDF42D9A4E0D846DB3297149942D",
    "jupyter": {},
    "notebookId": "635e2ef48b3f3b93635b4b9c",
    "scrolled": false,
    "slideshow": {
     "slide_type": "slide"
    },
    "tags": []
   },
   "outputs": [
    {
     "name": "stdout",
     "output_type": "stream",
     "text": [
      "c\n",
      "a\n"
     ]
    }
   ],
   "source": [
    "# 获取最大值/最小值对应的标签索引\n",
    "import numpy as np\n",
    "import pandas as pd\n",
    "a = pd.Series([9.5, np.nan, 11.2, 10.0],\n",
    "            index=['a', 'b', 'c', 'd'], \n",
    "            name='t')\n",
    "print(a.idxmax())\n",
    "print(a.idxmin())"
   ]
  },
  {
   "cell_type": "code",
   "execution_count": 149,
   "metadata": {
    "id": "4E9F886D470F47C4A5E180E91B5ED0E5",
    "jupyter": {},
    "notebookId": "635e2ef48b3f3b93635b4b9c",
    "scrolled": false,
    "slideshow": {
     "slide_type": "slide"
    },
    "tags": []
   },
   "outputs": [
    {
     "name": "stdout",
     "output_type": "stream",
     "text": [
      "0.87368949480541\n",
      "0.7633333333333326\n"
     ]
    }
   ],
   "source": [
    "# 计算标准差/无偏方差\n",
    "import numpy as np\n",
    "import pandas as pd\n",
    "a = pd.Series([9.5, np.nan, 11.2, 10.0],\n",
    "            index=['a', 'b', 'c', 'd'], \n",
    "            name='t')\n",
    "print(a.std())\n",
    "print(a.var())"
   ]
  },
  {
   "cell_type": "code",
   "execution_count": 150,
   "metadata": {
    "id": "B89F631011E74ACCA7094D6114DE7ECB",
    "jupyter": {},
    "notebookId": "635e2ef48b3f3b93635b4b9c",
    "scrolled": false,
    "slideshow": {
     "slide_type": "slide"
    },
    "tags": []
   },
   "outputs": [
    {
     "name": "stdout",
     "output_type": "stream",
     "text": [
      "1.046666666666666\n"
     ]
    }
   ],
   "source": [
    "# 计算协方差\n",
    "import pandas as pd\n",
    "a = pd.Series([9.5, 10.1, 11.2, 10.0],\n",
    "            index=['a', 'b', 'c', 'd'], \n",
    "            name='t1')\n",
    "b = pd.Series([8.5, 9.1, 12.1, 10.5],\n",
    "            index=['a', 'b', 'c', 'd'], \n",
    "            name='t2')\n",
    "print(a.cov(b))"
   ]
  },
  {
   "cell_type": "code",
   "execution_count": 151,
   "metadata": {
    "id": "BA7C5CBFD48047668595DD412E0EA2D8",
    "jupyter": {},
    "notebookId": "635e2ef48b3f3b93635b4b9c",
    "scrolled": false,
    "slideshow": {
     "slide_type": "slide"
    },
    "tags": []
   },
   "outputs": [
    {
     "name": "stdout",
     "output_type": "stream",
     "text": [
      "40.8\n",
      "10.2\n"
     ]
    }
   ],
   "source": [
    "# 序列求和/求均值\n",
    "import pandas as pd\n",
    "a = pd.Series([9.5, 10.1, 11.2, 10.0],\n",
    "            index=['a', 'b', 'c', 'd'], \n",
    "            name='t')\n",
    "print(a.sum())\n",
    "print(a.mean())"
   ]
  },
  {
   "cell_type": "code",
   "execution_count": 152,
   "metadata": {
    "id": "37EBC6705C1F43DE85C7E6AC9A491395",
    "jupyter": {},
    "notebookId": "635e2ef48b3f3b93635b4b9c",
    "scrolled": false,
    "slideshow": {
     "slide_type": "slide"
    },
    "tags": []
   },
   "outputs": [
    {
     "name": "stdout",
     "output_type": "stream",
     "text": [
      "a     9.5\n",
      "b    10.1\n",
      "c    11.2\n",
      "d    10.0\n",
      "Name: t, dtype: float64\n"
     ]
    }
   ],
   "source": [
    "# 计算绝对值\n",
    "import pandas as pd\n",
    "a = pd.Series([-9.5, 10.1, -11.2, 10.0],\n",
    "            index=['a', 'b', 'c', 'd'], \n",
    "            name='t')\n",
    "print(a.abs())"
   ]
  },
  {
   "cell_type": "code",
   "execution_count": 153,
   "metadata": {
    "id": "8CCA6658C6CC48478A1182A5543825CB",
    "jupyter": {},
    "notebookId": "635e2ef48b3f3b93635b4b9c",
    "scrolled": false,
    "slideshow": {
     "slide_type": "slide"
    },
    "tags": []
   },
   "outputs": [],
   "source": [
    "# 保存为CSV文件\n",
    "import pandas as pd\n",
    "a = pd.Series([-9.5, 10.1, -11.2, 10.0],\n",
    "            index=['a', 'b', 'c', 'd'], \n",
    "            name='t')\n",
    "a.to_csv('series_with_index.csv')"
   ]
  },
  {
   "cell_type": "code",
   "execution_count": 154,
   "metadata": {
    "id": "BEB4D20648284A128A12540232449CCD",
    "jupyter": {},
    "notebookId": "635e2ef48b3f3b93635b4b9c",
    "scrolled": false,
    "slideshow": {
     "slide_type": "slide"
    },
    "tags": []
   },
   "outputs": [],
   "source": [
    "# 忽略元素名字和索引，只保存数据\n",
    "import pandas as pd\n",
    "a = pd.Series([-9.5, 10.1, -11.2, 10.0],\n",
    "            index=['a', 'b', 'c', 'd'], \n",
    "            name='t')\n",
    "a.to_csv('series_no_index.csv', index=False, header=False)"
   ]
  },
  {
   "cell_type": "code",
   "execution_count": 155,
   "metadata": {
    "id": "6A7945849FA1413F8E4D1C5FA56AD840",
    "jupyter": {},
    "notebookId": "635e2ef48b3f3b93635b4b9c",
    "scrolled": false,
    "slideshow": {
     "slide_type": "slide"
    },
    "tags": []
   },
   "outputs": [
    {
     "name": "stdout",
     "output_type": "stream",
     "text": [
      "[-9.5, 10.1, -11.2, 10.0]\n",
      "<class 'list'>\n"
     ]
    }
   ],
   "source": [
    "# 转换为列表对象\n",
    "import pandas as pd\n",
    "a = pd.Series([-9.5, 10.1, -11.2, 10.0],\n",
    "            index=['a', 'b', 'c', 'd'], \n",
    "            name='t')\n",
    "b = a.to_list()\n",
    "print(b)\n",
    "print(type(b))"
   ]
  },
  {
   "cell_type": "code",
   "execution_count": 10,
   "metadata": {
    "id": "AC9DAF4F6B2346D596EC562ABAAC8BDC",
    "jupyter": {},
    "notebookId": "635e2ef48b3f3b93635b4b9c",
    "scrolled": false,
    "slideshow": {
     "slide_type": "slide"
    },
    "tags": [],
    "ExecuteTime": {
     "start_time": "2024-06-29T21:51:18.741374Z",
     "end_time": "2024-06-29T21:51:18.769369Z"
    }
   },
   "outputs": [
    {
     "name": "stdout",
     "output_type": "stream",
     "text": [
      "a    -9.5\n",
      "b    10.1\n",
      "c   -11.2\n",
      "d    10.0\n",
      "Name: t, dtype: float64\n",
      "a    -9\n",
      "b    10\n",
      "c   -11\n",
      "d    10\n",
      "Name: t, dtype: int32\n"
     ]
    }
   ],
   "source": [
    "# 转换数据类型\n",
    "import numpy\n",
    "import pandas as pd\n",
    "a = pd.Series([-9.5, 10.1, -11.2, 10.0],\n",
    "            index=['a', 'b', 'c', 'd'], \n",
    "            name='t')\n",
    "print(a)\n",
    "b = a.astype(np.int32)\n",
    "print(b)"
   ]
  },
  {
   "cell_type": "markdown",
   "metadata": {
    "id": "D7D73155A2C643A298D1A24E491E06E7",
    "jupyter": {},
    "mdEditEnable": false,
    "notebookId": "635e2ef48b3f3b93635b4b9c",
    "scrolled": false,
    "slideshow": {
     "slide_type": "slide"
    },
    "tags": []
   },
   "source": [
    "## 4.3 pd.DataFrame——数据框"
   ]
  },
  {
   "cell_type": "markdown",
   "metadata": {
    "id": "3742504B55ED49B18959B1FB17089AB8",
    "jupyter": {},
    "mdEditEnable": false,
    "notebookId": "635e2ef48b3f3b93635b4b9c",
    "scrolled": false,
    "slideshow": {
     "slide_type": "slide"
    },
    "tags": []
   },
   "source": [
    "### 4.3.1  创建数据框"
   ]
  },
  {
   "cell_type": "code",
   "execution_count": 157,
   "metadata": {
    "id": "AB7D288E748A432CA49D6DE8E8FF261C",
    "jupyter": {},
    "notebookId": "635e2ef48b3f3b93635b4b9c",
    "scrolled": false,
    "slideshow": {
     "slide_type": "slide"
    },
    "tags": []
   },
   "outputs": [
    {
     "name": "stdout",
     "output_type": "stream",
     "text": [
      "      0    1     2\n",
      "0  21.7  983  0.64\n",
      "1  19.2  991  0.75\n",
      "2  13.4  973  0.83\n"
     ]
    }
   ],
   "source": [
    "# 创建一个简单的数据框\n",
    "import pandas as pd\n",
    "a = pd.DataFrame([[21.7, 983, 0.64],\n",
    "               [19.2, 991, 0.75],\n",
    "               [13.4, 973, 0.83]]\n",
    "              )\n",
    "print(a)"
   ]
  },
  {
   "cell_type": "code",
   "execution_count": 158,
   "metadata": {
    "id": "B99C5410D2244A78806C2EC38B11EA08",
    "jupyter": {},
    "notebookId": "635e2ef48b3f3b93635b4b9c",
    "scrolled": false,
    "slideshow": {
     "slide_type": "slide"
    },
    "tags": []
   },
   "outputs": [
    {
     "name": "stdout",
     "output_type": "stream",
     "text": [
      "       t    p    rh\n",
      "s1  21.7  983  0.64\n",
      "s2  19.2  991  0.75\n",
      "s3  13.4  973  0.83\n"
     ]
    }
   ],
   "source": [
    "# 为数据框添加行列索引\n",
    "import pandas as pd\n",
    "a = pd.DataFrame([[21.7, 983, 0.64],\n",
    "               [19.2, 991, 0.75],\n",
    "               [13.4, 973, 0.83]],\n",
    "              index=['s1', 's2', 's3'],\n",
    "              columns=['t', 'p', 'rh']\n",
    "             )\n",
    "print(a)"
   ]
  },
  {
   "cell_type": "code",
   "execution_count": 159,
   "metadata": {
    "id": "307B243764E7404A89CABFBA67D17F19",
    "jupyter": {},
    "notebookId": "635e2ef48b3f3b93635b4b9c",
    "scrolled": false,
    "slideshow": {
     "slide_type": "slide"
    },
    "tags": []
   },
   "outputs": [
    {
     "name": "stdout",
     "output_type": "stream",
     "text": [
      "s1    21.7\n",
      "s2    19.2\n",
      "s3    13.4\n",
      "Name: t, dtype: float64\n",
      "<class 'pandas.core.series.Series'>\n"
     ]
    }
   ],
   "source": [
    "# 抽取其中的序列对象\n",
    "import pandas as pd\n",
    "a = pd.DataFrame([[21.7, 983, 0.64],\n",
    "               [19.2, 991, 0.75],\n",
    "               [13.4, 973, 0.83]],\n",
    "              index=['s1', 's2', 's3'],\n",
    "              columns=['t', 'p', 'rh']\n",
    "             )\n",
    "b = a['t']\n",
    "print(b)\n",
    "print(type(b))"
   ]
  },
  {
   "cell_type": "code",
   "execution_count": 160,
   "metadata": {
    "id": "042A8CA82964458E816CFE4C21DF991C",
    "jupyter": {},
    "notebookId": "635e2ef48b3f3b93635b4b9c",
    "scrolled": false,
    "slideshow": {
     "slide_type": "slide"
    },
    "tags": []
   },
   "outputs": [
    {
     "name": "stdout",
     "output_type": "stream",
     "text": [
      "t     float64\n",
      "p       int64\n",
      "rh    float64\n",
      "dtype: object\n"
     ]
    }
   ],
   "source": [
    "# 包含不同数据类型的数据框\n",
    "import pandas as pd\n",
    "a = pd.DataFrame([[21.7, 983, 0.64],\n",
    "               [19.2, 991, 0.75],\n",
    "               [13.4, 973, 0.83]],\n",
    "              index=['s1', 's2', 's3'],\n",
    "              columns=['t', 'p', 'rh']\n",
    "             )\n",
    "print(a.dtypes)"
   ]
  },
  {
   "cell_type": "markdown",
   "metadata": {
    "id": "2B8F3F8B08C04018893EE810A6E7C1D6",
    "jupyter": {},
    "mdEditEnable": false,
    "notebookId": "635e2ef48b3f3b93635b4b9c",
    "scrolled": false,
    "slideshow": {
     "slide_type": "slide"
    },
    "tags": []
   },
   "source": [
    "### 4.3.2  pd.DataFrame的时间索引"
   ]
  },
  {
   "cell_type": "code",
   "execution_count": 161,
   "metadata": {
    "id": "3D84CB9A9CF34FC899B777E76085D215",
    "jupyter": {},
    "notebookId": "635e2ef48b3f3b93635b4b9c",
    "scrolled": false,
    "slideshow": {
     "slide_type": "slide"
    },
    "tags": []
   },
   "outputs": [
    {
     "name": "stdout",
     "output_type": "stream",
     "text": [
      "               t    p    rh\n",
      "2020-02-19  21.7  983  0.64\n",
      "2020-02-20  19.2  991  0.75\n",
      "2020-02-22  13.4  973  0.83\n"
     ]
    }
   ],
   "source": [
    "# 带有时间索引的数据框\n",
    "import pandas as pd\n",
    "a = pd.DataFrame([[21.7, 983, 0.64],\n",
    "               [19.2, 991, 0.75],\n",
    "               [13.4, 973, 0.83]],\n",
    "              index=pd.to_datetime(['2020-02-19', '2020-02-20', '2020-02-22']),\n",
    "              columns=['t', 'p', 'rh']\n",
    "             )\n",
    "print(a)"
   ]
  },
  {
   "cell_type": "markdown",
   "metadata": {
    "id": "B64355B5E2154C908A5C1FFB3F641F53",
    "jupyter": {},
    "mdEditEnable": false,
    "notebookId": "635e2ef48b3f3b93635b4b9c",
    "scrolled": false,
    "slideshow": {
     "slide_type": "slide"
    },
    "tags": []
   },
   "source": [
    "### 4.3.3  读取CSV文件"
   ]
  },
  {
   "cell_type": "code",
   "execution_count": 162,
   "metadata": {
    "id": "6EC33B8E48B84F38B84315C21E988E5E",
    "jupyter": {},
    "notebookId": "635e2ef48b3f3b93635b4b9c",
    "scrolled": false,
    "slideshow": {
     "slide_type": "slide"
    },
    "tags": []
   },
   "outputs": [
    {
     "name": "stdout",
     "output_type": "stream",
     "text": [
      "        t      p    rh\n",
      "sta                   \n",
      "s1   21.7  983.0  0.64\n",
      "s2   19.2  991.0  0.75\n",
      "s3   13.4  973.0  0.83\n",
      "NaN   NaN    NaN   NaN\n",
      "NaN   NaN    NaN   NaN\n",
      "NaN   NaN    NaN   NaN\n",
      "NaN   NaN    NaN   NaN\n",
      "NaN   NaN    NaN   NaN\n",
      "NaN   NaN    NaN   NaN\n",
      "NaN   NaN    NaN   NaN\n",
      "NaN   NaN    NaN   NaN\n",
      "NaN   NaN    NaN   NaN\n",
      "NaN   NaN    NaN   NaN\n",
      "NaN   NaN    NaN   NaN\n",
      "NaN   NaN    NaN   NaN\n"
     ]
    }
   ],
   "source": [
    "# 读取带有索引和列名的CSV文件\n",
    "import pandas as pd\n",
    "a = pd.read_csv('/home/mw/input/pythonbook9857/pandas_read.csv', index_col=0)\n",
    "print(a)"
   ]
  },
  {
   "cell_type": "code",
   "execution_count": 163,
   "metadata": {
    "id": "CB5BE0F0C03C4061A2A83A1D8A5C12E5",
    "jupyter": {},
    "notebookId": "635e2ef48b3f3b93635b4b9c",
    "scrolled": false,
    "slideshow": {
     "slide_type": "slide"
    },
    "tags": []
   },
   "outputs": [
    {
     "name": "stdout",
     "output_type": "stream",
     "text": [
      "       sta     t    rh\n",
      "p                     \n",
      "983.0   s1  21.7  0.64\n",
      "991.0   s2  19.2  0.75\n",
      "973.0   s3  13.4  0.83\n",
      "NaN    NaN   NaN   NaN\n",
      "NaN    NaN   NaN   NaN\n",
      "NaN    NaN   NaN   NaN\n",
      "NaN    NaN   NaN   NaN\n",
      "NaN    NaN   NaN   NaN\n",
      "NaN    NaN   NaN   NaN\n",
      "NaN    NaN   NaN   NaN\n",
      "NaN    NaN   NaN   NaN\n",
      "NaN    NaN   NaN   NaN\n",
      "NaN    NaN   NaN   NaN\n",
      "NaN    NaN   NaN   NaN\n",
      "NaN    NaN   NaN   NaN\n"
     ]
    }
   ],
   "source": [
    "# 以其他列为索引\n",
    "import pandas as pd\n",
    "a = pd.read_csv('/home/mw/input/pythonbook9857/pandas_read.csv', index_col=2)\n",
    "print(a)"
   ]
  },
  {
   "cell_type": "code",
   "execution_count": 164,
   "metadata": {
    "id": "1230714775894218834F1B3849A2509D",
    "jupyter": {},
    "notebookId": "635e2ef48b3f3b93635b4b9c",
    "scrolled": false,
    "slideshow": {
     "slide_type": "slide"
    },
    "tags": []
   },
   "outputs": [
    {
     "name": "stdout",
     "output_type": "stream",
     "text": [
      "       1    2     3\n",
      "0                  \n",
      "s1  21.7  983  0.64\n",
      "s2  19.2  991  0.75\n",
      "s3  13.4  973  0.83\n",
      "        t    p    rh\n",
      "sta                 \n",
      "s1   21.7  983  0.64\n",
      "s2   19.2  991  0.75\n",
      "s3   13.4  973  0.83\n"
     ]
    }
   ],
   "source": [
    "# 读取只带有索引或列名的CSV文件\n",
    "import pandas as pd\n",
    "a = pd.read_csv('/home/mw/input/pythonbook7300/pandas_read_noheader.csv', header=None, index_col=0)\n",
    "print(a)\n",
    "import pandas as pd\n",
    "a = pd.read_csv('/home/mw/input/pythonbook7300/pandas_read_noheader.csv', \n",
    "              names=['sta', 't', 'p', 'rh'], \n",
    "              index_col=0)\n",
    "print(a)"
   ]
  },
  {
   "cell_type": "code",
   "execution_count": 165,
   "metadata": {
    "id": "8A61DDA214D14BF797EEA0FF6080BAAC",
    "jupyter": {},
    "notebookId": "635e2ef48b3f3b93635b4b9c",
    "scrolled": false,
    "slideshow": {
     "slide_type": "slide"
    },
    "tags": []
   },
   "outputs": [
    {
     "name": "stdout",
     "output_type": "stream",
     "text": [
      "        time     t    p    rh\n",
      "0 2020-02-25  21.7  983  0.64\n",
      "1 2020-02-26  19.2  991  0.75\n",
      "2 2020-02-27  13.4  973  0.83\n",
      "----------\n",
      "time    datetime64[ns]\n",
      "t              float64\n",
      "p                int64\n",
      "rh             float64\n",
      "dtype: object\n",
      "               t    p    rh\n",
      "time                       \n",
      "2020-02-25  21.7  983  0.64\n",
      "2020-02-26  19.2  991  0.75\n",
      "2020-02-27  13.4  973  0.83\n",
      "               t    p    rh\n",
      "date_time                  \n",
      "2020-02-25  21.7  983  0.64\n",
      "2020-02-26  19.2  991  0.75\n",
      "2020-02-27  13.4  973  0.83\n"
     ]
    }
   ],
   "source": [
    "# 读取带有时间列的CSV文件\n",
    "import pandas as pd\n",
    "a = pd.read_csv('/home/mw/input/pythonbook7300/pandas_read_date.csv', parse_dates=[0])\n",
    "print(a)\n",
    "print('----------')\n",
    "print(a.dtypes)\n",
    "# 直接指定time列为索引\n",
    "import pandas as pd\n",
    "a = pd.read_csv('/home/mw/input/pythonbook7300/pandas_read_date.csv', parse_dates=[0], index_col=0)\n",
    "print(a)\n",
    "# 当时间列为多列时\n",
    "import pandas as pd\n",
    "a = pd.read_csv('/home/mw/input/pythonbook7300/pandas_read_datetime.csv', \n",
    "              parse_dates=[[0, 1]], \n",
    "              index_col=0)\n",
    "print(a)"
   ]
  },
  {
   "cell_type": "markdown",
   "metadata": {
    "id": "30A4D49C5C9A42788C77CB88B24BD5CC",
    "jupyter": {},
    "mdEditEnable": false,
    "notebookId": "635e2ef48b3f3b93635b4b9c",
    "scrolled": false,
    "slideshow": {
     "slide_type": "slide"
    },
    "tags": []
   },
   "source": [
    "### 4.3.4  pd.DataFrame的算术运算"
   ]
  },
  {
   "cell_type": "code",
   "execution_count": 166,
   "metadata": {
    "id": "7920ED6F9011432A83CF71A3387AAB1A",
    "jupyter": {},
    "notebookId": "635e2ef48b3f3b93635b4b9c",
    "scrolled": false,
    "slideshow": {
     "slide_type": "slide"
    },
    "tags": []
   },
   "outputs": [
    {
     "name": "stdout",
     "output_type": "stream",
     "text": [
      "        t     p      rh\n",
      "s1  121.7  1083  100.64\n",
      "s2  119.2  1091  100.75\n",
      "s3  113.4  1073  100.83\n"
     ]
    }
   ],
   "source": [
    "# pd.DataFrame与标量的算术运算\n",
    "import pandas as pd\n",
    "a = pd.DataFrame([[21.7, 983, 0.64],\n",
    "               [19.2, 991, 0.75],\n",
    "               [13.4, 973, 0.83]],\n",
    "              index=['s1', 's2', 's3'],\n",
    "              columns=['t', 'p', 'rh']\n",
    "             )\n",
    "print(a+100)"
   ]
  },
  {
   "cell_type": "code",
   "execution_count": 167,
   "metadata": {
    "id": "27001FD3F0504C0B97C10C8A4D37B0A3",
    "jupyter": {},
    "notebookId": "635e2ef48b3f3b93635b4b9c",
    "scrolled": false,
    "slideshow": {
     "slide_type": "slide"
    },
    "tags": []
   },
   "outputs": [
    {
     "name": "stdout",
     "output_type": "stream",
     "text": [
      "       t    p    rh\n",
      "s1  21.7  983  64.0\n",
      "s2  19.2  991  75.0\n",
      "s3  13.4  973  83.0\n"
     ]
    }
   ],
   "source": [
    "# pd.DataFrame的赋值修改\n",
    "import pandas as pd\n",
    "a = pd.DataFrame([[21.7, 983, 0.64],\n",
    "               [19.2, 991, 0.75],\n",
    "               [13.4, 973, 0.83]],\n",
    "              index=['s1', 's2', 's3'],\n",
    "              columns=['t', 'p', 'rh']\n",
    "             )\n",
    "a['rh'] = a['rh'] * 100\n",
    "print(a)"
   ]
  },
  {
   "cell_type": "code",
   "execution_count": 11,
   "metadata": {
    "id": "17937D6594A245AB886667A1706FEDA8",
    "jupyter": {},
    "notebookId": "635e2ef48b3f3b93635b4b9c",
    "scrolled": false,
    "slideshow": {
     "slide_type": "slide"
    },
    "tags": [],
    "ExecuteTime": {
     "start_time": "2024-06-29T22:07:52.682884Z",
     "end_time": "2024-06-29T22:07:52.756022Z"
    }
   },
   "outputs": [
    {
     "name": "stdout",
     "output_type": "stream",
     "text": [
      "       p    rh     t\n",
      "s1   993  0.64 -78.3\n",
      "s2  1001  0.75 -80.8\n",
      "s3   983  0.83 -86.6\n"
     ]
    }
   ],
   "source": [
    "# pd.DataFrame与pd.Series的算术运算\n",
    "import pandas as pd\n",
    "a = pd.DataFrame([[21.7, 983, 0.64],\n",
    "               [19.2, 991, 0.75],\n",
    "               [13.4, 973, 0.83]],\n",
    "              index=['s1', 's2', 's3'],\n",
    "              columns=['t', 'p', 'rh']\n",
    "             )\n",
    "b = pd.Series([10, -100, 0], index=['p', 't', 'rh'])\n",
    "print(a + b)"
   ]
  },
  {
   "cell_type": "code",
   "execution_count": 169,
   "metadata": {
    "id": "C5A82FFE0046489999BA3582FF85542D",
    "jupyter": {},
    "notebookId": "635e2ef48b3f3b93635b4b9c",
    "scrolled": false,
    "slideshow": {
     "slide_type": "slide"
    },
    "tags": []
   },
   "outputs": [
    {
     "name": "stdout",
     "output_type": "stream",
     "text": [
      "       p   rh     t\n",
      "s1   993  0.5  16.7\n",
      "s2  1011  0.5   5.2\n",
      "s3   990  0.5  10.4\n"
     ]
    }
   ],
   "source": [
    "# pd.DataFrame与pd.DataFrame的算术运算\n",
    "import pandas as pd\n",
    "a = pd.DataFrame([[21.7, 983, 0.64],\n",
    "               [19.2, 991, 0.75],\n",
    "               [13.4, 973, 0.83]],\n",
    "              index=['s1', 's2', 's3'],\n",
    "              columns=['t', 'p', 'rh']\n",
    "             )\n",
    "b = pd.DataFrame([[20, -14, -0.25],\n",
    "               [10, -5, -0.14],\n",
    "               [17, -3, -0.33]],\n",
    "              index=['s2', 's1', 's3'],\n",
    "              columns=['p', 't', 'rh']\n",
    "             )\n",
    "print(a + b)"
   ]
  },
  {
   "cell_type": "code",
   "execution_count": 170,
   "metadata": {
    "id": "CEE5A0E6E2A04E3C8F3B5624AA5131CA",
    "jupyter": {},
    "notebookId": "635e2ef48b3f3b93635b4b9c",
    "scrolled": false,
    "slideshow": {
     "slide_type": "slide"
    },
    "tags": []
   },
   "outputs": [
    {
     "name": "stdout",
     "output_type": "stream",
     "text": [
      "       t    p    rh\n",
      "s2  19.2  991  0.75\n",
      "s3  13.4  973  0.83\n"
     ]
    }
   ],
   "source": [
    "# 按数据条件提取满足条件的行\n",
    "import pandas as pd\n",
    "a = pd.DataFrame([[21.7, 983, 0.64],\n",
    "               [19.2, 991, 0.75],\n",
    "               [13.4, 973, 0.83]],\n",
    "              index=['s1', 's2', 's3'],\n",
    "              columns=['t', 'p', 'rh']\n",
    "             )\n",
    "b = a[a['t']<20]\n",
    "print(b)"
   ]
  },
  {
   "cell_type": "code",
   "execution_count": 171,
   "metadata": {
    "id": "F790E3BF7CCF46EC83EE3D33A8EB9EC2",
    "jupyter": {},
    "notebookId": "635e2ef48b3f3b93635b4b9c",
    "scrolled": false,
    "slideshow": {
     "slide_type": "slide"
    },
    "tags": []
   },
   "outputs": [
    {
     "name": "stdout",
     "output_type": "stream",
     "text": [
      "       t    p    rh\n",
      "s3  13.4  973  0.83\n",
      "       t    p    rh\n",
      "s1  21.7  983  0.64\n",
      "s3  13.4  973  0.83\n"
     ]
    }
   ],
   "source": [
    "# 按多个数据条件提取满足条件的行\n",
    "import pandas as pd\n",
    "a = pd.DataFrame([[21.7, 983, 0.64],\n",
    "               [19.2, 991, 0.75],\n",
    "               [13.4, 973, 0.83]],\n",
    "              index=['s1', 's2', 's3'],\n",
    "              columns=['t', 'p', 'rh']\n",
    "             )\n",
    "b = a[(a['t']<20)&(a['rh']>0.8)]\n",
    "print(b)\n",
    "b = a[(a['t']<19)|(a['rh']<0.7)]\n",
    "print(b)"
   ]
  },
  {
   "cell_type": "code",
   "execution_count": 172,
   "metadata": {
    "id": "B3A00EFBC1044E0788F50D7BF20A0E8B",
    "jupyter": {},
    "notebookId": "635e2ef48b3f3b93635b4b9c",
    "scrolled": false,
    "slideshow": {
     "slide_type": "slide"
    },
    "tags": []
   },
   "outputs": [
    {
     "name": "stdout",
     "output_type": "stream",
     "text": [
      "               t    p    rh\n",
      "2020-02-19  21.7  983  0.64\n",
      "               t    p    rh\n",
      "2020-02-19  21.7  983  0.64\n",
      "2020-02-20  19.2  991  0.75\n",
      "2020-02-22  13.4  973  0.83\n",
      "               t    p    rh\n",
      "2020-02-19  21.7  983  0.64\n",
      "2020-02-20  19.2  991  0.75\n",
      "2020-02-22  13.4  973  0.83\n"
     ]
    }
   ],
   "source": [
    "# 按照时间索引条件提取\n",
    "import pandas as pd\n",
    "a = pd.DataFrame([[21.7, 983, 0.64],\n",
    "               [19.2, 991, 0.75],\n",
    "               [13.4, 973, 0.83]],\n",
    "              index=pd.to_datetime(['2020-02-19', '2020-02-20', '2020-02-22']),\n",
    "              columns=['t', 'p', 'rh']\n",
    "             )\n",
    "b = a[a.index.day == 19]\n",
    "print(b)\n",
    "b = a[a.index.month == 2]\n",
    "print(b)\n",
    "b = a[a.index.year == 2020]\n",
    "print(b)"
   ]
  },
  {
   "cell_type": "markdown",
   "metadata": {
    "id": "DAE74B38DC0F47ADB05A60D56A99AE2B",
    "jupyter": {},
    "mdEditEnable": false,
    "notebookId": "635e2ef48b3f3b93635b4b9c",
    "scrolled": false,
    "slideshow": {
     "slide_type": "slide"
    },
    "tags": []
   },
   "source": [
    "### 4.3.6  pd.DataFrame的常用属性"
   ]
  },
  {
   "cell_type": "code",
   "execution_count": 173,
   "metadata": {
    "id": "64F7CCAB051F4BE584B5215BE9F6F905",
    "jupyter": {},
    "notebookId": "635e2ef48b3f3b93635b4b9c",
    "scrolled": false,
    "slideshow": {
     "slide_type": "slide"
    },
    "tags": []
   },
   "outputs": [
    {
     "name": "stdout",
     "output_type": "stream",
     "text": [
      "t     float64\n",
      "p       int64\n",
      "rh    float64\n",
      "dtype: object\n",
      "2\n",
      "(3, 3)\n"
     ]
    }
   ],
   "source": [
    "# 查看常用属性\n",
    "import pandas as pd\n",
    "a = pd.DataFrame([[21.7, 983, 0.64],\n",
    "               [19.2, 991, 0.75],\n",
    "               [13.4, 973, 0.83]],\n",
    "              index=['s1', 's2', 's3'],\n",
    "              columns=['t', 'p', 'rh']\n",
    "             )\n",
    "print(a.dtypes)\n",
    "print(a.ndim)\n",
    "print(a.shape)"
   ]
  },
  {
   "cell_type": "code",
   "execution_count": 174,
   "metadata": {
    "id": "B3F5DEA0200849C0A461537B8CE50DC5",
    "jupyter": {},
    "notebookId": "635e2ef48b3f3b93635b4b9c",
    "scrolled": false,
    "slideshow": {
     "slide_type": "slide"
    },
    "tags": []
   },
   "outputs": [
    {
     "name": "stdout",
     "output_type": "stream",
     "text": [
      "21.7\n"
     ]
    }
   ],
   "source": [
    "# 通过行、列标签访问单个元素\n",
    "import pandas as pd\n",
    "a = pd.DataFrame([[21.7, 983, 0.64],\n",
    "               [19.2, 991, 0.75],\n",
    "               [13.4, 973, 0.83]],\n",
    "              index=['s1', 's2', 's3'],\n",
    "              columns=['t', 'p', 'rh']\n",
    "             )\n",
    "print(a.at['s1', 't'])"
   ]
  },
  {
   "cell_type": "code",
   "execution_count": 175,
   "metadata": {
    "id": "981AD209829A435A8682F27F2456D09B",
    "jupyter": {},
    "notebookId": "635e2ef48b3f3b93635b4b9c",
    "scrolled": false,
    "slideshow": {
     "slide_type": "slide"
    },
    "tags": []
   },
   "outputs": [
    {
     "name": "stdout",
     "output_type": "stream",
     "text": [
      "21.7\n"
     ]
    }
   ],
   "source": [
    "# 通过行、列位置访问单个元素\n",
    "import pandas as pd\n",
    "a = pd.DataFrame([[21.7, 983, 0.64],\n",
    "               [19.2, 991, 0.75],\n",
    "               [13.4, 973, 0.83]],\n",
    "              index=['s1', 's2', 's3'],\n",
    "              columns=['t', 'p', 'rh']\n",
    "             )\n",
    "print(a.iat[0, 0])"
   ]
  },
  {
   "cell_type": "code",
   "execution_count": 176,
   "metadata": {
    "id": "94094699757D41C787D8FC887C0C663D",
    "jupyter": {},
    "notebookId": "635e2ef48b3f3b93635b4b9c",
    "scrolled": false,
    "slideshow": {
     "slide_type": "slide"
    },
    "tags": []
   },
   "outputs": [
    {
     "name": "stdout",
     "output_type": "stream",
     "text": [
      "t      21.70\n",
      "p     983.00\n",
      "rh      0.64\n",
      "Name: s1, dtype: float64\n",
      "----------\n",
      "       t    p    rh\n",
      "s1  21.7  983  0.64\n",
      "*-*-*-*-*-\n",
      "       t    p    rh\n",
      "s1  21.7  983  0.64\n",
      "s3  13.4  973  0.83\n"
     ]
    }
   ],
   "source": [
    "# 通过行、列标签或布尔序列访问多个元素\n",
    "# 按标签访问行\n",
    "import pandas as pd\n",
    "a = pd.DataFrame([[21.7, 983, 0.64],\n",
    "               [19.2, 991, 0.75],\n",
    "               [13.4, 973, 0.83]],\n",
    "              index=['s1', 's2', 's3'],\n",
    "              columns=['t', 'p', 'rh']\n",
    "             )\n",
    "print(a.loc['s1']) # Series\n",
    "print('----------')\n",
    "print(a.loc[['s1']]) # DataFrame\n",
    "print('*-*-*-*-*-')\n",
    "print(a.loc[['s1', 's3']]) # DataFrame"
   ]
  },
  {
   "cell_type": "code",
   "execution_count": 177,
   "metadata": {
    "id": "C7F90A17B7804685AB8E4DDB76BFA1B9",
    "jupyter": {},
    "notebookId": "635e2ef48b3f3b93635b4b9c",
    "scrolled": false,
    "slideshow": {
     "slide_type": "slide"
    },
    "tags": []
   },
   "outputs": [
    {
     "name": "stdout",
     "output_type": "stream",
     "text": [
      "s1    21.7\n",
      "s2    19.2\n",
      "s3    13.4\n",
      "Name: t, dtype: float64\n",
      "----------\n",
      "       t\n",
      "s1  21.7\n",
      "s2  19.2\n",
      "s3  13.4\n",
      "*-*-*-*-*-\n",
      "       t    rh\n",
      "s1  21.7  0.64\n",
      "s2  19.2  0.75\n",
      "s3  13.4  0.83\n"
     ]
    }
   ],
   "source": [
    "# 通过行、列标签或布尔序列访问多个元素\n",
    "# 按标签访问行\n",
    "import pandas as pd\n",
    "a = pd.DataFrame([[21.7, 983, 0.64],\n",
    "               [19.2, 991, 0.75],\n",
    "               [13.4, 973, 0.83]],\n",
    "              index=['s1', 's2', 's3'],\n",
    "              columns=['t', 'p', 'rh']\n",
    "             )\n",
    "print(a.loc[:, 't']) # Series\n",
    "print('----------')\n",
    "print(a.loc[:, ['t']]) # DataFrame\n",
    "print('*-*-*-*-*-')\n",
    "print(a.loc[:, ['t', 'rh']]) # DataFrame"
   ]
  },
  {
   "cell_type": "code",
   "execution_count": 178,
   "metadata": {
    "id": "B9FD6EB21DC34AE6AD05167858AEF9D6",
    "jupyter": {},
    "notebookId": "635e2ef48b3f3b93635b4b9c",
    "scrolled": false,
    "slideshow": {
     "slide_type": "slide"
    },
    "tags": []
   },
   "outputs": [
    {
     "name": "stdout",
     "output_type": "stream",
     "text": [
      "       t    p    rh\n",
      "s1  21.7  983  0.64\n",
      "s3  13.4  973  0.83\n",
      "----------\n",
      "       t    rh\n",
      "s1  21.7  0.64\n",
      "s2  19.2  0.75\n",
      "s3  13.4  0.83\n"
     ]
    }
   ],
   "source": [
    "# 通过行、列标签或布尔序列访问多个元素\n",
    "# 按布尔序列访问行、列\n",
    "import pandas as pd\n",
    "a = pd.DataFrame([[21.7, 983, 0.64],\n",
    "               [19.2, 991, 0.75],\n",
    "               [13.4, 973, 0.83]],\n",
    "              index=['s1', 's2', 's3'],\n",
    "              columns=['t', 'p', 'rh']\n",
    "             )\n",
    "print(a.loc[[True, False, True]]) # 行\n",
    "print('----------')\n",
    "print(a.loc[:, [True, False, True]]) # 列"
   ]
  },
  {
   "cell_type": "code",
   "execution_count": 179,
   "metadata": {
    "id": "89EDFA9EB1B44BFE9B073D974E75C645",
    "jupyter": {},
    "notebookId": "635e2ef48b3f3b93635b4b9c",
    "scrolled": false,
    "slideshow": {
     "slide_type": "slide"
    },
    "tags": []
   },
   "outputs": [
    {
     "name": "stdout",
     "output_type": "stream",
     "text": [
      "t      21.70\n",
      "p     983.00\n",
      "rh      0.64\n",
      "Name: s1, dtype: float64\n",
      "----------\n",
      "       t    p    rh\n",
      "s1  21.7  983  0.64\n",
      "*-*-*-*-*-\n",
      "       t    p    rh\n",
      "s1  21.7  983  0.64\n",
      "s3  13.4  973  0.83\n"
     ]
    }
   ],
   "source": [
    "# 通过行、列位置访问多个元素\n",
    "# 按位置访问行\n",
    "import pandas as pd\n",
    "a = pd.DataFrame([[21.7, 983, 0.64],\n",
    "               [19.2, 991, 0.75],\n",
    "               [13.4, 973, 0.83]],\n",
    "              index=['s1', 's2', 's3'],\n",
    "              columns=['t', 'p', 'rh']\n",
    "             )\n",
    "print(a.iloc[0]) # Series\n",
    "print('----------')\n",
    "print(a.iloc[[0]]) # DataFrame\n",
    "print('*-*-*-*-*-')\n",
    "print(a.iloc[[0, 2]]) # DataFrame"
   ]
  },
  {
   "cell_type": "code",
   "execution_count": 180,
   "metadata": {
    "id": "CB4A8D1360A340498017575D325C649C",
    "jupyter": {},
    "notebookId": "635e2ef48b3f3b93635b4b9c",
    "scrolled": false,
    "slideshow": {
     "slide_type": "slide"
    },
    "tags": []
   },
   "outputs": [
    {
     "name": "stdout",
     "output_type": "stream",
     "text": [
      "s1    21.7\n",
      "s2    19.2\n",
      "s3    13.4\n",
      "Name: t, dtype: float64\n",
      "----------\n",
      "       t\n",
      "s1  21.7\n",
      "s2  19.2\n",
      "s3  13.4\n",
      "*-*-*-*-*-\n",
      "       t    rh\n",
      "s1  21.7  0.64\n",
      "s2  19.2  0.75\n",
      "s3  13.4  0.83\n"
     ]
    }
   ],
   "source": [
    "# 通过行、列位置访问多个元素\n",
    "# 按位置访问列\n",
    "import pandas as pd\n",
    "a = pd.DataFrame([[21.7, 983, 0.64],\n",
    "               [19.2, 991, 0.75],\n",
    "               [13.4, 973, 0.83]],\n",
    "              index=['s1', 's2', 's3'],\n",
    "              columns=['t', 'p', 'rh']\n",
    "             )\n",
    "print(a.iloc[:, 0]) # Series\n",
    "print('----------')\n",
    "print(a.iloc[:, [0]]) # DataFrame\n",
    "print('*-*-*-*-*-')\n",
    "print(a.iloc[:, [0, 2]]) # DataFrame"
   ]
  },
  {
   "cell_type": "code",
   "execution_count": 181,
   "metadata": {
    "id": "C218448E70694B498D63087164918855",
    "jupyter": {},
    "notebookId": "635e2ef48b3f3b93635b4b9c",
    "scrolled": false,
    "slideshow": {
     "slide_type": "slide"
    },
    "tags": []
   },
   "outputs": [
    {
     "name": "stdout",
     "output_type": "stream",
     "text": [
      "[[2.17e+01 9.83e+02 6.40e-01]\n",
      " [1.92e+01 9.91e+02 7.50e-01]\n",
      " [1.34e+01 9.73e+02 8.30e-01]]\n",
      "<class 'numpy.ndarray'>\n"
     ]
    }
   ],
   "source": [
    "# 获取数据原始的np.ndarray对象\n",
    "import pandas as pd\n",
    "a = pd.DataFrame([[21.7, 983, 0.64],\n",
    "               [19.2, 991, 0.75],\n",
    "               [13.4, 973, 0.83]],\n",
    "              index=['s1', 's2', 's3'],\n",
    "              columns=['t', 'p', 'rh']\n",
    "             )\n",
    "b = a.values\n",
    "print(b)\n",
    "print(type(b))"
   ]
  },
  {
   "cell_type": "markdown",
   "metadata": {
    "id": "E97125B7824B4FCAA029F692CF62C764",
    "jupyter": {},
    "mdEditEnable": false,
    "notebookId": "635e2ef48b3f3b93635b4b9c",
    "scrolled": false,
    "slideshow": {
     "slide_type": "slide"
    },
    "tags": []
   },
   "source": [
    "### 4.3.7  pd.DataFrame的常用方法"
   ]
  },
  {
   "cell_type": "code",
   "execution_count": 182,
   "metadata": {
    "id": "5BB4FCB2DA1D470FA4E917BF9ABAE06C",
    "jupyter": {},
    "notebookId": "635e2ef48b3f3b93635b4b9c",
    "scrolled": false,
    "slideshow": {
     "slide_type": "slide"
    },
    "tags": []
   },
   "outputs": [
    {
     "name": "stdout",
     "output_type": "stream",
     "text": [
      "       t      p    rh\n",
      "s1   NaN  983.0  0.64\n",
      "s2   NaN    NaN  0.75\n",
      "s3  13.4  973.0  0.83\n",
      "------\n",
      "       t      p    rh\n",
      "s3  13.4  973.0  0.83\n",
      "-*-*-*-*-\n",
      "      rh\n",
      "s1  0.64\n",
      "s2  0.75\n",
      "s3  0.83\n"
     ]
    }
   ],
   "source": [
    "# 删除包含NaN的行或列\n",
    "import numpy as np\n",
    "import pandas as pd\n",
    "a = pd.DataFrame([[np.nan, 983, 0.64],\n",
    "               [np.nan, np.nan, 0.75],\n",
    "               [13.4, 973, 0.83]],\n",
    "              index=['s1', 's2', 's3'],\n",
    "              columns=['t', 'p', 'rh']\n",
    "             )\n",
    "print(a)\n",
    "print('------')\n",
    "b = a.dropna() # 删除包含NaN的行\n",
    "print(b)\n",
    "print('-*-*-*-*-')\n",
    "c = a.dropna(axis=1) # 删除包含NaN的列\n",
    "print(c)"
   ]
  },
  {
   "cell_type": "code",
   "execution_count": 183,
   "metadata": {
    "id": "B9A7A6D8DB194715854D9E65E15C2FBD",
    "jupyter": {},
    "notebookId": "635e2ef48b3f3b93635b4b9c",
    "scrolled": false,
    "slideshow": {
     "slide_type": "slide"
    },
    "tags": []
   },
   "outputs": [
    {
     "name": "stdout",
     "output_type": "stream",
     "text": [
      "     t      p    rh\n",
      "s1 NaN  983.0  0.64\n",
      "s2 NaN    NaN   NaN\n",
      "s3 NaN  973.0  0.83\n",
      "------\n",
      "     t      p    rh\n",
      "s1 NaN  983.0  0.64\n",
      "s3 NaN  973.0  0.83\n",
      "-*-*-*-*-\n",
      "        p    rh\n",
      "s1  983.0  0.64\n",
      "s2    NaN   NaN\n",
      "s3  973.0  0.83\n"
     ]
    }
   ],
   "source": [
    "# 仅删除全为NaN的行或列\n",
    "import numpy as np\n",
    "import pandas as pd\n",
    "a = pd.DataFrame([[np.nan, 983, 0.64],\n",
    "               [np.nan, np.nan, np.nan],\n",
    "               [np.nan, 973, 0.83]],\n",
    "              index=['s1', 's2', 's3'],\n",
    "              columns=['t', 'p', 'rh']\n",
    "             )\n",
    "print(a)\n",
    "print('------')\n",
    "b = a.dropna(how='all') # 删除全为NaN的行\n",
    "print(b)\n",
    "print('-*-*-*-*-')\n",
    "c = a.dropna(axis=1, how='all') # 删除全为NaN的列\n",
    "print(c)"
   ]
  },
  {
   "cell_type": "code",
   "execution_count": 184,
   "metadata": {
    "id": "4D89330BD246447492708A2F14D11F18",
    "jupyter": {},
    "notebookId": "635e2ef48b3f3b93635b4b9c",
    "scrolled": false,
    "slideshow": {
     "slide_type": "slide"
    },
    "tags": []
   },
   "outputs": [
    {
     "name": "stdout",
     "output_type": "stream",
     "text": [
      "       t    p    rh kind\n",
      "s1  21.7  983  0.64    a\n",
      "s2  19.2  991  0.75    b\n",
      "s3  13.4  973  0.83    a\n",
      "s2  13.4  973  0.83    b\n",
      "--------\n",
      "       t     p    rh\n",
      "s1  21.7   983  0.64\n",
      "s2  32.6  1964  1.58\n",
      "s3  13.4   973  0.83\n",
      "-*-*-*-*-*\n",
      "s1    1\n",
      "s2    2\n",
      "s3    1\n",
      "dtype: int64\n"
     ]
    }
   ],
   "source": [
    "# 通过原始数据分组\n",
    "import pandas as pd\n",
    "a = pd.DataFrame([[21.7, 983, 0.64, 'a'],\n",
    "               [19.2, 991, 0.75, 'b'],\n",
    "               [13.4, 973, 0.83, 'a'],\n",
    "               [13.4, 973, 0.83, 'b']],\n",
    "              index=['s1', 's2', 's3', 's2'],\n",
    "              columns=['t', 'p', 'rh', 'kind']\n",
    "             )\n",
    "print(a)\n",
    "print('--------')\n",
    "print(a.groupby(level=0).sum())\n",
    "print('-*-*-*-*-*')\n",
    "print(a.groupby(level=0).size())"
   ]
  },
  {
   "cell_type": "code",
   "execution_count": 185,
   "metadata": {
    "id": "AC6992199A8C4FFC80A0A55D886F334F",
    "jupyter": {},
    "notebookId": "635e2ef48b3f3b93635b4b9c",
    "scrolled": false,
    "slideshow": {
     "slide_type": "slide"
    },
    "tags": []
   },
   "outputs": [
    {
     "name": "stdout",
     "output_type": "stream",
     "text": [
      "       t    p    rh kind\n",
      "s1  21.7  983  0.64    a\n",
      "s2  19.2  991  0.75    b\n",
      "s3  13.4  973  0.83    a\n",
      "s2  13.4  973  0.83    b\n",
      "--------\n",
      "         t     p    rh\n",
      "kind                  \n",
      "a     35.1  1956  1.47\n",
      "b     32.6  1964  1.58\n",
      "-*-*-*-*-*\n",
      "kind\n",
      "a    2\n",
      "b    2\n",
      "dtype: int64\n"
     ]
    }
   ],
   "source": [
    "# 指定列名通过数据分组\n",
    "import pandas as pd\n",
    "a = pd.DataFrame([[21.7, 983, 0.64, 'a'],\n",
    "               [19.2, 991, 0.75, 'b'],\n",
    "               [13.4, 973, 0.83, 'a'],\n",
    "               [13.4, 973, 0.83, 'b']],\n",
    "              index=['s1', 's2', 's3', 's2'],\n",
    "              columns=['t', 'p', 'rh', 'kind']\n",
    "             )\n",
    "print(a)\n",
    "print('--------')\n",
    "print(a.groupby(by='kind').sum())\n",
    "print('-*-*-*-*-*')\n",
    "print(a.groupby(by='kind').size())"
   ]
  },
  {
   "cell_type": "code",
   "execution_count": 186,
   "metadata": {
    "id": "6314095573E7407EAB4F4A762BC61463",
    "jupyter": {},
    "notebookId": "635e2ef48b3f3b93635b4b9c",
    "scrolled": false,
    "slideshow": {
     "slide_type": "slide"
    },
    "tags": []
   },
   "outputs": [
    {
     "name": "stdout",
     "output_type": "stream",
     "text": [
      "       t    p    rh kind\n",
      "s1  21.7  983  0.64    a\n",
      "s2  19.2  991  0.75    b\n",
      "s3  13.4  973  0.83    a\n",
      "s2  13.4  973  0.83    b\n",
      "--------\n",
      "          t     p    rh\n",
      "False  35.1  1956  1.47\n",
      "True   32.6  1964  1.58\n"
     ]
    }
   ],
   "source": [
    "# 通过函数分组\n",
    "import pandas as pd\n",
    "a = pd.DataFrame([[21.7, 983, 0.64, 'a'],\n",
    "               [19.2, 991, 0.75, 'b'],\n",
    "               [13.4, 973, 0.83, 'a'],\n",
    "               [13.4, 973, 0.83, 'b']],\n",
    "              index=['s1', 's2', 's3', 's2'],\n",
    "              columns=['t', 'p', 'rh', 'kind']\n",
    "             )\n",
    "print(a)\n",
    "print('--------')\n",
    "print(a.groupby(by=lambda x:x=='s2').sum())"
   ]
  },
  {
   "cell_type": "code",
   "execution_count": 187,
   "metadata": {
    "id": "BD10F4DC45134DBFB3A8DC8D1CDE867E",
    "jupyter": {},
    "notebookId": "635e2ef48b3f3b93635b4b9c",
    "scrolled": false,
    "slideshow": {
     "slide_type": "slide"
    },
    "tags": []
   },
   "outputs": [
    {
     "name": "stdout",
     "output_type": "stream",
     "text": [
      "               t    p    rh\n",
      "2020-02-19  21.7  983  0.64\n",
      "2020-02-20  19.2  991  0.75\n",
      "2020-03-22  13.4  973  0.83\n",
      "--------\n",
      "      t     p    rh\n",
      "2  40.9  1974  1.39\n",
      "3  13.4   973  0.83\n"
     ]
    }
   ],
   "source": [
    "# 对时间戳类型的索引进行分组\n",
    "import pandas as pd\n",
    "a = pd.DataFrame([[21.7, 983, 0.64],\n",
    "               [19.2, 991, 0.75],\n",
    "               [13.4, 973, 0.83]],\n",
    "              index=pd.to_datetime(['2020-02-19', '2020-02-20', '2020-03-22']),\n",
    "              columns=['t', 'p', 'rh']\n",
    "             )\n",
    "print(a)\n",
    "print('--------')\n",
    "print(a.groupby(by=lambda x:x.month).sum())"
   ]
  },
  {
   "cell_type": "code",
   "execution_count": 188,
   "metadata": {
    "id": "9B2B5517E4694D888B04E7393A6AE7CF",
    "jupyter": {},
    "notebookId": "635e2ef48b3f3b93635b4b9c",
    "scrolled": false,
    "slideshow": {
     "slide_type": "slide"
    },
    "tags": []
   },
   "outputs": [
    {
     "name": "stdout",
     "output_type": "stream",
     "text": [
      "       t    p    rh\n",
      "s1  21.7  983  0.64\n",
      "s2  19.2  991  0.75\n",
      "s3  13.4  973  0.83\n",
      "--------\n",
      "       t     p     rh\n",
      "s1  2.17  98.3  0.064\n",
      "s2  1.92  99.1  0.075\n",
      "s3  1.34  97.3  0.083\n"
     ]
    }
   ],
   "source": [
    "# 按规则映射分组\n",
    "import pandas as pd\n",
    "a = pd.DataFrame([[21.7, 983, 0.64],\n",
    "               [19.2, 991, 0.75],\n",
    "               [13.4, 973, 0.83]],\n",
    "              index=['s1', 's2', 's3'],\n",
    "              columns=['t', 'p', 'rh']\n",
    "             )\n",
    "print(a)\n",
    "print('--------')\n",
    "print(a.applymap(lambda x:x/10))"
   ]
  },
  {
   "cell_type": "code",
   "execution_count": 189,
   "metadata": {
    "id": "61482A51BAF648918E734A34CEE3A7AD",
    "jupyter": {},
    "notebookId": "635e2ef48b3f3b93635b4b9c",
    "scrolled": false,
    "slideshow": {
     "slide_type": "slide"
    },
    "tags": []
   },
   "outputs": [
    {
     "name": "stdout",
     "output_type": "stream",
     "text": [
      "               t    p    rh\n",
      "2020-02-19  21.7  983  0.64\n",
      "2020-02-20  19.2  991  0.75\n",
      "2020-02-22  13.4  973  0.83\n",
      "--------\n",
      "                t      p     rh\n",
      "2020-02-19  20.45  987.0  0.695\n",
      "2020-02-21  13.40  973.0  0.830\n"
     ]
    }
   ],
   "source": [
    "# 重采样\n",
    "import pandas as pd\n",
    "a = pd.DataFrame([[21.7, 983, 0.64],\n",
    "               [19.2, 991, 0.75],\n",
    "               [13.4, 973, 0.83]],\n",
    "              index=pd.to_datetime(['2020-02-19', '2020-02-20', '2020-02-22']),\n",
    "              columns=['t', 'p', 'rh']\n",
    "             )\n",
    "print(a)\n",
    "print('--------')\n",
    "print(a.resample('2D').mean())"
   ]
  },
  {
   "cell_type": "code",
   "execution_count": 190,
   "metadata": {
    "id": "F0BEF6AE70CD495D896BC49F42FD997D",
    "jupyter": {},
    "notebookId": "635e2ef48b3f3b93635b4b9c",
    "scrolled": false,
    "slideshow": {
     "slide_type": "slide"
    },
    "tags": []
   },
   "outputs": [
    {
     "name": "stdout",
     "output_type": "stream",
     "text": [
      "       t      p    rh\n",
      "s1  21.7  983.0  0.64\n",
      "s2  19.2    NaN  0.75\n",
      "s3  13.4  973.0  0.83\n",
      "--------\n",
      "       t      p    rh\n",
      "s1  21.7  983.0  0.64\n",
      "s2  19.2  978.0  0.75\n",
      "s3  13.4  973.0  0.83\n",
      "*-*-*-*-*-\n",
      "       t        p    rh\n",
      "s1  21.7  983.000  0.64\n",
      "s2  19.2    9.975  0.75\n",
      "s3  13.4  973.000  0.83\n"
     ]
    }
   ],
   "source": [
    "# 填充NaN\n",
    "# 通过插值的方式填充\n",
    "import numpy as np\n",
    "import pandas as pd\n",
    "a = pd.DataFrame([[21.7, 983, 0.64],\n",
    "               [19.2, np.nan, 0.75],\n",
    "               [13.4, 973, 0.83]],\n",
    "              index=['s1', 's2', 's3'],\n",
    "              columns=['t', 'p', 'rh']\n",
    "             )\n",
    "print(a)\n",
    "print('--------')\n",
    "print(a.interpolate(method='linear')) # 列向线性插值\n",
    "print('*-*-*-*-*-')\n",
    "print(a.interpolate(method='linear', axis=1)) # 行向线性插值"
   ]
  },
  {
   "cell_type": "code",
   "execution_count": 191,
   "metadata": {
    "id": "4F51E508A455420087243AB4AF88A5FA",
    "jupyter": {},
    "notebookId": "635e2ef48b3f3b93635b4b9c",
    "scrolled": false,
    "slideshow": {
     "slide_type": "slide"
    },
    "tags": []
   },
   "outputs": [
    {
     "name": "stdout",
     "output_type": "stream",
     "text": [
      "       t      p    rh\n",
      "s1  21.7  983.0  0.64\n",
      "s2  19.2    NaN  0.75\n",
      "s3  13.4  973.0  0.83\n",
      "--------\n",
      "       t       p    rh\n",
      "s1  21.7   983.0  0.64\n",
      "s2  19.2  9999.0  0.75\n",
      "s3  13.4   973.0  0.83\n",
      "*-*-*-*-*-\n",
      "       t      p    rh\n",
      "s1  21.7  983.0  0.64\n",
      "s2  19.2  973.0  0.75\n",
      "s3  13.4  973.0  0.83\n",
      "**********\n",
      "       t      p    rh\n",
      "s1  21.7  983.0  0.64\n",
      "s2  19.2  983.0  0.75\n",
      "s3  13.4  973.0  0.83\n"
     ]
    }
   ],
   "source": [
    "# 用指定值填充或根据行或列的前后值填充\n",
    "import numpy as np\n",
    "import pandas as pd\n",
    "a = pd.DataFrame([[21.7, 983, 0.64],\n",
    "               [19.2, np.nan, 0.75],\n",
    "               [13.4, 973, 0.83]],\n",
    "              index=['s1', 's2', 's3'],\n",
    "              columns=['t', 'p', 'rh']\n",
    "             )\n",
    "print(a)\n",
    "print('--------')\n",
    "print(a.fillna(9999)) # 用值填充\n",
    "print('*-*-*-*-*-')\n",
    "print(a.fillna(method='bfill')) # 列向后值填充\n",
    "print('**********')\n",
    "print(a.fillna(method='ffill')) # 列向前值填充"
   ]
  },
  {
   "cell_type": "code",
   "execution_count": 192,
   "metadata": {
    "id": "747C6AFF90BB4A61BF3BF490FE2BF7F9",
    "jupyter": {},
    "notebookId": "635e2ef48b3f3b93635b4b9c",
    "scrolled": false,
    "slideshow": {
     "slide_type": "slide"
    },
    "tags": []
   },
   "outputs": [
    {
     "name": "stdout",
     "output_type": "stream",
     "text": [
      "       t      p    rh\n",
      "s1  21.7  983.0  0.64\n",
      "s2  19.2    NaN  0.75\n",
      "s3  13.4  973.0  0.83\n",
      "--------\n",
      "       t       p    rh\n",
      "s1  21.7  983.00  0.64\n",
      "s2  19.2    0.75  0.75\n",
      "s3  13.4  973.00  0.83\n",
      "*-*-*-*-*-\n",
      "       t      p    rh\n",
      "s1  21.7  983.0  0.64\n",
      "s2  19.2   19.2  0.75\n",
      "s3  13.4  973.0  0.83\n"
     ]
    }
   ],
   "source": [
    "# 根据行的前后值进行填充\n",
    "import numpy as np\n",
    "import pandas as pd\n",
    "a = pd.DataFrame([[21.7, 983, 0.64],\n",
    "               [19.2, np.nan, 0.75],\n",
    "               [13.4, 973, 0.83]],\n",
    "              index=['s1', 's2', 's3'],\n",
    "              columns=['t', 'p', 'rh']\n",
    "             )\n",
    "print(a)\n",
    "print('--------')\n",
    "print(a.fillna(method='bfill', axis=1)) # 行向后值填充\n",
    "print('*-*-*-*-*-')\n",
    "print(a.fillna(method='ffill', axis=1)) # 行向前值填充"
   ]
  },
  {
   "cell_type": "code",
   "execution_count": 193,
   "metadata": {
    "id": "70950176D4884D679B6FE805F7BFFCEE",
    "jupyter": {},
    "notebookId": "635e2ef48b3f3b93635b4b9c",
    "scrolled": false,
    "slideshow": {
     "slide_type": "slide"
    },
    "tags": []
   },
   "outputs": [
    {
     "name": "stdout",
     "output_type": "stream",
     "text": [
      "       t    p    rh\n",
      "s1  21.7  983  0.64\n",
      "s2  19.2  991  0.75\n",
      "s3  13.4  973  0.83\n",
      "--------\n",
      "       t    p    rh\n",
      "s2  19.2  991  0.75\n",
      "s3  13.4  973  0.83\n",
      "s1  21.7  983  0.64\n",
      "*-*-*-*-*-\n",
      "      rh     t    p\n",
      "s2  0.75  19.2  991\n",
      "s3  0.83  13.4  973\n",
      "s1  0.64  21.7  983\n"
     ]
    }
   ],
   "source": [
    "# 按照指定序列/索引和列名排序\n",
    "import pandas as pd\n",
    "a = pd.DataFrame([[21.7, 983, 0.64],\n",
    "               [19.2, 991, 0.75],\n",
    "               [13.4, 973, 0.83]],\n",
    "              index=['s1', 's2', 's3'],\n",
    "              columns=['t', 'p', 'rh']\n",
    "             )\n",
    "print(a)\n",
    "print('--------')\n",
    "print(a.reindex(['s2', 's3', 's1']))\n",
    "print('*-*-*-*-*-')\n",
    "print(a.reindex(index=['s2', 's3', 's1'], columns=['rh', 't', 'p']))"
   ]
  },
  {
   "cell_type": "code",
   "execution_count": 194,
   "metadata": {
    "id": "B30C8DE902594C908EDE717432E19EBC",
    "jupyter": {},
    "notebookId": "635e2ef48b3f3b93635b4b9c",
    "scrolled": false,
    "slideshow": {
     "slide_type": "slide"
    },
    "tags": []
   },
   "outputs": [
    {
     "name": "stdout",
     "output_type": "stream",
     "text": [
      "       t    p    rh\n",
      "s1  21.7  983  0.64\n",
      "s2  19.2  991  0.75\n",
      "s3  13.4  973  0.83\n",
      "--------\n",
      "      p     t    rh\n",
      "s2  991  19.2  0.75\n",
      "s1  983  21.7  0.64\n",
      "s3  973  13.4  0.83\n"
     ]
    }
   ],
   "source": [
    "# 按照已有DataFrame对象的索引和列名排序\n",
    "import pandas as pd\n",
    "a = pd.DataFrame([[21.7, 983, 0.64],\n",
    "               [19.2, 991, 0.75],\n",
    "               [13.4, 973, 0.83]],\n",
    "              index=['s1', 's2', 's3'],\n",
    "              columns=['t', 'p', 'rh']\n",
    "             )\n",
    "b = pd.DataFrame(data=None, index=['s2', 's1', 's3'], columns=['p', 't', 'rh'])\n",
    "print(a)\n",
    "print('--------')\n",
    "print(a.reindex_like(b))"
   ]
  },
  {
   "cell_type": "code",
   "execution_count": 195,
   "metadata": {
    "id": "F3FF28CA924C4C3B83B58CC29C9D8ACB",
    "jupyter": {},
    "notebookId": "635e2ef48b3f3b93635b4b9c",
    "scrolled": false,
    "slideshow": {
     "slide_type": "slide"
    },
    "tags": []
   },
   "outputs": [
    {
     "name": "stdout",
     "output_type": "stream",
     "text": [
      "       t    p    rh\n",
      "s1  21.7  983  0.64\n",
      "s2  19.2  991  0.75\n",
      "s3  13.4  973  0.83\n",
      "s4  12.4  963  0.73\n",
      "--------\n",
      "  index     t    p    rh\n",
      "0    s1  21.7  983  0.64\n",
      "1    s2  19.2  991  0.75\n",
      "2    s3  13.4  973  0.83\n",
      "3    s4  12.4  963  0.73\n"
     ]
    }
   ],
   "source": [
    "# 重置索引\n",
    "import pandas as pd\n",
    "a = pd.DataFrame([[21.7, 983, 0.64],\n",
    "               [19.2, 991, 0.75],\n",
    "               [13.4, 973, 0.83],\n",
    "               [12.4, 963, 0.73]],\n",
    "              index=['s1', 's2', 's3', 's4'],\n",
    "              columns=['t', 'p', 'rh']\n",
    "             )\n",
    "print(a)\n",
    "print('--------')\n",
    "print(a.reset_index())"
   ]
  },
  {
   "cell_type": "code",
   "execution_count": 196,
   "metadata": {
    "id": "457A0A07EFA14E4F8D8B1A431AC9A6D6",
    "jupyter": {},
    "notebookId": "635e2ef48b3f3b93635b4b9c",
    "scrolled": false,
    "slideshow": {
     "slide_type": "slide"
    },
    "tags": []
   },
   "outputs": [
    {
     "name": "stdout",
     "output_type": "stream",
     "text": [
      "       t    p    rh\n",
      "s1  21.7  983  0.64\n",
      "s2  19.2  991  0.75\n",
      "s3  13.4  973  0.83\n",
      "s4  12.4  963  0.73\n",
      "--------\n",
      "        t      p     rh\n",
      "s1    NaN    NaN    NaN\n",
      "s2  20.45  987.0  0.695\n",
      "s3  16.30  982.0  0.790\n",
      "s4  12.90  968.0  0.780\n"
     ]
    }
   ],
   "source": [
    "# 滑动窗口计算\n",
    "# 对普通序列进行滑动计算\n",
    "import pandas as pd\n",
    "a = pd.DataFrame([[21.7, 983, 0.64],\n",
    "               [19.2, 991, 0.75],\n",
    "               [13.4, 973, 0.83],\n",
    "               [12.4, 963, 0.73]],\n",
    "              index=['s1', 's2', 's3', 's4'],\n",
    "              columns=['t', 'p', 'rh']\n",
    "             )\n",
    "print(a)\n",
    "print('--------')\n",
    "print(a.rolling(2).mean()) #此处滑动窗口值为2"
   ]
  },
  {
   "cell_type": "code",
   "execution_count": 197,
   "metadata": {
    "id": "BDF32D4306DD41EA801DBF37AD227E92",
    "jupyter": {},
    "notebookId": "635e2ef48b3f3b93635b4b9c",
    "scrolled": false,
    "slideshow": {
     "slide_type": "slide"
    },
    "tags": []
   },
   "outputs": [
    {
     "name": "stdout",
     "output_type": "stream",
     "text": [
      "               t    p    rh\n",
      "2020-02-19  21.7  983  0.64\n",
      "2020-02-20  19.2  991  0.75\n",
      "2020-02-21  13.4  973  0.83\n",
      "2020-02-22  12.4  963  0.73\n",
      "--------\n",
      "                t      p     rh\n",
      "2020-02-19  21.70  983.0  0.640\n",
      "2020-02-20  20.45  987.0  0.695\n",
      "2020-02-21  16.30  982.0  0.790\n",
      "2020-02-22  12.90  968.0  0.780\n"
     ]
    }
   ],
   "source": [
    "# 滑动窗口计算\n",
    "# 对时间序列进行滑动计算\n",
    "import pandas as pd\n",
    "a = pd.DataFrame([[21.7, 983, 0.64],\n",
    "               [19.2, 991, 0.75],\n",
    "               [13.4, 973, 0.83],\n",
    "               [12.4, 963, 0.73]],\n",
    "              index=pd.to_datetime(['2020-02-19', '2020-02-20',\n",
    "                                '2020-02-21', '2020-02-22']),\n",
    "              columns=['t', 'p', 'rh']\n",
    "             )\n",
    "print(a)\n",
    "print('--------')\n",
    "print(a.rolling('2D').mean())"
   ]
  },
  {
   "cell_type": "code",
   "execution_count": 198,
   "metadata": {
    "id": "E24EAE28504F4C318BCBDF838228BA00",
    "jupyter": {},
    "notebookId": "635e2ef48b3f3b93635b4b9c",
    "scrolled": false,
    "slideshow": {
     "slide_type": "slide"
    },
    "tags": []
   },
   "outputs": [
    {
     "name": "stdout",
     "output_type": "stream",
     "text": [
      "       t    p    rh\n",
      "s1  21.7  983  0.64\n",
      "s2  19.2  991  0.75\n",
      "s3  13.4  973  0.83\n",
      "--------\n",
      "       t      p    rh\n",
      "s1   NaN    NaN   NaN\n",
      "s2  21.7  983.0  0.64\n",
      "s3  19.2  991.0  0.75\n",
      "*-*-*-*-*-\n",
      "     t     p   rh\n",
      "s1 NaN  21.7  983\n",
      "s2 NaN  19.2  991\n",
      "s3 NaN  13.4  973\n"
     ]
    }
   ],
   "source": [
    "# 平移数据\n",
    "import pandas as pd\n",
    "a = pd.DataFrame([[21.7, 983, 0.64],\n",
    "               [19.2, 991, 0.75],\n",
    "               [13.4, 973, 0.83]],\n",
    "              index=['s1', 's2', 's3'],\n",
    "              columns=['t', 'p', 'rh']\n",
    "             )\n",
    "print(a)\n",
    "print('--------')\n",
    "print(a.shift(1)) # 行平移\n",
    "print('*-*-*-*-*-')\n",
    "print(a.shift(1, axis=1)) # 列平移"
   ]
  },
  {
   "cell_type": "code",
   "execution_count": 199,
   "metadata": {
    "id": "8F66E0DDE541480A931127C73E70A4AB",
    "jupyter": {},
    "notebookId": "635e2ef48b3f3b93635b4b9c",
    "scrolled": false,
    "slideshow": {
     "slide_type": "slide"
    },
    "tags": []
   },
   "outputs": [
    {
     "name": "stdout",
     "output_type": "stream",
     "text": [
      "       t    p    rh\n",
      "s2  21.7  983  0.64\n",
      "s1  19.2  991  0.75\n",
      "s3  13.4  973  0.83\n",
      "--------\n",
      "       t    p    rh\n",
      "s1  19.2  991  0.75\n",
      "s2  21.7  983  0.64\n",
      "s3  13.4  973  0.83\n",
      "*-*-*-*-*-\n",
      "       t    p    rh\n",
      "s3  13.4  973  0.83\n",
      "s2  21.7  983  0.64\n",
      "s1  19.2  991  0.75\n"
     ]
    }
   ],
   "source": [
    "# 按照索引排序\n",
    "import pandas as pd\n",
    "a = pd.DataFrame([[21.7, 983, 0.64],\n",
    "               [19.2, 991, 0.75],\n",
    "               [13.4, 973, 0.83]],\n",
    "              index=['s2', 's1', 's3'],\n",
    "              columns=['t', 'p', 'rh']\n",
    "             )\n",
    "print(a)\n",
    "print('--------')\n",
    "print(a.sort_index()) # 升序排列\n",
    "print('*-*-*-*-*-')\n",
    "print(a.sort_index(ascending=False)) # 降序排列"
   ]
  },
  {
   "cell_type": "code",
   "execution_count": 200,
   "metadata": {
    "id": "04DA0F1A7FE94F1388C9353BD686D741",
    "jupyter": {},
    "notebookId": "635e2ef48b3f3b93635b4b9c",
    "scrolled": false,
    "slideshow": {
     "slide_type": "slide"
    },
    "tags": []
   },
   "outputs": [
    {
     "name": "stdout",
     "output_type": "stream",
     "text": [
      "       t    p    rh\n",
      "s1  21.7  983  0.64\n",
      "s2  19.2  991  0.75\n",
      "s3  13.4  973  0.83\n",
      "--------\n",
      "       t    p    rh\n",
      "s3  13.4  973  0.83\n",
      "s1  21.7  983  0.64\n",
      "s2  19.2  991  0.75\n",
      "*-*-*-*-*-\n",
      "       t    p    rh\n",
      "s2  19.2  991  0.75\n",
      "s1  21.7  983  0.64\n",
      "s3  13.4  973  0.83\n"
     ]
    }
   ],
   "source": [
    "# 按照数据排序\n",
    "import pandas as pd\n",
    "a = pd.DataFrame([[21.7, 983, 0.64],\n",
    "               [19.2, 991, 0.75],\n",
    "               [13.4, 973, 0.83]],\n",
    "              index=['s1', 's2', 's3'],\n",
    "              columns=['t', 'p', 'rh']\n",
    "             )\n",
    "print(a)\n",
    "print('--------')\n",
    "print(a.sort_values('p')) # 按p列升序排列\n",
    "print('*-*-*-*-*-')\n",
    "print(a.sort_values('p', ascending=False)) # 按p列降序排列"
   ]
  },
  {
   "cell_type": "code",
   "execution_count": 201,
   "metadata": {
    "id": "E8E214A7B3344A1BBA792040F3C1FA85",
    "jupyter": {},
    "notebookId": "635e2ef48b3f3b93635b4b9c",
    "scrolled": false,
    "slideshow": {
     "slide_type": "slide"
    },
    "tags": []
   },
   "outputs": [
    {
     "name": "stdout",
     "output_type": "stream",
     "text": [
      "       t    p    rh\n",
      "s1  21.7  983  0.64\n",
      "s2  19.2  991  0.75\n",
      "s3  13.4  973  0.83\n",
      "--------\n",
      "t      21.70\n",
      "p     991.00\n",
      "rh      0.83\n",
      "dtype: float64\n",
      "*-*-*-*-*-\n",
      "t      13.40\n",
      "p     973.00\n",
      "rh      0.64\n",
      "dtype: float64\n"
     ]
    }
   ],
   "source": [
    "# 获取最大值/最小值\n",
    "# 使用max()/min()可以获取列的最大值/最小值\n",
    "import pandas as pd\n",
    "a = pd.DataFrame([[21.7, 983, 0.64],\n",
    "               [19.2, 991, 0.75],\n",
    "               [13.4, 973, 0.83]],\n",
    "              index=['s1', 's2', 's3'],\n",
    "              columns=['t', 'p', 'rh']\n",
    "             )\n",
    "print(a)\n",
    "print('--------')\n",
    "print(a.max()) # 列最大值\n",
    "print('*-*-*-*-*-')\n",
    "print(a.min()) # 列最小值"
   ]
  },
  {
   "cell_type": "code",
   "execution_count": 202,
   "metadata": {
    "id": "BC750DEB7F204F228341417BCFBA7E7F",
    "jupyter": {},
    "notebookId": "635e2ef48b3f3b93635b4b9c",
    "scrolled": false,
    "slideshow": {
     "slide_type": "slide"
    },
    "tags": []
   },
   "outputs": [
    {
     "name": "stdout",
     "output_type": "stream",
     "text": [
      "       t    p    rh\n",
      "s1  21.7  983  0.64\n",
      "s2  19.2  991  0.75\n",
      "s3  13.4  973  0.83\n",
      "--------\n",
      "s1    983.0\n",
      "s2    991.0\n",
      "s3    973.0\n",
      "dtype: float64\n",
      "*-*-*-*-*-\n",
      "s1    0.64\n",
      "s2    0.75\n",
      "s3    0.83\n",
      "dtype: float64\n"
     ]
    }
   ],
   "source": [
    "# 获取最大值/最小值\n",
    "# 使用max()/min()也可以获取行的最大值/最小值\n",
    "import pandas as pd\n",
    "a = pd.DataFrame([[21.7, 983, 0.64],\n",
    "               [19.2, 991, 0.75],\n",
    "               [13.4, 973, 0.83]],\n",
    "              index=['s1', 's2', 's3'],\n",
    "              columns=['t', 'p', 'rh']\n",
    "             )\n",
    "print(a)\n",
    "print('--------')\n",
    "print(a.max(axis=1)) # 行最大值\n",
    "print('*-*-*-*-*-')\n",
    "print(a.min(axis=1)) # 行最小值"
   ]
  },
  {
   "cell_type": "code",
   "execution_count": 203,
   "metadata": {
    "id": "BDC8B543B5A14ABD8E82784327A28554",
    "jupyter": {},
    "notebookId": "635e2ef48b3f3b93635b4b9c",
    "scrolled": false,
    "slideshow": {
     "slide_type": "slide"
    },
    "tags": []
   },
   "outputs": [
    {
     "name": "stdout",
     "output_type": "stream",
     "text": [
      "       t    p    rh\n",
      "s1  21.7  983  0.64\n",
      "s2  19.2  991  0.75\n",
      "s3  13.4  973  0.83\n",
      "--------\n",
      "t     s3\n",
      "p     s3\n",
      "rh    s1\n",
      "dtype: object\n",
      "*-*-*-*-*-\n",
      "t     s1\n",
      "p     s2\n",
      "rh    s3\n",
      "dtype: object\n",
      "~~~~~~\n",
      "s1    p\n",
      "s2    p\n",
      "s3    p\n",
      "dtype: object\n"
     ]
    }
   ],
   "source": [
    "# 获取最大值/最小值对应的标签\n",
    "import pandas as pd\n",
    "a = pd.DataFrame([[21.7, 983, 0.64],\n",
    "               [19.2, 991, 0.75],\n",
    "               [13.4, 973, 0.83]],\n",
    "              index=['s1', 's2', 's3'],\n",
    "              columns=['t', 'p', 'rh']\n",
    "             )\n",
    "print(a)\n",
    "print('--------')\n",
    "print(a.idxmin())\n",
    "print('*-*-*-*-*-')\n",
    "print(a.idxmax())\n",
    "print('~~~~~~')\n",
    "print(a.idxmax(axis=1))"
   ]
  },
  {
   "cell_type": "code",
   "execution_count": 204,
   "metadata": {
    "id": "DDCC6DD68139409F82980F12AB7C864D",
    "jupyter": {},
    "notebookId": "635e2ef48b3f3b93635b4b9c",
    "scrolled": false,
    "slideshow": {
     "slide_type": "slide"
    },
    "tags": []
   },
   "outputs": [
    {
     "name": "stdout",
     "output_type": "stream",
     "text": [
      "       t    p    rh\n",
      "s1  21.7  983  0.64\n",
      "s2  19.2  991  0.75\n",
      "s3  13.4  973  0.83\n",
      "--------\n",
      "t     4.257934\n",
      "p     9.018500\n",
      "rh    0.095394\n",
      "dtype: float64\n",
      "*-*-*-*-*-\n",
      "t     18.130000\n",
      "p     81.333333\n",
      "rh     0.009100\n",
      "dtype: float64\n",
      "~~~~~~\n",
      "s1    561.185113\n",
      "s2    566.470168\n",
      "s3    557.689381\n",
      "dtype: float64\n"
     ]
    }
   ],
   "source": [
    "# 计算标准差/无偏方差\n",
    "import pandas as pd\n",
    "a = pd.DataFrame([[21.7, 983, 0.64],\n",
    "               [19.2, 991, 0.75],\n",
    "               [13.4, 973, 0.83]],\n",
    "              index=['s1', 's2', 's3'],\n",
    "              columns=['t', 'p', 'rh']\n",
    "             )\n",
    "print(a)\n",
    "print('--------')\n",
    "print(a.std()) # 按列计算标准差\n",
    "print('*-*-*-*-*-')\n",
    "print(a.var()) # 按列计算无偏方差\n",
    "print('~~~~~~')\n",
    "print(a.std(axis=1))"
   ]
  },
  {
   "cell_type": "code",
   "execution_count": 205,
   "metadata": {
    "id": "5985E744D6C948CE8ED248570A8E494D",
    "jupyter": {},
    "notebookId": "635e2ef48b3f3b93635b4b9c",
    "scrolled": false,
    "slideshow": {
     "slide_type": "slide"
    },
    "tags": []
   },
   "outputs": [
    {
     "name": "stdout",
     "output_type": "stream",
     "text": [
      "       t    p    rh\n",
      "s1  21.7  983  0.64\n",
      "s2  19.2  991  0.75\n",
      "s3  13.4  973  0.83\n",
      "--------\n",
      "           t         p        rh\n",
      "t   1.000000  0.726559 -0.950315\n",
      "p   0.726559  1.000000 -0.476572\n",
      "rh -0.950315 -0.476572  1.000000\n"
     ]
    }
   ],
   "source": [
    "# 计算相关系数\n",
    "import pandas as pd\n",
    "a = pd.DataFrame([[21.7, 983, 0.64],\n",
    "               [19.2, 991, 0.75],\n",
    "               [13.4, 973, 0.83]],\n",
    "              index=['s1', 's2', 's3'],\n",
    "              columns=['t', 'p', 'rh']\n",
    "             )\n",
    "print(a)\n",
    "print('--------')\n",
    "print(a.corr())"
   ]
  },
  {
   "cell_type": "code",
   "execution_count": 206,
   "metadata": {
    "id": "65D5293C07CA40CFB8E9D52F370126B4",
    "jupyter": {},
    "notebookId": "635e2ef48b3f3b93635b4b9c",
    "scrolled": false,
    "slideshow": {
     "slide_type": "slide"
    },
    "tags": []
   },
   "outputs": [
    {
     "name": "stdout",
     "output_type": "stream",
     "text": [
      "       t    p    rh\n",
      "s1  21.7  983  0.64\n",
      "s2  19.2  991  0.75\n",
      "s3  13.4  973  0.83\n",
      "--------\n",
      "t     0.998639\n",
      "p     0.993970\n",
      "rh    0.997835\n",
      "dtype: float64\n"
     ]
    }
   ],
   "source": [
    "# 使用corrwith()计算pd.DataFram与另一个pd.Series或pd.DataFrame之间的相关系数\n",
    "a = pd.DataFrame([[21.7, 983, 0.64],\n",
    "               [19.2, 991, 0.75],\n",
    "               [13.4, 973, 0.83]],\n",
    "              index=['s1', 's2', 's3'],\n",
    "              columns=['t', 'p', 'rh']\n",
    "             )\n",
    "b = pd.DataFrame([[21.5, 988, 0.62],\n",
    "               [19.4, 996, 0.74],\n",
    "               [13.2, 973, 0.85]],\n",
    "              index=['s1', 's2', 's3'],\n",
    "              columns=['t', 'p', 'rh']\n",
    "             )\n",
    "print(a)\n",
    "print('--------')\n",
    "print(a.corrwith(b))"
   ]
  },
  {
   "cell_type": "code",
   "execution_count": 207,
   "metadata": {
    "id": "E9BDFF04D5DC4FE98008BA9C819005DC",
    "jupyter": {},
    "notebookId": "635e2ef48b3f3b93635b4b9c",
    "scrolled": false,
    "slideshow": {
     "slide_type": "slide"
    },
    "tags": []
   },
   "outputs": [
    {
     "name": "stdout",
     "output_type": "stream",
     "text": [
      "       t    p    rh\n",
      "s1  21.7  983  0.64\n",
      "s2  19.2  991  0.75\n",
      "s3  13.4  973  0.83\n",
      "--------\n",
      "         t          p      rh\n",
      "t   18.130  27.900000 -0.3860\n",
      "p   27.900  81.333333 -0.4100\n",
      "rh  -0.386  -0.410000  0.0091\n"
     ]
    }
   ],
   "source": [
    "# 计算协方差\n",
    "import pandas as pd\n",
    "a = pd.DataFrame([[21.7, 983, 0.64],\n",
    "               [19.2, 991, 0.75],\n",
    "               [13.4, 973, 0.83]],\n",
    "              index=['s1', 's2', 's3'],\n",
    "              columns=['t', 'p', 'rh']\n",
    "             )\n",
    "print(a)\n",
    "print('--------')\n",
    "print(a.cov())"
   ]
  },
  {
   "cell_type": "code",
   "execution_count": 208,
   "metadata": {
    "id": "0664F8FECF844A6AAAB953C524A4F28D",
    "jupyter": {},
    "notebookId": "635e2ef48b3f3b93635b4b9c",
    "scrolled": false,
    "slideshow": {
     "slide_type": "slide"
    },
    "tags": []
   },
   "outputs": [
    {
     "name": "stdout",
     "output_type": "stream",
     "text": [
      "       t    p    rh\n",
      "s1  21.7  983  0.64\n",
      "s2  19.2  991  0.75\n",
      "s3  13.4  973  0.83\n",
      "--------\n",
      "t       54.30\n",
      "p     2947.00\n",
      "rh       2.22\n",
      "dtype: float64\n",
      "-*-*-*-*-\n",
      "t      18.100000\n",
      "p     982.333333\n",
      "rh      0.740000\n",
      "dtype: float64\n"
     ]
    }
   ],
   "source": [
    "# 序列求和/求均值\n",
    "import pandas as pd\n",
    "a = pd.DataFrame([[21.7, 983, 0.64],\n",
    "               [19.2, 991, 0.75],\n",
    "               [13.4, 973, 0.83]],\n",
    "              index=['s1', 's2', 's3'],\n",
    "              columns=['t', 'p', 'rh']\n",
    "             )\n",
    "print(a)\n",
    "print('--------')\n",
    "print(a.sum())\n",
    "print('-*-*-*-*-')\n",
    "print(a.mean())"
   ]
  },
  {
   "cell_type": "code",
   "execution_count": 209,
   "metadata": {
    "id": "325ACAEB13624545942EF9572722DCE7",
    "jupyter": {},
    "notebookId": "635e2ef48b3f3b93635b4b9c",
    "scrolled": false,
    "slideshow": {
     "slide_type": "slide"
    },
    "tags": []
   },
   "outputs": [
    {
     "name": "stdout",
     "output_type": "stream",
     "text": [
      "       t    p    rh\n",
      "s1 -21.7  983  0.64\n",
      "s2  19.2  991  0.75\n",
      "s3  13.4 -973 -0.83\n",
      "--------\n",
      "       t    p    rh\n",
      "s1  21.7  983  0.64\n",
      "s2  19.2  991  0.75\n",
      "s3  13.4  973  0.83\n"
     ]
    }
   ],
   "source": [
    "# 获取绝对值\n",
    "import pandas as pd\n",
    "a = pd.DataFrame([[-21.7, 983, 0.64],\n",
    "               [19.2, 991, 0.75],\n",
    "               [13.4, -973, -0.83]],\n",
    "              index=['s1', 's2', 's3'],\n",
    "              columns=['t', 'p', 'rh']\n",
    "             )\n",
    "print(a)\n",
    "print('--------')\n",
    "print(a.abs())"
   ]
  },
  {
   "cell_type": "code",
   "execution_count": 210,
   "metadata": {
    "id": "7DF817CB097B47DA80D722FD30DFE5D9",
    "jupyter": {},
    "notebookId": "635e2ef48b3f3b93635b4b9c",
    "scrolled": false,
    "slideshow": {
     "slide_type": "slide"
    },
    "tags": []
   },
   "outputs": [
    {
     "name": "stdout",
     "output_type": "stream",
     "text": [
      "       t    p    rh\n",
      "s1 -21.7  983  0.64\n",
      "s2  19.2  991  0.75\n",
      "s3  13.4 -973 -0.83\n"
     ]
    }
   ],
   "source": [
    "# 保存为CSV文件\n",
    "import pandas as pd\n",
    "a = pd.DataFrame([[-21.7, 983, 0.64],\n",
    "               [19.2, 991, 0.75],\n",
    "               [13.4, -973, -0.83]],\n",
    "              index=['s1', 's2', 's3'],\n",
    "              columns=['t', 'p', 'rh']\n",
    "             )\n",
    "print(a)\n",
    "a.to_csv('dataframe_to.csv')"
   ]
  },
  {
   "cell_type": "code",
   "execution_count": 211,
   "metadata": {
    "id": "EF62802778C543DEACEDE0DFEF63DF38",
    "jupyter": {},
    "notebookId": "635e2ef48b3f3b93635b4b9c",
    "scrolled": false,
    "slideshow": {
     "slide_type": "slide"
    },
    "tags": []
   },
   "outputs": [
    {
     "name": "stdout",
     "output_type": "stream",
     "text": [
      "t     float64\n",
      "p       int64\n",
      "rh    float64\n",
      "dtype: object\n",
      "--------\n",
      "t     float32\n",
      "p     float32\n",
      "rh    float32\n",
      "dtype: object\n"
     ]
    }
   ],
   "source": [
    "# 转换数据类型\n",
    "# 统一转换\n",
    "import numpy as np\n",
    "import pandas as pd\n",
    "a = pd.DataFrame([[21.7, 983, 0.64],\n",
    "               [19.2, 991, 0.75],\n",
    "               [13.4, 973, 0.83]],\n",
    "              index=['s1', 's2', 's3'],\n",
    "              columns=['t', 'p', 'rh']\n",
    "             )\n",
    "print(a.dtypes)\n",
    "print('--------')\n",
    "b = a.astype(np.float32)\n",
    "print(b.dtypes)"
   ]
  },
  {
   "cell_type": "code",
   "execution_count": 212,
   "metadata": {
    "id": "AFA0E99FA756400F84300E1881014481",
    "jupyter": {},
    "notebookId": "635e2ef48b3f3b93635b4b9c",
    "scrolled": false,
    "slideshow": {
     "slide_type": "slide"
    },
    "tags": []
   },
   "outputs": [
    {
     "name": "stdout",
     "output_type": "stream",
     "text": [
      "t     float64\n",
      "p       int64\n",
      "rh    float64\n",
      "dtype: object\n",
      "--------\n",
      "t     float32\n",
      "p     float64\n",
      "rh    float64\n",
      "dtype: object\n"
     ]
    }
   ],
   "source": [
    "# 转换数据类型\n",
    "# 指定列转换\n",
    "import numpy as np\n",
    "import pandas as pd\n",
    "a = pd.DataFrame([[21.7, 983, 0.64],\n",
    "               [19.2, 991, 0.75],\n",
    "               [13.4, 973, 0.83]],\n",
    "              index=['s1', 's2', 's3'],\n",
    "              columns=['t', 'p', 'rh']\n",
    "             )\n",
    "print(a.dtypes)\n",
    "print('--------')\n",
    "b = a.astype({'t': np.float32, 'p': np.float64})\n",
    "print(b.dtypes)"
   ]
  },
  {
   "cell_type": "markdown",
   "metadata": {
    "id": "4414FE5E176A4F539588F5265D513CF9",
    "jupyter": {},
    "mdEditEnable": false,
    "notebookId": "635e2ef48b3f3b93635b4b9c",
    "scrolled": false,
    "slideshow": {
     "slide_type": "slide"
    },
    "tags": []
   },
   "source": [
    "## 4.4  pandas的常用函数"
   ]
  },
  {
   "cell_type": "markdown",
   "metadata": {
    "id": "08B1F07D77974813890079A1D63A6BF4",
    "jupyter": {},
    "mdEditEnable": false,
    "notebookId": "635e2ef48b3f3b93635b4b9c",
    "scrolled": false,
    "slideshow": {
     "slide_type": "slide"
    },
    "tags": []
   },
   "source": [
    "### 4.4.1  to_numeric()——将序列转换为数值类型"
   ]
  },
  {
   "cell_type": "code",
   "execution_count": 213,
   "metadata": {
    "id": "527FD9D5A88A48148C9261038A177391",
    "jupyter": {},
    "notebookId": "635e2ef48b3f3b93635b4b9c",
    "scrolled": false,
    "slideshow": {
     "slide_type": "slide"
    },
    "tags": []
   },
   "outputs": [
    {
     "name": "stdout",
     "output_type": "stream",
     "text": [
      "t      object\n",
      "p       int64\n",
      "rh    float64\n",
      "dtype: object\n",
      "--------\n",
      "t     float64\n",
      "p       int64\n",
      "rh    float64\n",
      "dtype: object\n"
     ]
    }
   ],
   "source": [
    "# 将非数值类型的序列转换为数值类型\n",
    "import pandas as pd\n",
    "a = pd.DataFrame([[21.7, 983, 0.64],\n",
    "               ['19.2', 991, 0.75],\n",
    "               [13.4, 973, 0.83]],\n",
    "              index=['s1', 's2', 's3'],\n",
    "              columns=['t', 'p', 'rh']\n",
    "             )\n",
    "print(a.dtypes)\n",
    "print('--------')\n",
    "a['t'] = pd.to_numeric(a['t'])\n",
    "print(a.dtypes)"
   ]
  },
  {
   "cell_type": "markdown",
   "metadata": {
    "id": "8A5C5A4C08934E9F80ED9B7401649193",
    "jupyter": {},
    "mdEditEnable": false,
    "notebookId": "635e2ef48b3f3b93635b4b9c",
    "scrolled": false,
    "slideshow": {
     "slide_type": "slide"
    },
    "tags": []
   },
   "source": [
    "### 4.4.2  to_datetime()——将序列转换为时间戳类型"
   ]
  },
  {
   "cell_type": "code",
   "execution_count": 214,
   "metadata": {
    "id": "1242BD83BEF44BDFB0F11E07FB893347",
    "jupyter": {},
    "notebookId": "635e2ef48b3f3b93635b4b9c",
    "scrolled": false,
    "slideshow": {
     "slide_type": "slide"
    },
    "tags": []
   },
   "outputs": [
    {
     "name": "stdout",
     "output_type": "stream",
     "text": [
      "DatetimeIndex(['2020-02-28', '2020-03-01'], dtype='datetime64[ns]', freq=None)\n",
      "DatetimeIndex(['2020-02-28', '2020-03-01'], dtype='datetime64[ns]', freq=None)\n",
      "DatetimeIndex(['2020-02-28', '2020-03-01'], dtype='datetime64[ns]', freq=None)\n",
      "DatetimeIndex(['2020-02-28 12:00:00', '2020-02-28 12:00:00'], dtype='datetime64[ns]', freq=None)\n",
      "DatetimeIndex(['2020-02-28 12:00:00', '2020-03-01 12:00:00'], dtype='datetime64[ns]', freq=None)\n",
      "DatetimeIndex(['2020-02-28 12:00:00', '2020-03-01 12:00:00'], dtype='datetime64[ns]', freq=None)\n",
      "DatetimeIndex(['2020-02-28 12:00:50', '2020-02-28 12:00:50'], dtype='datetime64[ns]', freq=None)\n",
      "DatetimeIndex(['2020-02-28 12:00:50', '2020-03-01 12:00:50'], dtype='datetime64[ns]', freq=None)\n",
      "DatetimeIndex(['2020-02-28 12:00:50', '2020-03-01 12:00:50'], dtype='datetime64[ns]', freq=None)\n"
     ]
    }
   ],
   "source": [
    "# 直接解析标准格式的时间字符串\n",
    "import pandas as pd\n",
    "\n",
    "a = pd.to_datetime(['20200228', '20200301'])\n",
    "b = pd.to_datetime(['2020-02-28', '2020-03-01'])\n",
    "c = pd.to_datetime(['2020/02/28', '2020/03/01'])\n",
    "d = pd.to_datetime(['202002281200', '202002281200'])\n",
    "e = pd.to_datetime(['2020-02-28 12:00', '2020-03-01 12:00'])\n",
    "f = pd.to_datetime(['2020/02/28 12:00', '2020/03/01 12:00'])\n",
    "g = pd.to_datetime(['20200228120050', '20200228120050'])\n",
    "h = pd.to_datetime(['2020-02-28 12:00:50', '2020-03-01 12:00:50'])\n",
    "i = pd.to_datetime(['2020/02/28 12:00:50', '2020/03/01 12:00:50'])\n",
    "print(a)\n",
    "print(b)\n",
    "print(c)\n",
    "print(d)\n",
    "print(e)\n",
    "print(f)\n",
    "print(g)\n",
    "print(h)\n",
    "print(i)"
   ]
  },
  {
   "cell_type": "code",
   "execution_count": 215,
   "metadata": {
    "id": "731AC6EBF24743E48C8D1D4913FFF850",
    "jupyter": {},
    "notebookId": "635e2ef48b3f3b93635b4b9c",
    "scrolled": false,
    "slideshow": {
     "slide_type": "slide"
    },
    "tags": []
   },
   "outputs": [
    {
     "name": "stdout",
     "output_type": "stream",
     "text": [
      "DatetimeIndex(['2020-02-28', '2020-03-28'], dtype='datetime64[ns]', freq=None)\n",
      "DatetimeIndex(['2020-02-28', '2020-03-28'], dtype='datetime64[ns]', freq=None)\n",
      "DatetimeIndex(['2020-02-28 12:00:00', '2020-03-28 12:00:00'], dtype='datetime64[ns]', freq=None)\n"
     ]
    }
   ],
   "source": [
    "# 对于特殊格式的时间字符串的解析\n",
    "import pandas as pd\n",
    "a = pd.to_datetime(['2020年02月28日', '2020年03月28日'], format='%Y年%m月%d日')\n",
    "b = pd.to_datetime(['202002(28)', '202003(28)'], format='%Y%m(%d)')\n",
    "c = pd.to_datetime(['20200228(1200)', '20200328(1200)'], format='%Y%m%d(%H%M)')\n",
    "print(a)\n",
    "print(b)\n",
    "print(c)"
   ]
  },
  {
   "cell_type": "markdown",
   "metadata": {
    "id": "ADFCC9DA79D34B5780AC19683D81624E",
    "jupyter": {},
    "mdEditEnable": false,
    "notebookId": "635e2ef48b3f3b93635b4b9c",
    "scrolled": false,
    "slideshow": {
     "slide_type": "slide"
    },
    "tags": []
   },
   "source": [
    "### 4.4.3  to_timedelta()——将序列转换为时间差类型"
   ]
  },
  {
   "cell_type": "code",
   "execution_count": 216,
   "metadata": {
    "id": "5588E7B087B040E6A0DAFCA44634D5BA",
    "jupyter": {},
    "notebookId": "635e2ef48b3f3b93635b4b9c",
    "scrolled": false,
    "slideshow": {
     "slide_type": "slide"
    },
    "tags": []
   },
   "outputs": [
    {
     "name": "stdout",
     "output_type": "stream",
     "text": [
      "TimedeltaIndex(['1 days 00:00:00', '0 days 00:10:00', '0 days 00:00:20'], dtype='timedelta64[ns]', freq=None)\n",
      "TimedeltaIndex(['1 days', '3 days', '5 days'], dtype='timedelta64[ns]', freq=None)\n"
     ]
    }
   ],
   "source": [
    "# 时间差的概念\n",
    "import pandas as pd\n",
    "a = pd.to_timedelta(['1 day', '10 min', '20S'])\n",
    "b = pd.to_timedelta([1, 3, 5], unit='D')\n",
    "print(a)\n",
    "print(b)"
   ]
  },
  {
   "cell_type": "markdown",
   "metadata": {
    "id": "FD3D4B403C0046EE8A0530791E5276E5",
    "jupyter": {},
    "mdEditEnable": false,
    "notebookId": "635e2ef48b3f3b93635b4b9c",
    "scrolled": false,
    "slideshow": {
     "slide_type": "slide"
    },
    "tags": []
   },
   "source": [
    "### 4.4.4  date_range()——生成时间序列"
   ]
  },
  {
   "cell_type": "code",
   "execution_count": 217,
   "metadata": {
    "id": "F510D193E154481C910C970368A62A33",
    "jupyter": {},
    "notebookId": "635e2ef48b3f3b93635b4b9c",
    "scrolled": false,
    "slideshow": {
     "slide_type": "slide"
    },
    "tags": []
   },
   "outputs": [
    {
     "name": "stdout",
     "output_type": "stream",
     "text": [
      "DatetimeIndex(['2020-03-01 00:00:00', '2020-03-01 03:00:00',\n",
      "               '2020-03-01 06:00:00'],\n",
      "              dtype='datetime64[ns]', freq='3H')\n",
      "DatetimeIndex(['2020-03-01', '2020-03-02', '2020-03-03'], dtype='datetime64[ns]', freq='D')\n",
      "DatetimeIndex(['2020-03-01', '2020-03-02', '2020-03-03'], dtype='datetime64[ns]', freq='D')\n"
     ]
    }
   ],
   "source": [
    "# 生成时间序列\n",
    "import pandas as pd\n",
    "\n",
    "a = pd.date_range(start='2020-03-01', periods=3, freq='3H')\n",
    "b = pd.date_range(start='2020-03-01', end='2020-03-03', freq='D')\n",
    "c = pd.date_range(start='2020-03-01', end='2020-03-03')\n",
    "\n",
    "print(a)\n",
    "print(b)\n",
    "print(c)\n"
   ]
  },
  {
   "cell_type": "markdown",
   "metadata": {
    "id": "5192D93BA67E43768A5132456E8415E9",
    "jupyter": {},
    "mdEditEnable": false,
    "notebookId": "635e2ef48b3f3b93635b4b9c",
    "scrolled": false,
    "slideshow": {
     "slide_type": "slide"
    },
    "tags": []
   },
   "source": [
    "### 4.4.5  merge()——按值连接两个pd.DataFrame"
   ]
  },
  {
   "cell_type": "code",
   "execution_count": 218,
   "metadata": {
    "id": "91F83FFB06214DBC8BB3AF707485D066",
    "jupyter": {},
    "notebookId": "635e2ef48b3f3b93635b4b9c",
    "scrolled": false,
    "slideshow": {
     "slide_type": "slide"
    },
    "tags": []
   },
   "outputs": [
    {
     "name": "stdout",
     "output_type": "stream",
     "text": [
      "   weather     p    rh\n",
      "d1   sunny   983  0.64\n",
      "d2    rain   991  0.75\n",
      "d3     fog   973  0.83\n",
      "d4    haze  1001  0.93\n",
      "------\n",
      "  weather  code\n",
      "0    rain  0121\n",
      "1   windy  1123\n",
      "2     fog  1234\n",
      "3   sunny  2234\n",
      "  weather     p    rh  code\n",
      "0   sunny   983  0.64  2234\n",
      "1    rain   991  0.75  0121\n",
      "2     fog   973  0.83  1234\n",
      "3    haze  1001  0.93   NaN\n",
      "  weather      p    rh  code\n",
      "0    rain  991.0  0.75  0121\n",
      "1   windy    NaN   NaN  1123\n",
      "2     fog  973.0  0.83  1234\n",
      "3   sunny  983.0  0.64  2234\n",
      "  weather    p    rh  code\n",
      "0   sunny  983  0.64  2234\n",
      "1    rain  991  0.75  0121\n",
      "2     fog  973  0.83  1234\n",
      "  weather       p    rh  code\n",
      "0   sunny   983.0  0.64  2234\n",
      "1    rain   991.0  0.75  0121\n",
      "2     fog   973.0  0.83  1234\n",
      "3    haze  1001.0  0.93   NaN\n",
      "4   windy     NaN   NaN  1123\n"
     ]
    }
   ],
   "source": [
    "# 按值连接两个pd.DataFrame\n",
    "import pandas as pd\n",
    "a = pd.DataFrame([['sunny', 983, 0.64],\n",
    "               ['rain', 991, 0.75],\n",
    "               ['fog', 973, 0.83],\n",
    "               ['haze', 1001, 0.93]],\n",
    "              index=['d1', 'd2', 'd3', 'd4'],\n",
    "              columns=['weather', 'p', 'rh']\n",
    "             )\n",
    "b = pd.DataFrame([['rain', '0121'],\n",
    "               ['windy', '1123'],\n",
    "               ['fog', '1234'],\n",
    "               ['sunny', '2234']],\n",
    "              columns=['weather', 'code']\n",
    "             )\n",
    "print(a)\n",
    "print('------')\n",
    "print(b)\n",
    "# 左连接\n",
    "c = pd.merge(left=a, right=b, left_on='weather', right_on='weather', how='left')\n",
    "print(c)\n",
    "# 右连接\n",
    "c = pd.merge(left=a, right=b, left_on='weather', right_on='weather', how='right')\n",
    "print(c)\n",
    "# 内连接\n",
    "c = pd.merge(left=a, right=b, left_on='weather', right_on='weather', how='inner')\n",
    "print(c)\n",
    "# 外连接\n",
    "c = pd.merge(left=a, right=b, left_on='weather', right_on='weather', how='outer')\n",
    "print(c)"
   ]
  },
  {
   "cell_type": "markdown",
   "metadata": {
    "id": "FC26B40DC4F54D939B44DF495BA8B753",
    "jupyter": {},
    "mdEditEnable": false,
    "notebookId": "635e2ef48b3f3b93635b4b9c",
    "scrolled": false,
    "slideshow": {
     "slide_type": "slide"
    },
    "tags": []
   },
   "source": [
    "### 4.4.6  concat()——合并多个pd.DataFrame"
   ]
  },
  {
   "cell_type": "code",
   "execution_count": 219,
   "metadata": {
    "id": "682E27C0824F4D45A3570632F970A036",
    "jupyter": {},
    "notebookId": "635e2ef48b3f3b93635b4b9c",
    "scrolled": false,
    "slideshow": {
     "slide_type": "slide"
    },
    "tags": []
   },
   "outputs": [
    {
     "name": "stdout",
     "output_type": "stream",
     "text": [
      "   weather     p    rh\n",
      "d1   sunny   983  0.64\n",
      "d2    rain   991  0.75\n",
      "d3     fog   973  0.83\n",
      "d4    haze  1001  0.93\n",
      "d1   sunny   983  0.64\n",
      "d2    rain   991  0.75\n",
      "d3     fog   973  0.83\n",
      "d4    haze  1001  0.93\n",
      "-----\n",
      "   weather     p    rh weather     p    rh\n",
      "d1   sunny   983  0.64   sunny   983  0.64\n",
      "d2    rain   991  0.75    rain   991  0.75\n",
      "d3     fog   973  0.83     fog   973  0.83\n",
      "d4    haze  1001  0.93    haze  1001  0.93\n"
     ]
    }
   ],
   "source": [
    "# 直接按照行或列合并多个pd.DataFrame\n",
    "import pandas as pd\n",
    "a = pd.DataFrame([['sunny', 983, 0.64],\n",
    "               ['rain', 991, 0.75],\n",
    "               ['fog', 973, 0.83],\n",
    "               ['haze', 1001, 0.93]],\n",
    "              index=['d1', 'd2', 'd3', 'd4'],\n",
    "              columns=['weather', 'p', 'rh']\n",
    "             )\n",
    "print(pd.concat([a, a]))\n",
    "print('-----')\n",
    "print(pd.concat([a, a], axis=1))"
   ]
  }
 ],
 "metadata": {
  "kernelspec": {
   "display_name": "Python 3 (ipykernel)",
   "language": "python",
   "name": "python3"
  },
  "language_info": {
   "codemirror_mode": {
    "name": "ipython",
    "version": 3
   },
   "file_extension": ".py",
   "mimetype": "text/x-python",
   "name": "python",
   "nbconvert_exporter": "python",
   "pygments_lexer": "ipython3",
   "version": "3.10.9"
  }
 },
 "nbformat": 4,
 "nbformat_minor": 1
}
