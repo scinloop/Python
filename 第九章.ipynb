{
 "cells": [
  {
   "cell_type": "markdown",
   "metadata": {
    "id": "D672A6DA22044421924584DCEFE45A4F",
    "jupyter": {},
    "mdEditEnable": false,
    "notebookId": "635e855c109d8fab6617fa1c",
    "scrolled": false,
    "slideshow": {
     "slide_type": "slide"
    },
    "tags": []
   },
   "source": [
    "# 第9章 基本绘图类型与气象绘图\n"
   ]
  },
  {
   "cell_type": "markdown",
   "metadata": {
    "id": "77B3B7D97E3F4E7787F285117D864AB7",
    "jupyter": {},
    "mdEditEnable": false,
    "notebookId": "635e855c109d8fab6617fa1c",
    "scrolled": false,
    "slideshow": {
     "slide_type": "slide"
    },
    "tags": []
   },
   "source": [
    "## 9.1 折线图"
   ]
  },
  {
   "cell_type": "markdown",
   "metadata": {
    "id": "8CE89CC2F83E4DBB8F55B887CE57A67A",
    "jupyter": {},
    "mdEditEnable": false,
    "notebookId": "635e855c109d8fab6617fa1c",
    "scrolled": false,
    "slideshow": {
     "slide_type": "slide"
    },
    "tags": []
   },
   "source": [
    "### 9.1.1 基本折线图"
   ]
  },
  {
   "cell_type": "code",
   "execution_count": 1,
   "metadata": {
    "id": "007D9BDBF34A4FAC985D4A19150C944E",
    "jupyter": {},
    "notebookId": "635e855c109d8fab6617fa1c",
    "scrolled": false,
    "slideshow": {
     "slide_type": "slide"
    },
    "tags": []
   },
   "outputs": [
    {
     "ename": "FileNotFoundError",
     "evalue": "[Errno 2] No such file or directory: '/home/mw/input/pythonbook9857/AO.txt'",
     "output_type": "error",
     "traceback": [
      "\u001B[1;31m---------------------------------------------------------------------------\u001B[0m",
      "\u001B[1;31mFileNotFoundError\u001B[0m                         Traceback (most recent call last)",
      "Cell \u001B[1;32mIn[1], line 5\u001B[0m\n\u001B[0;32m      3\u001B[0m \u001B[38;5;28;01mimport\u001B[39;00m \u001B[38;5;21;01mnumpy\u001B[39;00m \u001B[38;5;28;01mas\u001B[39;00m \u001B[38;5;21;01mnp\u001B[39;00m\n\u001B[0;32m      4\u001B[0m \u001B[38;5;66;03m#读取数据\u001B[39;00m\n\u001B[1;32m----> 5\u001B[0m ao \u001B[38;5;241m=\u001B[39m \u001B[43mpd\u001B[49m\u001B[38;5;241;43m.\u001B[39;49m\u001B[43mread_csv\u001B[49m\u001B[43m(\u001B[49m\u001B[38;5;124;43m\"\u001B[39;49m\u001B[38;5;124;43m/home/mw/input/pythonbook9857/AO.txt\u001B[39;49m\u001B[38;5;124;43m\"\u001B[39;49m\u001B[43m,\u001B[49m\u001B[43msep\u001B[49m\u001B[38;5;241;43m=\u001B[39;49m\u001B[38;5;124;43m'\u001B[39;49m\u001B[38;5;124;43m\\\u001B[39;49m\u001B[38;5;124;43ms+\u001B[39;49m\u001B[38;5;124;43m'\u001B[39;49m\u001B[43m,\u001B[49m\u001B[43mheader\u001B[49m\u001B[38;5;241;43m=\u001B[39;49m\u001B[38;5;28;43;01mNone\u001B[39;49;00m\u001B[43m,\u001B[49m\u001B[43m \u001B[49m\u001B[43mnames\u001B[49m\u001B[38;5;241;43m=\u001B[39;49m\u001B[43m[\u001B[49m\u001B[38;5;124;43m'\u001B[39;49m\u001B[38;5;124;43myear\u001B[39;49m\u001B[38;5;124;43m'\u001B[39;49m\u001B[43m,\u001B[49m\u001B[38;5;124;43m'\u001B[39;49m\u001B[38;5;124;43mmonth\u001B[39;49m\u001B[38;5;124;43m'\u001B[39;49m\u001B[43m,\u001B[49m\u001B[38;5;124;43m'\u001B[39;49m\u001B[38;5;124;43mAO\u001B[39;49m\u001B[38;5;124;43m'\u001B[39;49m\u001B[43m]\u001B[49m\u001B[43m)\u001B[49m  \n\u001B[0;32m      6\u001B[0m ao_jan \u001B[38;5;241m=\u001B[39m ao[ao\u001B[38;5;241m.\u001B[39mmonth\u001B[38;5;241m==\u001B[39m\u001B[38;5;241m1\u001B[39m]\n\u001B[0;32m      7\u001B[0m \u001B[38;5;66;03m#创建Figure\u001B[39;00m\n",
      "File \u001B[1;32mC:\\python\\Lib\\site-packages\\pandas\\io\\parsers\\readers.py:948\u001B[0m, in \u001B[0;36mread_csv\u001B[1;34m(filepath_or_buffer, sep, delimiter, header, names, index_col, usecols, dtype, engine, converters, true_values, false_values, skipinitialspace, skiprows, skipfooter, nrows, na_values, keep_default_na, na_filter, verbose, skip_blank_lines, parse_dates, infer_datetime_format, keep_date_col, date_parser, date_format, dayfirst, cache_dates, iterator, chunksize, compression, thousands, decimal, lineterminator, quotechar, quoting, doublequote, escapechar, comment, encoding, encoding_errors, dialect, on_bad_lines, delim_whitespace, low_memory, memory_map, float_precision, storage_options, dtype_backend)\u001B[0m\n\u001B[0;32m    935\u001B[0m kwds_defaults \u001B[38;5;241m=\u001B[39m _refine_defaults_read(\n\u001B[0;32m    936\u001B[0m     dialect,\n\u001B[0;32m    937\u001B[0m     delimiter,\n\u001B[1;32m   (...)\u001B[0m\n\u001B[0;32m    944\u001B[0m     dtype_backend\u001B[38;5;241m=\u001B[39mdtype_backend,\n\u001B[0;32m    945\u001B[0m )\n\u001B[0;32m    946\u001B[0m kwds\u001B[38;5;241m.\u001B[39mupdate(kwds_defaults)\n\u001B[1;32m--> 948\u001B[0m \u001B[38;5;28;01mreturn\u001B[39;00m \u001B[43m_read\u001B[49m\u001B[43m(\u001B[49m\u001B[43mfilepath_or_buffer\u001B[49m\u001B[43m,\u001B[49m\u001B[43m \u001B[49m\u001B[43mkwds\u001B[49m\u001B[43m)\u001B[49m\n",
      "File \u001B[1;32mC:\\python\\Lib\\site-packages\\pandas\\io\\parsers\\readers.py:611\u001B[0m, in \u001B[0;36m_read\u001B[1;34m(filepath_or_buffer, kwds)\u001B[0m\n\u001B[0;32m    608\u001B[0m _validate_names(kwds\u001B[38;5;241m.\u001B[39mget(\u001B[38;5;124m\"\u001B[39m\u001B[38;5;124mnames\u001B[39m\u001B[38;5;124m\"\u001B[39m, \u001B[38;5;28;01mNone\u001B[39;00m))\n\u001B[0;32m    610\u001B[0m \u001B[38;5;66;03m# Create the parser.\u001B[39;00m\n\u001B[1;32m--> 611\u001B[0m parser \u001B[38;5;241m=\u001B[39m \u001B[43mTextFileReader\u001B[49m\u001B[43m(\u001B[49m\u001B[43mfilepath_or_buffer\u001B[49m\u001B[43m,\u001B[49m\u001B[43m \u001B[49m\u001B[38;5;241;43m*\u001B[39;49m\u001B[38;5;241;43m*\u001B[39;49m\u001B[43mkwds\u001B[49m\u001B[43m)\u001B[49m\n\u001B[0;32m    613\u001B[0m \u001B[38;5;28;01mif\u001B[39;00m chunksize \u001B[38;5;129;01mor\u001B[39;00m iterator:\n\u001B[0;32m    614\u001B[0m     \u001B[38;5;28;01mreturn\u001B[39;00m parser\n",
      "File \u001B[1;32mC:\\python\\Lib\\site-packages\\pandas\\io\\parsers\\readers.py:1448\u001B[0m, in \u001B[0;36mTextFileReader.__init__\u001B[1;34m(self, f, engine, **kwds)\u001B[0m\n\u001B[0;32m   1445\u001B[0m     \u001B[38;5;28mself\u001B[39m\u001B[38;5;241m.\u001B[39moptions[\u001B[38;5;124m\"\u001B[39m\u001B[38;5;124mhas_index_names\u001B[39m\u001B[38;5;124m\"\u001B[39m] \u001B[38;5;241m=\u001B[39m kwds[\u001B[38;5;124m\"\u001B[39m\u001B[38;5;124mhas_index_names\u001B[39m\u001B[38;5;124m\"\u001B[39m]\n\u001B[0;32m   1447\u001B[0m \u001B[38;5;28mself\u001B[39m\u001B[38;5;241m.\u001B[39mhandles: IOHandles \u001B[38;5;241m|\u001B[39m \u001B[38;5;28;01mNone\u001B[39;00m \u001B[38;5;241m=\u001B[39m \u001B[38;5;28;01mNone\u001B[39;00m\n\u001B[1;32m-> 1448\u001B[0m \u001B[38;5;28mself\u001B[39m\u001B[38;5;241m.\u001B[39m_engine \u001B[38;5;241m=\u001B[39m \u001B[38;5;28;43mself\u001B[39;49m\u001B[38;5;241;43m.\u001B[39;49m\u001B[43m_make_engine\u001B[49m\u001B[43m(\u001B[49m\u001B[43mf\u001B[49m\u001B[43m,\u001B[49m\u001B[43m \u001B[49m\u001B[38;5;28;43mself\u001B[39;49m\u001B[38;5;241;43m.\u001B[39;49m\u001B[43mengine\u001B[49m\u001B[43m)\u001B[49m\n",
      "File \u001B[1;32mC:\\python\\Lib\\site-packages\\pandas\\io\\parsers\\readers.py:1705\u001B[0m, in \u001B[0;36mTextFileReader._make_engine\u001B[1;34m(self, f, engine)\u001B[0m\n\u001B[0;32m   1703\u001B[0m     \u001B[38;5;28;01mif\u001B[39;00m \u001B[38;5;124m\"\u001B[39m\u001B[38;5;124mb\u001B[39m\u001B[38;5;124m\"\u001B[39m \u001B[38;5;129;01mnot\u001B[39;00m \u001B[38;5;129;01min\u001B[39;00m mode:\n\u001B[0;32m   1704\u001B[0m         mode \u001B[38;5;241m+\u001B[39m\u001B[38;5;241m=\u001B[39m \u001B[38;5;124m\"\u001B[39m\u001B[38;5;124mb\u001B[39m\u001B[38;5;124m\"\u001B[39m\n\u001B[1;32m-> 1705\u001B[0m \u001B[38;5;28mself\u001B[39m\u001B[38;5;241m.\u001B[39mhandles \u001B[38;5;241m=\u001B[39m \u001B[43mget_handle\u001B[49m\u001B[43m(\u001B[49m\n\u001B[0;32m   1706\u001B[0m \u001B[43m    \u001B[49m\u001B[43mf\u001B[49m\u001B[43m,\u001B[49m\n\u001B[0;32m   1707\u001B[0m \u001B[43m    \u001B[49m\u001B[43mmode\u001B[49m\u001B[43m,\u001B[49m\n\u001B[0;32m   1708\u001B[0m \u001B[43m    \u001B[49m\u001B[43mencoding\u001B[49m\u001B[38;5;241;43m=\u001B[39;49m\u001B[38;5;28;43mself\u001B[39;49m\u001B[38;5;241;43m.\u001B[39;49m\u001B[43moptions\u001B[49m\u001B[38;5;241;43m.\u001B[39;49m\u001B[43mget\u001B[49m\u001B[43m(\u001B[49m\u001B[38;5;124;43m\"\u001B[39;49m\u001B[38;5;124;43mencoding\u001B[39;49m\u001B[38;5;124;43m\"\u001B[39;49m\u001B[43m,\u001B[49m\u001B[43m \u001B[49m\u001B[38;5;28;43;01mNone\u001B[39;49;00m\u001B[43m)\u001B[49m\u001B[43m,\u001B[49m\n\u001B[0;32m   1709\u001B[0m \u001B[43m    \u001B[49m\u001B[43mcompression\u001B[49m\u001B[38;5;241;43m=\u001B[39;49m\u001B[38;5;28;43mself\u001B[39;49m\u001B[38;5;241;43m.\u001B[39;49m\u001B[43moptions\u001B[49m\u001B[38;5;241;43m.\u001B[39;49m\u001B[43mget\u001B[49m\u001B[43m(\u001B[49m\u001B[38;5;124;43m\"\u001B[39;49m\u001B[38;5;124;43mcompression\u001B[39;49m\u001B[38;5;124;43m\"\u001B[39;49m\u001B[43m,\u001B[49m\u001B[43m \u001B[49m\u001B[38;5;28;43;01mNone\u001B[39;49;00m\u001B[43m)\u001B[49m\u001B[43m,\u001B[49m\n\u001B[0;32m   1710\u001B[0m \u001B[43m    \u001B[49m\u001B[43mmemory_map\u001B[49m\u001B[38;5;241;43m=\u001B[39;49m\u001B[38;5;28;43mself\u001B[39;49m\u001B[38;5;241;43m.\u001B[39;49m\u001B[43moptions\u001B[49m\u001B[38;5;241;43m.\u001B[39;49m\u001B[43mget\u001B[49m\u001B[43m(\u001B[49m\u001B[38;5;124;43m\"\u001B[39;49m\u001B[38;5;124;43mmemory_map\u001B[39;49m\u001B[38;5;124;43m\"\u001B[39;49m\u001B[43m,\u001B[49m\u001B[43m \u001B[49m\u001B[38;5;28;43;01mFalse\u001B[39;49;00m\u001B[43m)\u001B[49m\u001B[43m,\u001B[49m\n\u001B[0;32m   1711\u001B[0m \u001B[43m    \u001B[49m\u001B[43mis_text\u001B[49m\u001B[38;5;241;43m=\u001B[39;49m\u001B[43mis_text\u001B[49m\u001B[43m,\u001B[49m\n\u001B[0;32m   1712\u001B[0m \u001B[43m    \u001B[49m\u001B[43merrors\u001B[49m\u001B[38;5;241;43m=\u001B[39;49m\u001B[38;5;28;43mself\u001B[39;49m\u001B[38;5;241;43m.\u001B[39;49m\u001B[43moptions\u001B[49m\u001B[38;5;241;43m.\u001B[39;49m\u001B[43mget\u001B[49m\u001B[43m(\u001B[49m\u001B[38;5;124;43m\"\u001B[39;49m\u001B[38;5;124;43mencoding_errors\u001B[39;49m\u001B[38;5;124;43m\"\u001B[39;49m\u001B[43m,\u001B[49m\u001B[43m \u001B[49m\u001B[38;5;124;43m\"\u001B[39;49m\u001B[38;5;124;43mstrict\u001B[39;49m\u001B[38;5;124;43m\"\u001B[39;49m\u001B[43m)\u001B[49m\u001B[43m,\u001B[49m\n\u001B[0;32m   1713\u001B[0m \u001B[43m    \u001B[49m\u001B[43mstorage_options\u001B[49m\u001B[38;5;241;43m=\u001B[39;49m\u001B[38;5;28;43mself\u001B[39;49m\u001B[38;5;241;43m.\u001B[39;49m\u001B[43moptions\u001B[49m\u001B[38;5;241;43m.\u001B[39;49m\u001B[43mget\u001B[49m\u001B[43m(\u001B[49m\u001B[38;5;124;43m\"\u001B[39;49m\u001B[38;5;124;43mstorage_options\u001B[39;49m\u001B[38;5;124;43m\"\u001B[39;49m\u001B[43m,\u001B[49m\u001B[43m \u001B[49m\u001B[38;5;28;43;01mNone\u001B[39;49;00m\u001B[43m)\u001B[49m\u001B[43m,\u001B[49m\n\u001B[0;32m   1714\u001B[0m \u001B[43m\u001B[49m\u001B[43m)\u001B[49m\n\u001B[0;32m   1715\u001B[0m \u001B[38;5;28;01massert\u001B[39;00m \u001B[38;5;28mself\u001B[39m\u001B[38;5;241m.\u001B[39mhandles \u001B[38;5;129;01mis\u001B[39;00m \u001B[38;5;129;01mnot\u001B[39;00m \u001B[38;5;28;01mNone\u001B[39;00m\n\u001B[0;32m   1716\u001B[0m f \u001B[38;5;241m=\u001B[39m \u001B[38;5;28mself\u001B[39m\u001B[38;5;241m.\u001B[39mhandles\u001B[38;5;241m.\u001B[39mhandle\n",
      "File \u001B[1;32mC:\\python\\Lib\\site-packages\\pandas\\io\\common.py:863\u001B[0m, in \u001B[0;36mget_handle\u001B[1;34m(path_or_buf, mode, encoding, compression, memory_map, is_text, errors, storage_options)\u001B[0m\n\u001B[0;32m    858\u001B[0m \u001B[38;5;28;01melif\u001B[39;00m \u001B[38;5;28misinstance\u001B[39m(handle, \u001B[38;5;28mstr\u001B[39m):\n\u001B[0;32m    859\u001B[0m     \u001B[38;5;66;03m# Check whether the filename is to be opened in binary mode.\u001B[39;00m\n\u001B[0;32m    860\u001B[0m     \u001B[38;5;66;03m# Binary mode does not support 'encoding' and 'newline'.\u001B[39;00m\n\u001B[0;32m    861\u001B[0m     \u001B[38;5;28;01mif\u001B[39;00m ioargs\u001B[38;5;241m.\u001B[39mencoding \u001B[38;5;129;01mand\u001B[39;00m \u001B[38;5;124m\"\u001B[39m\u001B[38;5;124mb\u001B[39m\u001B[38;5;124m\"\u001B[39m \u001B[38;5;129;01mnot\u001B[39;00m \u001B[38;5;129;01min\u001B[39;00m ioargs\u001B[38;5;241m.\u001B[39mmode:\n\u001B[0;32m    862\u001B[0m         \u001B[38;5;66;03m# Encoding\u001B[39;00m\n\u001B[1;32m--> 863\u001B[0m         handle \u001B[38;5;241m=\u001B[39m \u001B[38;5;28;43mopen\u001B[39;49m\u001B[43m(\u001B[49m\n\u001B[0;32m    864\u001B[0m \u001B[43m            \u001B[49m\u001B[43mhandle\u001B[49m\u001B[43m,\u001B[49m\n\u001B[0;32m    865\u001B[0m \u001B[43m            \u001B[49m\u001B[43mioargs\u001B[49m\u001B[38;5;241;43m.\u001B[39;49m\u001B[43mmode\u001B[49m\u001B[43m,\u001B[49m\n\u001B[0;32m    866\u001B[0m \u001B[43m            \u001B[49m\u001B[43mencoding\u001B[49m\u001B[38;5;241;43m=\u001B[39;49m\u001B[43mioargs\u001B[49m\u001B[38;5;241;43m.\u001B[39;49m\u001B[43mencoding\u001B[49m\u001B[43m,\u001B[49m\n\u001B[0;32m    867\u001B[0m \u001B[43m            \u001B[49m\u001B[43merrors\u001B[49m\u001B[38;5;241;43m=\u001B[39;49m\u001B[43merrors\u001B[49m\u001B[43m,\u001B[49m\n\u001B[0;32m    868\u001B[0m \u001B[43m            \u001B[49m\u001B[43mnewline\u001B[49m\u001B[38;5;241;43m=\u001B[39;49m\u001B[38;5;124;43m\"\u001B[39;49m\u001B[38;5;124;43m\"\u001B[39;49m\u001B[43m,\u001B[49m\n\u001B[0;32m    869\u001B[0m \u001B[43m        \u001B[49m\u001B[43m)\u001B[49m\n\u001B[0;32m    870\u001B[0m     \u001B[38;5;28;01melse\u001B[39;00m:\n\u001B[0;32m    871\u001B[0m         \u001B[38;5;66;03m# Binary mode\u001B[39;00m\n\u001B[0;32m    872\u001B[0m         handle \u001B[38;5;241m=\u001B[39m \u001B[38;5;28mopen\u001B[39m(handle, ioargs\u001B[38;5;241m.\u001B[39mmode)\n",
      "\u001B[1;31mFileNotFoundError\u001B[0m: [Errno 2] No such file or directory: '/home/mw/input/pythonbook9857/AO.txt'"
     ]
    }
   ],
   "source": [
    "import pandas as pd\n",
    "import matplotlib.pyplot as plt\n",
    "import numpy as np\n",
    "#读取数据\n",
    "ao = pd.read_csv(\"/home/mw/input/pythonbook9857/AO.txt\",sep='\\s+',header=None, names=['year','month','AO'])  \n",
    "ao_jan = ao[ao.month==1]\n",
    "#创建Figure\n",
    "fig = plt.figure(figsize=(10, 8))\n",
    "#创建Axes\n",
    "ax1 = fig.add_subplot(1,1,1)\n",
    "#绘制折线图\n",
    "ax1.plot(np.arange(1950,2020,1),ao_jan.AO, 'ko-')\n",
    "#添加图题\n",
    "ax1.set_title('1950-2019 January AO Index')\n",
    "#添加y=0水平参考线\n",
    "ax1.axhline(0,ls=':',c='r')\n",
    "#添加x=1990垂直参考线\n",
    "ax1.axvline(1990,ls='--',c='g')\n",
    "plt.show()"
   ]
  },
  {
   "cell_type": "markdown",
   "metadata": {
    "id": "D3EC1224D67745A0B07536EF7B75D159",
    "jupyter": {},
    "mdEditEnable": false,
    "notebookId": "635e855c109d8fab6617fa1c",
    "scrolled": false,
    "slideshow": {
     "slide_type": "slide"
    },
    "tags": []
   },
   "source": [
    "### 9.1.2  多折线图"
   ]
  },
  {
   "cell_type": "code",
   "execution_count": null,
   "metadata": {
    "id": "BFE2ABDA23A64B048D152018B47D9EA1",
    "jupyter": {},
    "notebookId": "635e855c109d8fab6617fa1c",
    "scrolled": false,
    "slideshow": {
     "slide_type": "slide"
    },
    "tags": []
   },
   "outputs": [],
   "source": [
    "import pandas as pd\n",
    "import matplotlib.pyplot as plt\n",
    "import numpy as np\n",
    "ao = pd.read_csv(\"/home/mw/input/pythonbook9857/AO.txt\",sep='\\s+',header=None, names=['year','month','AO'])  \n",
    "ao_jan = ao[ao.month==1]\n",
    "ao_feb = ao[ao.month==2]\n",
    "fig = plt.figure(figsize=(10, 8))\n",
    "ax1 = fig.add_subplot(2,1,1)\n",
    "#绘制第一个序列\n",
    "ax1.plot(np.arange(1950,2020,1),ao_jan.AO,'ko-',label='Jan')\n",
    "#绘制第二个序列\n",
    "ax1.plot(np.arange(1950,2020,1),ao_feb.AO,'rs-',label='Feb')\n",
    "ax1.set_title('1950-2019 AO Index')\n",
    "#添加图例\n",
    "ax1.legend()\n",
    "plt.show()\n"
   ]
  },
  {
   "cell_type": "markdown",
   "metadata": {
    "id": "A1FA932A9AB64D9C86E60D7DCFD9E53C",
    "jupyter": {},
    "mdEditEnable": false,
    "notebookId": "635e855c109d8fab6617fa1c",
    "scrolled": false,
    "slideshow": {
     "slide_type": "slide"
    },
    "tags": []
   },
   "source": [
    "### 9.1.3 多y轴折线图"
   ]
  },
  {
   "cell_type": "code",
   "execution_count": null,
   "metadata": {
    "id": "1B56F02ECE274140805A108D4A8E58B3",
    "jupyter": {},
    "notebookId": "635e855c109d8fab6617fa1c",
    "scrolled": false,
    "slideshow": {
     "slide_type": "slide"
    },
    "tags": []
   },
   "outputs": [],
   "source": [
    "import matplotlib.pyplot as plt\n",
    "import numpy as np\n",
    "#读取数据\n",
    "ao = pd.read_csv(\"/home/mw/input/pythonbook9857/AO.txt\",sep='\\s+',header=None, names=['year','month','AO'])  \n",
    "ao_jan = ao[ao.month==1]\n",
    "ao_feb = ao[ao.month==2]\n",
    "#创建Figure\n",
    "fig = plt.figure()\n",
    "#绘制单y轴折线图\n",
    "ax1 = fig.add_subplot(1,1,1)\n",
    "ax1.plot(np.arange(1950,2020,1),ao_jan.AO,'ko-',label='Jan')\n",
    "ax1.set_ylabel('January',c='r')\n",
    "ax1.set_title('1950-2019 AO Index')\n",
    "#创建第二个y轴\n",
    "ax2 = ax1.twinx()  \n",
    "ax2.plot(np.arange(1950,2020,1),ao_feb.AO,'rs-',label='Feb')\n",
    "ax2.set_ylim(-4,4)\n",
    "ax2.set_ylabel('February',c='k')\n"
   ]
  },
  {
   "cell_type": "code",
   "execution_count": null,
   "metadata": {
    "id": "C5BBD34C3272422F95EB160077FAF3A9",
    "jupyter": {},
    "notebookId": "635e855c109d8fab6617fa1c",
    "scrolled": false,
    "slideshow": {
     "slide_type": "slide"
    },
    "tags": []
   },
   "outputs": [],
   "source": [
    "from mpl_toolkits.axisartist.parasite_axes import HostAxes, ParasiteAxes\n",
    "import matplotlib.pyplot as plt\n",
    "import numpy as np\n",
    "#读取数据\n",
    "ao = pd.read_csv(\"/home/mw/input/pythonbook9857/AO.txt\",sep='\\s+',header=None, names=['year','month','AO'])  \n",
    "ao_dec = ao[ao.month==12]\n",
    "ao_jan = ao[ao.month==1]\n",
    "ao_feb = ao[ao.month==2]\n",
    "ao_djf = (ao_jan.AO.values+ao_feb.AO.values+ao_dec.AO.values)/3\n",
    "#创建Figure\n",
    "fig = plt.figure() \n",
    "#创建主轴\n",
    "ax = HostAxes(fig, [0, 0, 0.9, 0.9])  #[left, bottom, weight, height]\n",
    "#创建共享x轴的其他y轴\n",
    "ax1 = ParasiteAxes(ax, sharex=ax)\n",
    "ax2 = ParasiteAxes(ax, sharex=ax)\n",
    "ax3 = ParasiteAxes(ax, sharex=ax)\n",
    "ax.parasites.append(ax1)\n",
    "ax.parasites.append(ax2)\n",
    "ax.parasites.append(ax3)\n",
    "#将主轴的右轴隐藏，同时开始设置第二个轴的可见性\n",
    "ax.axis['right'].set_visible(False)\n",
    "ax1.axis['right'].set_visible(True)\n",
    "ax1.axis['right'].major_ticklabels.set_visible(True)\n",
    "ax1.axis['right'].label.set_visible(True)\n",
    "#设置各轴的标签\n",
    "ax.set_ylabel('DJF')\n",
    "ax.set_xlabel('year')\n",
    "ax1.set_ylabel('Dec')\n",
    "ax2.set_ylabel('Jan')\n",
    "ax3.set_ylabel('Feb')\n",
    "#设置第三个和第四个y轴的位置\n",
    "axisline2 = ax2.get_grid_helper().new_fixed_axis\n",
    "axisline3 = ax3.get_grid_helper().new_fixed_axis\n",
    "ax2.axis['right2'] = axisline2(loc='right', axes=ax2, offset=(40,0))\n",
    "ax3.axis['right3'] = axisline3(loc='right', axes=ax3, offset=(80,0))\n",
    "#将设置好的主轴的Axes放在Figure上\n",
    "fig.add_axes(ax)\n",
    "#绘制折线\n",
    "ax.plot(np.arange(1950,2020,1), ao_djf, label=\"DJF\", color='black')\n",
    "ax1.plot(np.arange(1950,2020,1), ao_dec.AO, label=\"Dec\", color='red')\n",
    "ax2.plot(np.arange(1950,2020,1), ao_jan.AO, label=\"Jan\", color='green')\n",
    "ax3.plot(np.arange(1950,2020,1), ao_feb.AO, label=\"Feb\", color='orange')\n",
    "ax1.set_ylim(-4,4)\n",
    "ax2.set_ylim(-5,5)\n",
    "ax3.set_ylim(-6,6)\n",
    "ax.legend()\n",
    "#设置各个轴及其刻度的颜色\n",
    "ax1.axis['right'].major_ticks.set_color('red')\n",
    "ax2.axis['right2'].major_ticks.set_color('green')\n",
    "ax3.axis['right3'].major_ticks.set_color('blue')\n",
    "ax1.axis['right'].major_ticklabels.set_color('red')\n",
    "ax2.axis['right2'].major_ticklabels.set_color('green')\n",
    "ax3.axis['right3'].major_ticklabels.set_color('blue')\n",
    "ax1.axis['right'].line.set_color('red')\n",
    "ax2.axis['right2'].line.set_color('green')\n",
    "ax3.axis['right3'].line.set_color('blue')\n",
    "plt.show()"
   ]
  },
  {
   "cell_type": "markdown",
   "metadata": {
    "id": "8F3930265DA54AEE85920F545EE13215",
    "jupyter": {},
    "mdEditEnable": false,
    "notebookId": "635e855c109d8fab6617fa1c",
    "scrolled": false,
    "slideshow": {
     "slide_type": "slide"
    },
    "tags": []
   },
   "source": [
    "### 9.1.4  非等比坐标轴图"
   ]
  },
  {
   "cell_type": "code",
   "execution_count": null,
   "metadata": {
    "id": "A2C6178E45A8442081D83665555370C9",
    "jupyter": {},
    "notebookId": "635e855c109d8fab6617fa1c",
    "scrolled": false,
    "slideshow": {
     "slide_type": "slide"
    },
    "tags": []
   },
   "outputs": [],
   "source": [
    "import xarray as xr\n",
    "import matplotlib.pyplot as plt\n",
    "import cartopy.crs as ccrs\n",
    "import cartopy.feature as cfeature\n",
    "import pandas as pd\n",
    "import matplotlib.ticker as ticker\n",
    "#读取数据\n",
    "f = xr.open_dataset('/home/mw/input/pythonbook9857/data.nc')\n",
    "t = f['air'].loc['2005-07-01',:,45,120]\n",
    "lev = t.level\n",
    "#创建Figure\n",
    "fig = plt.figure(figsize=(15,5))\n",
    "#设置为log\n",
    "ax1 = fig.add_subplot(1,3,1)\n",
    "ax1.plot(t,lev)\n",
    "ax1.set_ylim(1000,100)\n",
    "ax1.set_yscale('log')\n",
    "ax1.set_title('log')\n",
    "ax1.set_yticks([1000,850,700,500,300,200,100])\n",
    "ax1.set_yticklabels([1000,850,700,500,300,200,100])\n",
    "#隐藏次坐标刻度\n",
    "ax1.yaxis.set_minor_formatter(ticker.NullFormatter())\n",
    "#设置为symlog\n",
    "ax2 = fig.add_subplot(1,3,2)\n",
    "ax2.plot(t,lev)\n",
    "ax2.set_ylim(1000,100)\n",
    "ax2.set_yscale('symlog')\n",
    "ax2.set_title('symlog')\n",
    "ax2.set_yticks([1000,850,700,500,300,200,100])\n",
    "ax2.set_yticklabels([1000,850,700,500,300,200,100])\n",
    "#设置为linear\n",
    "ax3 = fig.add_subplot(1,3,3)\n",
    "ax3.plot(t,lev)\n",
    "ax3.invert_yaxis()\n",
    "ax3.set_yscale('linear')\n",
    "ax3.set_title('linear')\n",
    "ax3.set_yticks([1000,850,700,500,300,200,100])\n",
    "ax3.set_yticklabels([1000,850,700,500,300,200,100])\n",
    "plt.show()\n"
   ]
  },
  {
   "cell_type": "markdown",
   "metadata": {
    "id": "9A6A1DAF517A444CA8DB3C32E43D70BC",
    "jupyter": {},
    "mdEditEnable": false,
    "notebookId": "635e855c109d8fab6617fa1c",
    "scrolled": false,
    "slideshow": {
     "slide_type": "slide"
    },
    "tags": []
   },
   "source": [
    "### 9.2.1  基础散点图"
   ]
  },
  {
   "cell_type": "code",
   "execution_count": 7,
   "metadata": {
    "id": "E1EE60EAE2204E0183767B39C33B415A",
    "jupyter": {},
    "notebookId": "635e855c109d8fab6617fa1c",
    "scrolled": false,
    "slideshow": {
     "slide_type": "slide"
    },
    "tags": []
   },
   "outputs": [
    {
     "data": {
      "text/html": [
       "<img src=\"https://cdn.kesci.com/upload/rt/E1EE60EAE2204E0183767B39C33B415A/rpaviznobd.png\">"
      ],
      "text/plain": [
       "<Figure size 432x288 with 1 Axes>"
      ]
     },
     "metadata": {
      "needs_background": "light"
     },
     "output_type": "display_data"
    }
   ],
   "source": [
    "import matplotlib.pyplot as plt\n",
    "import numpy as np\n",
    "rng = np.random.RandomState(0).rand(5)\n",
    "markers = ['o','+','*','s','<']\n",
    "labels = ['CNRM-CM3','GFDL-CM2.0','GISS-AOM','MIROC3.2','CCSM3',]\n",
    "#绘制散点图\n",
    "fig = plt.figure()\n",
    "ax1 = fig.add_subplot(1,1,1)\n",
    "#通过循环，每次绘制一种标记的散点，循环5次\n",
    "for i in range(5):\n",
    "    ax1.scatter(rng,rng,marker=markers[i],label=labels[i])\n",
    "ax1.legend()\n",
    "plt.show()\n"
   ]
  },
  {
   "cell_type": "markdown",
   "metadata": {
    "id": "7F56F71236A64C9DBD0A08DD33521FE1",
    "jupyter": {},
    "mdEditEnable": false,
    "notebookId": "635e855c109d8fab6617fa1c",
    "scrolled": false,
    "slideshow": {
     "slide_type": "slide"
    },
    "tags": []
   },
   "source": [
    "## 9.2 散点图"
   ]
  },
  {
   "cell_type": "markdown",
   "metadata": {
    "id": "715FC11A3751469D8DD499141B0C4F5C",
    "jupyter": {},
    "mdEditEnable": false,
    "notebookId": "635e855c109d8fab6617fa1c",
    "scrolled": false,
    "slideshow": {
     "slide_type": "slide"
    },
    "tags": []
   },
   "source": [
    "### 9.2.2  带有地图投影的散点图"
   ]
  },
  {
   "cell_type": "code",
   "execution_count": 8,
   "metadata": {
    "id": "81A16A298C614F4485B439D13A8404BA",
    "jupyter": {},
    "notebookId": "635e855c109d8fab6617fa1c",
    "scrolled": false,
    "slideshow": {
     "slide_type": "slide"
    },
    "tags": []
   },
   "outputs": [
    {
     "data": {
      "text/html": [
       "<img src=\"https://cdn.kesci.com/upload/rt/81A16A298C614F4485B439D13A8404BA/rpaviz8xjl.png\">"
      ],
      "text/plain": [
       "<Figure size 720x576 with 2 Axes>"
      ]
     },
     "metadata": {
      "needs_background": "light"
     },
     "output_type": "display_data"
    }
   ],
   "source": [
    "import pandas as pd\n",
    "import matplotlib.pyplot as plt\n",
    "import cartopy.crs as ccrs\n",
    "import cartopy.feature as cfeature\n",
    "import cartopy.mpl.ticker as cticker\n",
    "import cartopy.io.shapereader as shpreader\n",
    "data = pd.read_csv(\"/home/mw/input/pythonbook9857/825station.txt\",sep='\\s+',header=None, names=['stat','lat','lon','high'])\n",
    "fig = plt.figure(figsize=(10, 8))\n",
    "ax1 = fig.add_subplot(1,1,1,projection = ccrs.PlateCarree(central_longitude=105) )\n",
    "#设置图形范围及刻度\n",
    "ax1.set_extent([70,110,30,60], crs=ccrs.PlateCarree())\n",
    "ax1.set_xticks(np.arange(70,120,10), crs=ccrs.PlateCarree())\n",
    "ax1.set_yticks(np.arange(30,70,10), crs=ccrs.PlateCarree())\n",
    "ax1.xaxis.set_major_formatter(cticker.LongitudeFormatter())\n",
    "ax1.yaxis.set_major_formatter(cticker.LatitudeFormatter())\n",
    "#绘制站点的三维分布图\n",
    "s = ax1.scatter(data.lon,data.lat,s = 5,c = data.high,cmap='jet',transform=ccrs.PlateCarree())\n",
    "#添加色标，fraction参数用于设置色标缩放比例\n",
    "fig.colorbar(s,ax=ax1,fraction=0.034)\n",
    "#添加海岸线等特征\n",
    "# ax1.add_feature(cfeature.COASTLINE.with_scale('50m'))\n",
    "# china = shpreader.Reader('/data/home/zenggang/yxy/shp/bou2_4l.dbf').geometries()\n",
    "# ax1.add_geometries(china, ccrs.PlateCarree(),facecolor='none', edgecolor='black',zorder = 1)\n",
    "plt.show()\n"
   ]
  },
  {
   "cell_type": "markdown",
   "metadata": {
    "id": "CCA920AE37304AB388E168B810867673",
    "jupyter": {},
    "mdEditEnable": false,
    "notebookId": "635e855c109d8fab6617fa1c",
    "scrolled": false,
    "slideshow": {
     "slide_type": "slide"
    },
    "tags": []
   },
   "source": [
    "## 9.3  柱状图"
   ]
  },
  {
   "cell_type": "markdown",
   "metadata": {
    "id": "B48A1C0147274F46838A96FF9FB90FF8",
    "jupyter": {},
    "mdEditEnable": false,
    "notebookId": "635e855c109d8fab6617fa1c",
    "scrolled": false,
    "slideshow": {
     "slide_type": "slide"
    },
    "tags": []
   },
   "source": [
    "### 9.3.1  单变量柱状图"
   ]
  },
  {
   "cell_type": "code",
   "execution_count": 9,
   "metadata": {
    "id": "1C93B81B383B40C48B3F0F091C9C2927",
    "jupyter": {},
    "notebookId": "635e855c109d8fab6617fa1c",
    "scrolled": false,
    "slideshow": {
     "slide_type": "slide"
    },
    "tags": []
   },
   "outputs": [
    {
     "data": {
      "text/html": [
       "<img src=\"https://cdn.kesci.com/upload/rt/1C93B81B383B40C48B3F0F091C9C2927/rpavj0al4s.png\">"
      ],
      "text/plain": [
       "<Figure size 720x576 with 1 Axes>"
      ]
     },
     "metadata": {
      "needs_background": "light"
     },
     "output_type": "display_data"
    }
   ],
   "source": [
    "import pandas as pd\n",
    "import matplotlib.pyplot as plt\n",
    "#读取数据\n",
    "ao = pd.read_csv(\"/home/mw/input/pythonbook9857/AO.txt\",sep='\\s+',header=None, names=['year','month','AO'])  \n",
    "ao_jan = ao[ao.month==1]\n",
    "#创建Figure及Axes\n",
    "fig = plt.figure(figsize=(10, 8))\n",
    "ax1 = fig.add_subplot(1,1,1)\n",
    "ax1.set_title('1950-2019 January AO Index')\n",
    "#绘制单变量柱状图\n",
    "ax1.bar(np.arange(1950,2020,1),ao_jan.AO)\n",
    "#添加0值参考线\n",
    "ax1.axhline(0,c='k')\n",
    "plt.show()\n"
   ]
  },
  {
   "cell_type": "code",
   "execution_count": 10,
   "metadata": {
    "id": "BF204CF2415B4BC6B417DBDEC7BD2F48",
    "jupyter": {},
    "notebookId": "635e855c109d8fab6617fa1c",
    "scrolled": false,
    "slideshow": {
     "slide_type": "slide"
    },
    "tags": []
   },
   "outputs": [
    {
     "name": "stderr",
     "output_type": "stream",
     "text": [
      "/opt/conda/lib/python3.7/site-packages/ipykernel_launcher.py:7: DeprecationWarning: `np.str` is a deprecated alias for the builtin `str`. To silence this warning, use `str` by itself. Doing this will not modify any behavior and is safe. If you specifically wanted the numpy scalar type, use `np.str_` here.\n",
      "Deprecated in NumPy 1.20; for more details and guidance: https://numpy.org/devdocs/release/1.20.0-notes.html#deprecations\n",
      "  import sys\n"
     ]
    },
    {
     "data": {
      "text/html": [
       "<img src=\"https://cdn.kesci.com/upload/rt/BF204CF2415B4BC6B417DBDEC7BD2F48/rpavj0tjod.png\">"
      ],
      "text/plain": [
       "<Figure size 720x576 with 1 Axes>"
      ]
     },
     "metadata": {
      "needs_background": "light"
     },
     "output_type": "display_data"
    }
   ],
   "source": [
    "import pandas as pd\n",
    "import matplotlib.pyplot as plt\n",
    "#读取数据\n",
    "ao = pd.read_csv(\"/home/mw/input/pythonbook9857/AO.txt\",sep='\\s+',header=None, names=['year','month','AO'])  \n",
    "ao_jan = ao[ao.month==1]\n",
    "#创建颜色数组\n",
    "colors = np.zeros(ao_jan.AO.shape,dtype=np.str)\n",
    "colors[ao_jan.AO>=0] = 'red'\n",
    "colors[ao_jan.AO<0] = 'blue'\n",
    "#创建Figure及Axes\n",
    "fig = plt.figure(figsize=(10, 8))\n",
    "ax1 = fig.add_subplot(1,1,1)\n",
    "ax1.set_title('1950-2019 January AO Index')\n",
    "#绘制单变量柱状图\n",
    "ax1.bar(np.arange(1950,2020,1),ao_jan.AO,color=colors)\n",
    "#添加0值参考线\n",
    "ax1.axhline(0,c='k')\n",
    "plt.show()\n"
   ]
  },
  {
   "cell_type": "markdown",
   "metadata": {
    "id": "AC906536C7A341D686A257B05E0FF102",
    "jupyter": {},
    "mdEditEnable": false,
    "notebookId": "635e855c109d8fab6617fa1c",
    "scrolled": false,
    "slideshow": {
     "slide_type": "slide"
    },
    "tags": []
   },
   "source": [
    "### 9.3.2  多变量柱状图"
   ]
  },
  {
   "cell_type": "code",
   "execution_count": 11,
   "metadata": {
    "id": "514C49B4201A42BFAF669D37BE738C40",
    "jupyter": {},
    "notebookId": "635e855c109d8fab6617fa1c",
    "scrolled": false,
    "slideshow": {
     "slide_type": "slide"
    },
    "tags": []
   },
   "outputs": [
    {
     "data": {
      "text/html": [
       "<img src=\"https://cdn.kesci.com/upload/rt/514C49B4201A42BFAF669D37BE738C40/rpavj03dcg.png\">"
      ],
      "text/plain": [
       "<Figure size 720x576 with 1 Axes>"
      ]
     },
     "metadata": {
      "needs_background": "light"
     },
     "output_type": "display_data"
    }
   ],
   "source": [
    "import pandas as pd\n",
    "import matplotlib.pyplot as plt\n",
    "#数据读取\n",
    "ao = pd.read_csv(\"/home/mw/input/pythonbook9857/AO.txt\",sep='\\s+',header=None, names=['year','month','AO'])  \n",
    "ao_dec = ao[ao.month==12]\n",
    "ao_jan = ao[ao.month==1]\n",
    "ao_feb = ao[ao.month==2]\n",
    "#创建Figure及Axes\n",
    "fig = plt.figure(figsize=(10, 8))\n",
    "ax1 = fig.add_subplot(1,1,1)\n",
    "ax1.set_title('2000—2019 DJF AO Index')\n",
    "#绘制柱状图，ao_dec.AO[50:]表明从2000年开始绘制\n",
    "ax1.bar(np.arange(2000,2020,1)-0.25, ao_dec.AO[50:], width=0.25, color='r', label='Dec')\n",
    "ax1.bar(np.arange(2000,2020,1),ao_jan.AO[50:],width=0.25,color='b',label='Jan')\n",
    "ax1.bar(np.arange(2000,2020,1)+0.25,ao_feb.AO[50:],width=0.25,color='g',label='Feb')\n",
    "#添加0值参考线\n",
    "ax1.axhline(0,c='k')\n",
    "ax1.legend()\n",
    "#由于多变量柱状图对应的x轴的刻度不一定为整数，因此我们指定x轴刻度以避免小数出现\n",
    "ax1.set_xticks([2000,2005,2010,2015,2020])\n",
    "plt.show()\n"
   ]
  },
  {
   "cell_type": "code",
   "execution_count": 12,
   "metadata": {
    "id": "0B4088473BA445BE8DD741CDE2F86D7F",
    "jupyter": {},
    "notebookId": "635e855c109d8fab6617fa1c",
    "scrolled": false,
    "slideshow": {
     "slide_type": "slide"
    },
    "tags": []
   },
   "outputs": [
    {
     "data": {
      "text/html": [
       "<img src=\"https://cdn.kesci.com/upload/rt/0B4088473BA445BE8DD741CDE2F86D7F/rpavj0p0k9.png\">"
      ],
      "text/plain": [
       "<Figure size 720x576 with 1 Axes>"
      ]
     },
     "metadata": {
      "needs_background": "light"
     },
     "output_type": "display_data"
    }
   ],
   "source": [
    "import numpy as np\n",
    "import matplotlib.pyplot as plt\n",
    "#生成数据\n",
    "labels = ['A', 'B', 'C', 'D']\n",
    "v1 = np.array([20, 35, 30, 35])\n",
    "v2 = np.array([25, 32, 34, 20])\n",
    "v3 = np.array([11, 14, 20, 18])\n",
    "v1_std = np.array([2, 3, 4, 1])\n",
    "v2_std = np.array([3, 5, 2, 3])\n",
    "v3_std = np.array([2, 3, 4, 1])\n",
    "width = 0.35\n",
    "fig = plt.figure(figsize=(10, 8))\n",
    "ax1 = fig.add_subplot(1,1,1)\n",
    "#绘制垂直堆叠的多变量柱状图\n",
    "ax1.bar(labels, v1, width, yerr=v1_std, label='v1')\n",
    "ax1.bar(labels, v2, width, yerr=v2_std, bottom=v1,label='v2')\n",
    "ax1.bar(labels, v3, width, yerr=v3_std, bottom=v2+v1,label='v3')\n",
    "ax1.legend()\n",
    "plt.show()\n"
   ]
  },
  {
   "cell_type": "markdown",
   "metadata": {
    "id": "887FC96B2EEC4FC683E2CC5A38AE63E3",
    "jupyter": {},
    "mdEditEnable": false,
    "notebookId": "635e855c109d8fab6617fa1c",
    "scrolled": false,
    "slideshow": {
     "slide_type": "slide"
    },
    "tags": []
   },
   "source": [
    "## 9.4  箱线图"
   ]
  },
  {
   "cell_type": "code",
   "execution_count": 13,
   "metadata": {
    "id": "3096792C73A940238AAB0418BD89FA94",
    "jupyter": {},
    "notebookId": "635e855c109d8fab6617fa1c",
    "scrolled": false,
    "slideshow": {
     "slide_type": "slide"
    },
    "tags": []
   },
   "outputs": [
    {
     "data": {
      "text/html": [
       "<img src=\"https://cdn.kesci.com/upload/rt/3096792C73A940238AAB0418BD89FA94/rpavj17o51.png\">"
      ],
      "text/plain": [
       "<Figure size 720x576 with 1 Axes>"
      ]
     },
     "metadata": {
      "needs_background": "light"
     },
     "output_type": "display_data"
    }
   ],
   "source": [
    "import matplotlib.pyplot as plt\n",
    "import numpy as np\n",
    "#生成数据\n",
    "data=[np.random.normal(0,std,100) for std in range(1,4)]\n",
    "#绘制箱线图\n",
    "fig = plt.figure(figsize=(10, 8))\n",
    "ax1 = fig.add_subplot(1,1,1)\n",
    "ax1.boxplot(data,vert=True,whis=1.2,patch_artist=True,boxprops={'color':'black','facecolor':'red'})\n",
    "plt.show()\n"
   ]
  },
  {
   "cell_type": "markdown",
   "metadata": {
    "id": "90C70541571E4B7890B184794FCF33A6",
    "jupyter": {},
    "mdEditEnable": false,
    "notebookId": "635e855c109d8fab6617fa1c",
    "scrolled": false,
    "slideshow": {
     "slide_type": "slide"
    },
    "tags": []
   },
   "source": [
    "## 9.5  等值线图"
   ]
  },
  {
   "cell_type": "markdown",
   "metadata": {
    "id": "FAF8B376C28949428ACA025EAE91E25E",
    "jupyter": {},
    "mdEditEnable": false,
    "notebookId": "635e855c109d8fab6617fa1c",
    "scrolled": false,
    "slideshow": {
     "slide_type": "slide"
    },
    "tags": []
   },
   "source": [
    "### 9.5.1  基本等值线图"
   ]
  },
  {
   "cell_type": "code",
   "execution_count": 14,
   "metadata": {
    "id": "9896D419836B47FD822E83D0633402D4",
    "jupyter": {},
    "notebookId": "635e855c109d8fab6617fa1c",
    "scrolled": false,
    "slideshow": {
     "slide_type": "slide"
    },
    "tags": []
   },
   "outputs": [
    {
     "data": {
      "text/html": [
       "<img src=\"https://cdn.kesci.com/upload/rt/9896D419836B47FD822E83D0633402D4/rpavj2lf5u.png\">"
      ],
      "text/plain": [
       "<Figure size 720x576 with 4 Axes>"
      ]
     },
     "metadata": {
      "needs_background": "light"
     },
     "output_type": "display_data"
    }
   ],
   "source": [
    "import numpy as np\n",
    "import matplotlib.pyplot as plt\n",
    "#生成数据\n",
    "x = np.arange(-10,10,0.01)\n",
    "y = np.arange(-10,10,0.01)\n",
    "x_grid,y_grid = np.meshgrid(x,y)\n",
    "z = x_grid**2+y_grid**2\n",
    "#创建Figure及Axes\n",
    "fig = plt.figure(figsize=(10, 8))\n",
    "ax1 = fig.add_subplot(2,2,1)\n",
    "ax1.contour(x,y,z)\n",
    "ax1.set_title('a')\n",
    "ax2 = fig.add_subplot(2,2,2)\n",
    "ax2.contour(x,y,z,linestyles=':')\n",
    "ax2.set_title('b')\n",
    "ax3 = fig.add_subplot(2,2,3)\n",
    "ax3.contour(x,y,z,levels=np.arange(60,150,30),linewidths=5)\n",
    "ax3.set_title('c')\n",
    "ax4 = fig.add_subplot(2,2,4)\n",
    "contour = ax4.contour(x,y,z,levels=np.arange(60,150,30))\n",
    "ax4.clabel(contour,fontsize=10,colors='k')\n",
    "ax4.set_title('d')\n",
    "plt.show()\n"
   ]
  },
  {
   "cell_type": "code",
   "execution_count": 15,
   "metadata": {
    "id": "937DF59A49A440A6A96E807AB5D9DEE9",
    "jupyter": {},
    "notebookId": "635e855c109d8fab6617fa1c",
    "scrolled": false,
    "slideshow": {
     "slide_type": "slide"
    },
    "tags": []
   },
   "outputs": [
    {
     "data": {
      "text/html": [
       "<img src=\"https://cdn.kesci.com/upload/rt/937DF59A49A440A6A96E807AB5D9DEE9/rpavj3nfr3.png\">"
      ],
      "text/plain": [
       "<Figure size 1152x936 with 1 Axes>"
      ]
     },
     "metadata": {
      "needs_background": "light"
     },
     "output_type": "display_data"
    }
   ],
   "source": [
    "import xarray as xr\n",
    "import matplotlib.pyplot as plt\n",
    "import cartopy.crs as ccrs\n",
    "import cartopy.feature as cfeature\n",
    "import cartopy.mpl.ticker as cticker\n",
    "import pandas as pd\n",
    "#读取数据\n",
    "f = xr.open_dataset('/home/mw/input/pythonbook9857/data.nc')\n",
    "z = f['hgt'].loc['2005-01-01':'2005-12-01',500,:,120]\n",
    "time = z.time\n",
    "lat = z.lat\n",
    "#创建Figure\n",
    "fig = plt.figure(figsize=(16, 13))\n",
    "#绘制500hPa位势高度场\n",
    "ax1 = fig.add_subplot(1,1,1)\n",
    "#绘制等值线\n",
    "q1 = ax1.contour(range(time.shape[0]), lat, z.T)\n",
    "#设置y轴为对数坐标轴，并设置相关标签\n",
    "ax1.set_xticks(np.arange(0,12,1))\n",
    "ax1.set_yticks(np.arange(-90,120,30))\n",
    "ax1.yaxis.set_major_formatter(cticker.LatitudeFormatter())\n",
    "#设置x轴标签\n",
    "ax1.set_xlim(0,11)\n",
    "ax1.set_xticks(np.arange(0,12,1))\n",
    "ax1.set_xticklabels(pd.date_range(start='2005-01',periods=12,freq='M').date )\n",
    "#添加图题\n",
    "ax1.set_title('2005 500hPa Z',loc='center',fontsize=18)\n",
    "plt.show()\n"
   ]
  },
  {
   "cell_type": "markdown",
   "metadata": {
    "id": "4930EDBE0F89428782927C9954855837",
    "jupyter": {},
    "mdEditEnable": false,
    "notebookId": "635e855c109d8fab6617fa1c",
    "scrolled": false,
    "slideshow": {
     "slide_type": "slide"
    },
    "tags": []
   },
   "source": [
    "### 9.5.2  带有地图投影的等值线图"
   ]
  },
  {
   "cell_type": "code",
   "execution_count": 16,
   "metadata": {
    "id": "6E420A264DE04AF38B82A622099C39A1",
    "jupyter": {},
    "notebookId": "635e855c109d8fab6617fa1c",
    "scrolled": false,
    "slideshow": {
     "slide_type": "slide"
    },
    "tags": []
   },
   "outputs": [
    {
     "data": {
      "text/html": [
       "<img src=\"https://cdn.kesci.com/upload/rt/6E420A264DE04AF38B82A622099C39A1/rpavj8xfz3.png\">"
      ],
      "text/plain": [
       "<Figure size 1080x864 with 2 Axes>"
      ]
     },
     "metadata": {
      "needs_background": "light"
     },
     "output_type": "display_data"
    }
   ],
   "source": [
    "import xarray as xr\n",
    "import matplotlib.pyplot as plt\n",
    "import cartopy.crs as ccrs\n",
    "import cartopy.feature as cfeature\n",
    "import cartopy.mpl.ticker as cticker\n",
    "#读取数据\n",
    "f = xr.open_dataset('/home/mw/input/pythonbook9857/data.nc')\n",
    "z = f['hgt'].loc['2005-07-01',500,:,:]\n",
    "t = f['air'].loc['2005-07-01',700,:,:]\n",
    "lat = f['lat']\n",
    "lon = f['lon']\n",
    "#创建Figure\n",
    "fig = plt.figure(figsize=(15, 12))\n",
    "#绘制500hPa位势高度场\n",
    "ax1 = fig.add_subplot(1,2,1, projection=ccrs.PlateCarree())\n",
    "#设置ax1的范围\n",
    "ax1.set_extent([60,180,0,90])\n",
    "#为ax1添加海岸线\n",
    "#ax1.coastlines()\n",
    "#为ax1添加地理经纬度标签及刻度\n",
    "ax1.set_xticks(np.arange(60,210,30), crs=ccrs.PlateCarree())\n",
    "ax1.set_yticks(np.arange(0,90,30), crs=ccrs.PlateCarree())\n",
    "ax1.xaxis.set_major_formatter(cticker.LongitudeFormatter())\n",
    "ax1.yaxis.set_major_formatter(cticker.LatitudeFormatter())\n",
    "#从5000到5800每间隔80绘制一条黑色的等值线\n",
    "c1 = ax1.contour(lon, lat, z,levels=np.arange(5000,5880,80), colors='k',transform=ccrs.PlateCarree())\n",
    "#为c1添加数值标签，标签格式为整型\n",
    "ax1.clabel(c1, fmt='%d', fontsize=14.5,inline=True)\n",
    "#单独绘制加粗并且用虚线表示的5880副高特征线\n",
    "c2 = ax1.contour(lon, lat, z,levels = [5880],colors='k',transform=ccrs.PlateCarree(),linewidths=3,linestyles='--')\n",
    "#为c2添加数值标签，标签格式为浮点型（保留一位小数）\n",
    "ax1.clabel(c2, fmt='%d', fontsize=14.5,inline=True)\n",
    "#添加图题\n",
    "ax1.set_title('July 2005 500hPa Z',loc='center',fontsize=18)\n",
    "ax1.set_title('unit: gpm',loc='right',fontsize=18)\n",
    "#绘制700hPa温度场\n",
    "ax2 = fig.add_subplot(1,2,2, projection=ccrs.PlateCarree())\n",
    "ax2.set_extent([60,180,0,90])\n",
    "#ax2.coastlines()\n",
    "ax2.set_xticks(np.arange(60,210,30), crs=ccrs.PlateCarree())\n",
    "ax2.set_yticks(np.arange(0,90,30), crs=ccrs.PlateCarree())\n",
    "ax2.xaxis.set_major_formatter(cticker.LongitudeFormatter())\n",
    "ax2.yaxis.set_major_formatter(cticker.LatitudeFormatter())\n",
    "c3 = ax2.contour(lon, lat, t, levels=np.arange(-30,33,3),colors='k',transform=ccrs.PlateCarree())\n",
    "ax2.clabel(c3, fmt='%.1f', fontsize=14.5,inline=True)\n",
    "ax2.set_title('July 2005 700hPa T',loc='center',fontsize=18)\n",
    "ax2.set_title('unit: $^\\circ$C',loc='right',fontsize=18)\n",
    "plt.show()\n"
   ]
  },
  {
   "cell_type": "markdown",
   "metadata": {
    "id": "40C49706CD4E4F3AAB6EEBE0B7FF3CD7",
    "jupyter": {},
    "mdEditEnable": false,
    "notebookId": "635e855c109d8fab6617fa1c",
    "scrolled": false,
    "slideshow": {
     "slide_type": "slide"
    },
    "tags": []
   },
   "source": [
    "### 9.5.3  垂直剖面等值线图"
   ]
  },
  {
   "cell_type": "code",
   "execution_count": 17,
   "metadata": {
    "id": "7D95DD331CAC402783018CA3C64ED893",
    "jupyter": {},
    "notebookId": "635e855c109d8fab6617fa1c",
    "scrolled": false,
    "slideshow": {
     "slide_type": "slide"
    },
    "tags": []
   },
   "outputs": [
    {
     "data": {
      "text/plain": [
       "Text(0.5, 1.0, 'July 2005 T')"
      ]
     },
     "metadata": {},
     "output_type": "execute_result"
    },
    {
     "data": {
      "text/html": [
       "<img src=\"https://cdn.kesci.com/upload/rt/7D95DD331CAC402783018CA3C64ED893/rpavj91f06.png\">"
      ],
      "text/plain": [
       "<Figure size 720x576 with 1 Axes>"
      ]
     },
     "metadata": {
      "needs_background": "light"
     },
     "output_type": "display_data"
    }
   ],
   "source": [
    "import xarray as xr\n",
    "import matplotlib.pyplot as plt\n",
    "import cartopy.crs as ccrs\n",
    "import cartopy.feature as cfeature\n",
    "import cartopy.mpl.ticker as cticker\n",
    "import pandas as pd\n",
    "import numpy as np\n",
    "#读取数据\n",
    "f = xr.open_dataset('/home/mw/input/pythonbook9857/data.nc')\n",
    "t = f['air'].loc['2005-07-01',:,:,80:150].mean('lon')\n",
    "lev = t.level\n",
    "lat = t.lat\n",
    "#创建Figure\n",
    "fig = plt.figure(figsize=(10, 8))\n",
    "#绘制500hPa位势高度场\n",
    "ax1 = fig.add_subplot(1,1,1)\n",
    "#绘制温度场垂直剖面\n",
    "c1 = ax1.contour(lat, lev, t,colors='k')\n",
    "ax1.clabel(c1, fmt='%d', fontsize=14.5,inline=True)\n",
    "#设置y轴为对数坐标轴，并设置相关标签\n",
    "ax1.set_yscale('symlog')\n",
    "ax1.set_xticks(np.arange(0,12,1))\n",
    "ax1.set_yticks([1000,850,700,500,300,200,100])\n",
    "ax1.set_yticklabels([1000,850,700,500,300,200,100])\n",
    "ax1.set_ylim(1000,100)\n",
    "#为ax1的x轴添加地理经纬度标签及刻度\n",
    "ax1.set_xticks(np.arange(-90,120,30))\n",
    "ax1.xaxis.set_major_formatter(cticker.LongitudeFormatter())\n",
    "#添加图题\n",
    "ax1.set_title('July 2005 T',loc='center',fontsize=18)\n"
   ]
  },
  {
   "cell_type": "markdown",
   "metadata": {
    "id": "9BE4FCD9BDAA4DC58AFB4CE9713C2E61",
    "jupyter": {},
    "mdEditEnable": false,
    "notebookId": "635e855c109d8fab6617fa1c",
    "scrolled": false,
    "slideshow": {
     "slide_type": "slide"
    },
    "tags": []
   },
   "source": [
    "## 9.6  填色图"
   ]
  },
  {
   "cell_type": "markdown",
   "metadata": {
    "id": "8829E0E2EBDC4DF88849D9CB7910E4BE",
    "jupyter": {},
    "mdEditEnable": false,
    "notebookId": "635e855c109d8fab6617fa1c",
    "scrolled": false,
    "slideshow": {
     "slide_type": "slide"
    },
    "tags": []
   },
   "source": [
    "### 9.6.1  contourf()"
   ]
  },
  {
   "cell_type": "code",
   "execution_count": 18,
   "metadata": {
    "id": "1A6B6BBFCBA84C658FB51FFC511B159A",
    "jupyter": {},
    "notebookId": "635e855c109d8fab6617fa1c",
    "scrolled": false,
    "slideshow": {
     "slide_type": "slide"
    },
    "tags": []
   },
   "outputs": [
    {
     "name": "stderr",
     "output_type": "stream",
     "text": [
      "/opt/conda/lib/python3.7/site-packages/ipykernel_launcher.py:18: MatplotlibDeprecationWarning: hatch must consist of a string of \"*+-./OX\\ox|\" or None, but found the following invalid values \",\". Passing invalid values is deprecated since 3.4 and will become an error in 3.7.\n"
     ]
    },
    {
     "data": {
      "text/html": [
       "<img src=\"https://cdn.kesci.com/upload/rt/1A6B6BBFCBA84C658FB51FFC511B159A/rpavjbm29n.png\">"
      ],
      "text/plain": [
       "<Figure size 720x576 with 8 Axes>"
      ]
     },
     "metadata": {
      "needs_background": "light"
     },
     "output_type": "display_data"
    }
   ],
   "source": [
    "import numpy as np\n",
    "import matplotlib.pyplot as plt\n",
    "#生成数据\n",
    "x = np.arange(-10,10,0.01)\n",
    "y = np.arange(-10,10,0.01)\n",
    "x_grid,y_grid = np.meshgrid(x,y)\n",
    "z = x_grid**2+y_grid**2\n",
    "#创建Figure及Axes\n",
    "fig1 = plt.figure(figsize=(10, 8))\n",
    "#基础填色图\n",
    "ax1 = fig1.add_subplot(2,2,1)\n",
    "ca = ax1.contourf(x,y,z)\n",
    "ax1.set_title('a')\n",
    "fig1.colorbar(ca,ax=ax1)\n",
    "#填充等值线图\n",
    "ax2 = fig1.add_subplot(2,2,2)\n",
    "cb1 = ax2.contour(x,y,z,colors=\"k\")\n",
    "cb2 = ax2.contourf(x,y,z,hatches=['.',',,','-', '/', '\\\\', '//'],colors=\"none\")\n",
    "ax2.set_title('b')\n",
    "fig1.colorbar(ca,ax=ax2)\n",
    "#特定level值的填色图1\n",
    "ax3 = fig1.add_subplot(2,2,3)\n",
    "cc = ax3.contourf(x,y,z,levels=np.arange(60,150,30))\n",
    "ax3.set_title('c')\n",
    "fig1.colorbar(cc,ax=ax3)\n",
    "#特定level值的填色图2\n",
    "ax4 = fig1.add_subplot(2,2,4)\n",
    "cd = contour = ax4.contourf(x,y,z,levels=np.arange(60,150,30),extend='both')\n",
    "ax4.set_title('d')\n",
    "fig1.colorbar(cd,ax=ax4)\n",
    "plt.show()\n"
   ]
  },
  {
   "cell_type": "code",
   "execution_count": 19,
   "metadata": {
    "id": "1BF0218CC6C74A96A105C1931A5BB2A3",
    "jupyter": {},
    "notebookId": "635e855c109d8fab6617fa1c",
    "scrolled": false,
    "slideshow": {
     "slide_type": "slide"
    },
    "tags": []
   },
   "outputs": [
    {
     "data": {
      "text/html": [
       "<img src=\"https://cdn.kesci.com/upload/rt/1BF0218CC6C74A96A105C1931A5BB2A3/rpavjcgav2.png\">"
      ],
      "text/plain": [
       "<Figure size 1080x864 with 2 Axes>"
      ]
     },
     "metadata": {
      "needs_background": "light"
     },
     "output_type": "display_data"
    }
   ],
   "source": [
    "import xarray as xr\n",
    "import matplotlib.pyplot as plt\n",
    "import cartopy.crs as ccrs\n",
    "import cartopy.feature as cfeature\n",
    "import cartopy.mpl.ticker as cticker\n",
    "#读取数据\n",
    "f = xr.open_dataset('/home/mw/input/pythonbook9857/data.nc')\n",
    "z = f['hgt'].loc['2005-07-01',500,:,:]\n",
    "t = f['air'].loc['2005-07-01',700,:,:]\n",
    "lat = f['lat']\n",
    "lon = f['lon']\n",
    "#创建Figure\n",
    "fig = plt.figure(figsize=(15, 12))\n",
    "#绘制500hPa位势高度场\n",
    "ax1 = fig.add_subplot(1,1,1, projection=ccrs.PlateCarree())\n",
    "#设置ax1的范围\n",
    "ax1.set_extent([60,180,0,90])\n",
    "#为ax1添加海岸线\n",
    "#ax1.coastlines()\n",
    "#为ax1添加地理经纬度标签及刻度\n",
    "ax1.set_xticks(np.arange(60,210,30), crs=ccrs.PlateCarree())\n",
    "ax1.set_yticks(np.arange(0,90,30), crs=ccrs.PlateCarree())\n",
    "ax1.xaxis.set_major_formatter(cticker.LongitudeFormatter())\n",
    "ax1.yaxis.set_major_formatter(cticker.LatitudeFormatter())\n",
    "#将700hPa温度场绘制为填色等值线图\n",
    "c1 = ax1.contourf(lon, lat, t,levels=np.arange(-21,22,1),extend='both',cmap='bwr',zorder=1,transform=ccrs.PlateCarree())\n",
    "#把温度大于(小于)10(-10)℃的区域覆盖上阴影，100(-100)可以换为更大或更小的数，只是用于表明区间\n",
    "c2 = ax1.contourf(lon, lat, t,levels=[-100,-10,10,100],hatches=['//', None,'//'],zorder=2,colors='none',transform=ccrs.PlateCarree())\n",
    "#从5000到5880每间隔80绘制一条黑色的等值线\n",
    "c3 = ax1.contour(lon, lat, z,levels=np.arange(5000,5880,80), colors='k',zorder=3,transform=ccrs.PlateCarree())\n",
    "#为c1添加数值标签，标签格式为整型\n",
    "ax1.clabel(c3, fmt='%d', fontsize=14.5,inline=True)\n",
    "#单独绘制加粗并且用虚线表示的5880副高特征线\n",
    "c4 = ax1.contour(lon, lat, z,levels = [5880],colors='k',zorder=4,transform=ccrs.PlateCarree(),linewidths=3,linestyles='--')\n",
    "#为c2添加数值标签，标签格式为浮点型（保留一位小数）\n",
    "ax1.clabel(c4, fmt='%d', fontsize=14.5,inline=True)\n",
    "#添加图题\n",
    "ax1.set_title('July 2005 500hPa Z&T',loc='center',fontsize=18)\n",
    "#添加色标\n",
    "fig.colorbar(c1,ax=ax1,fraction=0.032)\n",
    "plt.show()\n"
   ]
  },
  {
   "cell_type": "markdown",
   "metadata": {
    "id": "CC27CFB0A5C84370B73E68F5925054A2",
    "jupyter": {},
    "mdEditEnable": false,
    "notebookId": "635e855c109d8fab6617fa1c",
    "scrolled": false,
    "slideshow": {
     "slide_type": "slide"
    },
    "tags": []
   },
   "source": [
    "### 9.6.2  pcolor()"
   ]
  },
  {
   "cell_type": "code",
   "execution_count": 20,
   "metadata": {
    "id": "FD5C1EF2AA7F4B3185451EBD419367BC",
    "jupyter": {},
    "notebookId": "635e855c109d8fab6617fa1c",
    "scrolled": false,
    "slideshow": {
     "slide_type": "slide"
    },
    "tags": []
   },
   "outputs": [
    {
     "data": {
      "text/html": [
       "<img src=\"https://cdn.kesci.com/upload/rt/FD5C1EF2AA7F4B3185451EBD419367BC/rpavjm9f9t.png\">"
      ],
      "text/plain": [
       "<Figure size 1080x864 with 8 Axes>"
      ]
     },
     "metadata": {
      "needs_background": "light"
     },
     "output_type": "display_data"
    }
   ],
   "source": [
    "import xarray as xr\n",
    "import matplotlib.pyplot as plt\n",
    "import cartopy.crs as ccrs\n",
    "import cartopy.feature as cfeature\n",
    "#读取数据\n",
    "f = xr.open_dataset('/home/mw/input/pythonbook9857/data.nc')\n",
    "z = f['hgt'].loc['2005-07-01',500,:,:]\n",
    "t = f['air'].loc['2005-07-01',700,:,:]\n",
    "lat = f['lat']\n",
    "lon = f['lon']\n",
    "#创建Figure\n",
    "fig = plt.figure(figsize=(15, 12))\n",
    "#绘制500hPa位势高度场\n",
    "ax1 = fig.add_subplot(2,2,1, projection=ccrs.PlateCarree())\n",
    "#设置ax1的范围\n",
    "ax1.set_extent([60,180,0,90])\n",
    "#为ax1添加海岸线\n",
    "#ax1.coastlines()\n",
    "#为ax1添加地理经纬度标签及刻度\n",
    "ax1.set_xticks(np.arange(60,210,30), crs=ccrs.PlateCarree())\n",
    "ax1.set_yticks(np.arange(0,90,30), crs=ccrs.PlateCarree())\n",
    "ax1.xaxis.set_major_formatter(cticker.LongitudeFormatter())\n",
    "ax1.yaxis.set_major_formatter(cticker.LatitudeFormatter())\n",
    "#将700hPa温度场绘制为填色等值线图\n",
    "c1 = ax1.pcolor(lon, lat, t,vmin=-20, vmax=20,cmap='bwr',zorder=1,transform=ccrs.PlateCarree())\n",
    "#添加图题\n",
    "ax1.set_title('(a) July 2005 500hPa T',loc='center',fontsize=18)\n",
    "#添加色标\n",
    "fig.colorbar(c1,ax=ax1,fraction=0.032)\n",
    "#ax2\n",
    "ax2 = fig.add_subplot(2,2,2, projection=ccrs.PlateCarree())\n",
    "#设置ax2的范围\n",
    "ax2.set_extent([60,180,0,90])\n",
    "#为ax2添加海岸线\n",
    "#ax2.coastlines()\n",
    "#为ax2添加地理经纬度标签及刻度\n",
    "ax2.set_xticks(np.arange(60,210,30), crs=ccrs.PlateCarree())\n",
    "ax2.set_yticks(np.arange(0,90,30), crs=ccrs.PlateCarree())\n",
    "ax2.xaxis.set_major_formatter(cticker.LongitudeFormatter())\n",
    "ax2.yaxis.set_major_formatter(cticker.LatitudeFormatter())\n",
    "#将700hPa温度场绘制为填色等值线图\n",
    "c2 = ax2.pcolor(lon, lat, t, vmin=-20, vmax=20, cmap='bwr', zorder=1, edgecolors='k', transform=ccrs.PlateCarree())\n",
    "#添加图题\n",
    "ax2.set_title('(b) July 2005 500hPa T',loc='center',fontsize=18)\n",
    "#添加色标\n",
    "fig.colorbar(c2,ax=ax2,fraction=0.032)\n",
    "#创建一个t_copy数组并将大于15的数据设置为缺测\n",
    "t_copy = t.values.copy()\n",
    "t_copy[t_copy>15] = np.nan\n",
    "#ax3\n",
    "ax3 = fig.add_subplot(2,2,3, projection=ccrs.PlateCarree())\n",
    "#设置ax3的范围\n",
    "ax3.set_extent([60,180,0,90])\n",
    "#为ax3添加海岸线\n",
    "#ax3.coastlines()\n",
    "#为ax3添加地理经纬度标签及刻度\n",
    "ax3.set_xticks(np.arange(60,210,30), crs=ccrs.PlateCarree())\n",
    "ax3.set_yticks(np.arange(0,90,30), crs=ccrs.PlateCarree())\n",
    "ax3.xaxis.set_major_formatter(cticker.LongitudeFormatter())\n",
    "ax3.yaxis.set_major_formatter(cticker.LatitudeFormatter())\n",
    "#将700hPa温度场绘制为填色等值线图\n",
    "c3 = ax3.contourf(lon, lat, t_copy,levels=np.arange(-21,22,1), extend='both', cmap='bwr', zorder=1, transform=ccrs.PlateCarree())\n",
    "#添加图题\n",
    "ax3.set_title('(c) July 2005 500hPa T',loc='center',fontsize=18)\n",
    "#添加色标\n",
    "fig.colorbar(c3,ax=ax3,fraction=0.032)\n",
    "#ax4\n",
    "ax4 = fig.add_subplot(2,2,4, projection=ccrs.PlateCarree())\n",
    "#设置ax4的范围\n",
    "ax4.set_extent([60,180,0,90])\n",
    "#为ax4添加海岸线\n",
    "#ax4.coastlines()\n",
    "#为ax4添加地理经纬度标签及刻度\n",
    "ax4.set_xticks(np.arange(60,210,30), crs=ccrs.PlateCarree())\n",
    "ax4.set_yticks(np.arange(0,90,30), crs=ccrs.PlateCarree())\n",
    "ax4.xaxis.set_major_formatter(cticker.LongitudeFormatter())\n",
    "ax4.yaxis.set_major_formatter(cticker.LatitudeFormatter())\n",
    "#将700hPa温度场绘制为填色等值线图\n",
    "c4 = ax4.pcolor(lon, lat, t_copy,vmin=-20, vmax=20,cmap='bwr',zorder=1,edgecolors='k',transform=ccrs.PlateCarree())\n",
    "#添加图题\n",
    "ax4.set_title('(d) July 2005 500hPa T',loc='center',fontsize=18)\n",
    "#添加色标\n",
    "fig.colorbar(c4,ax=ax4,fraction=0.032)\n",
    "plt.show()\n"
   ]
  },
  {
   "cell_type": "markdown",
   "metadata": {
    "id": "2F790F5225B44DFC87AE419AAE12F193",
    "jupyter": {},
    "mdEditEnable": false,
    "notebookId": "635e855c109d8fab6617fa1c",
    "scrolled": false,
    "slideshow": {
     "slide_type": "slide"
    },
    "tags": []
   },
   "source": [
    "## 9.7  轨迹绘制（以台风路径的绘制为例）"
   ]
  },
  {
   "cell_type": "code",
   "execution_count": 21,
   "metadata": {
    "id": "B516128783154EB88AB470D77DC7C827",
    "jupyter": {},
    "notebookId": "635e855c109d8fab6617fa1c",
    "scrolled": false,
    "slideshow": {
     "slide_type": "slide"
    },
    "tags": []
   },
   "outputs": [
    {
     "name": "stderr",
     "output_type": "stream",
     "text": [
      "/opt/conda/lib/python3.7/site-packages/ipykernel_launcher.py:34: DeprecationWarning: `np.int` is a deprecated alias for the builtin `int`. To silence this warning, use `int` by itself. Doing this will not modify any behavior and is safe. When replacing `np.int`, you may wish to use e.g. `np.int64` or `np.int32` to specify the precision. If you wish to review your current use, check the release note link for additional information.\n",
      "Deprecated in NumPy 1.20; for more details and guidance: https://numpy.org/devdocs/release/1.20.0-notes.html#deprecations\n"
     ]
    },
    {
     "data": {
      "text/html": [
       "<img src=\"https://cdn.kesci.com/upload/rt/B516128783154EB88AB470D77DC7C827/rpavjm5mi0.png\">"
      ],
      "text/plain": [
       "<Figure size 1080x864 with 4 Axes>"
      ]
     },
     "metadata": {
      "needs_background": "light"
     },
     "output_type": "display_data"
    }
   ],
   "source": [
    "import os\n",
    "import pandas as pd\n",
    "import numpy as np\n",
    "from pathlib import Path\n",
    "from typing import List\n",
    "from typing import Union\n",
    "from typing import Tuple\n",
    "from matplotlib.collections import LineCollection\n",
    "import matplotlib.pyplot as plt\n",
    "import cartopy.crs as ccrs\n",
    "import cartopy.feature as cfeature\n",
    "#读取CMA热带气旋最佳路径数据集\n",
    "def reader(\n",
    "   typhoon_txt: os.PathLike, code: Union[str, int]\n",
    ") -> Tuple[List[str], pd.DataFrame]:\n",
    "   typhoon_txt = Path(typhoon_txt)\n",
    "   if isinstance(code, int):\n",
    "      code = \"{:04}\".format(code)\n",
    "   with open(typhoon_txt, \"r\") as txt_handle:\n",
    "      while True:\n",
    "         header = txt_handle.readline().split()\n",
    "         if not header:\n",
    "            raise ValueError(f\"没有在文件里找到编号为{code}的台风的数据\")\n",
    "         if header[4].strip() == code:\n",
    "            break\n",
    "         [txt_handle.readline() for _ in range(int(header[2]))]\n",
    "      data_path = pd.read_table(\n",
    "         txt_handle,\n",
    "         sep=r\"\\s+\",\n",
    "         header=None,\n",
    "         names=[\"TIME\", \"I\", \"LAT\", \"LONG\", \"PRES\", \"WND\", \"OWD\"],\n",
    "         nrows=int(header[2]),\n",
    "         dtype={\n",
    "            \"I\": np.int,\n",
    "            \"LAT\": np.float32,\n",
    "            \"LONG\": np.float32,\n",
    "            \"PRES\": np.float32,\n",
    "            \"WND\": np.float32,\n",
    "            \"OWD\": np.float32,\n",
    "         },\n",
    "         parse_dates=True,\n",
    "         date_parser=lambda x: pd.to_datetime(x, format=f\"%Y%m%d%H\"),\n",
    "         index_col=\"TIME\",\n",
    "      )\n",
    "      data_path[\"LAT\"] = data_path[\"LAT\"] / 10\n",
    "      data_path[\"LONG\"] = data_path[\"LONG\"] / 10\n",
    "      return header, data_path\n",
    "#读取0608号台风的数据（数据为超6小时的占风相关信息）\n",
    "head, dat = reader(r\"/home/mw/input/pythonbook9857/CH2006BST.txt\",'0608')\n",
    "lat = dat.LAT\n",
    "lon = dat.LONG\n",
    "level = dat.I\n",
    "pressure = dat.PRES\n",
    "#创建Figure\n",
    "fig = plt.figure(figsize=(15, 12))\n",
    "#绘制台风路径\n",
    "ax1 = fig.add_subplot(1,2,1, projection=ccrs.PlateCarree())\n",
    "#设置ax1的范围\n",
    "ax1.set_extent([100,160,-10,40])\n",
    "#为ax1添加海岸线\n",
    "#ax1.coastlines()\n",
    "#ax1.add_feature(cfeature.LAND) #添加大陆特征\n",
    "#为ax1添加地理经纬度标签及刻度\n",
    "ax1.set_xticks(np.arange(100,170,10), crs=ccrs.PlateCarree())\n",
    "ax1.set_yticks(np.arange(-10,50,10), crs=ccrs.PlateCarree())\n",
    "ax1.xaxis.set_major_formatter(cticker.LongitudeFormatter())\n",
    "ax1.yaxis.set_major_formatter(cticker.LatitudeFormatter())\n",
    "#绘制台风路径，并将标记逐6小时坐标点及其对应的台风强度\n",
    "ax1.plot(lon,lat,linewidth=2)\n",
    "s1 = ax1.scatter(lon,lat,c=pressure,s=(level+1)*13,cmap='Reds_r',vmax=1050,vmin=900,alpha=1)\n",
    "fig.colorbar(s1,ax=ax1,fraction=0.04)\n",
    "#绘制台风路径\n",
    "ax2 = fig.add_subplot(1,2,2, projection=ccrs.PlateCarree())\n",
    "#设置ax2的范围\n",
    "ax2.set_extent([100,160,-10,40])\n",
    "#为ax2添加海岸线\n",
    "#ax2.coastlines()\n",
    "#ax2.add_feature(cfeature.LAND) #添加大陆特征\n",
    "#为ax2添加地理经纬度标签及刻度\n",
    "ax2.set_xticks(np.arange(100,170,10), crs=ccrs.PlateCarree())\n",
    "ax2.set_yticks(np.arange(-10,50,10), crs=ccrs.PlateCarree())\n",
    "ax2.xaxis.set_major_formatter(cticker.LongitudeFormatter())\n",
    "ax2.yaxis.set_major_formatter(cticker.LatitudeFormatter())\n",
    "#将经纬度数据存入同一数组\n",
    "points = np.array([lon, lat]).T.reshape(-1, 1, 2)\n",
    "segments = np.concatenate([points[:-1], points[1:]], axis=1)\n",
    "#设置色标的标准化范围(即将Z维度的数据对应为颜色数组，Z维度指dat.WND[-1])\n",
    "norm = plt.Normalize(0, 80)\n",
    "#设置颜色线条\n",
    "lc = LineCollection(segments, cmap='jet', norm=norm,transform=ccrs.PlateCarree())\n",
    "lc.set_array(dat.WND[:-1])\n",
    "#绘制线条\n",
    "line = ax2.add_collection(lc)   \n",
    "fig.colorbar(lc,ax=ax2,fraction=0.04)\n",
    "plt.show()\n"
   ]
  },
  {
   "cell_type": "markdown",
   "metadata": {
    "id": "CCC7130745C846119CE3E741A7ABE644",
    "jupyter": {},
    "mdEditEnable": false,
    "notebookId": "635e855c109d8fab6617fa1c",
    "scrolled": false,
    "slideshow": {
     "slide_type": "slide"
    },
    "tags": []
   },
   "source": [
    "## 9.8  流线图"
   ]
  },
  {
   "cell_type": "code",
   "execution_count": 22,
   "metadata": {
    "id": "1DC9F8E9520449BC86E66547DF64105F",
    "jupyter": {},
    "notebookId": "635e855c109d8fab6617fa1c",
    "scrolled": false,
    "slideshow": {
     "slide_type": "slide"
    },
    "tags": []
   },
   "outputs": [
    {
     "data": {
      "text/html": [
       "<img src=\"https://cdn.kesci.com/upload/rt/1DC9F8E9520449BC86E66547DF64105F/rpavjqvjdn.png\">"
      ],
      "text/plain": [
       "<Figure size 1152x936 with 1 Axes>"
      ]
     },
     "metadata": {
      "needs_background": "light"
     },
     "output_type": "display_data"
    }
   ],
   "source": [
    "import xarray as xr\n",
    "import numpy as np\n",
    "import matplotlib.pyplot as plt\n",
    "import matplotlib.gridspec as gridspec\n",
    "#读取数据\n",
    "f = xr.open_dataset('/home/mw/input/pythonbook9857/data.nc')\n",
    "u = f['uwnd'].loc['2005-07-01',500,:,:].values\n",
    "v = f['vwnd'].loc['2005-07-01',500,:,:].values\n",
    "lat = f['lat']\n",
    "lon = f['lon']\n",
    "#创建Figure\n",
    "fig = plt.figure(figsize=(16, 13))\n",
    "#绘制500hPa位势高度场\n",
    "ax1 = fig.add_subplot(1,1,1, projection=ccrs.PlateCarree())\n",
    "#设置ax1的范围\n",
    "ax1.set_extent([80,140,0,40])\n",
    "#为ax1添加海岸线\n",
    "#ax1.coastlines()\n",
    "#为ax1添加地理经纬度标签及刻度\n",
    "ax1.set_xticks(np.arange(80,160,20), crs=ccrs.PlateCarree())\n",
    "ax1.set_yticks(np.arange(0,60,20), crs=ccrs.PlateCarree())\n",
    "ax1.xaxis.set_major_formatter(cticker.LongitudeFormatter())\n",
    "ax1.yaxis.set_major_formatter(cticker.LatitudeFormatter())\n",
    "#绘制500hPa风矢量流线图\n",
    "q1 = ax1.streamplot(lon, lat, u, v,density=[1, 5],transform=ccrs.PlateCarree())\n",
    "plt.show()\n"
   ]
  },
  {
   "cell_type": "markdown",
   "metadata": {
    "id": "56A22B547C8C4D558C4F5398C969F897",
    "jupyter": {},
    "mdEditEnable": false,
    "notebookId": "635e855c109d8fab6617fa1c",
    "scrolled": false,
    "slideshow": {
     "slide_type": "slide"
    },
    "tags": []
   },
   "source": [
    "## 9.9  矢量箭头图"
   ]
  },
  {
   "cell_type": "code",
   "execution_count": 23,
   "metadata": {
    "id": "54995A7C93274110A934EA57E9FA4B20",
    "jupyter": {},
    "notebookId": "635e855c109d8fab6617fa1c",
    "scrolled": false,
    "slideshow": {
     "slide_type": "slide"
    },
    "tags": []
   },
   "outputs": [
    {
     "data": {
      "text/html": [
       "<img src=\"https://cdn.kesci.com/upload/rt/54995A7C93274110A934EA57E9FA4B20/rpavjq1vfh.png\">"
      ],
      "text/plain": [
       "<Figure size 1080x216 with 1 Axes>"
      ]
     },
     "metadata": {
      "needs_background": "light"
     },
     "output_type": "display_data"
    }
   ],
   "source": [
    "import matplotlib.pyplot as plt\n",
    "fig = plt.figure(figsize=(15, 3))\n",
    "ax1 = fig.add_subplot(1,2,1)\n",
    "# 默认\n",
    "q1 = ax1.quiver(0, 0, 1, 1)\n",
    "# scale：缩放比例，值越大，箭头越短\n",
    "q2 = ax1.quiver(0.1, 0, 1, 1, scale=15)\n",
    "# width：主轴宽度\n",
    "q3 = ax1.quiver(0.2, 0, 1, 1, width=0.05)\n",
    "# headwidth：矢量符号箭头头部的宽度\n",
    "q4 = ax1.quiver(0.3, 0, 1, 1, headwidth=8)\n",
    "# headlength：矢量符号箭头头部的长度，从头部到尾部\n",
    "q5 = ax1.quiver(0.4, 0, 1, 1, headlength=8)\n",
    "# headaxislength 矢量符号箭头的头部到矢量符号轴和箭头的交接处的长度\n",
    "q6 = ax1.quiver(0.5, 0, 1, 1, headwidth=8, headlength=8, headaxislength=2)\n",
    "# minlength 最小箭头长度，当矢量长度小于此值时，矢量将被替换为正六边形\n",
    "q7 = ax1.quiver(0.65, 0, 1, 1, headwidth=4, headlength=4, minlength=10)\n",
    "ax1.set_axis_off()\n"
   ]
  },
  {
   "cell_type": "code",
   "execution_count": 24,
   "metadata": {
    "id": "7944862F31E84FFA81D993B496F00B0B",
    "jupyter": {},
    "notebookId": "635e855c109d8fab6617fa1c",
    "scrolled": false,
    "slideshow": {
     "slide_type": "slide"
    },
    "tags": []
   },
   "outputs": [
    {
     "name": "stderr",
     "output_type": "stream",
     "text": [
      "/opt/conda/lib/python3.7/site-packages/cartopy/io/__init__.py:260: DownloadWarning: Downloading: https://naciscdn.org/naturalearth/50m/physical/ne_50m_coastline.zip\n",
      "  warnings.warn('Downloading: {}'.format(url), DownloadWarning)\n"
     ]
    },
    {
     "data": {
      "text/html": [
       "<img src=\"https://cdn.kesci.com/upload/rt/7944862F31E84FFA81D993B496F00B0B/rpavjtv1b7.png\">"
      ],
      "text/plain": [
       "<Figure size 1152x936 with 2 Axes>"
      ]
     },
     "metadata": {
      "needs_background": "light"
     },
     "output_type": "display_data"
    }
   ],
   "source": [
    "import xarray as xr\n",
    "import matplotlib.pyplot as plt\n",
    "import cartopy.crs as ccrs\n",
    "import cartopy.feature as cfeature\n",
    "#读取数据\n",
    "f = xr.open_dataset('/home/mw/input/pythonbook9857/data.nc')\n",
    "u = f['uwnd'].loc['2005-07-01',500,:,:].values\n",
    "v = f['vwnd'].loc['2005-07-01',500,:,:].values\n",
    "lat = f['lat']\n",
    "lon = f['lon']\n",
    "#创建Figure\n",
    "fig = plt.figure(figsize=(16, 13))\n",
    "#绘制500hPa位势高度场\n",
    "ax1 = fig.add_subplot(1,2,1, projection=ccrs.Mercator())\n",
    "#设置ax1的范围\n",
    "ax1.set_extent([80,140,0,40])\n",
    "#为ax1添加海岸线\n",
    "ax1.coastlines()\n",
    "#为ax1添加地理经纬度标签及刻度\n",
    "ax1.set_xticks(np.arange(80,160,20), crs=ccrs.PlateCarree())\n",
    "ax1.set_yticks(np.arange(0,60,20), crs=ccrs.PlateCarree())\n",
    "ax1.xaxis.set_major_formatter(cticker.LongitudeFormatter())\n",
    "ax1.yaxis.set_major_formatter(cticker.LatitudeFormatter())\n",
    "#绘制500hPa水平风场\n",
    "q1 = ax1.quiver(lon, lat, u,v,scale=200,transform=ccrs.PlateCarree())\n",
    "#添加参考矢量\n",
    "ax1.quiverkey(q1,0.9,1.01,U=30,label='30m/s')\n",
    "#添加图题\n",
    "ax1.set_title('(a) July 2005 500hPa UV',loc='center',fontsize=18)\n",
    "#绘制ax2\n",
    "ax2 = fig.add_subplot(1,2,2, projection=ccrs.Mercator())\n",
    "#设置ax2的范围\n",
    "ax2.set_extent([80,140,0,40])\n",
    "#为ax2添加海岸线\n",
    "ax2.coastlines()\n",
    "#为ax2添加地理经纬度标签及刻度\n",
    "ax2.set_xticks(np.arange(80,160,20), crs=ccrs.PlateCarree())\n",
    "ax2.set_yticks(np.arange(0,60,20), crs=ccrs.PlateCarree())\n",
    "ax2.xaxis.set_major_formatter(cticker.LongitudeFormatter())\n",
    "ax2.yaxis.set_major_formatter(cticker.LatitudeFormatter())\n",
    "#绘制500hPa水平风场，[::2,::2]表示每隔两个栅格绘制一次，避免箭头过于密集\n",
    "q1 = ax2.quiver(lon[::2], lat[::2], u[::2,::2], v[::2,::2], scale=200, transform=ccrs.PlateCarree())\n",
    "#添加参考矢量\n",
    "ax1.quiverkey(q1,0.9,1.01,U=30,label='30m/s')\n",
    "#添加图题\n",
    "ax2.set_title('(b) July 2005 500hPa UV',loc='center',fontsize=18)\n",
    "plt.show()\n"
   ]
  },
  {
   "cell_type": "code",
   "execution_count": 25,
   "metadata": {
    "id": "DE659CBF04354BB4AE03B0CE22D257C1",
    "jupyter": {},
    "notebookId": "635e855c109d8fab6617fa1c",
    "scrolled": false,
    "slideshow": {
     "slide_type": "slide"
    },
    "tags": []
   },
   "outputs": [
    {
     "data": {
      "text/html": [
       "<img src=\"https://cdn.kesci.com/upload/rt/DE659CBF04354BB4AE03B0CE22D257C1/rpavjtdguu.png\">"
      ],
      "text/plain": [
       "<Figure size 1152x936 with 1 Axes>"
      ]
     },
     "metadata": {
      "needs_background": "light"
     },
     "output_type": "display_data"
    }
   ],
   "source": [
    "import xarray as xr\n",
    "import matplotlib.pyplot as plt\n",
    "import cartopy.crs as ccrs\n",
    "import cartopy.feature as cfeature\n",
    "import pandas as pd\n",
    "#读取数据\n",
    "f = xr.open_dataset('/home/mw/input/pythonbook9857/data.nc')\n",
    "u = f['uwnd'].loc['2005-01-01':'2005-12-01',:,35,120]\n",
    "w = f['omega'].loc['2005-01-01':'2005-12-01',:,35,120]\n",
    "time = u.time\n",
    "lev = u.level\n",
    "#创建Figure\n",
    "fig = plt.figure(figsize=(16, 13))\n",
    "#绘制500hPa位势高度场\n",
    "ax1 = fig.add_subplot(1,1,1)\n",
    "#绘制500hPa水平风场\n",
    "q1 = ax1.quiver(range(time.shape[0]), lev, u,w*200,pivot='mid')\n",
    "#添加参考矢量\n",
    "ax1.quiverkey(q1,0.9,1.01,U=30,label='30m/s')\n",
    "#设置y轴为对数坐标轴，并设置相关标签\n",
    "ax1.set_yscale('symlog')\n",
    "ax1.set_xticks(np.arange(0,12,1))\n",
    "ax1.set_yticks([1000,850,700,500,300,200,100])\n",
    "ax1.set_yticklabels([1000,850,700,500,300,200,100])\n",
    "ax1.set_ylim(1050,90)\n",
    "#设置x轴标签\n",
    "ax1.set_xlim(-1,12)\n",
    "ax1.set_xticks(np.arange(0,12,1))\n",
    "ax1.set_xticklabels(pd.date_range(start='2005-01',periods=12,freq='M').date )\n",
    "#添加图题\n",
    "ax1.set_title('2005 U&OMEGA',loc='center',fontsize=18)\n",
    "plt.show()\n"
   ]
  },
  {
   "cell_type": "markdown",
   "metadata": {
    "id": "0FCD269E75A549A5B0128448C08EA4C2",
    "jupyter": {},
    "mdEditEnable": false,
    "notebookId": "635e855c109d8fab6617fa1c",
    "scrolled": false,
    "slideshow": {
     "slide_type": "slide"
    },
    "tags": []
   },
   "source": [
    "## 9.10  风向杆图"
   ]
  },
  {
   "cell_type": "code",
   "execution_count": 26,
   "metadata": {
    "id": "0F160E6F5736404CA78EBE4424CEEA41",
    "jupyter": {},
    "notebookId": "635e855c109d8fab6617fa1c",
    "scrolled": false,
    "slideshow": {
     "slide_type": "slide"
    },
    "tags": []
   },
   "outputs": [
    {
     "data": {
      "text/html": [
       "<img src=\"https://cdn.kesci.com/upload/rt/0F160E6F5736404CA78EBE4424CEEA41/rpavjtpf0n.png\">"
      ],
      "text/plain": [
       "<Figure size 1152x936 with 1 Axes>"
      ]
     },
     "metadata": {
      "needs_background": "light"
     },
     "output_type": "display_data"
    }
   ],
   "source": [
    "import xarray as xr\n",
    "import matplotlib.pyplot as plt\n",
    "import cartopy.crs as ccrs\n",
    "import cartopy.feature as cfeature\n",
    "import cartopy.mpl.ticker as cticker\n",
    "#读取数据\n",
    "f = xr.open_dataset('/home/mw/input/pythonbook9857/data.nc')\n",
    "u = f['uwnd'].loc['2005-07-01',500,:,:].values\n",
    "v = f['vwnd'].loc['2005-07-01',500,:,:].values\n",
    "lat = f['lat']\n",
    "lon = f['lon']\n",
    "#创建Figure\n",
    "fig = plt.figure(figsize=(16, 13))\n",
    "#绘制500hPa位势高度场\n",
    "ax1 = fig.add_subplot(1,1,1, projection=ccrs.Mercator())\n",
    "#设置ax1的范围\n",
    "ax1.set_extent([80,140,0,40])\n",
    "#为ax1添加海岸线\n",
    "#ax1.coastlines()\n",
    "#为ax1添加地理经纬度标签及刻度\n",
    "ax1.set_xticks(np.arange(80,160,20), crs=ccrs.PlateCarree())\n",
    "ax1.set_yticks(np.arange(0,60,20), crs=ccrs.PlateCarree())\n",
    "ax1.xaxis.set_major_formatter(cticker.LongitudeFormatter())\n",
    "ax1.yaxis.set_major_formatter(cticker.LatitudeFormatter())\n",
    "#绘制500hPa水平风场\n",
    "#Matplotlib原始的风向杆等级划分不适用于国内标准，所以需要额外指定符合标准的风向杆等级\n",
    "barb_increments = {'half': 2, 'full': 4, 'flag': 20}\n",
    "q1 = ax1.barbs(lon, lat, u,v,barb_increments=barb_increments,transform=ccrs.PlateCarree())\n",
    "#添加图题\n",
    "ax1.set_title('(a) July 2005 500hPa Wind',loc='center',fontsize=18)\n",
    "plt.show()\n"
   ]
  },
  {
   "cell_type": "markdown",
   "metadata": {
    "id": "D9B29D88975142AD96FCEEB1D1F87AF5",
    "jupyter": {},
    "mdEditEnable": false,
    "notebookId": "635e855c109d8fab6617fa1c",
    "scrolled": false,
    "slideshow": {
     "slide_type": "slide"
    },
    "tags": []
   },
   "source": [
    "## 9.11  探空图"
   ]
  },
  {
   "cell_type": "code",
   "execution_count": 30,
   "metadata": {
    "id": "31E3F8F2C21D4E3491E3575DD238BE7E",
    "jupyter": {},
    "notebookId": "635e855c109d8fab6617fa1c",
    "scrolled": false,
    "slideshow": {
     "slide_type": "slide"
    },
    "tags": []
   },
   "outputs": [
    {
     "data": {
      "text/html": [
       "<img src=\"https://cdn.kesci.com/upload/rt/31E3F8F2C21D4E3491E3575DD238BE7E/rpavmj1b7k.png\">"
      ],
      "text/plain": [
       "<Figure size 576x504 with 1 Axes>"
      ]
     },
     "metadata": {
      "needs_background": "light"
     },
     "output_type": "display_data"
    }
   ],
   "source": [
    "import numpy as np\n",
    "# MetPy中用于绘制探空图的类\n",
    "from metpy.plots import SkewT\n",
    "from metpy.units import units\n",
    "from metpy.calc import lcl\n",
    "from metpy.calc import parcel_profile\n",
    "# 探空数据，原始的np.ndarray数组需要带上单位，转换为带单位的数据\n",
    "# 气压层\n",
    "p = np.array([1000, 925, 850, 700, 600, 500, 450, 400, 300, 250]) * units.hPa\n",
    "# 气压层对应温度\n",
    "t = np.array([4, 8, 3, -11, -21, -26, -33, -38, -55, -60]) * units.degC\n",
    "# 气压层对应露点\n",
    "td = np.array([-8, -9, -14, -18, -25, -34, -38, -43, -61, -67]) * units.degC\n",
    "# 气压层对应风的U分量\n",
    "u = np.array([-0.39, 0.11, 3.1, 10.7, 16.61, 24.0, 20.31, 33.43, 49.32, 59.21]) * units('m/s')\n",
    "# 气压层对应风的V分量\n",
    "v = np.array([-0.57, -0.75, -1.09, -0.79, -0.48, -0.04, -0.26, 0.96, 2.87, 4.14]) * units('m/s')\n",
    "# 计算气块绝热抬升参数\n",
    "prof = parcel_profile(p, t[0], td[0]).to('degC')\n",
    "# 用最底层气压(这里是1000hPa)、温度和露点，计算抬升凝结高度对应的气压和温度\n",
    "lcl_pressure, lcl_temperature = lcl(p[0], t[0], td[0])\n",
    "fig = plt.figure(figsize=(8, 7))\n",
    "# 用于绘制探空图的绘图实例\n",
    "skew = SkewT(fig)\n",
    "# 绘制气块绝热抬升路径\n",
    "skew.plot(p, prof, 'k')\n",
    "# 在图上标出抬升凝结高度和对应温度所在的点\n",
    "skew.plot(lcl_pressure, lcl_temperature, 'ko', markerfacecolor='black')\n",
    "# 绘制CIN阴影部分\n",
    "skew.shade_cin(p, t, prof)\n",
    "# 绘制CAPE阴影部分\n",
    "skew.shade_cape(p, t, prof)\n",
    "# 绘制0℃等温线\n",
    "skew.ax.axvline(0, color='c', linestyle='--', linewidth=1)\n",
    "# 环境温度垂直廓线\n",
    "skew.plot(p, t, 'r')\n",
    "# 环境露点垂直廓线\n",
    "skew.plot(p, td, 'g')\n",
    "# 高度层对应水平风场(原始风向杆等级划分不适用于国内标准)\n",
    "barb_increments = {'half': 2, 'full': 4, 'flag': 20}\n",
    "skew.plot_barbs(p, u, v, barb_increments=barb_increments)\n",
    "# 绘制干绝热线\n",
    "skew.plot_dry_adiabats(t0=np.arange(233, 533, 10) * units.K, alpha=0.5, color='orangered', linewidth=0.7)\n",
    "# 绘制湿绝热线\n",
    "skew.plot_moist_adiabats(t0=np.arange(233, 400, 5) * units.K, alpha=0.5, color='tab:green', linewidth=0.7)\n",
    "# 绘制混合比线\n",
    "skew.plot_mixing_lines(pressure=np.arange(1000, 99, -20) * units.hPa, linestyle='dotted', color='tab:blue', linewidth=0.7)\n",
    "#设置Y轴(高度层)范围\n",
    "skew.ax.set_ylim(1000, 250)\n",
    "#设置X轴(温度)范围\n",
    "skew.ax.set_xlim(-40, 50)\n",
    "plt.show()\n"
   ]
  },
  {
   "cell_type": "markdown",
   "metadata": {
    "id": "D0D9DD3C8C3F4087B4AC1E0EC0C77282",
    "jupyter": {},
    "mdEditEnable": false,
    "notebookId": "635e855c109d8fab6617fa1c",
    "scrolled": false,
    "slideshow": {
     "slide_type": "slide"
    },
    "tags": []
   },
   "source": [
    "## 9.12  泰勒图"
   ]
  },
  {
   "cell_type": "code",
   "execution_count": 31,
   "metadata": {
    "id": "B01A08F627D149388A88389E9EB5D916",
    "jupyter": {},
    "notebookId": "635e855c109d8fab6617fa1c",
    "scrolled": false,
    "slideshow": {
     "slide_type": "slide"
    },
    "tags": []
   },
   "outputs": [],
   "source": [
    "from matplotlib.projections import PolarAxes\n",
    "from mpl_toolkits.axisartist import floating_axes\n",
    "from mpl_toolkits.axisartist import grid_finder\n",
    "import numpy as np\n",
    "import matplotlib.pyplot as plt\n",
    "#绘制泰勒图坐标系\n",
    "def set_tayloraxes(fig, location):\n",
    "#新建极坐标系\n",
    "    trans = PolarAxes.PolarTransform()\n",
    "#相关系数轴\n",
    "    r1_locs = np.hstack((np.arange(1,10)/10.0,[0.95,0.99]))\n",
    "    t1_locs = np.arccos(r1_locs)        \n",
    "    gl1 = grid_finder.FixedLocator(t1_locs)    \n",
    "    tf1 = grid_finder.DictFormatter(dict(zip(t1_locs, map(str,r1_locs))))\n",
    "#标准差轴\n",
    "    r2_locs = np.arange(0,2,0.25)\n",
    "    r2_labels = ['0 ', '0.25 ', '0.50 ', '0.75 ', 'REF ', '1.25 ', '1.50 ', '1.75 ']\n",
    "    gl2 = grid_finder.FixedLocator(r2_locs)\n",
    "    tf2 = grid_finder.DictFormatter(dict(zip(r2_locs, map(str,r2_labels))))\n",
    "    ghelper = floating_axes.GridHelperCurveLinear(trans,extremes=(0,np.pi/2,0,1.75),\n",
    "                                                  grid_locator1=gl1,tick_formatter1=tf1,\n",
    "                                                  grid_locator2=gl2,tick_formatter2=tf2)\n",
    "    ax = floating_axes.FloatingSubplot(fig, location, grid_helper=ghelper)\n",
    "    fig.add_subplot(ax)\n",
    "#设置各个轴的格式\n",
    "    ax.axis[\"top\"].set_axis_direction(\"bottom\")  \n",
    "    ax.axis[\"top\"].toggle(ticklabels=True, label=True)\n",
    "    ax.axis[\"top\"].major_ticklabels.set_axis_direction(\"top\")\n",
    "    ax.axis[\"top\"].label.set_axis_direction(\"top\")\n",
    "    ax.axis[\"top\"].label.set_text(\"Correlation\")\n",
    "    ax.axis[\"top\"].label.set_fontsize(14)\n",
    "    ax.axis[\"left\"].set_axis_direction(\"bottom\") \n",
    "    ax.axis[\"left\"].label.set_text(\"Standard deviation\")\n",
    "    ax.axis[\"left\"].label.set_fontsize(14)\n",
    "    ax.axis[\"right\"].set_axis_direction(\"top\")   \n",
    "    ax.axis[\"right\"].toggle(ticklabels=True)\n",
    "    ax.axis[\"right\"].major_ticklabels.set_axis_direction(\"left\")\n",
    "    ax.axis[\"bottom\"].set_visible(False)         \n",
    "    ax.grid(True)\n",
    "    polar_ax = ax.get_aux_axes(trans)   \n",
    "\n",
    "    rs,ts = np.meshgrid(np.linspace(0,1.75,100),\n",
    "                            np.linspace(0,np.pi/2,100))\n",
    "    rms = np.sqrt(1 + rs**2 - 2*rs*np.cos(ts))\n",
    "    CS = polar_ax.contour(ts, rs,rms,colors='gray',linestyles='--')\n",
    "    plt.clabel(CS, inline=1, fontsize=10)\n",
    "    t = np.linspace(0,np.pi/2)\n",
    "    r = np.zeros_like(t) + 1\n",
    "    polar_ax.plot(t,r,'k--')\n",
    "#将垂直轴的REF改为1.00\n",
    "    polar_ax.text(np.pi/2+0.032,1.02, \" 1.00\", size=10.3,ha=\"right\", va=\"top\",\n",
    "                  bbox=dict(boxstyle=\"square\",ec='w',fc='w'))\n",
    "    return polar_ax\n",
    "#在泰勒图上绘制数据点\n",
    "def plot_taylor(axes, refsample, sample, *args, **kwargs):\n",
    "    std = np.std(refsample)/np.std(sample)\n",
    "    corr = np.corrcoef(refsample, sample) \n",
    "    theta = np.arccos(corr[0,1])\n",
    "    t,r = theta,std\n",
    "    d = axes.plot(t,r, *args, **kwargs) \n",
    "    return d"
   ]
  },
  {
   "cell_type": "code",
   "execution_count": 32,
   "metadata": {
    "id": "0150910F15BC4AC587675C5760D4024C",
    "jupyter": {},
    "notebookId": "635e855c109d8fab6617fa1c",
    "scrolled": false,
    "slideshow": {
     "slide_type": "slide"
    },
    "tags": []
   },
   "outputs": [
    {
     "data": {
      "text/html": [
       "<img src=\"https://cdn.kesci.com/upload/rt/0150910F15BC4AC587675C5760D4024C/rpavmw9ohh.png\">"
      ],
      "text/plain": [
       "<Figure size 720x288 with 1 Axes>"
      ]
     },
     "metadata": {
      "needs_background": "light"
     },
     "output_type": "display_data"
    }
   ],
   "source": [
    "x = np.linspace(0,100*np.pi,100)\n",
    "#生成观测数据\n",
    "data = np.sin(x)    \n",
    "#生成3组与原始数据形状相同的对比数据                 \n",
    "m1 = data + 0.4*np.random.randn(len(x))   \n",
    "m2 = 0.3*data + 0.6*np.random.randn(len(x)) \n",
    "m3 = np.sin(x-np.pi/10)           \n",
    "#绘图     \n",
    "fig = plt.figure(figsize=(10,4))\n",
    "ax1 = set_tayloraxes(fig, 121)\n",
    "d1 = plot_taylor(ax1,data,m1, 'bo')\n",
    "d2 = plot_taylor(ax1,data,m2, 'ro')\n",
    "d3 = plot_taylor(ax1,data,m3, 'go')\n",
    "plt.show()"
   ]
  }
 ],
 "metadata": {
  "kernelspec": {
   "display_name": "Python 3 (ipykernel)",
   "language": "python",
   "name": "python3"
  },
  "language_info": {
   "codemirror_mode": {
    "name": "ipython",
    "version": 3
   },
   "file_extension": ".py",
   "mimetype": "text/x-python",
   "name": "python",
   "nbconvert_exporter": "python",
   "pygments_lexer": "ipython3",
   "version": "3.10.9"
  }
 },
 "nbformat": 4,
 "nbformat_minor": 1
}
