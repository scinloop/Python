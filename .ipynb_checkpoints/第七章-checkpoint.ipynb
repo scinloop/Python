{
 "cells": [
  {
   "cell_type": "markdown",
   "metadata": {
    "id": "D89B0EAB542642F98900CCC4D4E49360",
    "jupyter": {},
    "mdEditEnable": false,
    "notebookId": "635e89b33dd578d250859ec0",
    "scrolled": false,
    "slideshow": {
     "slide_type": "slide"
    },
    "tags": []
   },
   "source": [
    "# 第7章 气象数据插值"
   ]
  },
  {
   "cell_type": "markdown",
   "metadata": {
    "id": "810CF482643D4985AFA558B9F60AF78D",
    "jupyter": {},
    "mdEditEnable": false,
    "notebookId": "635e89b33dd578d250859ec0",
    "scrolled": false,
    "slideshow": {
     "slide_type": "slide"
    },
    "tags": []
   },
   "source": [
    "## 7.1  空间插值"
   ]
  },
  {
   "cell_type": "markdown",
   "metadata": {
    "id": "4FC61B519BE24DD590C9913A15FBDA95",
    "jupyter": {},
    "mdEditEnable": false,
    "notebookId": "635e89b33dd578d250859ec0",
    "scrolled": false,
    "slideshow": {
     "slide_type": "slide"
    },
    "tags": []
   },
   "source": [
    "### 7.1.1  从站点到栅格"
   ]
  },
  {
   "cell_type": "code",
   "execution_count": 1,
   "metadata": {
    "id": "DAAB7F66FE334EAFA8B2C2A888AC8207",
    "jupyter": {},
    "notebookId": "635e89b33dd578d250859ec0",
    "scrolled": false,
    "slideshow": {
     "slide_type": "slide"
    },
    "tags": []
   },
   "outputs": [
    {
     "name": "stdout",
     "output_type": "stream",
     "text": [
      "       lat     lon   pre_ano\n",
      "0    51.72  126.65  0.098331\n",
      "1    48.77  121.92 -0.167619\n",
      "2    49.22  119.75 -0.064597\n",
      "3    50.45  121.70 -0.046360\n",
      "4    49.17  125.23  0.017577\n",
      "..     ...     ...       ...\n",
      "155  47.73   88.08 -0.036620\n",
      "156  46.73   83.00  0.071207\n",
      "157  44.43   84.66 -0.205051\n",
      "158  43.95   81.33  0.170275\n",
      "159  43.78   87.62 -0.103539\n",
      "\n",
      "[160 rows x 3 columns]\n"
     ]
    }
   ],
   "source": [
    "import pandas as pd\n",
    "df = pd.read_csv('/home/mw/input/pythonbook4259/r160.txt', sep='\\s+', names=['lat', 'lon', 'pre_ano'])\n",
    "print(df)"
   ]
  },
  {
   "cell_type": "code",
   "execution_count": 2,
   "metadata": {
    "id": "59F2FDF7057049E4BD357A1E478A5631",
    "jupyter": {},
    "notebookId": "635e89b33dd578d250859ec0",
    "scrolled": false,
    "slideshow": {
     "slide_type": "slide"
    },
    "tags": []
   },
   "outputs": [
    {
     "ename": "ModuleNotFoundError",
     "evalue": "No module named 'pykrige'",
     "output_type": "error",
     "traceback": [
      "\u001b[0;31m---------------------------------------------------------------------------\u001b[0m",
      "\u001b[0;31mModuleNotFoundError\u001b[0m                       Traceback (most recent call last)",
      "\u001b[0;32m<ipython-input-2-137613763ad2>\u001b[0m in \u001b[0;36m<module>\u001b[0;34m\u001b[0m\n\u001b[0;32m----> 1\u001b[0;31m \u001b[0;32mfrom\u001b[0m \u001b[0mpykrige\u001b[0m\u001b[0;34m.\u001b[0m\u001b[0mok\u001b[0m \u001b[0;32mimport\u001b[0m \u001b[0mOrdinaryKriging\u001b[0m\u001b[0;34m\u001b[0m\u001b[0m\n\u001b[0m\u001b[1;32m      2\u001b[0m krige = OrdinaryKriging(\n\u001b[1;32m      3\u001b[0m           \u001b[0mdf\u001b[0m\u001b[0;34m[\u001b[0m\u001b[0;34m'lon'\u001b[0m\u001b[0;34m]\u001b[0m\u001b[0;34m,\u001b[0m\u001b[0;34m\u001b[0m\u001b[0m\n\u001b[1;32m      4\u001b[0m           \u001b[0mdf\u001b[0m\u001b[0;34m[\u001b[0m\u001b[0;34m'lat'\u001b[0m\u001b[0;34m]\u001b[0m\u001b[0;34m,\u001b[0m\u001b[0;34m\u001b[0m\u001b[0m\n\u001b[1;32m      5\u001b[0m           \u001b[0mdf\u001b[0m\u001b[0;34m[\u001b[0m\u001b[0;34m'pre_ano'\u001b[0m\u001b[0;34m]\u001b[0m\u001b[0;34m,\u001b[0m\u001b[0;34m\u001b[0m\u001b[0m\n",
      "\u001b[0;31mModuleNotFoundError\u001b[0m: No module named 'pykrige'"
     ]
    }
   ],
   "source": [
    "from pykrige.ok import OrdinaryKriging\n",
    "krige = OrdinaryKriging(\n",
    "          df['lon'],\n",
    "          df['lat'],\n",
    "          df['pre_ano'],\n",
    "          variogram_model=\"linear\",\n",
    "          verbose=False,\n",
    "          enable_plotting=False,\n",
    "       )"
   ]
  },
  {
   "cell_type": "code",
   "execution_count": 2,
   "metadata": {
    "id": "66B3DDC85B7D477F8154B413428DC388",
    "jupyter": {},
    "notebookId": "635e89b33dd578d250859ec0",
    "scrolled": false,
    "slideshow": {
     "slide_type": "slide"
    },
    "tags": []
   },
   "outputs": [],
   "source": [
    "import numpy as np\n",
    "lon = np.arange(76.0, 131.5+0.5, 0.5) # np.arange()函数创建的数组不包含参数传入的终点值\n",
    "lat = np.arange(20.5, 51.5+0.5, 0.5) # 所以在终点值后再加入一个步长以确保最后一个值被包含在结果中\n",
    "print(lon.shape, lat.shape)\n"
   ]
  },
  {
   "cell_type": "code",
   "execution_count": 3,
   "metadata": {
    "id": "3DE15894ABF04B47ABDF0FCD3C488C5E",
    "jupyter": {},
    "notebookId": "635e89b33dd578d250859ec0",
    "scrolled": false,
    "slideshow": {
     "slide_type": "slide"
    },
    "tags": []
   },
   "outputs": [],
   "source": [
    "pre_grid, ss = krige.execute(\"grid\", lon, lat)\n",
    "print(pre_grid)\n"
   ]
  },
  {
   "cell_type": "code",
   "execution_count": 5,
   "metadata": {
    "id": "A419B8B7A02346F882D9F15CAD87DAB5",
    "jupyter": {},
    "notebookId": "635e89b33dd578d250859ec0",
    "scrolled": false,
    "slideshow": {
     "slide_type": "slide"
    },
    "tags": []
   },
   "outputs": [],
   "source": [
    "import xarray as xr\n",
    "pre_da = xr.DataArray(pre_grid, coords=[lat, lon], dims=['lat', 'lon'])\n",
    "print(pre_da)\n"
   ]
  },
  {
   "cell_type": "code",
   "execution_count": 3,
   "metadata": {
    "id": "3D54515CD1C24A9D97CDB6AED1F71657",
    "jupyter": {},
    "notebookId": "635e89b33dd578d250859ec0",
    "scrolled": false,
    "slideshow": {
     "slide_type": "slide"
    },
    "tags": []
   },
   "outputs": [
    {
     "name": "stdout",
     "output_type": "stream",
     "text": [
      "[[        nan         nan         nan ... -0.41675891 -0.41730563\n",
      "  -0.41772805]\n",
      " [        nan         nan         nan ... -0.41783573 -0.41883586\n",
      "  -0.42000272]\n",
      " [        nan         nan         nan ... -0.41931729 -0.41991869\n",
      "  -0.42128663]\n",
      " ...\n",
      " [-0.04594149 -0.04876271 -0.05241695 ... -0.15684901 -0.15684024\n",
      "  -0.15693899]\n",
      " [-0.04011599 -0.04204267 -0.04612476 ... -0.1527561  -0.15290136\n",
      "  -0.15305936]\n",
      " [-0.03320475 -0.03582687 -0.03862931 ... -0.14872947 -0.14882568\n",
      "  -0.14891597]]\n"
     ]
    }
   ],
   "source": [
    "import numpy as np\n",
    "from metpy.interpolate import inverse_distance_to_grid\n",
    "\n",
    "lon = np.arange(76.0, 131.5+0.5, 0.5)\n",
    "lat = np.arange(20.5, 51.5+0.5, 0.5)\n",
    "lon_grid, lat_grid = np.meshgrid(lon, lat) # 生成交织的二维经纬栅格\n",
    "# 注意：inverse_distance_to_grid()使用的目标栅格为交织后的二维经纬栅格\n",
    "pre_grid = inverse_distance_to_grid(\n",
    "              df['lon'].values,\n",
    "              df['lat'].values,\n",
    "              df['pre_ano'].values,\n",
    "              lon_grid,\n",
    "              lat_grid,\n",
    "              r=15,\n",
    "              min_neighbors=3\n",
    "          )\n",
    "\n",
    "print(pre_grid)\n"
   ]
  },
  {
   "cell_type": "code",
   "execution_count": 4,
   "metadata": {
    "id": "8722A50EBA8C47BCA106A0971FF4267F",
    "jupyter": {},
    "notebookId": "635e89b33dd578d250859ec0",
    "scrolled": false,
    "slideshow": {
     "slide_type": "slide"
    },
    "tags": []
   },
   "outputs": [
    {
     "name": "stdout",
     "output_type": "stream",
     "text": [
      "<xarray.DataArray (lat: 63, lon: 112)>\n",
      "array([[        nan,         nan,         nan, ..., -0.41675891,\n",
      "        -0.41730563, -0.41772805],\n",
      "       [        nan,         nan,         nan, ..., -0.41783573,\n",
      "        -0.41883586, -0.42000272],\n",
      "       [        nan,         nan,         nan, ..., -0.41931729,\n",
      "        -0.41991869, -0.42128663],\n",
      "       ...,\n",
      "       [-0.04594149, -0.04876271, -0.05241695, ..., -0.15684901,\n",
      "        -0.15684024, -0.15693899],\n",
      "       [-0.04011599, -0.04204267, -0.04612476, ..., -0.1527561 ,\n",
      "        -0.15290136, -0.15305936],\n",
      "       [-0.03320475, -0.03582687, -0.03862931, ..., -0.14872947,\n",
      "        -0.14882568, -0.14891597]])\n",
      "Coordinates:\n",
      "  * lat      (lat) float64 20.5 21.0 21.5 22.0 22.5 ... 49.5 50.0 50.5 51.0 51.5\n",
      "  * lon      (lon) float64 76.0 76.5 77.0 77.5 78.0 ... 130.0 130.5 131.0 131.5\n"
     ]
    }
   ],
   "source": [
    "import xarray as xr\n",
    "\n",
    "pre_da = xr.DataArray(pre_grid, coords=[lat, lon], dims=['lat', 'lon'])\n",
    "\n",
    "print(pre_da)\n"
   ]
  },
  {
   "cell_type": "markdown",
   "metadata": {
    "id": "16BEDEF83DF24B65ABB0E52615CECDCB",
    "jupyter": {},
    "mdEditEnable": false,
    "notebookId": "635e89b33dd578d250859ec0",
    "scrolled": false,
    "slideshow": {
     "slide_type": "slide"
    },
    "tags": []
   },
   "source": [
    "### 7.1.2  从栅格到站点"
   ]
  },
  {
   "cell_type": "code",
   "execution_count": 5,
   "metadata": {
    "id": "3EF7952565E94D8B84CD0BABA373CD18",
    "jupyter": {},
    "notebookId": "635e89b33dd578d250859ec0",
    "scrolled": false,
    "slideshow": {
     "slide_type": "slide"
    },
    "tags": []
   },
   "outputs": [
    {
     "name": "stdout",
     "output_type": "stream",
     "text": [
      "<xarray.DataArray (lat: 63, lon: 112)>\n",
      "array([[        nan,         nan,         nan, ..., -0.41675891,\n",
      "        -0.41730563, -0.41772805],\n",
      "       [        nan,         nan,         nan, ..., -0.41783573,\n",
      "        -0.41883586, -0.42000272],\n",
      "       [        nan,         nan,         nan, ..., -0.41931729,\n",
      "        -0.41991869, -0.42128663],\n",
      "       ...,\n",
      "       [-0.04594149, -0.04876271, -0.05241695, ..., -0.15684901,\n",
      "        -0.15684024, -0.15693899],\n",
      "       [-0.04011599, -0.04204267, -0.04612476, ..., -0.1527561 ,\n",
      "        -0.15290136, -0.15305936],\n",
      "       [-0.03320475, -0.03582687, -0.03862931, ..., -0.14872947,\n",
      "        -0.14882568, -0.14891597]])\n",
      "Coordinates:\n",
      "  * lat      (lat) float64 20.5 21.0 21.5 22.0 22.5 ... 49.5 50.0 50.5 51.0 51.5\n",
      "  * lon      (lon) float64 76.0 76.5 77.0 77.5 78.0 ... 130.0 130.5 131.0 131.5\n"
     ]
    }
   ],
   "source": [
    "print(pre_da)"
   ]
  },
  {
   "cell_type": "code",
   "execution_count": 15,
   "metadata": {
    "id": "E929F311F5C447178FB199E37DBB11DA",
    "jupyter": {},
    "notebookId": "635e89b33dd578d250859ec0",
    "scrolled": false,
    "slideshow": {
     "slide_type": "slide"
    },
    "tags": []
   },
   "outputs": [
    {
     "name": "stdout",
     "output_type": "stream",
     "text": [
      "<xarray.DataArray (lat: 63, lon: 112)>\n",
      "array([[        nan,         nan,         nan, ..., -0.41675891,\n",
      "        -0.41730563, -0.41772805],\n",
      "       [        nan,         nan,         nan, ..., -0.41783573,\n",
      "        -0.41883586, -0.42000272],\n",
      "       [        nan,         nan,         nan, ..., -0.41931729,\n",
      "        -0.41991869, -0.42128663],\n",
      "       ...,\n",
      "       [-0.04594149, -0.04876271, -0.05241695, ..., -0.15684901,\n",
      "        -0.15684024, -0.15693899],\n",
      "       [-0.04011599, -0.04204267, -0.04612476, ..., -0.1527561 ,\n",
      "        -0.15290136, -0.15305936],\n",
      "       [-0.03320475, -0.03582687, -0.03862931, ..., -0.14872947,\n",
      "        -0.14882568, -0.14891597]])\n",
      "Coordinates:\n",
      "  * lon      (lon) float64 76.0 76.5 77.0 77.5 78.0 ... 130.0 130.5 131.0 131.5\n",
      "  * lat      (lat) float64 20.5 21.0 21.5 22.0 22.5 ... 49.5 50.0 50.5 51.0 51.5\n"
     ]
    }
   ],
   "source": [
    "pre_sta = pre_da.interp(lon=lon, lat=lat, method='linear')\n",
    "print(pre_sta)"
   ]
  },
  {
   "cell_type": "code",
   "execution_count": 16,
   "metadata": {
    "id": "C305E56CC1154D90AF15D8D8A74D4E18",
    "jupyter": {},
    "notebookId": "635e89b33dd578d250859ec0",
    "scrolled": false,
    "slideshow": {
     "slide_type": "slide"
    },
    "tags": []
   },
   "outputs": [
    {
     "name": "stdout",
     "output_type": "stream",
     "text": [
      "             pre_ano\n",
      "lat  lon            \n",
      "20.5 76.0        NaN\n",
      "     76.5        NaN\n",
      "     77.0        NaN\n",
      "     77.5        NaN\n",
      "     78.0        NaN\n",
      "...              ...\n",
      "51.5 129.5 -0.148536\n",
      "     130.0 -0.148608\n",
      "     130.5 -0.148729\n",
      "     131.0 -0.148826\n",
      "     131.5 -0.148916\n",
      "\n",
      "[7056 rows x 1 columns]\n"
     ]
    }
   ],
   "source": [
    "pre_df = pre_sta.to_dataframe('pre_ano')\n",
    "print(pre_df)"
   ]
  },
  {
   "cell_type": "markdown",
   "metadata": {
    "id": "4605FFCD6B6B49AD878D1A28B7AEBACB",
    "jupyter": {},
    "mdEditEnable": false,
    "notebookId": "635e89b33dd578d250859ec0",
    "scrolled": false,
    "slideshow": {
     "slide_type": "slide"
    },
    "tags": []
   },
   "source": [
    "### 7.1.3  从栅格到栅格"
   ]
  },
  {
   "cell_type": "code",
   "execution_count": 12,
   "metadata": {
    "id": "4BF44DEFFC21420AA22C3ADD06524540",
    "jupyter": {},
    "notebookId": "635e89b33dd578d250859ec0",
    "scrolled": false,
    "slideshow": {
     "slide_type": "slide"
    },
    "tags": []
   },
   "outputs": [
    {
     "name": "stdout",
     "output_type": "stream",
     "text": [
      "<xarray.DataArray (lat: 63, lon: 112)>\n",
      "array([[        nan,         nan,         nan, ..., -0.41675891,\n",
      "        -0.41730563, -0.41772805],\n",
      "       [        nan,         nan,         nan, ..., -0.41783573,\n",
      "        -0.41883586, -0.42000272],\n",
      "       [        nan,         nan,         nan, ..., -0.41931729,\n",
      "        -0.41991869, -0.42128663],\n",
      "       ...,\n",
      "       [-0.04594149, -0.04876271, -0.05241695, ..., -0.15684901,\n",
      "        -0.15684024, -0.15693899],\n",
      "       [-0.04011599, -0.04204267, -0.04612476, ..., -0.1527561 ,\n",
      "        -0.15290136, -0.15305936],\n",
      "       [-0.03320475, -0.03582687, -0.03862931, ..., -0.14872947,\n",
      "        -0.14882568, -0.14891597]])\n",
      "Coordinates:\n",
      "  * lat      (lat) float64 20.5 21.0 21.5 22.0 22.5 ... 49.5 50.0 50.5 51.0 51.5\n",
      "  * lon      (lon) float64 76.0 76.5 77.0 77.5 78.0 ... 130.0 130.5 131.0 131.5\n"
     ]
    }
   ],
   "source": [
    "print(pre_da)"
   ]
  },
  {
   "cell_type": "code",
   "execution_count": 17,
   "metadata": {
    "id": "C3AA633CB40A40278BC906DA1A11B5D7",
    "jupyter": {},
    "notebookId": "635e89b33dd578d250859ec0",
    "scrolled": false,
    "slideshow": {
     "slide_type": "slide"
    },
    "tags": []
   },
   "outputs": [
    {
     "name": "stdout",
     "output_type": "stream",
     "text": [
      "<xarray.DataArray (lat: 63, lon: 112)>\n",
      "array([[        nan,         nan,         nan, ..., -0.41675891,\n",
      "        -0.41730563, -0.41772805],\n",
      "       [        nan,         nan,         nan, ..., -0.41783573,\n",
      "        -0.41883586, -0.42000272],\n",
      "       [        nan,         nan,         nan, ..., -0.41931729,\n",
      "        -0.41991869, -0.42128663],\n",
      "       ...,\n",
      "       [-0.04594149, -0.04876271, -0.05241695, ..., -0.15684901,\n",
      "        -0.15684024, -0.15693899],\n",
      "       [-0.04011599, -0.04204267, -0.04612476, ..., -0.1527561 ,\n",
      "        -0.15290136, -0.15305936],\n",
      "       [-0.03320475, -0.03582687, -0.03862931, ..., -0.14872947,\n",
      "        -0.14882568, -0.14891597]])\n",
      "Coordinates:\n",
      "  * lon      (lon) float64 76.0 76.5 77.0 77.5 78.0 ... 130.0 130.5 131.0 131.5\n",
      "  * lat      (lat) float64 20.5 21.0 21.5 22.0 22.5 ... 49.5 50.0 50.5 51.0 51.5\n"
     ]
    }
   ],
   "source": [
    "pre_grid1 = pre_da.interp(lon=[80, 90, 100, 120], \n",
    "                      lat=[25, 30, 35, 40], \n",
    "                      method='linear')\n",
    "\n",
    "print(pre_sta)\n"
   ]
  },
  {
   "cell_type": "markdown",
   "metadata": {
    "id": "E7F6D82317164CA985791F3AFEA155DA",
    "jupyter": {},
    "mdEditEnable": false,
    "notebookId": "635e89b33dd578d250859ec0",
    "scrolled": false,
    "slideshow": {
     "slide_type": "slide"
    },
    "tags": []
   },
   "source": [
    "## 7.2  时间插值"
   ]
  },
  {
   "cell_type": "markdown",
   "metadata": {
    "id": "5E738B83E36E49F88F0128C2849E3A78",
    "jupyter": {},
    "mdEditEnable": false,
    "notebookId": "635e89b33dd578d250859ec0",
    "scrolled": false,
    "slideshow": {
     "slide_type": "slide"
    },
    "tags": []
   },
   "source": [
    "### 7.2.1  站点时间内插"
   ]
  },
  {
   "cell_type": "code",
   "execution_count": 9,
   "metadata": {
    "id": "F74B150C59B2407D86FB40ED881E276A",
    "jupyter": {},
    "notebookId": "635e89b33dd578d250859ec0",
    "scrolled": false,
    "slideshow": {
     "slide_type": "slide"
    },
    "tags": []
   },
   "outputs": [
    {
     "name": "stdout",
     "output_type": "stream",
     "text": [
      "      t    p    rh       time\n",
      "0  21.7  983  0.64 2020-02-19\n",
      "1  19.2  991  0.75 2020-02-20\n",
      "2  13.4  973  0.83 2020-02-22\n"
     ]
    }
   ],
   "source": [
    "import pandas as pd\n",
    "#构造数组\n",
    "df = pd.DataFrame([[21.7, 983, 0.64],\n",
    "                  [19.2, 991, 0.75],\n",
    "                  [13.4, 973, 0.83]],\n",
    "                 columns=['t', 'p', 'rh']\n",
    "                )\n",
    "df['time'] = pd.to_datetime(['2020-02-19', '2020-02-20', '2020-02-22'])\n",
    "print(df)\n"
   ]
  },
  {
   "cell_type": "code",
   "execution_count": 10,
   "metadata": {
    "id": "8ECC3D2DADF642B89F4EE3B9BBF9E6A1",
    "jupyter": {},
    "notebookId": "635e89b33dd578d250859ec0",
    "scrolled": false,
    "slideshow": {
     "slide_type": "slide"
    },
    "tags": []
   },
   "outputs": [
    {
     "name": "stdout",
     "output_type": "stream",
     "text": [
      "               t    p    rh\n",
      "time                       \n",
      "2020-02-19  21.7  983  0.64\n",
      "2020-02-20  19.2  991  0.75\n",
      "2020-02-22  13.4  973  0.83\n"
     ]
    }
   ],
   "source": [
    "df = df.set_index('time')\n",
    "print(df)\n"
   ]
  },
  {
   "cell_type": "code",
   "execution_count": 11,
   "metadata": {
    "id": "FB7590F16E9B48699FD1782C90189386",
    "jupyter": {},
    "notebookId": "635e89b33dd578d250859ec0",
    "scrolled": false,
    "slideshow": {
     "slide_type": "slide"
    },
    "tags": []
   },
   "outputs": [
    {
     "name": "stdout",
     "output_type": "stream",
     "text": [
      "               t      p    rh\n",
      "time                         \n",
      "2020-02-19  21.7  983.0  0.64\n",
      "2020-02-20  19.2  991.0  0.75\n",
      "2020-02-21  16.3  982.0  0.79\n",
      "2020-02-22  13.4  973.0  0.83\n"
     ]
    }
   ],
   "source": [
    "df_interp = df.resample('1D').interpolate(method='linear')\n",
    "print(df_interp)\n"
   ]
  },
  {
   "cell_type": "markdown",
   "metadata": {
    "id": "8065BEBE7A764AA482BDE27FBBFDEEF9",
    "jupyter": {},
    "mdEditEnable": false,
    "notebookId": "635e89b33dd578d250859ec0",
    "scrolled": false,
    "slideshow": {
     "slide_type": "slide"
    },
    "tags": []
   },
   "source": [
    "### 7.2.2  栅格时间内插"
   ]
  },
  {
   "cell_type": "code",
   "execution_count": 7,
   "metadata": {
    "id": "108A6A3C3C4A460B971B95269FA4015A",
    "jupyter": {},
    "notebookId": "635e89b33dd578d250859ec0",
    "scrolled": false,
    "slideshow": {
     "slide_type": "slide"
    },
    "tags": []
   },
   "outputs": [
    {
     "name": "stdout",
     "output_type": "stream",
     "text": [
      "<xarray.DataArray (time: 3, lat: 3, lon: 3)>\n",
      "array([[[25.36833749,  9.835558  ,  9.70410351],\n",
      "        [16.96870264,  7.33170443, 14.86629016],\n",
      "        [16.39984725, 16.46497263, 16.3571344 ]],\n",
      "\n",
      "       [[14.5675103 , 12.17993797,  9.57918095],\n",
      "        [23.61240778, 14.57624162, 10.1265022 ],\n",
      "        [12.1024726 , 10.50885673, 11.87143659]],\n",
      "\n",
      "       [[ 7.60884169, 20.78943309,  7.90046148],\n",
      "        [18.41886334, 23.20704066, 17.45145241],\n",
      "        [ 5.89131442, 19.3040832 , 14.7046148 ]]])\n",
      "Coordinates:\n",
      "  * time     (time) datetime64[ns] 2020-02-19 2020-02-20 2020-02-22\n",
      "  * lat      (lat) int64 20 25 30\n",
      "  * lon      (lon) int64 120 125 130\n"
     ]
    }
   ],
   "source": [
    "import pandas as pd\n",
    "import xarray as xr\n",
    "import numpy as np\n",
    "#构造数组\n",
    "da = xr.DataArray(np.abs(np.random.randn(3, 3, 3)*5+15),coords=[pd.to_datetime(['2020-02-19', '2020-02-20', '2020-02-22']),[20, 25, 30], [120, 125, 130]],dims=['time', 'lat', 'lon'])\n",
    "print(da)\n"
   ]
  },
  {
   "cell_type": "code",
   "execution_count": 8,
   "metadata": {
    "id": "9C1FCC6E3CF04167B8BA41EDB48B441B",
    "jupyter": {},
    "notebookId": "635e89b33dd578d250859ec0",
    "scrolled": false,
    "slideshow": {
     "slide_type": "slide"
    },
    "tags": []
   },
   "outputs": [
    {
     "name": "stdout",
     "output_type": "stream",
     "text": [
      "<xarray.DataArray (time: 1, lat: 3, lon: 3)>\n",
      "array([[[11.08817599, 16.48468553,  8.73982122],\n",
      "        [21.01563556, 18.89164114, 13.78897731],\n",
      "        [ 8.99689351, 14.90646997, 13.28802569]]])\n",
      "Coordinates:\n",
      "  * lat      (lat) int64 20 25 30\n",
      "  * lon      (lon) int64 120 125 130\n",
      "  * time     (time) datetime64[ns] 2020-02-21\n"
     ]
    }
   ],
   "source": [
    "da_interp = da.interp(time=['2020-02-21'], method='linear')\n",
    "print(da_interp)\n"
   ]
  }
 ],
 "metadata": {
  "kernelspec": {
   "display_name": "Python 3 (ipykernel)",
   "language": "python",
   "name": "python3"
  },
  "language_info": {
   "codemirror_mode": {
    "name": "ipython",
    "version": 3
   },
   "file_extension": ".py",
   "mimetype": "text/x-python",
   "name": "python",
   "nbconvert_exporter": "python",
   "pygments_lexer": "ipython3",
   "version": "3.10.9"
  }
 },
 "nbformat": 4,
 "nbformat_minor": 1
}
