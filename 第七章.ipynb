{
 "cells": [
  {
   "metadata": {
    "trusted": true,
    "collapsed": false,
    "jupyter": {},
    "tags": [],
    "slideshow": {
     "slide_type": "slide"
    },
    "id": "D89B0EAB542642F98900CCC4D4E49360",
    "scrolled": false,
    "notebookId": "635e89b33dd578d250859ec0",
    "mdEditEnable": false
   },
   "cell_type": "markdown",
   "source": "# 第7章 气象数据插值"
  },
  {
   "metadata": {
    "id": "810CF482643D4985AFA558B9F60AF78D",
    "notebookId": "635e89b33dd578d250859ec0",
    "jupyter": {},
    "tags": [],
    "slideshow": {
     "slide_type": "slide"
    },
    "trusted": true,
    "collapsed": false,
    "scrolled": false,
    "mdEditEnable": false
   },
   "cell_type": "markdown",
   "source": "## 7.1  空间插值"
  },
  {
   "source": "### 7.1.1  从站点到栅格",
   "cell_type": "markdown",
   "metadata": {
    "trusted": true,
    "collapsed": false,
    "jupyter": {},
    "tags": [],
    "slideshow": {
     "slide_type": "slide"
    },
    "id": "4FC61B519BE24DD590C9913A15FBDA95",
    "scrolled": false,
    "notebookId": "635e89b33dd578d250859ec0",
    "mdEditEnable": false
   }
  },
  {
   "metadata": {
    "id": "DAAB7F66FE334EAFA8B2C2A888AC8207",
    "notebookId": "635e89b33dd578d250859ec0",
    "jupyter": {},
    "tags": [],
    "slideshow": {
     "slide_type": "slide"
    },
    "trusted": true,
    "collapsed": false,
    "scrolled": false
   },
   "cell_type": "code",
   "outputs": [
    {
     "output_type": "stream",
     "name": "stdout",
     "text": "       lat     lon   pre_ano\n0    51.72  126.65  0.098331\n1    48.77  121.92 -0.167619\n2    49.22  119.75 -0.064597\n3    50.45  121.70 -0.046360\n4    49.17  125.23  0.017577\n..     ...     ...       ...\n155  47.73   88.08 -0.036620\n156  46.73   83.00  0.071207\n157  44.43   84.66 -0.205051\n158  43.95   81.33  0.170275\n159  43.78   87.62 -0.103539\n\n[160 rows x 3 columns]\n"
    }
   ],
   "source": "import pandas as pd\ndf = pd.read_csv('/home/mw/input/pythonbook4259/r160.txt', sep='\\s+', names=['lat', 'lon', 'pre_ano'])\nprint(df)",
   "execution_count": 1
  },
  {
   "metadata": {
    "id": "59F2FDF7057049E4BD357A1E478A5631",
    "notebookId": "635e89b33dd578d250859ec0",
    "jupyter": {},
    "tags": [],
    "slideshow": {
     "slide_type": "slide"
    },
    "trusted": true,
    "collapsed": false,
    "scrolled": false
   },
   "cell_type": "code",
   "outputs": [
    {
     "output_type": "error",
     "ename": "ModuleNotFoundError",
     "evalue": "No module named 'pykrige'",
     "traceback": [
      "\u001B[0;31m---------------------------------------------------------------------------\u001B[0m",
      "\u001B[0;31mModuleNotFoundError\u001B[0m                       Traceback (most recent call last)",
      "\u001B[0;32m<ipython-input-2-137613763ad2>\u001B[0m in \u001B[0;36m<module>\u001B[0;34m\u001B[0m\n\u001B[0;32m----> 1\u001B[0;31m \u001B[0;32mfrom\u001B[0m \u001B[0mpykrige\u001B[0m\u001B[0;34m.\u001B[0m\u001B[0mok\u001B[0m \u001B[0;32mimport\u001B[0m \u001B[0mOrdinaryKriging\u001B[0m\u001B[0;34m\u001B[0m\u001B[0m\n\u001B[0m\u001B[1;32m      2\u001B[0m krige = OrdinaryKriging(\n\u001B[1;32m      3\u001B[0m           \u001B[0mdf\u001B[0m\u001B[0;34m[\u001B[0m\u001B[0;34m'lon'\u001B[0m\u001B[0;34m]\u001B[0m\u001B[0;34m,\u001B[0m\u001B[0;34m\u001B[0m\u001B[0m\n\u001B[1;32m      4\u001B[0m           \u001B[0mdf\u001B[0m\u001B[0;34m[\u001B[0m\u001B[0;34m'lat'\u001B[0m\u001B[0;34m]\u001B[0m\u001B[0;34m,\u001B[0m\u001B[0;34m\u001B[0m\u001B[0m\n\u001B[1;32m      5\u001B[0m           \u001B[0mdf\u001B[0m\u001B[0;34m[\u001B[0m\u001B[0;34m'pre_ano'\u001B[0m\u001B[0;34m]\u001B[0m\u001B[0;34m,\u001B[0m\u001B[0;34m\u001B[0m\u001B[0m\n",
      "\u001B[0;31mModuleNotFoundError\u001B[0m: No module named 'pykrige'"
     ]
    }
   ],
   "source": "from pykrige.ok import OrdinaryKriging\nkrige = OrdinaryKriging(\n          df['lon'],\n          df['lat'],\n          df['pre_ano'],\n          variogram_model=\"linear\",\n          verbose=False,\n          enable_plotting=False,\n       )",
   "execution_count": 2
  },
  {
   "metadata": {
    "id": "66B3DDC85B7D477F8154B413428DC388",
    "notebookId": "635e89b33dd578d250859ec0",
    "jupyter": {},
    "tags": [],
    "slideshow": {
     "slide_type": "slide"
    },
    "trusted": true,
    "collapsed": false,
    "scrolled": false
   },
   "cell_type": "code",
   "outputs": [],
   "source": "import numpy as np\nlon = np.arange(76.0, 131.5+0.5, 0.5) # np.arange()函数创建的数组不包含参数传入的终点值\nlat = np.arange(20.5, 51.5+0.5, 0.5) # 所以在终点值后再加入一个步长以确保最后一个值被包含在结果中\nprint(lon.shape, lat.shape)\n",
   "execution_count": 2
  },
  {
   "metadata": {
    "id": "3DE15894ABF04B47ABDF0FCD3C488C5E",
    "notebookId": "635e89b33dd578d250859ec0",
    "jupyter": {},
    "tags": [],
    "slideshow": {
     "slide_type": "slide"
    },
    "trusted": true,
    "collapsed": false,
    "scrolled": false
   },
   "cell_type": "code",
   "outputs": [],
   "source": "pre_grid, ss = krige.execute(\"grid\", lon, lat)\nprint(pre_grid)\n",
   "execution_count": 3
  },
  {
   "metadata": {
    "id": "A419B8B7A02346F882D9F15CAD87DAB5",
    "notebookId": "635e89b33dd578d250859ec0",
    "jupyter": {},
    "tags": [],
    "slideshow": {
     "slide_type": "slide"
    },
    "trusted": true,
    "collapsed": false,
    "scrolled": false
   },
   "cell_type": "code",
   "outputs": [],
   "source": "import xarray as xr\npre_da = xr.DataArray(pre_grid, coords=[lat, lon], dims=['lat', 'lon'])\nprint(pre_da)\n",
   "execution_count": 5
  },
  {
   "metadata": {
    "id": "3D54515CD1C24A9D97CDB6AED1F71657",
    "notebookId": "635e89b33dd578d250859ec0",
    "jupyter": {},
    "tags": [],
    "slideshow": {
     "slide_type": "slide"
    },
    "trusted": true,
    "collapsed": false,
    "scrolled": false
   },
   "cell_type": "code",
   "outputs": [
    {
     "output_type": "stream",
     "name": "stdout",
     "text": "[[        nan         nan         nan ... -0.41675891 -0.41730563\n  -0.41772805]\n [        nan         nan         nan ... -0.41783573 -0.41883586\n  -0.42000272]\n [        nan         nan         nan ... -0.41931729 -0.41991869\n  -0.42128663]\n ...\n [-0.04594149 -0.04876271 -0.05241695 ... -0.15684901 -0.15684024\n  -0.15693899]\n [-0.04011599 -0.04204267 -0.04612476 ... -0.1527561  -0.15290136\n  -0.15305936]\n [-0.03320475 -0.03582687 -0.03862931 ... -0.14872947 -0.14882568\n  -0.14891597]]\n"
    }
   ],
   "source": "import numpy as np\nfrom metpy.interpolate import inverse_distance_to_grid\n\nlon = np.arange(76.0, 131.5+0.5, 0.5)\nlat = np.arange(20.5, 51.5+0.5, 0.5)\nlon_grid, lat_grid = np.meshgrid(lon, lat) # 生成交织的二维经纬栅格\n# 注意：inverse_distance_to_grid()使用的目标栅格为交织后的二维经纬栅格\npre_grid = inverse_distance_to_grid(\n              df['lon'].values,\n              df['lat'].values,\n              df['pre_ano'].values,\n              lon_grid,\n              lat_grid,\n              r=15,\n              min_neighbors=3\n          )\n\nprint(pre_grid)\n",
   "execution_count": 3
  },
  {
   "metadata": {
    "id": "8722A50EBA8C47BCA106A0971FF4267F",
    "notebookId": "635e89b33dd578d250859ec0",
    "jupyter": {},
    "tags": [],
    "slideshow": {
     "slide_type": "slide"
    },
    "trusted": true,
    "collapsed": false,
    "scrolled": false
   },
   "cell_type": "code",
   "outputs": [
    {
     "output_type": "stream",
     "name": "stdout",
     "text": "<xarray.DataArray (lat: 63, lon: 112)>\narray([[        nan,         nan,         nan, ..., -0.41675891,\n        -0.41730563, -0.41772805],\n       [        nan,         nan,         nan, ..., -0.41783573,\n        -0.41883586, -0.42000272],\n       [        nan,         nan,         nan, ..., -0.41931729,\n        -0.41991869, -0.42128663],\n       ...,\n       [-0.04594149, -0.04876271, -0.05241695, ..., -0.15684901,\n        -0.15684024, -0.15693899],\n       [-0.04011599, -0.04204267, -0.04612476, ..., -0.1527561 ,\n        -0.15290136, -0.15305936],\n       [-0.03320475, -0.03582687, -0.03862931, ..., -0.14872947,\n        -0.14882568, -0.14891597]])\nCoordinates:\n  * lat      (lat) float64 20.5 21.0 21.5 22.0 22.5 ... 49.5 50.0 50.5 51.0 51.5\n  * lon      (lon) float64 76.0 76.5 77.0 77.5 78.0 ... 130.0 130.5 131.0 131.5\n"
    }
   ],
   "source": "import xarray as xr\n\npre_da = xr.DataArray(pre_grid, coords=[lat, lon], dims=['lat', 'lon'])\n\nprint(pre_da)\n",
   "execution_count": 4
  },
  {
   "source": "### 7.1.2  从栅格到站点",
   "cell_type": "markdown",
   "metadata": {
    "trusted": true,
    "collapsed": false,
    "jupyter": {},
    "tags": [],
    "slideshow": {
     "slide_type": "slide"
    },
    "id": "16BEDEF83DF24B65ABB0E52615CECDCB",
    "scrolled": false,
    "notebookId": "635e89b33dd578d250859ec0",
    "mdEditEnable": false
   }
  },
  {
   "metadata": {
    "id": "3EF7952565E94D8B84CD0BABA373CD18",
    "notebookId": "635e89b33dd578d250859ec0",
    "jupyter": {},
    "tags": [],
    "slideshow": {
     "slide_type": "slide"
    },
    "trusted": true,
    "collapsed": false,
    "scrolled": false
   },
   "cell_type": "code",
   "outputs": [
    {
     "output_type": "stream",
     "name": "stdout",
     "text": "<xarray.DataArray (lat: 63, lon: 112)>\narray([[        nan,         nan,         nan, ..., -0.41675891,\n        -0.41730563, -0.41772805],\n       [        nan,         nan,         nan, ..., -0.41783573,\n        -0.41883586, -0.42000272],\n       [        nan,         nan,         nan, ..., -0.41931729,\n        -0.41991869, -0.42128663],\n       ...,\n       [-0.04594149, -0.04876271, -0.05241695, ..., -0.15684901,\n        -0.15684024, -0.15693899],\n       [-0.04011599, -0.04204267, -0.04612476, ..., -0.1527561 ,\n        -0.15290136, -0.15305936],\n       [-0.03320475, -0.03582687, -0.03862931, ..., -0.14872947,\n        -0.14882568, -0.14891597]])\nCoordinates:\n  * lat      (lat) float64 20.5 21.0 21.5 22.0 22.5 ... 49.5 50.0 50.5 51.0 51.5\n  * lon      (lon) float64 76.0 76.5 77.0 77.5 78.0 ... 130.0 130.5 131.0 131.5\n"
    }
   ],
   "source": "print(pre_da)",
   "execution_count": 5
  },
  {
   "metadata": {
    "id": "E929F311F5C447178FB199E37DBB11DA",
    "notebookId": "635e89b33dd578d250859ec0",
    "jupyter": {},
    "tags": [],
    "slideshow": {
     "slide_type": "slide"
    },
    "trusted": true,
    "collapsed": false,
    "scrolled": false
   },
   "cell_type": "code",
   "outputs": [
    {
     "output_type": "stream",
     "name": "stdout",
     "text": "<xarray.DataArray (lat: 63, lon: 112)>\narray([[        nan,         nan,         nan, ..., -0.41675891,\n        -0.41730563, -0.41772805],\n       [        nan,         nan,         nan, ..., -0.41783573,\n        -0.41883586, -0.42000272],\n       [        nan,         nan,         nan, ..., -0.41931729,\n        -0.41991869, -0.42128663],\n       ...,\n       [-0.04594149, -0.04876271, -0.05241695, ..., -0.15684901,\n        -0.15684024, -0.15693899],\n       [-0.04011599, -0.04204267, -0.04612476, ..., -0.1527561 ,\n        -0.15290136, -0.15305936],\n       [-0.03320475, -0.03582687, -0.03862931, ..., -0.14872947,\n        -0.14882568, -0.14891597]])\nCoordinates:\n  * lon      (lon) float64 76.0 76.5 77.0 77.5 78.0 ... 130.0 130.5 131.0 131.5\n  * lat      (lat) float64 20.5 21.0 21.5 22.0 22.5 ... 49.5 50.0 50.5 51.0 51.5\n"
    }
   ],
   "source": "pre_sta = pre_da.interp(lon=lon, lat=lat, method='linear')\nprint(pre_sta)",
   "execution_count": 15
  },
  {
   "metadata": {
    "id": "C305E56CC1154D90AF15D8D8A74D4E18",
    "notebookId": "635e89b33dd578d250859ec0",
    "jupyter": {},
    "tags": [],
    "slideshow": {
     "slide_type": "slide"
    },
    "trusted": true,
    "collapsed": false,
    "scrolled": false
   },
   "cell_type": "code",
   "outputs": [
    {
     "output_type": "stream",
     "name": "stdout",
     "text": "             pre_ano\nlat  lon            \n20.5 76.0        NaN\n     76.5        NaN\n     77.0        NaN\n     77.5        NaN\n     78.0        NaN\n...              ...\n51.5 129.5 -0.148536\n     130.0 -0.148608\n     130.5 -0.148729\n     131.0 -0.148826\n     131.5 -0.148916\n\n[7056 rows x 1 columns]\n"
    }
   ],
   "source": "pre_df = pre_sta.to_dataframe('pre_ano')\nprint(pre_df)",
   "execution_count": 16
  },
  {
   "metadata": {
    "id": "4605FFCD6B6B49AD878D1A28B7AEBACB",
    "notebookId": "635e89b33dd578d250859ec0",
    "jupyter": {},
    "tags": [],
    "slideshow": {
     "slide_type": "slide"
    },
    "trusted": true,
    "mdEditEnable": false,
    "collapsed": false,
    "scrolled": false
   },
   "cell_type": "markdown",
   "source": "### 7.1.3  从栅格到栅格"
  },
  {
   "metadata": {
    "id": "4BF44DEFFC21420AA22C3ADD06524540",
    "notebookId": "635e89b33dd578d250859ec0",
    "jupyter": {},
    "tags": [],
    "slideshow": {
     "slide_type": "slide"
    },
    "trusted": true,
    "collapsed": false,
    "scrolled": false
   },
   "cell_type": "code",
   "outputs": [
    {
     "output_type": "stream",
     "name": "stdout",
     "text": "<xarray.DataArray (lat: 63, lon: 112)>\narray([[        nan,         nan,         nan, ..., -0.41675891,\n        -0.41730563, -0.41772805],\n       [        nan,         nan,         nan, ..., -0.41783573,\n        -0.41883586, -0.42000272],\n       [        nan,         nan,         nan, ..., -0.41931729,\n        -0.41991869, -0.42128663],\n       ...,\n       [-0.04594149, -0.04876271, -0.05241695, ..., -0.15684901,\n        -0.15684024, -0.15693899],\n       [-0.04011599, -0.04204267, -0.04612476, ..., -0.1527561 ,\n        -0.15290136, -0.15305936],\n       [-0.03320475, -0.03582687, -0.03862931, ..., -0.14872947,\n        -0.14882568, -0.14891597]])\nCoordinates:\n  * lat      (lat) float64 20.5 21.0 21.5 22.0 22.5 ... 49.5 50.0 50.5 51.0 51.5\n  * lon      (lon) float64 76.0 76.5 77.0 77.5 78.0 ... 130.0 130.5 131.0 131.5\n"
    }
   ],
   "source": "print(pre_da)",
   "execution_count": 12
  },
  {
   "metadata": {
    "id": "C3AA633CB40A40278BC906DA1A11B5D7",
    "notebookId": "635e89b33dd578d250859ec0",
    "jupyter": {},
    "tags": [],
    "slideshow": {
     "slide_type": "slide"
    },
    "trusted": true,
    "collapsed": false,
    "scrolled": false
   },
   "cell_type": "code",
   "outputs": [
    {
     "output_type": "stream",
     "name": "stdout",
     "text": "<xarray.DataArray (lat: 63, lon: 112)>\narray([[        nan,         nan,         nan, ..., -0.41675891,\n        -0.41730563, -0.41772805],\n       [        nan,         nan,         nan, ..., -0.41783573,\n        -0.41883586, -0.42000272],\n       [        nan,         nan,         nan, ..., -0.41931729,\n        -0.41991869, -0.42128663],\n       ...,\n       [-0.04594149, -0.04876271, -0.05241695, ..., -0.15684901,\n        -0.15684024, -0.15693899],\n       [-0.04011599, -0.04204267, -0.04612476, ..., -0.1527561 ,\n        -0.15290136, -0.15305936],\n       [-0.03320475, -0.03582687, -0.03862931, ..., -0.14872947,\n        -0.14882568, -0.14891597]])\nCoordinates:\n  * lon      (lon) float64 76.0 76.5 77.0 77.5 78.0 ... 130.0 130.5 131.0 131.5\n  * lat      (lat) float64 20.5 21.0 21.5 22.0 22.5 ... 49.5 50.0 50.5 51.0 51.5\n"
    }
   ],
   "source": "pre_grid1 = pre_da.interp(lon=[80, 90, 100, 120], \n                      lat=[25, 30, 35, 40], \n                      method='linear')\n\nprint(pre_sta)\n",
   "execution_count": 17
  },
  {
   "metadata": {
    "id": "E7F6D82317164CA985791F3AFEA155DA",
    "notebookId": "635e89b33dd578d250859ec0",
    "jupyter": {},
    "tags": [],
    "slideshow": {
     "slide_type": "slide"
    },
    "trusted": true,
    "mdEditEnable": false,
    "collapsed": false,
    "scrolled": false
   },
   "cell_type": "markdown",
   "source": "## 7.2  时间插值"
  },
  {
   "metadata": {
    "id": "5E738B83E36E49F88F0128C2849E3A78",
    "notebookId": "635e89b33dd578d250859ec0",
    "jupyter": {},
    "tags": [],
    "slideshow": {
     "slide_type": "slide"
    },
    "trusted": true,
    "mdEditEnable": false,
    "collapsed": false,
    "scrolled": false
   },
   "cell_type": "markdown",
   "source": "### 7.2.1  站点时间内插"
  },
  {
   "metadata": {
    "id": "F74B150C59B2407D86FB40ED881E276A",
    "notebookId": "635e89b33dd578d250859ec0",
    "jupyter": {},
    "tags": [],
    "slideshow": {
     "slide_type": "slide"
    },
    "trusted": true,
    "collapsed": false,
    "scrolled": false
   },
   "cell_type": "code",
   "outputs": [
    {
     "output_type": "stream",
     "name": "stdout",
     "text": "      t    p    rh       time\n0  21.7  983  0.64 2020-02-19\n1  19.2  991  0.75 2020-02-20\n2  13.4  973  0.83 2020-02-22\n"
    }
   ],
   "source": "import pandas as pd\n#构造数组\ndf = pd.DataFrame([[21.7, 983, 0.64],\n                  [19.2, 991, 0.75],\n                  [13.4, 973, 0.83]],\n                 columns=['t', 'p', 'rh']\n                )\ndf['time'] = pd.to_datetime(['2020-02-19', '2020-02-20', '2020-02-22'])\nprint(df)\n",
   "execution_count": 9
  },
  {
   "metadata": {
    "id": "8ECC3D2DADF642B89F4EE3B9BBF9E6A1",
    "notebookId": "635e89b33dd578d250859ec0",
    "jupyter": {},
    "tags": [],
    "slideshow": {
     "slide_type": "slide"
    },
    "trusted": true,
    "collapsed": false,
    "scrolled": false
   },
   "cell_type": "code",
   "outputs": [
    {
     "output_type": "stream",
     "name": "stdout",
     "text": "               t    p    rh\ntime                       \n2020-02-19  21.7  983  0.64\n2020-02-20  19.2  991  0.75\n2020-02-22  13.4  973  0.83\n"
    }
   ],
   "source": "df = df.set_index('time')\nprint(df)\n",
   "execution_count": 10
  },
  {
   "metadata": {
    "id": "FB7590F16E9B48699FD1782C90189386",
    "notebookId": "635e89b33dd578d250859ec0",
    "jupyter": {},
    "tags": [],
    "slideshow": {
     "slide_type": "slide"
    },
    "trusted": true,
    "collapsed": false,
    "scrolled": false
   },
   "cell_type": "code",
   "outputs": [
    {
     "output_type": "stream",
     "name": "stdout",
     "text": "               t      p    rh\ntime                         \n2020-02-19  21.7  983.0  0.64\n2020-02-20  19.2  991.0  0.75\n2020-02-21  16.3  982.0  0.79\n2020-02-22  13.4  973.0  0.83\n"
    }
   ],
   "source": "df_interp = df.resample('1D').interpolate(method='linear')\nprint(df_interp)\n",
   "execution_count": 11
  },
  {
   "metadata": {
    "id": "8065BEBE7A764AA482BDE27FBBFDEEF9",
    "notebookId": "635e89b33dd578d250859ec0",
    "jupyter": {},
    "tags": [],
    "slideshow": {
     "slide_type": "slide"
    },
    "trusted": true,
    "mdEditEnable": false,
    "collapsed": false,
    "scrolled": false
   },
   "cell_type": "markdown",
   "source": "### 7.2.2  栅格时间内插"
  },
  {
   "metadata": {
    "id": "108A6A3C3C4A460B971B95269FA4015A",
    "notebookId": "635e89b33dd578d250859ec0",
    "jupyter": {},
    "tags": [],
    "slideshow": {
     "slide_type": "slide"
    },
    "trusted": true,
    "collapsed": false,
    "scrolled": false
   },
   "cell_type": "code",
   "outputs": [
    {
     "output_type": "stream",
     "name": "stdout",
     "text": "<xarray.DataArray (time: 3, lat: 3, lon: 3)>\narray([[[25.36833749,  9.835558  ,  9.70410351],\n        [16.96870264,  7.33170443, 14.86629016],\n        [16.39984725, 16.46497263, 16.3571344 ]],\n\n       [[14.5675103 , 12.17993797,  9.57918095],\n        [23.61240778, 14.57624162, 10.1265022 ],\n        [12.1024726 , 10.50885673, 11.87143659]],\n\n       [[ 7.60884169, 20.78943309,  7.90046148],\n        [18.41886334, 23.20704066, 17.45145241],\n        [ 5.89131442, 19.3040832 , 14.7046148 ]]])\nCoordinates:\n  * time     (time) datetime64[ns] 2020-02-19 2020-02-20 2020-02-22\n  * lat      (lat) int64 20 25 30\n  * lon      (lon) int64 120 125 130\n"
    }
   ],
   "source": "import pandas as pd\nimport xarray as xr\nimport numpy as np\n#构造数组\nda = xr.DataArray(np.abs(np.random.randn(3, 3, 3)*5+15),coords=[pd.to_datetime(['2020-02-19', '2020-02-20', '2020-02-22']),[20, 25, 30], [120, 125, 130]],dims=['time', 'lat', 'lon'])\nprint(da)\n",
   "execution_count": 7
  },
  {
   "metadata": {
    "id": "9C1FCC6E3CF04167B8BA41EDB48B441B",
    "notebookId": "635e89b33dd578d250859ec0",
    "jupyter": {},
    "tags": [],
    "slideshow": {
     "slide_type": "slide"
    },
    "trusted": true,
    "collapsed": false,
    "scrolled": false
   },
   "cell_type": "code",
   "outputs": [
    {
     "output_type": "stream",
     "name": "stdout",
     "text": "<xarray.DataArray (time: 1, lat: 3, lon: 3)>\narray([[[11.08817599, 16.48468553,  8.73982122],\n        [21.01563556, 18.89164114, 13.78897731],\n        [ 8.99689351, 14.90646997, 13.28802569]]])\nCoordinates:\n  * lat      (lat) int64 20 25 30\n  * lon      (lon) int64 120 125 130\n  * time     (time) datetime64[ns] 2020-02-21\n"
    }
   ],
   "source": "da_interp = da.interp(time=['2020-02-21'], method='linear')\nprint(da_interp)\n",
   "execution_count": 8
  }
 ],
 "metadata": {
  "kernelspec": {
   "language": "python",
   "display_name": "Python 3",
   "name": "python3"
  },
  "language_info": {
   "codemirror_mode": {
    "name": "ipython",
    "version": 3
   },
   "name": "python",
   "mimetype": "text/x-python",
   "nbconvert_exporter": "python",
   "file_extension": ".py",
   "version": "3.5.2",
   "pygments_lexer": "ipython3"
  }
 },
 "nbformat": 4,
 "nbformat_minor": 0
}
