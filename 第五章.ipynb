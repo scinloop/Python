{
 "cells": [
  {
   "cell_type": "markdown",
   "metadata": {
    "id": "D89B0EAB542642F98900CCC4D4E49360",
    "jupyter": {},
    "notebookId": "635e418cf827c6671f103c23",
    "scrolled": false,
    "slideshow": {
     "slide_type": "slide"
    },
    "tags": []
   },
   "source": [
    "# 第5章 栅格数据处理\n"
   ]
  },
  {
   "cell_type": "markdown",
   "metadata": {
    "id": "B8FA6E087B2B4608842BB8A9F6055487",
    "jupyter": {},
    "mdEditEnable": false,
    "notebookId": "635e418cf827c6671f103c23",
    "scrolled": false,
    "slideshow": {
     "slide_type": "slide"
    },
    "tags": []
   },
   "source": [
    "### 5.1.3  数据数组"
   ]
  },
  {
   "cell_type": "code",
   "execution_count": 1,
   "metadata": {
    "id": "4FC61B519BE24DD590C9913A15FBDA95",
    "jupyter": {},
    "notebookId": "635e418cf827c6671f103c23",
    "scrolled": false,
    "slideshow": {
     "slide_type": "slide"
    },
    "tags": []
   },
   "outputs": [
    {
     "name": "stdout",
     "output_type": "stream",
     "text": [
      "<xarray.DataArray (dim_0: 4, dim_1: 3)>\n",
      "array([[0.55816494, 0.72762113, 0.98201153],\n",
      "       [0.22188118, 0.14864238, 0.88264873],\n",
      "       [0.51676964, 0.60158651, 0.19131552],\n",
      "       [0.48741908, 0.56530056, 0.53439137]])\n",
      "Dimensions without coordinates: dim_0, dim_1\n"
     ]
    }
   ],
   "source": [
    "# 快速创建数据数组\n",
    "import xarray as xr\n",
    "import numpy as np\n",
    "data = np.random.rand(4, 3)\n",
    "foo = xr.DataArray(data)\n",
    "print(foo)"
   ]
  },
  {
   "cell_type": "code",
   "execution_count": 2,
   "metadata": {
    "id": "16BEDEF83DF24B65ABB0E52615CECDCB",
    "jupyter": {},
    "notebookId": "635e418cf827c6671f103c23",
    "scrolled": false,
    "slideshow": {
     "slide_type": "slide"
    },
    "tags": []
   },
   "outputs": [
    {
     "name": "stdout",
     "output_type": "stream",
     "text": [
      "<xarray.DataArray (time: 4, space: 3)>\n",
      "array([[0.80338641, 0.65603237, 0.52567211],\n",
      "       [0.50568769, 0.59993651, 0.64384544],\n",
      "       [0.26838498, 0.58854113, 0.3118957 ],\n",
      "       [0.75973916, 0.37242213, 0.30407391]])\n",
      "Coordinates:\n",
      "  * time     (time) datetime64[ns] 2000-01-01 2000-01-02 2000-01-03 2000-01-04\n",
      "  * space    (space) <U9 'level' 'latitude' 'longitude'\n"
     ]
    }
   ],
   "source": [
    "# 创建完整数据数组\n",
    "import xarray as xr\n",
    "import numpy as np\n",
    "import pandas as pd\n",
    "data = np.random.rand(4, 3)\n",
    "locs = [\"level\", \"latitude\", \"longitude\"]\n",
    "times = pd.date_range(\"2000-01-01\", periods=4)\n",
    "foo = xr.DataArray(data, coords=[times, locs], dims=[\"time\", \"space\"])\n",
    "print(foo)"
   ]
  },
  {
   "cell_type": "code",
   "execution_count": 3,
   "metadata": {
    "id": "D672A6DA22044421924584DCEFE45A4F",
    "jupyter": {},
    "notebookId": "635e418cf827c6671f103c23",
    "scrolled": false,
    "slideshow": {
     "slide_type": "slide"
    },
    "tags": []
   },
   "outputs": [
    {
     "name": "stdout",
     "output_type": "stream",
     "text": [
      "space       lat  lon\n",
      "time                \n",
      "2000-01-01    0    2\n",
      "2000-01-02    1    3\n",
      "<xarray.DataArray (time: 2, space: 2)>\n",
      "array([[0, 2],\n",
      "       [1, 3]])\n",
      "Coordinates:\n",
      "  * time     (time) object '2000-01-01' '2000-01-02'\n",
      "  * space    (space) object 'lat' 'lon'\n"
     ]
    }
   ],
   "source": [
    "# pd.Series、pd.DataFrame以及pd.Panel来创建DataArray\n",
    "df = pd.DataFrame({\"lat\": [0, 1], \"lon\": [2, 3]}, index=[\"2000-01-01\", \"2000-01-02\"])\n",
    "df.index.name = \"time\"\n",
    "df.columns.name = \"space\"\n",
    "print(df)\n",
    "foo = xr.DataArray(df)\n",
    "print(foo)"
   ]
  },
  {
   "cell_type": "code",
   "execution_count": 4,
   "metadata": {
    "id": "2D37FA983EFB490C84D0C4522B3F1ED4",
    "jupyter": {},
    "notebookId": "635e418cf827c6671f103c23",
    "scrolled": false,
    "slideshow": {
     "slide_type": "slide"
    },
    "tags": []
   },
   "outputs": [
    {
     "name": "stdout",
     "output_type": "stream",
     "text": [
      "<xarray.DataArray (time: 4, space: 3)>\n",
      "array([[0.80338641, 0.65603237, 0.52567211],\n",
      "       [0.50568769, 0.59993651, 0.64384544],\n",
      "       [0.26838498, 0.58854113, 0.3118957 ],\n",
      "       [0.75973916, 0.37242213, 0.30407391]])\n",
      "Coordinates:\n",
      "  * time     (time) datetime64[ns] 2000-01-01 2000-01-02 2000-01-03 2000-01-04\n",
      "  * space    (space) <U9 'level' 'latitude' 'longitude'\n"
     ]
    }
   ],
   "source": [
    "# 以元组组成的列表形式设置coords\n",
    "foo = xr.DataArray(data, coords=[(\"time\", times), (\"space\", locs)])\n",
    "print(foo)"
   ]
  },
  {
   "cell_type": "code",
   "execution_count": 5,
   "metadata": {
    "id": "33AFED62EB404D98940FAED074DC814B",
    "jupyter": {},
    "notebookId": "635e418cf827c6671f103c23",
    "scrolled": false,
    "slideshow": {
     "slide_type": "slide"
    },
    "tags": []
   },
   "outputs": [
    {
     "name": "stdout",
     "output_type": "stream",
     "text": [
      "<xarray.DataArray (time: 4, space: 3)>\n",
      "array([[0.80338641, 0.65603237, 0.52567211],\n",
      "       [0.50568769, 0.59993651, 0.64384544],\n",
      "       [0.26838498, 0.58854113, 0.3118957 ],\n",
      "       [0.75973916, 0.37242213, 0.30407391]])\n",
      "Coordinates:\n",
      "  * time     (time) datetime64[ns] 2000-01-01 2000-01-02 2000-01-03 2000-01-04\n",
      "  * space    (space) <U9 'level' 'latitude' 'longitude'\n"
     ]
    }
   ],
   "source": [
    "# 以字典形式设置coords\n",
    "foo = xr.DataArray(data,coords={\"time\": times,\"space\": locs},dims=[\"time\", \"space\"])\n",
    "print(foo)"
   ]
  },
  {
   "cell_type": "markdown",
   "metadata": {
    "id": "810CF482643D4985AFA558B9F60AF78D",
    "jupyter": {},
    "mdEditEnable": false,
    "notebookId": "635e418cf827c6671f103c23",
    "scrolled": false,
    "slideshow": {
     "slide_type": "slide"
    },
    "tags": []
   },
   "source": [
    "## 5.1  xarray与气象栅格数据处理"
   ]
  },
  {
   "cell_type": "code",
   "execution_count": 75,
   "metadata": {
    "id": "67FF23CB57E5426B80B008AD3C15E0C5",
    "jupyter": {},
    "notebookId": "635e418cf827c6671f103c23",
    "scrolled": false,
    "slideshow": {
     "slide_type": "slide"
    },
    "tags": []
   },
   "outputs": [
    {
     "name": "stdout",
     "output_type": "stream",
     "text": [
      "<xarray.DataArray 'time' (time: 4)>\n",
      "array(['2000-01-01T00:00:00.000000000', '2000-01-02T00:00:00.000000000',\n",
      "       '2000-01-03T00:00:00.000000000', '2000-01-04T00:00:00.000000000'],\n",
      "      dtype='datetime64[ns]')\n",
      "Coordinates:\n",
      "  * time     (time) datetime64[ns] 2000-01-01 2000-01-02 2000-01-03 2000-01-04\n",
      "<xarray.DataArray 'time' (time: 4)>\n",
      "array(['2000-01-01T00:00:00.000000000', '2000-01-02T00:00:00.000000000',\n",
      "       '2000-01-03T00:00:00.000000000', '2000-01-04T00:00:00.000000000'],\n",
      "      dtype='datetime64[ns]')\n",
      "Coordinates:\n",
      "  * time     (time) datetime64[ns] 2000-01-01 2000-01-02 2000-01-03 2000-01-04\n"
     ]
    }
   ],
   "source": [
    "# 通过名称或索引数据数组来访问coords\n",
    "print(foo.coords[\"time\"])\n",
    "print(foo[\"time\"])"
   ]
  },
  {
   "cell_type": "code",
   "execution_count": 76,
   "metadata": {
    "id": "DCBACE1867E74584B11F75FEEC667360",
    "jupyter": {},
    "notebookId": "635e418cf827c6671f103c23",
    "scrolled": true,
    "slideshow": {
     "slide_type": "slide"
    },
    "tags": []
   },
   "outputs": [
    {
     "name": "stdout",
     "output_type": "stream",
     "text": [
      "<xarray.DataArray (time: 4, space: 3)>\n",
      "array([[0.85667338, 0.3807458 , 0.66442109],\n",
      "       [0.73555298, 0.29684465, 0.96277053],\n",
      "       [0.65627855, 0.80722125, 0.12431823],\n",
      "       [0.36286132, 0.14747248, 0.51769514]])\n",
      "Coordinates:\n",
      "  * time     (time) datetime64[ns] 1999-01-01 1999-01-02 1999-01-03 1999-01-04\n",
      "  * space    (space) <U2 'IA' 'IL' 'IN'\n",
      "<xarray.DataArray (time: 4, space: 3)>\n",
      "array([[0.85667338, 0.3807458 , 0.66442109],\n",
      "       [0.73555298, 0.29684465, 0.96277053],\n",
      "       [0.65627855, 0.80722125, 0.12431823],\n",
      "       [0.36286132, 0.14747248, 0.51769514]])\n",
      "Coordinates:\n",
      "  * space    (space) <U2 'IA' 'IL' 'IN'\n",
      "Dimensions without coordinates: time\n"
     ]
    }
   ],
   "source": [
    "# 使用类似字典的语法设置或删除坐标，如重新设置coords\n",
    "foo[\"time\"] = pd.date_range(\"1999-01-01\", periods=4)\n",
    "print(foo)\n",
    "del foo[\"time\"]\n",
    "print(foo)"
   ]
  },
  {
   "cell_type": "code",
   "execution_count": 38,
   "metadata": {
    "id": "E6C9D479ABD147C5BF17BD510CE177DF",
    "jupyter": {},
    "notebookId": "635e418cf827c6671f103c23",
    "scrolled": false,
    "slideshow": {
     "slide_type": "slide"
    },
    "tags": []
   },
   "outputs": [
    {
     "name": "stdout",
     "output_type": "stream",
     "text": [
      "[[0.26828045 0.08297991 0.10436146]\n",
      " [0.68684525 0.45031142 0.86412342]\n",
      " [0.84139307 0.94115074 0.78394813]\n",
      " [0.73087781 0.86384567 0.0474682 ]]\n"
     ]
    }
   ],
   "source": [
    "# 查看DataArray的属性\n",
    "data = np.random.rand(4, 3)\n",
    "foo = xr.DataArray(data,coords={\"time\": times,\"space\": locs},dims=[\"time\", \"space\"])\n",
    "print(foo.values)"
   ]
  },
  {
   "cell_type": "code",
   "execution_count": 9,
   "metadata": {
    "id": "5BFDB84DEF844B218ABA8780DD491BC4",
    "jupyter": {},
    "notebookId": "635e418cf827c6671f103c23",
    "scrolled": false,
    "slideshow": {
     "slide_type": "slide"
    },
    "tags": []
   },
   "outputs": [
    {
     "name": "stdout",
     "output_type": "stream",
     "text": [
      "[[0.94464301 0.18733999 0.10886215]\n",
      " [0.43506913 0.76269183 0.57350526]\n",
      " [0.91382268 0.04468623 0.76367773]\n",
      " [0.44477094 0.56019484 0.07125937]]\n",
      "[[1.88928601 0.37467998 0.21772431]\n",
      " [0.87013826 1.52538366 1.14701051]\n",
      " [1.82764537 0.08937247 1.52735547]\n",
      " [0.88954188 1.12038969 0.14251874]]\n"
     ]
    }
   ],
   "source": [
    "# 修改DataArray的values属性\n",
    "data = np.random.rand(4, 3)\n",
    "foo = xr.DataArray(data,coords={\"time\": times,\"space\": locs},dims=[\"time\", \"space\"])\n",
    "print(foo.values)\n",
    "foo.values = 2 * foo.values\n",
    "print(foo.values)"
   ]
  },
  {
   "cell_type": "code",
   "execution_count": 10,
   "metadata": {
    "id": "8B383370AC7D42249780BD6265A79D57",
    "jupyter": {},
    "notebookId": "635e418cf827c6671f103c23",
    "scrolled": false,
    "slideshow": {
     "slide_type": "slide"
    },
    "tags": []
   },
   "outputs": [
    {
     "name": "stdout",
     "output_type": "stream",
     "text": [
      "<xarray.DataArray 'foo' (time: 4, space: 3)>\n",
      "array([[0.86866017, 0.43983313, 0.11170208],\n",
      "       [0.13890405, 0.35426694, 0.34257437],\n",
      "       [0.89854998, 0.2483747 , 0.07325485],\n",
      "       [0.38812121, 0.73746852, 0.75192879]])\n",
      "Coordinates:\n",
      "  * time     (time) datetime64[ns] 2000-01-01 2000-01-02 2000-01-03 2000-01-04\n",
      "  * space    (space) <U9 'level' 'latitude' 'longitude'\n",
      "Attributes:\n",
      "    units:    meters\n"
     ]
    }
   ],
   "source": [
    "# 为DataArray补充缺失的属性\n",
    "data = np.random.rand(4, 3)\n",
    "foo = xr.DataArray(data,coords={\"time\": times,\"space\": locs},dims=[\"time\", \"space\"])\n",
    "foo.name = \"foo\"\n",
    "foo.attrs[\"units\"] = \"meters\"\n",
    "print(foo)"
   ]
  },
  {
   "cell_type": "code",
   "execution_count": 11,
   "metadata": {
    "id": "3B6223F6F5D040EA87D957D6D9FA1298",
    "jupyter": {},
    "notebookId": "635e418cf827c6671f103c23",
    "scrolled": false,
    "slideshow": {
     "slide_type": "slide"
    },
    "tags": []
   },
   "outputs": [
    {
     "name": "stdout",
     "output_type": "stream",
     "text": [
      "<xarray.DataArray 'foo_new' (time: 4, space: 3)>\n",
      "array([[0.86866017, 0.43983313, 0.11170208],\n",
      "       [0.13890405, 0.35426694, 0.34257437],\n",
      "       [0.89854998, 0.2483747 , 0.07325485],\n",
      "       [0.38812121, 0.73746852, 0.75192879]])\n",
      "Coordinates:\n",
      "  * time     (time) datetime64[ns] 2000-01-01 2000-01-02 2000-01-03 2000-01-04\n",
      "  * space    (space) <U9 'level' 'latitude' 'longitude'\n",
      "Attributes:\n",
      "    units:    meters\n"
     ]
    }
   ],
   "source": [
    "# 使用rename()方法来修改DataArray的名字\n",
    "foo_new = foo.rename(\"foo_new\")\n",
    "print(foo_new)"
   ]
  },
  {
   "cell_type": "markdown",
   "metadata": {
    "id": "405A401C1AB144AF85BAFEB6494BCC38",
    "jupyter": {},
    "mdEditEnable": false,
    "notebookId": "635e418cf827c6671f103c23",
    "scrolled": false,
    "slideshow": {
     "slide_type": "slide"
    },
    "tags": []
   },
   "source": [
    "### 5.1.4  数据集"
   ]
  },
  {
   "cell_type": "code",
   "execution_count": 12,
   "metadata": {
    "id": "FC344B04C53F45B98DAA42D04A0AA6E0",
    "jupyter": {},
    "notebookId": "635e418cf827c6671f103c23",
    "scrolled": false,
    "slideshow": {
     "slide_type": "slide"
    },
    "tags": []
   },
   "outputs": [
    {
     "name": "stdout",
     "output_type": "stream",
     "text": [
      "<xarray.Dataset>\n",
      "Dimensions:         (x: 2, y: 2, time: 3)\n",
      "Coordinates:\n",
      "    lon             (x, y) float64 -99.83 -99.32 -99.79 -99.23\n",
      "    lat             (x, y) float64 42.25 42.21 42.63 42.59\n",
      "  * time            (time) datetime64[ns] 2014-09-06 2014-09-07 2014-09-08\n",
      "    reference_time  datetime64[ns] 2014-09-05\n",
      "Dimensions without coordinates: x, y\n",
      "Data variables:\n",
      "    temperature     (x, y, time) float64 13.74 20.58 19.62 ... 9.004 24.93 17.66\n",
      "    precipitation   (x, y, time) float64 5.553 1.356 8.003 ... 3.666 6.822 8.288\n"
     ]
    }
   ],
   "source": [
    "# 使用随机生成的数组来创建数据集\n",
    "temp = 15 + 8 * np.random.randn(2, 2, 3)\n",
    "precip = 10 * np.random.rand(2, 2, 3)\n",
    "lon = [[-99.83, -99.32], [-99.79, -99.23]]\n",
    "lat = [[42.25, 42.21], [42.63, 42.59]]\n",
    "ds = xr.Dataset({\"temperature\": ([\"x\", \"y\", \"time\"], temp),\n",
    "              \"precipitation\": ([\"x\", \"y\", \"time\"], precip),},\n",
    "             coords={\"lon\": ([\"x\", \"y\"], lon),\n",
    "                    \"lat\": ([\"x\", \"y\"], lat),\n",
    "                    \"time\": pd.date_range(\"2014-09-06\", periods=3),\n",
    "                    \"reference_time\": pd.Timestamp(\"2014-09-05\")} )\n",
    "print(ds)"
   ]
  },
  {
   "cell_type": "code",
   "execution_count": 13,
   "metadata": {
    "id": "D5B3D516224C4D95A9D0896B5D4263E3",
    "jupyter": {},
    "notebookId": "635e418cf827c6671f103c23",
    "scrolled": false,
    "slideshow": {
     "slide_type": "slide"
    },
    "tags": []
   },
   "outputs": [
    {
     "name": "stdout",
     "output_type": "stream",
     "text": [
      "<xarray.Dataset>\n",
      "Dimensions:  (time: 4, space: 3)\n",
      "Coordinates:\n",
      "  * time     (time) datetime64[ns] 2000-01-01 2000-01-02 2000-01-03 2000-01-04\n",
      "  * space    (space) <U2 'IA' 'IL' 'IN'\n",
      "Data variables:\n",
      "    bar      (time, space) float64 0.585 0.456 0.2301 ... 0.5278 0.7906 0.7462\n"
     ]
    }
   ],
   "source": [
    "# 通过传递数据数组来创建数据集\n",
    "data = np.random.rand(4, 3)\n",
    "locs = [\"IA\", \"IL\", \"IN\"]\n",
    "times = pd.date_range(\"2000-01-01\", periods=4)\n",
    "foo = xr.DataArray(data, coords=[times, locs], dims=[\"time\", \"space\"])\n",
    "ds = xr.Dataset({\"bar\": foo})\n",
    "print(ds)"
   ]
  },
  {
   "cell_type": "code",
   "execution_count": 14,
   "metadata": {
    "id": "852CF407EE314F41B0E394E58FDCCD8D",
    "jupyter": {},
    "notebookId": "635e418cf827c6671f103c23",
    "scrolled": false,
    "slideshow": {
     "slide_type": "slide"
    },
    "tags": []
   },
   "outputs": [
    {
     "name": "stdout",
     "output_type": "stream",
     "text": [
      "<xarray.Dataset>\n",
      "Dimensions:  (time: 4, space: 3)\n",
      "Coordinates:\n",
      "  * time     (time) datetime64[ns] 2000-01-01 2000-01-02 2000-01-03 2000-01-04\n",
      "  * space    (space) object 'IA' 'IL' 'IN'\n",
      "Data variables:\n",
      "    bar      (time, space) float64 0.05036 0.9936 0.451 ... 0.2731 0.4817 0.2769\n"
     ]
    }
   ],
   "source": [
    "# 通过pandas对象来创建数据集\n",
    "data = np.random.rand(4, 3)\n",
    "locs = [\"IA\", \"IL\", \"IN\"]\n",
    "times = pd.date_range(\"2000-01-01\", periods=4)\n",
    "foo = xr.DataArray(data, coords=[times, locs], dims=[\"time\", \"space\"])\n",
    "ds = xr.Dataset({\"bar\": foo.to_pandas()})\n",
    "print(ds)"
   ]
  },
  {
   "cell_type": "code",
   "execution_count": 15,
   "metadata": {
    "id": "27A83CCEBDC14300AE74C90BB0632CD8",
    "jupyter": {},
    "notebookId": "635e418cf827c6671f103c23",
    "scrolled": false,
    "slideshow": {
     "slide_type": "slide"
    },
    "tags": []
   },
   "outputs": [
    {
     "name": "stdout",
     "output_type": "stream",
     "text": [
      "<xarray.DataArray 'temperature' (x: 2, y: 2, time: 3)>\n",
      "array([[[15.03349336, 15.44033513,  6.51238387],\n",
      "        [19.54120058, -3.60023195, 21.78888719]],\n",
      "\n",
      "       [[14.36421838, 25.00615749, -7.38567232],\n",
      "        [16.29567998, 22.08970341,  3.72752459]]])\n",
      "Coordinates:\n",
      "    lon             (x, y) float64 -99.83 -99.32 -99.79 -99.23\n",
      "    lat             (x, y) float64 42.25 42.21 42.63 42.59\n",
      "  * time            (time) datetime64[ns] 2014-09-06 2014-09-07 2014-09-08\n",
      "    reference_time  datetime64[ns] 2014-09-05\n",
      "Dimensions without coordinates: x, y\n"
     ]
    }
   ],
   "source": [
    "# 访问数据集中的变量\n",
    "temp = 15 + 8 * np.random.randn(2, 2, 3)\n",
    "precip = 10 * np.random.rand(2, 2, 3)\n",
    "lon = [[-99.83, -99.32], [-99.79, -99.23]]\n",
    "lat = [[42.25, 42.21], [42.63, 42.59]]\n",
    "ds = xr.Dataset({\"temperature\": ([\"x\", \"y\", \"time\"], temp),\n",
    "              \"precipitation\": ([\"x\", \"y\", \"time\"], precip),},\n",
    "             coords={\"lon\": ([\"x\", \"y\"], lon),\n",
    "                    \"lat\": ([\"x\", \"y\"], lat),\n",
    "                    \"time\": pd.date_range(\"2014-09-06\", periods=3),\n",
    "                    \"reference_time\": pd.Timestamp(\"2014-09-05\")} )\n",
    "print(ds[\"temperature\"])"
   ]
  },
  {
   "cell_type": "code",
   "execution_count": 16,
   "metadata": {
    "id": "1BE406B480924020A66A4A65261A41FD",
    "jupyter": {},
    "notebookId": "635e418cf827c6671f103c23",
    "scrolled": false,
    "slideshow": {
     "slide_type": "slide"
    },
    "tags": []
   },
   "outputs": [
    {
     "name": "stdout",
     "output_type": "stream",
     "text": [
      "<xarray.Dataset>\n",
      "Dimensions:             (x: 2, y: 2, time: 3)\n",
      "Coordinates:\n",
      "    lat                 (x, y) float64 42.25 42.21 42.63 42.59\n",
      "    lon                 (x, y) float64 -99.83 -99.32 -99.79 -99.23\n",
      "  * time                (time) datetime64[ns] 2014-09-06 2014-09-07 2014-09-08\n",
      "    reference_time      datetime64[ns] 2014-09-05\n",
      "Dimensions without coordinates: x, y\n",
      "Data variables:\n",
      "    temperature         (x, y, time) float64 15.03 15.44 6.512 ... 22.09 3.728\n",
      "    temperature_double  (x, y, time) float64 30.07 30.88 13.02 ... 44.18 7.455\n",
      "    precipitation       (x, y, time) float64 1.99 7.872 2.105 ... 5.925 0.6317\n"
     ]
    }
   ],
   "source": [
    "# 使用类似字典的语法完整创建一个数据集\n",
    "ds = xr.Dataset()\n",
    "ds[\"temperature\"] = ((\"x\", \"y\", \"time\"), temp)\n",
    "ds[\"temperature_double\"] = ((\"x\", \"y\", \"time\"), temp * 2)\n",
    "ds[\"precipitation\"] = ((\"x\", \"y\", \"time\"), precip)\n",
    "ds.coords[\"lat\"] = ((\"x\", \"y\"), lat)\n",
    "ds.coords[\"lon\"] = ((\"x\", \"y\"), lon)\n",
    "ds.coords[\"time\"] = pd.date_range(\"2014-09-06\", periods=3)\n",
    "ds.coords[\"reference_time\"] = pd.Timestamp(\"2014-09-05\")\n",
    "print(ds)"
   ]
  },
  {
   "cell_type": "code",
   "execution_count": 17,
   "metadata": {
    "id": "92DD8A036C744382856CCFDA99F3AC2F",
    "jupyter": {},
    "notebookId": "635e418cf827c6671f103c23",
    "scrolled": false,
    "slideshow": {
     "slide_type": "slide"
    },
    "tags": []
   },
   "outputs": [
    {
     "name": "stdout",
     "output_type": "stream",
     "text": [
      "<xarray.Dataset>\n",
      "Dimensions:             (x: 2, y: 2, time: 3)\n",
      "Coordinates:\n",
      "    lat                 (x, y) float64 42.25 42.21 42.63 42.59\n",
      "    lon                 (x, y) float64 -99.83 -99.32 -99.79 -99.23\n",
      "  * time                (time) datetime64[ns] 2014-09-06 2014-09-07 2014-09-08\n",
      "    reference_time      datetime64[ns] 2014-09-05\n",
      "Dimensions without coordinates: x, y\n",
      "Data variables:\n",
      "    temperature         (x, y, time) float64 15.03 15.44 6.512 ... 22.09 3.728\n",
      "    temperature_double  (x, y, time) float64 30.07 30.88 13.02 ... 44.18 7.455\n",
      "    precipitation       (x, y, time) float64 1.99 7.872 2.105 ... 5.925 0.6317\n",
      "<xarray.Dataset>\n",
      "Dimensions:             (x: 2, y: 2, time: 3)\n",
      "Coordinates:\n",
      "    lat                 (x, y) float64 42.25 42.21 42.63 42.59\n",
      "    lon                 (x, y) float64 -99.83 -99.32 -99.79 -99.23\n",
      "  * time                (time) datetime64[ns] 2014-09-06 2014-09-07 2014-09-08\n",
      "    reference_time      datetime64[ns] 2014-09-05\n",
      "Dimensions without coordinates: x, y\n",
      "Data variables:\n",
      "    temperature_double  (x, y, time) float64 30.07 30.88 13.02 ... 44.18 7.455\n",
      "    precipitation       (x, y, time) float64 1.99 7.872 2.105 ... 5.925 0.6317\n"
     ]
    }
   ],
   "source": [
    "# 通过drop ()等方法删除变量\n",
    "ds = xr.Dataset()\n",
    "ds[\"temperature\"] = ((\"x\", \"y\", \"time\"), temp)\n",
    "ds[\"temperature_double\"] = ((\"x\", \"y\", \"time\"), temp * 2)\n",
    "ds[\"precipitation\"] = ((\"x\", \"y\", \"time\"), precip)\n",
    "ds.coords[\"lat\"] = ((\"x\", \"y\"), lat)\n",
    "ds.coords[\"lon\"] = ((\"x\", \"y\"), lon)\n",
    "ds.coords[\"time\"] = pd.date_range(\"2014-09-06\", periods=3)\n",
    "ds.coords[\"reference_time\"] = pd.Timestamp(\"2014-09-05\")\n",
    "print(ds)\n",
    "ds = ds.drop(\"temperature\")\n",
    "print(ds)"
   ]
  },
  {
   "cell_type": "code",
   "execution_count": 18,
   "metadata": {
    "id": "C1A71FE37B7D426E8F9AB32C42369F5E",
    "jupyter": {},
    "notebookId": "635e418cf827c6671f103c23",
    "scrolled": false,
    "slideshow": {
     "slide_type": "slide"
    },
    "tags": []
   },
   "outputs": [
    {
     "name": "stdout",
     "output_type": "stream",
     "text": [
      "<xarray.Dataset>\n",
      "Dimensions:             (x: 2, y: 2, time: 3)\n",
      "Coordinates:\n",
      "    lat                 (x, y) float64 42.25 42.21 42.63 42.59\n",
      "    lon                 (x, y) float64 -99.83 -99.32 -99.79 -99.23\n",
      "  * time                (time) datetime64[ns] 2014-09-06 2014-09-07 2014-09-08\n",
      "    reference_time      datetime64[ns] 2014-09-05\n",
      "Dimensions without coordinates: x, y\n",
      "Data variables:\n",
      "    temperature         (x, y, time) float64 15.03 15.44 6.512 ... 22.09 3.728\n",
      "    temperature_double  (x, y, time) float64 30.07 30.88 13.02 ... 44.18 7.455\n",
      "    precipitation       (x, y, time) float64 1.99 7.872 2.105 ... 5.925 0.6317\n",
      "<xarray.Dataset>\n",
      "Dimensions:             (x: 2, y: 2, time: 3)\n",
      "Coordinates:\n",
      "    lat                 (x, y) float64 42.25 42.21 42.63 42.59\n",
      "    lon                 (x, y) float64 -99.83 -99.32 -99.79 -99.23\n",
      "  * time                (time) datetime64[ns] 2014-09-06 2014-09-07 2014-09-08\n",
      "    reference_time      datetime64[ns] 2014-09-05\n",
      "Dimensions without coordinates: x, y\n",
      "Data variables:\n",
      "    temperature         (x, y, time) float64 15.03 15.44 6.512 ... 22.09 3.728\n",
      "    temperature_double  (x, y, time) float64 30.07 30.88 13.02 ... 44.18 7.455\n",
      "    precipitation       (x, y, time) float64 1.99 7.872 2.105 ... 5.925 0.6317\n"
     ]
    }
   ],
   "source": [
    "#使用assign()来修改或替换数据集的值\n",
    "ds = xr.Dataset()\n",
    "ds[\"temperature\"] = ((\"x\", \"y\", \"time\"), temp)\n",
    "ds[\"temperature_double\"] = ((\"x\", \"y\", \"time\"), temp * 2)\n",
    "ds[\"precipitation\"] = ((\"x\", \"y\", \"time\"), precip)\n",
    "ds.coords[\"lat\"] = ((\"x\", \"y\"), lat)\n",
    "ds.coords[\"lon\"] = ((\"x\", \"y\"), lon)\n",
    "ds.coords[\"time\"] = pd.date_range(\"2014-09-06\", periods=3)\n",
    "ds.coords[\"reference_time\"] = pd.Timestamp(\"2014-09-05\")\n",
    "print(ds)\n",
    "ds.assign(temperature2=2 * ds.temperature)\n",
    "print(ds)"
   ]
  },
  {
   "cell_type": "code",
   "execution_count": 19,
   "metadata": {
    "id": "E3D89E98EA644EC78EF8411C4ECFB2B2",
    "jupyter": {},
    "notebookId": "635e418cf827c6671f103c23",
    "scrolled": false,
    "slideshow": {
     "slide_type": "slide"
    },
    "tags": []
   },
   "outputs": [
    {
     "name": "stdout",
     "output_type": "stream",
     "text": [
      "<xarray.DataArray (lon: 4)>\n",
      "array([0.18946962, 0.0144292 , 0.47497827, 0.26471126])\n",
      "Coordinates:\n",
      "  * lon      (lon) int64 358 359 0 1\n",
      "<xarray.DataArray (lon: 4)>\n",
      "array([0.18946962, 0.0144292 , 0.47497827, 0.26471126])\n",
      "Coordinates:\n",
      "  * lon      (lon) int64 358 359 0 1\n"
     ]
    }
   ],
   "source": [
    "# 使用assign_coords()对DataArray的坐标标签进行重新声明\n",
    "da = xr.DataArray(np.random.rand(4),coords=[np.array([358, 359, 0, 1])],dims=\"lon\")\n",
    "print(da)\n",
    "da.assign_coords(lon=(((da.lon + 180) % 360) - 180))\n",
    "print(da)"
   ]
  },
  {
   "cell_type": "code",
   "execution_count": 20,
   "metadata": {
    "id": "F99ADFDC71984197B65CEB2063BCB108",
    "jupyter": {},
    "notebookId": "635e418cf827c6671f103c23",
    "scrolled": false,
    "slideshow": {
     "slide_type": "slide"
    },
    "tags": []
   },
   "outputs": [
    {
     "data": {
      "text/html": [
       "<div><svg style=\"position: absolute; width: 0; height: 0; overflow: hidden\">\n",
       "<defs>\n",
       "<symbol id=\"icon-database\" viewBox=\"0 0 32 32\">\n",
       "<path d=\"M16 0c-8.837 0-16 2.239-16 5v4c0 2.761 7.163 5 16 5s16-2.239 16-5v-4c0-2.761-7.163-5-16-5z\"></path>\n",
       "<path d=\"M16 17c-8.837 0-16-2.239-16-5v6c0 2.761 7.163 5 16 5s16-2.239 16-5v-6c0 2.761-7.163 5-16 5z\"></path>\n",
       "<path d=\"M16 26c-8.837 0-16-2.239-16-5v6c0 2.761 7.163 5 16 5s16-2.239 16-5v-6c0 2.761-7.163 5-16 5z\"></path>\n",
       "</symbol>\n",
       "<symbol id=\"icon-file-text2\" viewBox=\"0 0 32 32\">\n",
       "<path d=\"M28.681 7.159c-0.694-0.947-1.662-2.053-2.724-3.116s-2.169-2.030-3.116-2.724c-1.612-1.182-2.393-1.319-2.841-1.319h-15.5c-1.378 0-2.5 1.121-2.5 2.5v27c0 1.378 1.122 2.5 2.5 2.5h23c1.378 0 2.5-1.122 2.5-2.5v-19.5c0-0.448-0.137-1.23-1.319-2.841zM24.543 5.457c0.959 0.959 1.712 1.825 2.268 2.543h-4.811v-4.811c0.718 0.556 1.584 1.309 2.543 2.268zM28 29.5c0 0.271-0.229 0.5-0.5 0.5h-23c-0.271 0-0.5-0.229-0.5-0.5v-27c0-0.271 0.229-0.5 0.5-0.5 0 0 15.499-0 15.5 0v7c0 0.552 0.448 1 1 1h7v19.5z\"></path>\n",
       "<path d=\"M23 26h-14c-0.552 0-1-0.448-1-1s0.448-1 1-1h14c0.552 0 1 0.448 1 1s-0.448 1-1 1z\"></path>\n",
       "<path d=\"M23 22h-14c-0.552 0-1-0.448-1-1s0.448-1 1-1h14c0.552 0 1 0.448 1 1s-0.448 1-1 1z\"></path>\n",
       "<path d=\"M23 18h-14c-0.552 0-1-0.448-1-1s0.448-1 1-1h14c0.552 0 1 0.448 1 1s-0.448 1-1 1z\"></path>\n",
       "</symbol>\n",
       "</defs>\n",
       "</svg>\n",
       "<style>/* CSS stylesheet for displaying xarray objects in jupyterlab.\n",
       " *\n",
       " */\n",
       "\n",
       ":root {\n",
       "  --xr-font-color0: var(--jp-content-font-color0, rgba(0, 0, 0, 1));\n",
       "  --xr-font-color2: var(--jp-content-font-color2, rgba(0, 0, 0, 0.54));\n",
       "  --xr-font-color3: var(--jp-content-font-color3, rgba(0, 0, 0, 0.38));\n",
       "  --xr-border-color: var(--jp-border-color2, #e0e0e0);\n",
       "  --xr-disabled-color: var(--jp-layout-color3, #bdbdbd);\n",
       "  --xr-background-color: var(--jp-layout-color0, white);\n",
       "  --xr-background-color-row-even: var(--jp-layout-color1, white);\n",
       "  --xr-background-color-row-odd: var(--jp-layout-color2, #eeeeee);\n",
       "}\n",
       "\n",
       "html[theme=dark],\n",
       "body.vscode-dark {\n",
       "  --xr-font-color0: rgba(255, 255, 255, 1);\n",
       "  --xr-font-color2: rgba(255, 255, 255, 0.54);\n",
       "  --xr-font-color3: rgba(255, 255, 255, 0.38);\n",
       "  --xr-border-color: #1F1F1F;\n",
       "  --xr-disabled-color: #515151;\n",
       "  --xr-background-color: #111111;\n",
       "  --xr-background-color-row-even: #111111;\n",
       "  --xr-background-color-row-odd: #313131;\n",
       "}\n",
       "\n",
       ".xr-wrap {\n",
       "  display: block;\n",
       "  min-width: 300px;\n",
       "  max-width: 700px;\n",
       "}\n",
       "\n",
       ".xr-text-repr-fallback {\n",
       "  /* fallback to plain text repr when CSS is not injected (untrusted notebook) */\n",
       "  display: none;\n",
       "}\n",
       "\n",
       ".xr-header {\n",
       "  padding-top: 6px;\n",
       "  padding-bottom: 6px;\n",
       "  margin-bottom: 4px;\n",
       "  border-bottom: solid 1px var(--xr-border-color);\n",
       "}\n",
       "\n",
       ".xr-header > div,\n",
       ".xr-header > ul {\n",
       "  display: inline;\n",
       "  margin-top: 0;\n",
       "  margin-bottom: 0;\n",
       "}\n",
       "\n",
       ".xr-obj-type,\n",
       ".xr-array-name {\n",
       "  margin-left: 2px;\n",
       "  margin-right: 10px;\n",
       "}\n",
       "\n",
       ".xr-obj-type {\n",
       "  color: var(--xr-font-color2);\n",
       "}\n",
       "\n",
       ".xr-sections {\n",
       "  padding-left: 0 !important;\n",
       "  display: grid;\n",
       "  grid-template-columns: 150px auto auto 1fr 20px 20px;\n",
       "}\n",
       "\n",
       ".xr-section-item {\n",
       "  display: contents;\n",
       "}\n",
       "\n",
       ".xr-section-item input {\n",
       "  display: none;\n",
       "}\n",
       "\n",
       ".xr-section-item input + label {\n",
       "  color: var(--xr-disabled-color);\n",
       "}\n",
       "\n",
       ".xr-section-item input:enabled + label {\n",
       "  cursor: pointer;\n",
       "  color: var(--xr-font-color2);\n",
       "}\n",
       "\n",
       ".xr-section-item input:enabled + label:hover {\n",
       "  color: var(--xr-font-color0);\n",
       "}\n",
       "\n",
       ".xr-section-summary {\n",
       "  grid-column: 1;\n",
       "  color: var(--xr-font-color2);\n",
       "  font-weight: 500;\n",
       "}\n",
       "\n",
       ".xr-section-summary > span {\n",
       "  display: inline-block;\n",
       "  padding-left: 0.5em;\n",
       "}\n",
       "\n",
       ".xr-section-summary-in:disabled + label {\n",
       "  color: var(--xr-font-color2);\n",
       "}\n",
       "\n",
       ".xr-section-summary-in + label:before {\n",
       "  display: inline-block;\n",
       "  content: '►';\n",
       "  font-size: 11px;\n",
       "  width: 15px;\n",
       "  text-align: center;\n",
       "}\n",
       "\n",
       ".xr-section-summary-in:disabled + label:before {\n",
       "  color: var(--xr-disabled-color);\n",
       "}\n",
       "\n",
       ".xr-section-summary-in:checked + label:before {\n",
       "  content: '▼';\n",
       "}\n",
       "\n",
       ".xr-section-summary-in:checked + label > span {\n",
       "  display: none;\n",
       "}\n",
       "\n",
       ".xr-section-summary,\n",
       ".xr-section-inline-details {\n",
       "  padding-top: 4px;\n",
       "  padding-bottom: 4px;\n",
       "}\n",
       "\n",
       ".xr-section-inline-details {\n",
       "  grid-column: 2 / -1;\n",
       "}\n",
       "\n",
       ".xr-section-details {\n",
       "  display: none;\n",
       "  grid-column: 1 / -1;\n",
       "  margin-bottom: 5px;\n",
       "}\n",
       "\n",
       ".xr-section-summary-in:checked ~ .xr-section-details {\n",
       "  display: contents;\n",
       "}\n",
       "\n",
       ".xr-array-wrap {\n",
       "  grid-column: 1 / -1;\n",
       "  display: grid;\n",
       "  grid-template-columns: 20px auto;\n",
       "}\n",
       "\n",
       ".xr-array-wrap > label {\n",
       "  grid-column: 1;\n",
       "  vertical-align: top;\n",
       "}\n",
       "\n",
       ".xr-preview {\n",
       "  color: var(--xr-font-color3);\n",
       "}\n",
       "\n",
       ".xr-array-preview,\n",
       ".xr-array-data {\n",
       "  padding: 0 5px !important;\n",
       "  grid-column: 2;\n",
       "}\n",
       "\n",
       ".xr-array-data,\n",
       ".xr-array-in:checked ~ .xr-array-preview {\n",
       "  display: none;\n",
       "}\n",
       "\n",
       ".xr-array-in:checked ~ .xr-array-data,\n",
       ".xr-array-preview {\n",
       "  display: inline-block;\n",
       "}\n",
       "\n",
       ".xr-dim-list {\n",
       "  display: inline-block !important;\n",
       "  list-style: none;\n",
       "  padding: 0 !important;\n",
       "  margin: 0;\n",
       "}\n",
       "\n",
       ".xr-dim-list li {\n",
       "  display: inline-block;\n",
       "  padding: 0;\n",
       "  margin: 0;\n",
       "}\n",
       "\n",
       ".xr-dim-list:before {\n",
       "  content: '(';\n",
       "}\n",
       "\n",
       ".xr-dim-list:after {\n",
       "  content: ')';\n",
       "}\n",
       "\n",
       ".xr-dim-list li:not(:last-child):after {\n",
       "  content: ',';\n",
       "  padding-right: 5px;\n",
       "}\n",
       "\n",
       ".xr-has-index {\n",
       "  font-weight: bold;\n",
       "}\n",
       "\n",
       ".xr-var-list,\n",
       ".xr-var-item {\n",
       "  display: contents;\n",
       "}\n",
       "\n",
       ".xr-var-item > div,\n",
       ".xr-var-item label,\n",
       ".xr-var-item > .xr-var-name span {\n",
       "  background-color: var(--xr-background-color-row-even);\n",
       "  margin-bottom: 0;\n",
       "}\n",
       "\n",
       ".xr-var-item > .xr-var-name:hover span {\n",
       "  padding-right: 5px;\n",
       "}\n",
       "\n",
       ".xr-var-list > li:nth-child(odd) > div,\n",
       ".xr-var-list > li:nth-child(odd) > label,\n",
       ".xr-var-list > li:nth-child(odd) > .xr-var-name span {\n",
       "  background-color: var(--xr-background-color-row-odd);\n",
       "}\n",
       "\n",
       ".xr-var-name {\n",
       "  grid-column: 1;\n",
       "}\n",
       "\n",
       ".xr-var-dims {\n",
       "  grid-column: 2;\n",
       "}\n",
       "\n",
       ".xr-var-dtype {\n",
       "  grid-column: 3;\n",
       "  text-align: right;\n",
       "  color: var(--xr-font-color2);\n",
       "}\n",
       "\n",
       ".xr-var-preview {\n",
       "  grid-column: 4;\n",
       "}\n",
       "\n",
       ".xr-var-name,\n",
       ".xr-var-dims,\n",
       ".xr-var-dtype,\n",
       ".xr-preview,\n",
       ".xr-attrs dt {\n",
       "  white-space: nowrap;\n",
       "  overflow: hidden;\n",
       "  text-overflow: ellipsis;\n",
       "  padding-right: 10px;\n",
       "}\n",
       "\n",
       ".xr-var-name:hover,\n",
       ".xr-var-dims:hover,\n",
       ".xr-var-dtype:hover,\n",
       ".xr-attrs dt:hover {\n",
       "  overflow: visible;\n",
       "  width: auto;\n",
       "  z-index: 1;\n",
       "}\n",
       "\n",
       ".xr-var-attrs,\n",
       ".xr-var-data {\n",
       "  display: none;\n",
       "  background-color: var(--xr-background-color) !important;\n",
       "  padding-bottom: 5px !important;\n",
       "}\n",
       "\n",
       ".xr-var-attrs-in:checked ~ .xr-var-attrs,\n",
       ".xr-var-data-in:checked ~ .xr-var-data {\n",
       "  display: block;\n",
       "}\n",
       "\n",
       ".xr-var-data > table {\n",
       "  float: right;\n",
       "}\n",
       "\n",
       ".xr-var-name span,\n",
       ".xr-var-data,\n",
       ".xr-attrs {\n",
       "  padding-left: 25px !important;\n",
       "}\n",
       "\n",
       ".xr-attrs,\n",
       ".xr-var-attrs,\n",
       ".xr-var-data {\n",
       "  grid-column: 1 / -1;\n",
       "}\n",
       "\n",
       "dl.xr-attrs {\n",
       "  padding: 0;\n",
       "  margin: 0;\n",
       "  display: grid;\n",
       "  grid-template-columns: 125px auto;\n",
       "}\n",
       "\n",
       ".xr-attrs dt,\n",
       ".xr-attrs dd {\n",
       "  padding: 0;\n",
       "  margin: 0;\n",
       "  float: left;\n",
       "  padding-right: 10px;\n",
       "  width: auto;\n",
       "}\n",
       "\n",
       ".xr-attrs dt {\n",
       "  font-weight: normal;\n",
       "  grid-column: 1;\n",
       "}\n",
       "\n",
       ".xr-attrs dt:hover span {\n",
       "  display: inline-block;\n",
       "  background: var(--xr-background-color);\n",
       "  padding-right: 10px;\n",
       "}\n",
       "\n",
       ".xr-attrs dd {\n",
       "  grid-column: 2;\n",
       "  white-space: pre-wrap;\n",
       "  word-break: break-all;\n",
       "}\n",
       "\n",
       ".xr-icon-database,\n",
       ".xr-icon-file-text2 {\n",
       "  display: inline-block;\n",
       "  vertical-align: middle;\n",
       "  width: 1em;\n",
       "  height: 1.5em !important;\n",
       "  stroke-width: 0;\n",
       "  stroke: currentColor;\n",
       "  fill: currentColor;\n",
       "}\n",
       "</style><pre class='xr-text-repr-fallback'>&lt;xarray.Dataset&gt;\n",
       "Dimensions:             (x: 2, y: 2, time: 3)\n",
       "Coordinates:\n",
       "    lat                 (x, y) float64 42.25 42.21 42.63 42.59\n",
       "    lon                 (x, y) float64 -99.83 -99.32 -99.79 -99.23\n",
       "  * time                (time) datetime64[ns] 2014-09-06 2014-09-07 2014-09-08\n",
       "    reference_time      datetime64[ns] 2014-09-05\n",
       "Dimensions without coordinates: x, y\n",
       "Data variables:\n",
       "    temp                (x, y, time) float64 15.03 15.44 6.512 ... 22.09 3.728\n",
       "    temperature_double  (x, y, time) float64 30.07 30.88 13.02 ... 44.18 7.455\n",
       "    precip              (x, y, time) float64 1.99 7.872 2.105 ... 5.925 0.6317</pre><div class='xr-wrap' hidden><div class='xr-header'><div class='xr-obj-type'>xarray.Dataset</div></div><ul class='xr-sections'><li class='xr-section-item'><input id='section-75f0f96d-4043-43db-946f-967acf1e5876' class='xr-section-summary-in' type='checkbox' disabled ><label for='section-75f0f96d-4043-43db-946f-967acf1e5876' class='xr-section-summary'  title='Expand/collapse section'>Dimensions:</label><div class='xr-section-inline-details'><ul class='xr-dim-list'><li><span>x</span>: 2</li><li><span>y</span>: 2</li><li><span class='xr-has-index'>time</span>: 3</li></ul></div><div class='xr-section-details'></div></li><li class='xr-section-item'><input id='section-f3e62943-0b11-4112-93ca-81ec1f6412cf' class='xr-section-summary-in' type='checkbox'  checked><label for='section-f3e62943-0b11-4112-93ca-81ec1f6412cf' class='xr-section-summary' >Coordinates: <span>(4)</span></label><div class='xr-section-inline-details'></div><div class='xr-section-details'><ul class='xr-var-list'><li class='xr-var-item'><div class='xr-var-name'><span>lat</span></div><div class='xr-var-dims'>(x, y)</div><div class='xr-var-dtype'>float64</div><div class='xr-var-preview xr-preview'>42.25 42.21 42.63 42.59</div><input id='attrs-d99a9615-41c2-4044-8ae4-09a8b481a537' class='xr-var-attrs-in' type='checkbox' disabled><label for='attrs-d99a9615-41c2-4044-8ae4-09a8b481a537' title='Show/Hide attributes'><svg class='icon xr-icon-file-text2'><use xlink:href='#icon-file-text2'></use></svg></label><input id='data-6110595f-6825-4672-a061-6b55caa785ca' class='xr-var-data-in' type='checkbox'><label for='data-6110595f-6825-4672-a061-6b55caa785ca' title='Show/Hide data repr'><svg class='icon xr-icon-database'><use xlink:href='#icon-database'></use></svg></label><div class='xr-var-attrs'><dl class='xr-attrs'></dl></div><div class='xr-var-data'><pre>array([[42.25, 42.21],\n",
       "       [42.63, 42.59]])</pre></div></li><li class='xr-var-item'><div class='xr-var-name'><span>lon</span></div><div class='xr-var-dims'>(x, y)</div><div class='xr-var-dtype'>float64</div><div class='xr-var-preview xr-preview'>-99.83 -99.32 -99.79 -99.23</div><input id='attrs-f51af3b6-c103-443f-9a8e-c73b5df19d23' class='xr-var-attrs-in' type='checkbox' disabled><label for='attrs-f51af3b6-c103-443f-9a8e-c73b5df19d23' title='Show/Hide attributes'><svg class='icon xr-icon-file-text2'><use xlink:href='#icon-file-text2'></use></svg></label><input id='data-0e24e2a1-2a45-41c1-8f19-5df874bb4ccc' class='xr-var-data-in' type='checkbox'><label for='data-0e24e2a1-2a45-41c1-8f19-5df874bb4ccc' title='Show/Hide data repr'><svg class='icon xr-icon-database'><use xlink:href='#icon-database'></use></svg></label><div class='xr-var-attrs'><dl class='xr-attrs'></dl></div><div class='xr-var-data'><pre>array([[-99.83, -99.32],\n",
       "       [-99.79, -99.23]])</pre></div></li><li class='xr-var-item'><div class='xr-var-name'><span class='xr-has-index'>time</span></div><div class='xr-var-dims'>(time)</div><div class='xr-var-dtype'>datetime64[ns]</div><div class='xr-var-preview xr-preview'>2014-09-06 2014-09-07 2014-09-08</div><input id='attrs-99a9cfee-bea1-4c27-addd-318a9b52f1ce' class='xr-var-attrs-in' type='checkbox' disabled><label for='attrs-99a9cfee-bea1-4c27-addd-318a9b52f1ce' title='Show/Hide attributes'><svg class='icon xr-icon-file-text2'><use xlink:href='#icon-file-text2'></use></svg></label><input id='data-ff38d134-b85e-4785-ad81-a4038663c12e' class='xr-var-data-in' type='checkbox'><label for='data-ff38d134-b85e-4785-ad81-a4038663c12e' title='Show/Hide data repr'><svg class='icon xr-icon-database'><use xlink:href='#icon-database'></use></svg></label><div class='xr-var-attrs'><dl class='xr-attrs'></dl></div><div class='xr-var-data'><pre>array([&#x27;2014-09-06T00:00:00.000000000&#x27;, &#x27;2014-09-07T00:00:00.000000000&#x27;,\n",
       "       &#x27;2014-09-08T00:00:00.000000000&#x27;], dtype=&#x27;datetime64[ns]&#x27;)</pre></div></li><li class='xr-var-item'><div class='xr-var-name'><span>reference_time</span></div><div class='xr-var-dims'>()</div><div class='xr-var-dtype'>datetime64[ns]</div><div class='xr-var-preview xr-preview'>2014-09-05</div><input id='attrs-47e77d49-bfe4-4b94-a7c1-a1207ddcc108' class='xr-var-attrs-in' type='checkbox' disabled><label for='attrs-47e77d49-bfe4-4b94-a7c1-a1207ddcc108' title='Show/Hide attributes'><svg class='icon xr-icon-file-text2'><use xlink:href='#icon-file-text2'></use></svg></label><input id='data-af564e83-1540-46a4-8858-ac72f711a622' class='xr-var-data-in' type='checkbox'><label for='data-af564e83-1540-46a4-8858-ac72f711a622' title='Show/Hide data repr'><svg class='icon xr-icon-database'><use xlink:href='#icon-database'></use></svg></label><div class='xr-var-attrs'><dl class='xr-attrs'></dl></div><div class='xr-var-data'><pre>array(&#x27;2014-09-05T00:00:00.000000000&#x27;, dtype=&#x27;datetime64[ns]&#x27;)</pre></div></li></ul></div></li><li class='xr-section-item'><input id='section-52e04b82-1885-42c2-9169-ed14a3128ee7' class='xr-section-summary-in' type='checkbox'  checked><label for='section-52e04b82-1885-42c2-9169-ed14a3128ee7' class='xr-section-summary' >Data variables: <span>(3)</span></label><div class='xr-section-inline-details'></div><div class='xr-section-details'><ul class='xr-var-list'><li class='xr-var-item'><div class='xr-var-name'><span>temp</span></div><div class='xr-var-dims'>(x, y, time)</div><div class='xr-var-dtype'>float64</div><div class='xr-var-preview xr-preview'>15.03 15.44 6.512 ... 22.09 3.728</div><input id='attrs-fc31de44-90ac-40bb-a32d-75f871022e05' class='xr-var-attrs-in' type='checkbox' disabled><label for='attrs-fc31de44-90ac-40bb-a32d-75f871022e05' title='Show/Hide attributes'><svg class='icon xr-icon-file-text2'><use xlink:href='#icon-file-text2'></use></svg></label><input id='data-54a47b46-ea35-46e1-ab53-764d5468b083' class='xr-var-data-in' type='checkbox'><label for='data-54a47b46-ea35-46e1-ab53-764d5468b083' title='Show/Hide data repr'><svg class='icon xr-icon-database'><use xlink:href='#icon-database'></use></svg></label><div class='xr-var-attrs'><dl class='xr-attrs'></dl></div><div class='xr-var-data'><pre>array([[[15.03349336, 15.44033513,  6.51238387],\n",
       "        [19.54120058, -3.60023195, 21.78888719]],\n",
       "\n",
       "       [[14.36421838, 25.00615749, -7.38567232],\n",
       "        [16.29567998, 22.08970341,  3.72752459]]])</pre></div></li><li class='xr-var-item'><div class='xr-var-name'><span>temperature_double</span></div><div class='xr-var-dims'>(x, y, time)</div><div class='xr-var-dtype'>float64</div><div class='xr-var-preview xr-preview'>30.07 30.88 13.02 ... 44.18 7.455</div><input id='attrs-daa0676b-9fc0-4ba5-8b8c-91e3d9d52bff' class='xr-var-attrs-in' type='checkbox' disabled><label for='attrs-daa0676b-9fc0-4ba5-8b8c-91e3d9d52bff' title='Show/Hide attributes'><svg class='icon xr-icon-file-text2'><use xlink:href='#icon-file-text2'></use></svg></label><input id='data-32bbabab-19ac-4e39-9cc2-fb1e8213a155' class='xr-var-data-in' type='checkbox'><label for='data-32bbabab-19ac-4e39-9cc2-fb1e8213a155' title='Show/Hide data repr'><svg class='icon xr-icon-database'><use xlink:href='#icon-database'></use></svg></label><div class='xr-var-attrs'><dl class='xr-attrs'></dl></div><div class='xr-var-data'><pre>array([[[ 30.06698671,  30.88067026,  13.02476775],\n",
       "        [ 39.08240116,  -7.20046389,  43.57777438]],\n",
       "\n",
       "       [[ 28.72843677,  50.01231498, -14.77134463],\n",
       "        [ 32.59135996,  44.17940682,   7.45504918]]])</pre></div></li><li class='xr-var-item'><div class='xr-var-name'><span>precip</span></div><div class='xr-var-dims'>(x, y, time)</div><div class='xr-var-dtype'>float64</div><div class='xr-var-preview xr-preview'>1.99 7.872 2.105 ... 5.925 0.6317</div><input id='attrs-cedd5189-3e89-41b4-aefd-5be1c100985e' class='xr-var-attrs-in' type='checkbox' disabled><label for='attrs-cedd5189-3e89-41b4-aefd-5be1c100985e' title='Show/Hide attributes'><svg class='icon xr-icon-file-text2'><use xlink:href='#icon-file-text2'></use></svg></label><input id='data-fecd51e8-f73d-4860-8f28-b4dfb830e6d2' class='xr-var-data-in' type='checkbox'><label for='data-fecd51e8-f73d-4860-8f28-b4dfb830e6d2' title='Show/Hide data repr'><svg class='icon xr-icon-database'><use xlink:href='#icon-database'></use></svg></label><div class='xr-var-attrs'><dl class='xr-attrs'></dl></div><div class='xr-var-data'><pre>array([[[1.9897773 , 7.87231296, 2.10522697],\n",
       "        [2.53095556, 8.37213625, 0.52534701]],\n",
       "\n",
       "       [[1.31426226, 4.44083463, 8.82139997],\n",
       "        [5.00723746, 5.92526386, 0.63166452]]])</pre></div></li></ul></div></li><li class='xr-section-item'><input id='section-f8787307-14e3-421a-9864-ea245241d0b4' class='xr-section-summary-in' type='checkbox' disabled ><label for='section-f8787307-14e3-421a-9864-ea245241d0b4' class='xr-section-summary'  title='Expand/collapse section'>Attributes: <span>(0)</span></label><div class='xr-section-inline-details'></div><div class='xr-section-details'><dl class='xr-attrs'></dl></div></li></ul></div></div>"
      ],
      "text/plain": [
       "<xarray.Dataset>\n",
       "Dimensions:             (x: 2, y: 2, time: 3)\n",
       "Coordinates:\n",
       "    lat                 (x, y) float64 42.25 42.21 42.63 42.59\n",
       "    lon                 (x, y) float64 -99.83 -99.32 -99.79 -99.23\n",
       "  * time                (time) datetime64[ns] 2014-09-06 2014-09-07 2014-09-08\n",
       "    reference_time      datetime64[ns] 2014-09-05\n",
       "Dimensions without coordinates: x, y\n",
       "Data variables:\n",
       "    temp                (x, y, time) float64 15.03 15.44 6.512 ... 22.09 3.728\n",
       "    temperature_double  (x, y, time) float64 30.07 30.88 13.02 ... 44.18 7.455\n",
       "    precip              (x, y, time) float64 1.99 7.872 2.105 ... 5.925 0.6317"
      ]
     },
     "metadata": {},
     "output_type": "execute_result"
    }
   ],
   "source": [
    "# 通过rename()对变量进行重命名\n",
    "ds.rename({\"temperature\": \"temp\", \"precipitation\": \"precip\"})"
   ]
  },
  {
   "cell_type": "markdown",
   "metadata": {
    "id": "2845A479DFD042DAAF85AEA5DC6326DB",
    "jupyter": {},
    "mdEditEnable": false,
    "notebookId": "635e418cf827c6671f103c23",
    "scrolled": false,
    "slideshow": {
     "slide_type": "slide"
    },
    "tags": []
   },
   "source": [
    "### 5.1.5  数据数组与数据集的处理"
   ]
  },
  {
   "cell_type": "code",
   "execution_count": 21,
   "metadata": {
    "id": "89B6165691E94F0583C26835AF0BC7A9",
    "jupyter": {},
    "notebookId": "635e418cf827c6671f103c23",
    "scrolled": false,
    "slideshow": {
     "slide_type": "slide"
    },
    "tags": []
   },
   "outputs": [
    {
     "name": "stdout",
     "output_type": "stream",
     "text": [
      "<xarray.DataArray (time: 4, space: 3)>\n",
      "array([[0.83459434, 0.62437497, 0.82596113],\n",
      "       [0.34848421, 0.76559789, 0.28536279],\n",
      "       [0.90091043, 0.97759082, 0.76602217],\n",
      "       [0.26035703, 0.01217118, 0.48790219]])\n",
      "Coordinates:\n",
      "  * time     (time) datetime64[ns] 2000-01-01 2000-01-02 2000-01-03 2000-01-04\n",
      "  * space    (space) <U5 'level' 'lat' 'lon'\n",
      "<xarray.DataArray ()>\n",
      "array(0.83459434)\n",
      "Coordinates:\n",
      "    time     datetime64[ns] 2000-01-01\n",
      "    space    <U5 'level'\n",
      "<xarray.DataArray (time: 4, space: 2)>\n",
      "array([[0.82596113, 0.62437497],\n",
      "       [0.28536279, 0.76559789],\n",
      "       [0.76602217, 0.97759082],\n",
      "       [0.48790219, 0.01217118]])\n",
      "Coordinates:\n",
      "  * time     (time) datetime64[ns] 2000-01-01 2000-01-02 2000-01-03 2000-01-04\n",
      "  * space    (space) <U5 'lon' 'lat'\n",
      "<xarray.DataArray (time: 2)>\n",
      "array([0.62437497, 0.76559789])\n",
      "Coordinates:\n",
      "  * time     (time) datetime64[ns] 2000-01-01 2000-01-02\n",
      "    space    <U5 'lat'\n",
      "<xarray.DataArray (time: 4, space: 3)>\n",
      "array([[  0.83459434, -10.        , -10.        ],\n",
      "       [  0.34848421,   0.76559789,   0.28536279],\n",
      "       [  0.90091043,   0.97759082,   0.76602217],\n",
      "       [  0.26035703,   0.01217118,   0.48790219]])\n",
      "Coordinates:\n",
      "  * time     (time) datetime64[ns] 2000-01-01 2000-01-02 2000-01-03 2000-01-04\n",
      "  * space    (space) <U5 'level' 'lat' 'lon'\n",
      "<xarray.DataArray (time: 2)>\n",
      "array([0.83459434, 0.34848421])\n",
      "Coordinates:\n",
      "  * time     (time) datetime64[ns] 2000-01-01 2000-01-02\n",
      "    space    <U5 'level'\n",
      "<xarray.DataArray (time: 2, space: 3)>\n",
      "array([[  0.83459434, -10.        , -10.        ],\n",
      "       [  0.34848421,   0.76559789,   0.28536279]])\n",
      "Coordinates:\n",
      "  * time     (time) datetime64[ns] 2000-01-01 2000-01-02\n",
      "  * space    (space) <U5 'level' 'lat' 'lon'\n",
      "<xarray.DataArray (time: 2)>\n",
      "array([0.83459434, 0.34848421])\n",
      "Coordinates:\n",
      "  * time     (time) datetime64[ns] 2000-01-01 2000-01-02\n",
      "    space    <U5 'level'\n",
      "<xarray.DataArray (time: 2, space: 3)>\n",
      "array([[  0.83459434, -10.        , -10.        ],\n",
      "       [  0.34848421,   0.76559789,   0.28536279]])\n",
      "Coordinates:\n",
      "  * time     (time) datetime64[ns] 2000-01-01 2000-01-02\n",
      "  * space    (space) <U5 'level' 'lat' 'lon'\n"
     ]
    }
   ],
   "source": [
    "# 创建数据数组\n",
    "da = xr.DataArray(np.random.rand(4, 3),\n",
    "               [(\"time\", pd.date_range(\"2000-01-01\", periods=4)),(\"space\", [\"level\", \"lat\", \"lon\"])])\n",
    "print(da)\n",
    "# 利用位置进行索引\n",
    "print(da[0, 0])\n",
    "print(da[:, [2, 1]])\n",
    "# 使用.loc属性进行基于标签的索引\n",
    "print(da.loc[\"2000-01-01\":\"2000-01-02\", \"lat\"])\n",
    "# 利用基于标签的索引来修改数据的值\n",
    "da.loc[\"2000-01-01\", [\"lat\", \"lon\"]] = -10\n",
    "print(da)\n",
    "# 利用维度名称进行索引\n",
    "print(da[dict(space=0, time=slice(None, 2))])\n",
    "# 利用维度坐标标签索引\n",
    "print(da.loc[dict(time=slice(\"2000-01-01\", \"2000-01-02\"))])\n",
    "print(da.isel(space=0, time=slice(None, 2)))\n",
    "print(da.sel(time=slice(\"2000-01-01\", \"2000-01-02\")))"
   ]
  },
  {
   "cell_type": "code",
   "execution_count": 22,
   "metadata": {
    "id": "D5B6722C7F7049228BF18011E94883BE",
    "jupyter": {},
    "notebookId": "635e418cf827c6671f103c23",
    "scrolled": false,
    "slideshow": {
     "slide_type": "slide"
    },
    "tags": []
   },
   "outputs": [
    {
     "name": "stdout",
     "output_type": "stream",
     "text": [
      "<xarray.DataArray (x: 3)>\n",
      "array([1, 2, 3])\n",
      "Coordinates:\n",
      "  * x        (x) int64 0 1 2\n",
      "<xarray.DataArray (x: 2)>\n",
      "array([2, 3])\n",
      "Coordinates:\n",
      "  * x        (x) int64 1 2\n",
      "<xarray.DataArray ()>\n",
      "array(2)\n",
      "Coordinates:\n",
      "    x        int64 1\n",
      "<xarray.DataArray (x: 5)>\n",
      "array([1, 2, 2, 3, 3])\n",
      "Coordinates:\n",
      "  * x        (x) int64 0 1 1 2 2\n"
     ]
    }
   ],
   "source": [
    "# 邻近模糊索引\n",
    "da = xr.DataArray([1, 2, 3], [(\"x\", [0, 1, 2])])\n",
    "print(da)\n",
    "print(da.sel(x=[1.1, 1.9], method=\"nearest\"))\n",
    "print(da.sel(x=0.1, method=\"backfill\"))\n",
    "print(da.sel(x=[0.5, 1, 1.5, 2, 2.5], method=\"pad\"))"
   ]
  },
  {
   "cell_type": "code",
   "execution_count": 23,
   "metadata": {
    "id": "A38E8A0E6D6B45B291DE9E6E284A4FC4",
    "jupyter": {},
    "notebookId": "635e418cf827c6671f103c23",
    "scrolled": false,
    "slideshow": {
     "slide_type": "slide"
    },
    "tags": []
   },
   "outputs": [
    {
     "name": "stdout",
     "output_type": "stream",
     "text": [
      "<xarray.DataArray (x: 3)>\n",
      "array([ 2.,  2., nan])\n",
      "Coordinates:\n",
      "  * x        (x) float64 0.9 1.1 1.5\n"
     ]
    }
   ],
   "source": [
    "# 使用tolerance参数设置模糊索引允许的最大偏差范围\n",
    "da = xr.DataArray([1, 2, 3], [(\"x\", [0, 1, 2])])\n",
    "print(da.reindex(x=[0.9, 1.1, 1.5], method=\"nearest\", tolerance=0.2))"
   ]
  },
  {
   "cell_type": "code",
   "execution_count": 24,
   "metadata": {
    "id": "3CBB2913742A4B7783A32DC3EC32D36B",
    "jupyter": {},
    "notebookId": "635e418cf827c6671f103c23",
    "scrolled": false,
    "slideshow": {
     "slide_type": "slide"
    },
    "tags": []
   },
   "outputs": [
    {
     "name": "stdout",
     "output_type": "stream",
     "text": [
      "<xarray.DataArray (x: 4, y: 4)>\n",
      "array([[ 0.,  1., nan, nan],\n",
      "       [ 4.,  5., nan, nan],\n",
      "       [ 8.,  9., nan, nan],\n",
      "       [12., 13., nan, nan]])\n",
      "Dimensions without coordinates: x, y\n",
      "<xarray.DataArray (x: 4, y: 2)>\n",
      "array([[ 0.,  1.],\n",
      "       [ 4.,  5.],\n",
      "       [ 8.,  9.],\n",
      "       [12., 13.]])\n",
      "Dimensions without coordinates: x, y\n"
     ]
    }
   ],
   "source": [
    "# 保持数据的原始形状，且需要掩盖掉某些元素\n",
    "da = xr.DataArray(np.arange(16).reshape(4, 4), dims=[\"x\", \"y\"])\n",
    "print(da.where(da.y < 2))\n",
    "# 剔除缺测部分\n",
    "print(da.where(da.y < 2, drop=True))"
   ]
  },
  {
   "cell_type": "code",
   "execution_count": 25,
   "metadata": {
    "id": "F69858E1167C43D784DAAB3FE93A545B",
    "jupyter": {},
    "notebookId": "635e418cf827c6671f103c23",
    "scrolled": false,
    "slideshow": {
     "slide_type": "slide"
    },
    "tags": []
   },
   "outputs": [
    {
     "name": "stdout",
     "output_type": "stream",
     "text": [
      "<xarray.DataArray (x: 5)>\n",
      "array([ 0.,  1., nan, nan,  2.])\n",
      "Dimensions without coordinates: x\n",
      "<xarray.DataArray (x: 5)>\n",
      "array([False, False,  True,  True, False])\n",
      "Dimensions without coordinates: x\n",
      "<xarray.DataArray (x: 5)>\n",
      "array([ True,  True, False, False,  True])\n",
      "Dimensions without coordinates: x\n",
      "<xarray.DataArray ()>\n",
      "array(3)\n",
      "<xarray.DataArray (x: 3)>\n",
      "array([0., 1., 2.])\n",
      "Dimensions without coordinates: x\n",
      "<xarray.DataArray (x: 5)>\n",
      "array([ 0.,  1., -1., -1.,  2.])\n",
      "Dimensions without coordinates: x\n",
      "<xarray.DataArray (x: 5)>\n",
      "array([0., 1., 1., 1., 2.])\n",
      "Dimensions without coordinates: x\n",
      "<xarray.DataArray (x: 5)>\n",
      "array([0., 1., 2., 2., 2.])\n",
      "Dimensions without coordinates: x\n"
     ]
    }
   ],
   "source": [
    "# 缺测值处理\n",
    "x = xr.DataArray([0, 1, np.nan, np.nan, 2], dims=[\"x\"])\n",
    "print(x)\n",
    "# 根据x中缺测值的位置返回布尔值\n",
    "print(x.isnull())\n",
    "# 根据x中非缺测值的位置返回布尔值\n",
    "print(x.notnull())\n",
    "# 返回x中非缺测值的个数\n",
    "print(x.count())\n",
    "# 将数据数组x中名为x的维度上的缺测值去除\n",
    "print(x.dropna(dim=\"x\"))\n",
    "# 将数据数组x中的缺测值替换为−1\n",
    "print(x.fillna(-1))\n",
    "# 将数据数组中的缺测值替换为向前最近的一个非缺测值\n",
    "print(x.ffill(\"x\"))\n",
    "# 将数据数组中的缺测值替换为向后最近的一个非缺测值\n",
    "print(x.bfill(\"x\"))"
   ]
  },
  {
   "cell_type": "code",
   "execution_count": 26,
   "metadata": {
    "id": "612AD5A2D7BE4A0899B93556CC2A3739",
    "jupyter": {},
    "notebookId": "635e418cf827c6671f103c23",
    "scrolled": false,
    "slideshow": {
     "slide_type": "slide"
    },
    "tags": []
   },
   "outputs": [
    {
     "name": "stdout",
     "output_type": "stream",
     "text": [
      "<xarray.DataArray (lat: 2, lon: 3)>\n",
      "array([[ 1.76405235,  0.40015721,  0.97873798],\n",
      "       [ 2.2408932 ,  1.86755799, -0.97727788]])\n",
      "Coordinates:\n",
      "  * lat      (lat) int64 5 10\n",
      "  * lon      (lon) int64 15 20 25\n",
      "<xarray.DataArray (lon: 3)>\n",
      "array([4.00494555e+00, 2.26771520e+00, 1.46010423e-03])\n",
      "Coordinates:\n",
      "  * lon      (lon) int64 15 20 25\n",
      "<xarray.DataArray ()>\n",
      "array(1.09038344)\n",
      "<xarray.DataArray ()>\n",
      "array(-0.97727788)\n"
     ]
    }
   ],
   "source": [
    "# 聚合运算\n",
    "arr = xr.DataArray(np.random.RandomState(0).randn(2, 3), [(\"lat\", [5, 10]), (\"lon\", [15, 20, 25])])\n",
    "print(arr)\n",
    "# 对其沿lat轴求和\n",
    "print(arr.sum(dim=\"lat\"))\n",
    "# 对整个数据数组求标准差\n",
    "print(arr.std([\"lat\", \"lon\"]))\n",
    "# 返回整个数据数组的最小值\n",
    "print(arr.min())"
   ]
  },
  {
   "cell_type": "code",
   "execution_count": 27,
   "metadata": {
    "id": "F6E36846D9DE451D87742B03D69E8B97",
    "jupyter": {},
    "notebookId": "635e418cf827c6671f103c23",
    "scrolled": false,
    "slideshow": {
     "slide_type": "slide"
    },
    "tags": []
   },
   "outputs": [
    {
     "name": "stdout",
     "output_type": "stream",
     "text": [
      "<xarray.DataArray ()>\n",
      "array(2.)\n",
      "<xarray.DataArray ()>\n",
      "array(nan)\n"
     ]
    }
   ],
   "source": [
    "# 通过设置skipna=False来禁止跳过缺测值NaN\n",
    "print(xr.DataArray([1, 2, np.nan, 3]).mean())\n",
    "print(xr.DataArray([1, 2, np.nan, 3]).mean(skipna=False))"
   ]
  },
  {
   "cell_type": "code",
   "execution_count": 28,
   "metadata": {
    "id": "888B26FDD7D04911951BDD58BCE18D15",
    "jupyter": {},
    "notebookId": "635e418cf827c6671f103c23",
    "scrolled": false,
    "slideshow": {
     "slide_type": "slide"
    },
    "tags": []
   },
   "outputs": [
    {
     "name": "stdout",
     "output_type": "stream",
     "text": [
      "<xarray.DataArray (lat: 3, lon: 5)>\n",
      "array([[0. , 0.5, 1. , 1.5, 2. ],\n",
      "       [2.5, 3. , 3.5, 4. , 4.5],\n",
      "       [5. , 5.5, 6. , 6.5, 7. ]])\n",
      "Dimensions without coordinates: lat, lon\n",
      "DataArrayRolling [lon->3]\n",
      "<xarray.DataArray (lat: 3, lon: 5)>\n",
      "array([[nan, nan, 0.5, 1. , 1.5],\n",
      "       [nan, nan, 3. , 3.5, 4. ],\n",
      "       [nan, nan, 5.5, 6. , 6.5]])\n",
      "Dimensions without coordinates: lat, lon\n",
      "<xarray.DataArray (lat: 3, lon: 5)>\n",
      "array([[nan, 0.5, 1. , 1.5, nan],\n",
      "       [nan, 3. , 3.5, 4. , nan],\n",
      "       [nan, 5.5, 6. , 6.5, nan]])\n",
      "Dimensions without coordinates: lat, lon\n",
      "<xarray.DataArray (lat: 3, lon: 5)>\n",
      "array([[0.25, 0.5 , 1.  , 1.5 , 1.75],\n",
      "       [2.75, 3.  , 3.5 , 4.  , 4.25],\n",
      "       [5.25, 5.5 , 6.  , 6.5 , 6.75]])\n",
      "Dimensions without coordinates: lat, lon\n",
      "DataArrayRolling [lat->2,lon->3]\n"
     ]
    }
   ],
   "source": [
    "# 数据滑动\n",
    "arr = xr.DataArray(np.arange(0, 7.5, 0.5).reshape(3, 5), dims=(\"lat\", \"lon\"))\n",
    "print(arr)\n",
    "print(arr.rolling(lon=3))\n",
    "# 聚合运算的方法可以直接对Rolling对象使用\n",
    "r = arr.rolling(lon=3)\n",
    "print(r.mean())\n",
    "# 通过传递center=True来使结果居中\n",
    "r = arr.rolling(lon=3, center=True)\n",
    "print(r.mean())\n",
    "# 在调用 rolling()时设置min_periods将更改窗口中的最小滑动长度，以便在聚合时具有值\n",
    "r = arr.rolling(lon=3, center=True, min_periods=2)\n",
    "print(r.mean())\n",
    "# 多维度滑动\n",
    "print(arr.rolling(lat=2, lon=3, min_periods=2))"
   ]
  },
  {
   "cell_type": "code",
   "execution_count": 29,
   "metadata": {
    "id": "67C8215604F74FD09986622DE7B5A50E",
    "jupyter": {},
    "notebookId": "635e418cf827c6671f103c23",
    "scrolled": false,
    "slideshow": {
     "slide_type": "slide"
    },
    "tags": []
   },
   "outputs": [
    {
     "name": "stdout",
     "output_type": "stream",
     "text": [
      "<xarray.Dataset>\n",
      "Dimensions:  (x: 4, y: 3)\n",
      "Coordinates:\n",
      "  * x        (x) int64 10 20 30 40\n",
      "    letters  (x) <U1 'a' 'b' 'b' 'a'\n",
      "Dimensions without coordinates: y\n",
      "Data variables:\n",
      "    foo      (x, y) float64 0.9129 0.5615 0.9985 0.788 ... 0.7002 0.2049 0.02066\n",
      "DatasetGroupBy, grouped over 'letters'\n",
      "2 groups with labels 'a', 'b'.\n",
      "{'a': [0, 3], 'b': [1, 2]}\n",
      "<xarray.DataArray 'foo' (letters: 2, y: 3)>\n",
      "array([[0.80654464, 0.38319598, 0.50960111],\n",
      "       [0.72969603, 0.11503978, 0.44786172]])\n",
      "Coordinates:\n",
      "  * letters  (letters) object 'a' 'b'\n",
      "Dimensions without coordinates: y\n"
     ]
    }
   ],
   "source": [
    "# 数据的拆分与组合\n",
    "ds = xr.Dataset({\"foo\": ((\"x\", \"y\"), np.random.rand(4, 3))},coords={\"x\": [10, 20, 30, 40], \"letters\": (\"x\", list(\"abba\"))})\n",
    "arr = ds[\"foo\"]\n",
    "print(ds)\n",
    "# 按数据集中变量或坐标的名称进行分组\n",
    "print(ds.groupby(\"letters\"))\n",
    "# 使用.groups属性查看组索引\n",
    "print(ds.groupby(\"letters\").groups)\n",
    "# 对每个分组进行函数运算\n",
    "print(ds[\"foo\"].groupby(\"letters\").mean(dim=\"x\"))"
   ]
  },
  {
   "cell_type": "code",
   "execution_count": 30,
   "metadata": {
    "id": "3AE148AB3CCF4170BB372877BD380421",
    "jupyter": {},
    "mdEditEnable": false,
    "notebookId": "635e418cf827c6671f103c23",
    "scrolled": false,
    "slideshow": {
     "slide_type": "slide"
    },
    "tags": []
   },
   "outputs": [
    {
     "name": "stdout",
     "output_type": "stream",
     "text": [
      "<xarray.Dataset>\n",
      "Dimensions:  (x: 1, y: 1, z: 1)\n",
      "Dimensions without coordinates: x, y, z\n",
      "Data variables:\n",
      "    foo      (y, z, x) int64 42\n",
      "    bar      (y, z) int64 24\n",
      "<xarray.Dataset>\n",
      "Dimensions:  (x: 1, y: 1, z: 1)\n",
      "Dimensions without coordinates: x, y, z\n",
      "Data variables:\n",
      "    foo      (z, y, x) int64 42\n",
      "    bar      (z, y) int64 24\n",
      "<xarray.Dataset>\n",
      "Dimensions:  (x: 1, y: 1, z: 1, w: 1)\n",
      "Dimensions without coordinates: x, y, z, w\n",
      "Data variables:\n",
      "    foo      (w, x, y, z) int64 42\n",
      "    bar      (w, y, z) int64 24\n",
      "<xarray.Dataset>\n",
      "Dimensions:  (x: 1, y: 1, z: 1)\n",
      "Dimensions without coordinates: x, y, z\n",
      "Data variables:\n",
      "    foo      (x, y, z) int64 42\n",
      "    bar      (y, z) int64 24\n"
     ]
    }
   ],
   "source": [
    "# 数据的变形和重组\n",
    "ds = xr.Dataset({\"foo\": ((\"x\", \"y\", \"z\"), [[[42]]]), \"bar\": ((\"y\", \"z\"), [[24]])})\n",
    "# 使用transpose(\"y\", \"z\", \"x\")调整其维度\n",
    "print(ds.transpose(\"y\", \"z\", \"x\"))\n",
    "# 当不传入参数时，则默认逆转全部维度顺序\n",
    "print(ds.transpose())\n",
    "# 扩充和删除维度\n",
    "expanded = ds.expand_dims(\"w\")\n",
    "print(expanded)\n",
    "print(expanded.squeeze(\"w\"))"
   ]
  },
  {
   "cell_type": "code",
   "execution_count": 31,
   "metadata": {
    "id": "023F02367FCC449F9D6CD7D55FE4D14E",
    "jupyter": {},
    "notebookId": "635e418cf827c6671f103c23",
    "scrolled": false,
    "slideshow": {
     "slide_type": "slide"
    },
    "tags": []
   },
   "outputs": [
    {
     "name": "stdout",
     "output_type": "stream",
     "text": [
      "<xarray.DataArray (variable: 2, x: 1, y: 1, z: 1)>\n",
      "array([[[[42]]],\n",
      "\n",
      "\n",
      "       [[[24]]]])\n",
      "Coordinates:\n",
      "  * variable  (variable) <U3 'foo' 'bar'\n",
      "Dimensions without coordinates: x, y, z\n",
      "<xarray.Dataset>\n",
      "Dimensions:  (x: 1, y: 1, z: 1)\n",
      "Dimensions without coordinates: x, y, z\n",
      "Data variables:\n",
      "    foo      (x, y, z) int64 42\n",
      "    bar      (x, y, z) int64 24\n"
     ]
    }
   ],
   "source": [
    "# 数据集和数据数组的转换\n",
    "ds = xr.Dataset({\"foo\": ((\"x\", \"y\", \"z\"), [[[42]]]), \"bar\": ((\"y\", \"z\"), [[24]])})\n",
    "print(ds.to_array())\n",
    "ds = xr.Dataset({\"foo\": ((\"x\", \"y\", \"z\"), [[[42]]]), \"bar\": ((\"y\", \"z\"), [[24]])})\n",
    "arr = ds.to_array()\n",
    "print(arr.to_dataset(dim=\"variable\"))"
   ]
  },
  {
   "cell_type": "code",
   "execution_count": 32,
   "metadata": {
    "id": "81E5385101904BBDB8D95A470A26C48D",
    "jupyter": {},
    "notebookId": "635e418cf827c6671f103c23",
    "scrolled": false,
    "slideshow": {
     "slide_type": "slide"
    },
    "tags": []
   },
   "outputs": [
    {
     "name": "stdout",
     "output_type": "stream",
     "text": [
      "<xarray.DataArray (x: 2, y: 3)>\n",
      "array([[ 0.23731548,  1.39402883,  0.74502096],\n",
      "       [-1.68168184,  0.08053787,  0.00270266]])\n",
      "Coordinates:\n",
      "  * x        (x) <U1 'a' 'b'\n",
      "  * y        (y) int64 0 1 2\n",
      "<xarray.DataArray (z: 6)>\n",
      "array([ 0.23731548,  1.39402883,  0.74502096, -1.68168184,  0.08053787,\n",
      "        0.00270266])\n",
      "Coordinates:\n",
      "  * z        (z) MultiIndex\n",
      "  - x        (z) object 'a' 'a' 'a' 'b' 'b' 'b'\n",
      "  - y        (z) int64 0 1 2 0 1 2\n",
      "<xarray.DataArray (x: 2, y: 3)>\n",
      "array([[ 0.23731548,  1.39402883,  0.74502096],\n",
      "       [-1.68168184,  0.08053787,  0.00270266]])\n",
      "Coordinates:\n",
      "  * x        (x) object 'a' 'b'\n",
      "  * y        (y) int64 0 1 2\n"
     ]
    }
   ],
   "source": [
    "# 数据维度的堆栈与出栈\n",
    "array = xr.DataArray(np.random.randn(2, 3), coords=[(\"x\", [\"a\", \"b\"]), (\"y\", [0, 1, 2])])\n",
    "print(array)\n",
    "# 对数据的x和y维度进行堆叠\n",
    "stacked = array.stack(z=(\"x\", \"y\"))\n",
    "print(stacked)\n",
    "# 使用unstack()方法将堆叠的数据拆分\n",
    "print(stacked.unstack(\"z\"))"
   ]
  },
  {
   "cell_type": "code",
   "execution_count": 33,
   "metadata": {
    "id": "2AC6DD12306F4A27A01AB302DECFCB43",
    "jupyter": {},
    "notebookId": "635e418cf827c6671f103c23",
    "scrolled": false,
    "slideshow": {
     "slide_type": "slide"
    },
    "tags": []
   },
   "outputs": [
    {
     "name": "stdout",
     "output_type": "stream",
     "text": [
      "<xarray.DataArray (x: 4)>\n",
      "array([1, 2, 3, 4])\n",
      "Dimensions without coordinates: x\n",
      "<xarray.DataArray (x: 4)>\n",
      "array([nan, nan,  1.,  2.])\n",
      "Dimensions without coordinates: x\n",
      "<xarray.DataArray (x: 4)>\n",
      "array([3, 4, 1, 2])\n",
      "Dimensions without coordinates: x\n"
     ]
    }
   ],
   "source": [
    "# 数据的移动和滚动\n",
    "array = xr.DataArray([1, 2, 3, 4], dims=\"x\")\n",
    "print(array)\n",
    "# 将数据向右侧移动两次\n",
    "print(array.shift(x=2))\n",
    "# 将数据向右滚动两次\n",
    "print(array.roll(x=2, roll_coords=True))"
   ]
  },
  {
   "cell_type": "code",
   "execution_count": 34,
   "metadata": {
    "id": "7043C2789A354C7A9501C686DDA709EB",
    "jupyter": {},
    "notebookId": "635e418cf827c6671f103c23",
    "scrolled": false,
    "slideshow": {
     "slide_type": "slide"
    },
    "tags": []
   },
   "outputs": [
    {
     "name": "stdout",
     "output_type": "stream",
     "text": [
      "<xarray.DataArray (x: 2, y: 3)>\n",
      "array([[-1.98082369, -0.93221737, -1.07522404],\n",
      "       [-0.4474485 ,  0.55808941, -0.48316307]])\n",
      "Coordinates:\n",
      "  * x        (x) <U1 'a' 'b'\n",
      "  * y        (y) int64 10 20 30\n",
      "<xarray.DataArray (x: 2, y: 3)>\n",
      "array([[-1.07522404, -0.93221737, -1.07522404],\n",
      "       [-0.48316307,  0.55808941, -0.48316307]])\n",
      "Coordinates:\n",
      "  * x        (x) <U1 'a' 'b'\n",
      "  * y        (y) int64 30 20 30\n",
      "<xarray.Dataset>\n",
      "Dimensions:  ()\n",
      "Data variables:\n",
      "    var0     int64 0\n",
      "    var1     int64 1\n",
      "    var2     int64 2\n",
      "    var3     int64 3\n",
      "    var4     int64 4\n",
      "<xarray.DataArray (x: 3, y: 3)>\n",
      "array([[ 0.,  0., nan],\n",
      "       [ 0.,  0.,  1.],\n",
      "       [nan,  1.,  1.]])\n",
      "Coordinates:\n",
      "  * x        (x) <U1 'a' 'b' 'c'\n",
      "  * y        (y) int64 -1 0 1\n",
      "<xarray.DataArray (x: 3, y: 3)>\n",
      "array([[ 0.,  0., nan],\n",
      "       [ 0.,  1.,  1.],\n",
      "       [nan,  1.,  1.]])\n",
      "Coordinates:\n",
      "  * x        (x) <U1 'a' 'b' 'c'\n",
      "  * y        (y) int64 -1 0 1\n"
     ]
    }
   ],
   "source": [
    "# 数据合并\n",
    "arr = xr.DataArray(np.random.randn(2, 3), [(\"x\", [\"a\", \"b\"]), (\"y\", [10, 20, 30])])\n",
    "print(arr)\n",
    "# 合并数据数组arr的两个子数组\n",
    "print(xr.concat([arr[:, 2:], arr[:, 1:]], dim=\"y\"))\n",
    "# 使用不同变量组合数据集或数据数组\n",
    "print(xr.merge([xr.DataArray(n, name=\"var%d\" % n) for n in range(5)]))\n",
    "# 使用不同索引或缺失值组合数据集或数据数组\n",
    "ar0 = xr.DataArray([[0, 0], [0, 0]], [(\"x\", [\"a\", \"b\"]), (\"y\", [-1, 0])])\n",
    "ar1 = xr.DataArray([[1, 1], [1, 1]], [(\"x\", [\"b\", \"c\"]), (\"y\", [0, 1])])\n",
    "print(ar0.combine_first(ar1))\n",
    "print(ar1.combine_first(ar0))"
   ]
  },
  {
   "cell_type": "code",
   "execution_count": 35,
   "metadata": {
    "id": "E48641D6553B4FA2992152FCC8217962",
    "jupyter": {},
    "notebookId": "635e418cf827c6671f103c23",
    "scrolled": false,
    "slideshow": {
     "slide_type": "slide"
    },
    "tags": []
   },
   "outputs": [
    {
     "name": "stdout",
     "output_type": "stream",
     "text": [
      "<xarray.DataArray 'temperature' (x: 4, y: 4)>\n",
      "array([[1, 2, 1, 2],\n",
      "       [3, 4, 3, 4],\n",
      "       [1, 2, 1, 2],\n",
      "       [3, 4, 3, 4]])\n",
      "Dimensions without coordinates: x, y\n",
      "<xarray.Dataset>\n",
      "Dimensions:  (x: 6)\n",
      "Coordinates:\n",
      "  * x        (x) int64 1 2 3 4 5 6\n",
      "Data variables:\n",
      "    foo      (x) float64 1.0 2.0 3.0 4.0 5.0 6.0\n"
     ]
    },
    {
     "name": "stderr",
     "output_type": "stream",
     "text": [
      "/opt/conda/lib/python3.7/site-packages/xarray/core/dataarray.py:789: FutureWarning: elementwise comparison failed; returning scalar instead, but in the future will perform elementwise comparison\n",
      "  return key in self.data\n",
      "/opt/conda/lib/python3.7/site-packages/xarray/core/dataarray.py:789: FutureWarning: elementwise comparison failed; returning scalar instead, but in the future will perform elementwise comparison\n",
      "  return key in self.data\n"
     ]
    }
   ],
   "source": [
    "# 沿多个维度组合数据集或数据数组\n",
    "arr = xr.DataArray(name=\"temperature\", data=[[1,2],[3,4]], dims=[\"x\", \"y\"])\n",
    "ds_grid = [[arr, arr], [arr, arr]]\n",
    "print(xr.combine_nested(ds_grid, concat_dim=[\"x\", \"y\"]))\n",
    "# 从数据的坐标自动推断顺序\n",
    "x1 = xr.DataArray(name=\"foo\", data=[1,3,5], coords=[(\"x\", [1,3,5])])\n",
    "x2 = xr.DataArray(name=\"foo\", data=[2,4,6], coords=[(\"x\", [2,4,6])])\n",
    "print(xr.combine_by_coords([x2, x1]))"
   ]
  },
  {
   "cell_type": "code",
   "execution_count": 36,
   "metadata": {
    "id": "EC9C3AB52A13469F97417412890E2A09",
    "jupyter": {},
    "notebookId": "635e418cf827c6671f103c23",
    "scrolled": false,
    "slideshow": {
     "slide_type": "slide"
    },
    "tags": []
   },
   "outputs": [
    {
     "name": "stdout",
     "output_type": "stream",
     "text": [
      "DatetimeIndex(['2000-01-01', '2000-02-02'], dtype='datetime64[ns]', freq=None)\n",
      "DatetimeIndex(['2000-01-01', '2000-01-02', '2000-01-03', '2000-01-04',\n",
      "               '2000-01-05', '2000-01-06', '2000-01-07', '2000-01-08',\n",
      "               '2000-01-09', '2000-01-10',\n",
      "               ...\n",
      "               '2000-12-21', '2000-12-22', '2000-12-23', '2000-12-24',\n",
      "               '2000-12-25', '2000-12-26', '2000-12-27', '2000-12-28',\n",
      "               '2000-12-29', '2000-12-30'],\n",
      "              dtype='datetime64[ns]', length=365, freq='D')\n",
      "<xarray.Dataset>\n",
      "Dimensions:  ()\n",
      "Data variables:\n",
      "    time     datetime64[ns] 2000-01-01\n"
     ]
    }
   ],
   "source": [
    "# 时间序列数据\n",
    "print(pd.to_datetime([\"2000-01-01\", \"2000-02-02\"]))\n",
    "print(pd.date_range(\"2000-01-01\", periods=365))\n",
    "import datetime\n",
    "print(xr.Dataset({\"time\": datetime.datetime(2000, 1, 1)}))"
   ]
  },
  {
   "cell_type": "code",
   "execution_count": 37,
   "metadata": {
    "id": "B7205ED4E72D40E0804EC0E773602F36",
    "jupyter": {},
    "notebookId": "635e418cf827c6671f103c23",
    "scrolled": false,
    "slideshow": {
     "slide_type": "slide"
    },
    "tags": []
   },
   "outputs": [
    {
     "name": "stdout",
     "output_type": "stream",
     "text": [
      "<xarray.Dataset>\n",
      "Dimensions:  (time: 744)\n",
      "Coordinates:\n",
      "  * time     (time) datetime64[ns] 2000-01-01 ... 2000-01-31T23:00:00\n",
      "Data variables:\n",
      "    foo      (time) int64 0 1 2 3 4 5 6 7 8 ... 736 737 738 739 740 741 742 743\n",
      "<xarray.Dataset>\n",
      "Dimensions:  (time: 240)\n",
      "Coordinates:\n",
      "  * time     (time) datetime64[ns] 2000-06-01 ... 2000-06-10T23:00:00\n",
      "Data variables:\n",
      "    foo      (time) int64 3648 3649 3650 3651 3652 ... 3883 3884 3885 3886 3887\n",
      "<xarray.Dataset>\n",
      "Dimensions:  (time: 365)\n",
      "Coordinates:\n",
      "  * time     (time) datetime64[ns] 2000-01-01T12:00:00 ... 2000-12-30T12:00:00\n",
      "Data variables:\n",
      "    foo      (time) int64 12 36 60 84 108 132 ... 8628 8652 8676 8700 8724 8748\n"
     ]
    }
   ],
   "source": [
    "# datetime索引\n",
    "time = pd.date_range(\"2000-01-01\", freq=\"H\", periods=365 * 24)\n",
    "ds = xr.Dataset({\"foo\": (\"time\", np.arange(365 * 24)), \"time\": time})\n",
    "print(ds.sel(time=\"2000-01\"))\n",
    "print(ds.sel(time=slice(\"2000-06-01\", \"2000-06-10\")))\n",
    "print(ds.sel(time=datetime.time(12)))"
   ]
  },
  {
   "cell_type": "markdown",
   "metadata": {
    "id": "E5344E3B19994BBAAEA3CD8E817AE5A4",
    "jupyter": {},
    "mdEditEnable": false,
    "notebookId": "635e418cf827c6671f103c23",
    "scrolled": false,
    "slideshow": {
     "slide_type": "slide"
    },
    "tags": []
   },
   "source": [
    "## 5.2 Metpy入门"
   ]
  },
  {
   "cell_type": "markdown",
   "metadata": {
    "id": "9682C109AE114E678F62C5133F7C9C00",
    "jupyter": {},
    "mdEditEnable": false,
    "notebookId": "635e418cf827c6671f103c23",
    "scrolled": false,
    "slideshow": {
     "slide_type": "slide"
    },
    "tags": []
   },
   "source": [
    "### 5.2.2  MetPy的单位制"
   ]
  },
  {
   "cell_type": "code",
   "execution_count": 38,
   "metadata": {
    "id": "E7E9F5EABB684A869DC5D1A53F5E9E7F",
    "jupyter": {},
    "notebookId": "635e418cf827c6671f103c23",
    "scrolled": false,
    "slideshow": {
     "slide_type": "slide"
    },
    "tags": []
   },
   "outputs": [
    {
     "name": "stdout",
     "output_type": "stream",
     "text": [
      "[1.0 1.0 1.0 1.0] meter / second\n",
      "4.968503937007874 inch\n",
      "25.4 millimeter\n"
     ]
    }
   ],
   "source": [
    "# MetPy的单位制运算\n",
    "import numpy as np\n",
    "from metpy.units import units\n",
    "distance = np.arange(1, 5) * units.meters\n",
    "time = units.Quantity(np.arange(1, 5), 'sec')\n",
    "print(distance / time)\n",
    "print(3 * units.inch + 5 * units.cm)\n",
    "print((1 * units.inch).to(units.mm))"
   ]
  },
  {
   "cell_type": "code",
   "execution_count": 39,
   "metadata": {
    "id": "441C220531BC4B4D8BFFA0D4F20EF341",
    "jupyter": {},
    "notebookId": "635e418cf827c6671f103c23",
    "scrolled": false,
    "slideshow": {
     "slide_type": "slide"
    },
    "tags": []
   },
   "outputs": [
    {
     "name": "stdout",
     "output_type": "stream",
     "text": [
      "3340000.0 joule / kilogram\n",
      "3340000.0 meter ** 2 / second ** 2\n"
     ]
    }
   ],
   "source": [
    "# 转换为国际单位制\n",
    "Lf = 3.34e6 * units('J/kg')\n",
    "print(Lf, Lf.to_base_units(), sep='\\n')"
   ]
  },
  {
   "cell_type": "code",
   "execution_count": 40,
   "metadata": {
    "id": "DECE3987EBD740FC92CF3D826B0D59C6",
    "jupyter": {},
    "notebookId": "635e418cf827c6671f103c23",
    "scrolled": false,
    "slideshow": {
     "slide_type": "slide"
    },
    "tags": []
   },
   "outputs": [
    {
     "name": "stdout",
     "output_type": "stream",
     "text": [
      "3340000.0 joule / kilogram\n",
      "3340000.0 meter ** 2 / second ** 2\n",
      "30 degree_Celsius\n",
      "283 kelvin\n"
     ]
    }
   ],
   "source": [
    "# 偏移量单位\n",
    "Lf = 3.34e6 * units('J/kg')\n",
    "print(Lf, Lf.to_base_units(), sep='\\n')\n",
    "print(25 * units.degC + 5 * units.delta_degC)\n",
    "print(273 * units.kelvin + 10 * units.kelvin)"
   ]
  },
  {
   "cell_type": "code",
   "execution_count": 41,
   "metadata": {
    "id": "D7EA451A6C634492A24B29994915D69C",
    "jupyter": {},
    "mdEditEnable": false,
    "notebookId": "635e418cf827c6671f103c23",
    "scrolled": false,
    "slideshow": {
     "slide_type": "slide"
    },
    "tags": []
   },
   "outputs": [
    {
     "name": "stdout",
     "output_type": "stream",
     "text": [
      "15.726236381245258 degree_Celsius\n"
     ]
    }
   ],
   "source": [
    "# 使用带有单位的变量进行MetPy中的函数计算\n",
    "import numpy as np\n",
    "import metpy.calc as mpcalc\n",
    "from metpy.units import units\n",
    "temperature = 73.2 * units(\"degF\")#通过unit()函数传入单位字符串，当单位字符串包含空格及符号时只能用此方法\n",
    "rh = 64 * units.percent #通过units.xxx赋单位\n",
    "dewpoint = mpcalc.dewpoint_from_relative_humidity(temperature, rh)\n",
    "print(dewpoint)"
   ]
  },
  {
   "cell_type": "code",
   "execution_count": 42,
   "metadata": {
    "id": "18FD33840A2B47EF9382CC39D6155A7B",
    "jupyter": {},
    "notebookId": "635e418cf827c6671f103c23",
    "scrolled": false,
    "slideshow": {
     "slide_type": "slide"
    },
    "tags": []
   },
   "outputs": [
    {
     "name": "stdout",
     "output_type": "stream",
     "text": [
      "49.033249999999995 meter ** 2 / second ** 2\n"
     ]
    }
   ],
   "source": [
    "# Metpy中的常数使用\n",
    "import metpy.constants as constants\n",
    "print(5*units.m * constants.g)"
   ]
  }
 ],
 "metadata": {
  "kernelspec": {
   "display_name": "Python 3 (ipykernel)",
   "language": "python",
   "name": "python3"
  },
  "language_info": {
   "codemirror_mode": {
    "name": "ipython",
    "version": 3
   },
   "file_extension": ".py",
   "mimetype": "text/x-python",
   "name": "python",
   "nbconvert_exporter": "python",
   "pygments_lexer": "ipython3",
   "version": "3.10.9"
  }
 },
 "nbformat": 4,
 "nbformat_minor": 1
}
