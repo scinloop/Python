{
 "cells": [
  {
   "metadata": {
    "trusted": true,
    "collapsed": false,
    "jupyter": {},
    "tags": [],
    "slideshow": {
     "slide_type": "slide"
    },
    "id": "D89B0EAB542642F98900CCC4D4E49360",
    "scrolled": false,
    "notebookId": "635e70a6109d8fab661535da",
    "mdEditEnable": false
   },
   "cell_type": "markdown",
   "source": [
    "# 第六章"
   ]
  },
  {
   "metadata": {
    "id": "810CF482643D4985AFA558B9F60AF78D",
    "notebookId": "635e70a6109d8fab661535da",
    "jupyter": {},
    "tags": [],
    "slideshow": {
     "slide_type": "slide"
    },
    "trusted": true,
    "collapsed": false,
    "scrolled": false,
    "mdEditEnable": false
   },
   "cell_type": "markdown",
   "source": [
    "## 6.1 文本文件"
   ]
  },
  {
   "source": [
    "### 6.1.2  CSV文件"
   ],
   "cell_type": "markdown",
   "metadata": {
    "trusted": true,
    "collapsed": false,
    "jupyter": {},
    "tags": [],
    "slideshow": {
     "slide_type": "slide"
    },
    "id": "4FC61B519BE24DD590C9913A15FBDA95",
    "scrolled": false,
    "notebookId": "635e70a6109d8fab661535da",
    "mdEditEnable": false
   }
  },
  {
   "outputs": [
    {
     "output_type": "stream",
     "name": "stdout",
     "text": "time       datetime64[ns]\nstation             int64\nt                 float64\ntmax              float64\ntmin              float64\ndtype: object\n--------\n         time  station     t  tmax  tmin\n0  2020-03-01    58238   8.7  12.5   1.3\n1  2020-03-01    58235   7.5  11.3   0.8\n2  2020-03-01    58237   8.5  11.8   1.2\n3  2020-03-02    58238   9.5  13.3   4.4\n4  2020-03-02    58235   8.3  12.8   4.0\n5  2020-03-02    58237   8.8  12.9   4.2\n6  2020-03-03    58238  13.1  14.5  10.1\n7  2020-03-03    58235  12.4  13.7   9.6\n8  2020-03-03    58237  13.0  14.1  10.0\n9  2020-03-04    58238  10.3  13.8   5.2\n10 2020-03-04    58235   9.8  12.9   4.5\n11 2020-03-04    58237  10.1  13.1   4.8\n"
    }
   ],
   "execution_count": 1,
   "source": [
    "# 读取csv，同时将时间字符串解析为时间戳类型\n",
    "import pandas as pd\n",
    "dat = pd.read_csv('/home/mw/input/pythonbook7300/sta.csv', parse_dates=['time'])\n",
    "print(dat.dtypes)\n",
    "print('--------')\n",
    "print(dat)"
   ],
   "cell_type": "code",
   "metadata": {
    "trusted": true,
    "collapsed": false,
    "jupyter": {},
    "tags": [],
    "slideshow": {
     "slide_type": "slide"
    },
    "id": "16BEDEF83DF24B65ABB0E52615CECDCB",
    "scrolled": false,
    "notebookId": "635e70a6109d8fab661535da"
   }
  },
  {
   "outputs": [
    {
     "output_type": "stream",
     "name": "stdout",
     "text": "time       datetime64[ns]\nstation            object\nt                 float64\ntmax              float64\ntmin              float64\ndtype: object\n--------\n         time station     t  tmax  tmin\n0  2020-03-01   58238   8.7  12.5   1.3\n1  2020-03-01   58235   7.5  11.3   0.8\n2  2020-03-01   58237   8.5  11.8   1.2\n3  2020-03-02   58238   9.5  13.3   4.4\n4  2020-03-02   58235   8.3  12.8   4.0\n5  2020-03-02   58237   8.8  12.9   4.2\n6  2020-03-03   58238  13.1  14.5  10.1\n7  2020-03-03   58235  12.4  13.7   9.6\n8  2020-03-03   58237  13.0  14.1  10.0\n9  2020-03-04   58238  10.3  13.8   5.2\n10 2020-03-04   58235   9.8  12.9   4.5\n11 2020-03-04   58237  10.1  13.1   4.8\n"
    }
   ],
   "execution_count": 2,
   "source": [
    "# 将站号指定为字符串类型\n",
    "import numpy as np\n",
    "import pandas as pd\n",
    "dat = pd.read_csv('/home/mw/input/pythonbook7300/sta.csv', \n",
    "               parse_dates=['time'], \n",
    "               dtype={'station': np.unicode_})\n",
    "print(dat.dtypes)\n",
    "print('--------')\n",
    "print(dat)"
   ],
   "cell_type": "code",
   "metadata": {
    "trusted": true,
    "collapsed": false,
    "jupyter": {},
    "tags": [],
    "slideshow": {
     "slide_type": "slide"
    },
    "id": "D672A6DA22044421924584DCEFE45A4F",
    "scrolled": false,
    "notebookId": "635e70a6109d8fab661535da"
   }
  },
  {
   "metadata": {
    "id": "D26A2C7785AF491487075C01C63B069C",
    "notebookId": "635e70a6109d8fab661535da",
    "jupyter": {},
    "tags": [],
    "slideshow": {
     "slide_type": "slide"
    },
    "trusted": true,
    "mdEditEnable": false,
    "collapsed": false,
    "scrolled": false
   },
   "cell_type": "markdown",
   "source": [
    "### 6.1.3  空格（制表符）作为分隔符的文件"
   ]
  },
  {
   "metadata": {
    "id": "E7078CE0C966490F857310503C7E32FC",
    "notebookId": "635e70a6109d8fab661535da",
    "jupyter": {},
    "tags": [],
    "slideshow": {
     "slide_type": "slide"
    },
    "trusted": true,
    "collapsed": false,
    "scrolled": false
   },
   "cell_type": "code",
   "outputs": [
    {
     "output_type": "stream",
     "name": "stdout",
     "text": "time       datetime64[ns]\nstation            object\nt                 float64\ntmax              float64\ntmin              float64\ndtype: object\n--------\n                 time station     t  tmax  tmin\n2020-03-01 2023-03-02   58238   8.7  12.5   1.3\n2020-03-01 2023-03-02   58235   7.5  11.3   0.8\n2020-03-01 2023-03-02   58237   8.5  11.8   1.2\n2020-03-02 2023-03-02   58238   9.5  13.3   4.4\n2020-03-02 2023-03-02   58235   8.3  12.8   4.0\n2020-03-02 2023-03-02   58237   8.8  12.9   4.2\n2020-03-03 2023-03-02   58238  13.1  14.5  10.1\n2020-03-03 2023-03-02   58235  12.4  13.7   9.6\n2020-03-03 2023-03-02   58237  13.0  14.1  10.0\n2020-03-04 2023-03-02   58238  10.3  13.8   5.2\n2020-03-04 2023-03-02   58235   9.8  12.9   4.5\n2020-03-04 2023-03-02   58237  10.1  13.1   4.8\n"
    },
    {
     "output_type": "stream",
     "name": "stderr",
     "text": "/opt/conda/lib/python3.7/site-packages/pandas/util/_decorators.py:311: ParserWarning: Falling back to the 'python' engine because the 'c' engine does not support regex separators (separators > 1 char and different from '\\s+' are interpreted as regex); you can avoid this warning by specifying engine='python'.\n  return func(*args, **kwargs)\n"
    }
   ],
   "source": [
    "# 读取空格为分隔符的文件\n",
    "import numpy as np\n",
    "import pandas as pd\n",
    "dat = pd.read_csv('/home/mw/input/pythonbook7300/sta.txt', \n",
    "               sep='\\s', #如果是空格分隔符，则此处参数值为1s\n",
    "               parse_dates=['time'], \n",
    "               dtype={'station': np.unicode_})\n",
    "print(dat.dtypes)\n",
    "print('--------')\n",
    "print(dat)"
   ],
   "execution_count": 3
  },
  {
   "metadata": {
    "id": "9CA957F215F249318E2470260D9FC88E",
    "notebookId": "635e70a6109d8fab661535da",
    "jupyter": {},
    "tags": [],
    "slideshow": {
     "slide_type": "slide"
    },
    "trusted": true,
    "collapsed": false,
    "scrolled": false
   },
   "cell_type": "code",
   "outputs": [
    {
     "output_type": "stream",
     "name": "stdout",
     "text": "Warning: ecCodes 2.21.0 or higher is recommended. You are running version 2.14.1\n[[10.12 11.15 11.3  10.25  9.97]\n [10.23 11.54 11.12 10.01  9.85]\n [10.07 11.37 10.98 10.42  9.58]\n [10.33 12.01 10.38 10.36 10.12]]\n[120.    120.625 121.25  121.875 122.5  ]\n[10. 11. 12. 13.]\n<xarray.DataArray (lat: 4, lon: 5)>\narray([[10.12, 11.15, 11.3 , 10.25,  9.97],\n       [10.23, 11.54, 11.12, 10.01,  9.85],\n       [10.07, 11.37, 10.98, 10.42,  9.58],\n       [10.33, 12.01, 10.38, 10.36, 10.12]])\nCoordinates:\n  * lat      (lat) float64 10.0 11.0 12.0 13.0\n  * lon      (lon) float64 120.0 120.6 121.2 121.9 122.5\n"
    }
   ],
   "source": [
    "# 读取栅格型文本数据\n",
    "# 行列与经纬栅格相关\n",
    "import numpy as np\n",
    "import xarray as xr\n",
    "array_raw = np.loadtxt('/home/mw/input/pythonbook7300/grid_1.txt', dtype=np.float64)\n",
    "print(array_raw) # 这一行用于演示读取结果，并非必要输入， 数据量过大时可能会导致卡顿\n",
    "lon = np.linspace(120, 122.5, 5)\n",
    "lat = np.linspace(10, 13, 4)\n",
    "print(lon) # 此行仅用于演示\n",
    "print(lat) # 此行仅用于演示\n",
    "t_grid = xr.DataArray(array_raw, coords=[lat, lon], dims=[\"lat\", \"lon\"])\n",
    "print(t_grid)"
   ],
   "execution_count": 4
  },
  {
   "metadata": {
    "id": "A2CE2AB4290943FA91D6D36652096DE5",
    "notebookId": "635e70a6109d8fab661535da",
    "jupyter": {},
    "tags": [],
    "slideshow": {
     "slide_type": "slide"
    },
    "trusted": true,
    "collapsed": false,
    "scrolled": false
   },
   "cell_type": "code",
   "outputs": [
    {
     "output_type": "stream",
     "name": "stdout",
     "text": "[[10.12 11.15 11.3  10.25  9.97 10.23 11.54 11.12 10.01  9.85]\n [10.07 11.37 10.98 10.42  9.58 10.33 12.01 10.38 10.36 10.12]]\n[[10.12 11.15 11.3  10.25  9.97]\n [10.23 11.54 11.12 10.01  9.85]\n [10.07 11.37 10.98 10.42  9.58]\n [10.33 12.01 10.38 10.36 10.12]]\n[120.    120.625 121.25  121.875 122.5  ]\n[10. 11. 12. 13.]\n<xarray.DataArray (lat: 4, lon: 5)>\narray([[10.12, 11.15, 11.3 , 10.25,  9.97],\n       [10.23, 11.54, 11.12, 10.01,  9.85],\n       [10.07, 11.37, 10.98, 10.42,  9.58],\n       [10.33, 12.01, 10.38, 10.36, 10.12]])\nCoordinates:\n  * lat      (lat) float64 10.0 11.0 12.0 13.0\n  * lon      (lon) float64 120.0 120.6 121.2 121.9 122.5\n"
    }
   ],
   "source": [
    "# 读取栅格型文本数据\n",
    "# 行列与经纬栅格无关\n",
    "import numpy as np\n",
    "import xarray as xr\n",
    "array_raw = np.loadtxt('/home/mw/input/pythonbook7300/grid_2.txt', dtype=np.float64)\n",
    "print(array_raw) # 这一行用于演示结果，并非必要输入，数据量过大时可能会导致卡顿\n",
    "array_raw = array_raw.reshape((4, 5))\n",
    "print(array_raw) # 这一行用于演示结果，并非必要输入，数据量过大时可能会导致卡顿\n",
    "lon = np.linspace(120, 122.5, 5)\n",
    "lat = np.linspace(10, 13, 4)\n",
    "print(lon) # 此行仅用于演示\n",
    "print(lat) # 此行仅用于演示\n",
    "t_grid = xr.DataArray(array_raw, coords=[lat, lon], dims=[\"lat\", \"lon\"])\n",
    "print(t_grid)"
   ],
   "execution_count": 5
  },
  {
   "metadata": {
    "id": "7C7E37C93296493D93D6A45DF08AE90B",
    "notebookId": "635e70a6109d8fab661535da",
    "jupyter": {},
    "tags": [],
    "slideshow": {
     "slide_type": "slide"
    },
    "trusted": true,
    "collapsed": false,
    "scrolled": false,
    "mdEditEnable": false
   },
   "cell_type": "markdown",
   "source": [
    "## 6.2 Excel文件"
   ]
  },
  {
   "metadata": {
    "id": "127B647B8FE74FD69BDC9C7A796F52AA",
    "notebookId": "635e70a6109d8fab661535da",
    "jupyter": {},
    "tags": [],
    "slideshow": {
     "slide_type": "slide"
    },
    "trusted": true,
    "collapsed": false,
    "scrolled": false
   },
   "cell_type": "code",
   "outputs": [
    {
     "output_type": "stream",
     "name": "stdout",
     "text": "          时间  最高温度  降水\n0 2020-01-01  10.3   0\n1 2020-01-02  13.3   0\n2 2020-01-03  12.1   0\n3 2020-01-04   9.9   0\n-----\n时间      datetime64[ns]\n最高温度           float64\n降水               int64\ndtype: object\n"
    }
   ],
   "source": [
    "import pandas as pd\n",
    "dat = pd.read_excel('/home/mw/input/pythonbook7300/read.xlsx', sheet_name='Sheet1')\n",
    "print(dat)\n",
    "print('-----')\n",
    "print(dat.dtypes)"
   ],
   "execution_count": 6
  },
  {
   "metadata": {
    "id": "B8586AF09A5240258C444360DA042DC0",
    "notebookId": "635e70a6109d8fab661535da",
    "jupyter": {},
    "tags": [],
    "slideshow": {
     "slide_type": "slide"
    },
    "trusted": true,
    "mdEditEnable": false,
    "collapsed": false,
    "scrolled": false
   },
   "cell_type": "markdown",
   "source": [
    "## 6.3  NetCDF文件"
   ]
  },
  {
   "metadata": {
    "id": "C6F011DC3B6A4C5E818B6326E36DC44D",
    "notebookId": "635e70a6109d8fab661535da",
    "jupyter": {},
    "tags": [],
    "slideshow": {
     "slide_type": "slide"
    },
    "trusted": true,
    "collapsed": false,
    "scrolled": false
   },
   "cell_type": "code",
   "outputs": [
    {
     "output_type": "stream",
     "name": "stdout",
     "text": "<xarray.Dataset>\nDimensions:    (longitude: 721, latitude: 361, level: 13, time: 1)\nCoordinates:\n  * longitude  (longitude) float32 0.0 0.25 0.5 0.75 ... 179.2 179.5 179.8 180.0\n  * latitude   (latitude) float32 90.0 89.75 89.5 89.25 ... 0.75 0.5 0.25 0.0\n  * level      (level) int32 1000 975 925 850 700 600 ... 300 250 200 150 100\n  * time       (time) datetime64[ns] 1980-06-01T06:00:00\nData variables:\n    pv         (time, level, latitude, longitude) float32 ...\n    z          (time, level, latitude, longitude) float32 ...\n    t          (time, level, latitude, longitude) float32 ...\n    q          (time, level, latitude, longitude) float32 ...\n    w          (time, level, latitude, longitude) float32 ...\n    vo         (time, level, latitude, longitude) float32 ...\n    d          (time, level, latitude, longitude) float32 ...\n    u          (time, level, latitude, longitude) float32 ...\n    v          (time, level, latitude, longitude) float32 ...\n    r          (time, level, latitude, longitude) float32 ...\n    clwc       (time, level, latitude, longitude) float32 ...\nAttributes:\n    Conventions:  CF-1.6\n    history:      2017-03-27 13:09:45 GMT by grib_to_netcdf-2.1.0: grib_to_ne...\n<xarray.DataArray 't' (time: 1, level: 13, latitude: 361, longitude: 721)>\n[3383653 values with dtype=float32]\nCoordinates:\n  * longitude  (longitude) float32 0.0 0.25 0.5 0.75 ... 179.2 179.5 179.8 180.0\n  * latitude   (latitude) float32 90.0 89.75 89.5 89.25 ... 0.75 0.5 0.25 0.0\n  * level      (level) int32 1000 975 925 850 700 600 ... 300 250 200 150 100\n  * time       (time) datetime64[ns] 1980-06-01T06:00:00\nAttributes:\n    units:          K\n    long_name:      Temperature\n    standard_name:  air_temperature\n"
    }
   ],
   "source": [
    "# 读取NetCDF文件\n",
    "import xarray as xr\n",
    "# 将文件路径改为自己的\n",
    "dataset = xr.open_dataset('/home/mw/input/pythonbook9857/1980060106.nc')\n",
    "print(dataset)\n",
    "t = dataset['t']\n",
    "print(t)"
   ],
   "execution_count": 7
  },
  {
   "metadata": {
    "id": "35B183B78FB842EB895E403EA723511D",
    "notebookId": "635e70a6109d8fab661535da",
    "jupyter": {},
    "tags": [],
    "slideshow": {
     "slide_type": "slide"
    },
    "trusted": true,
    "mdEditEnable": false,
    "collapsed": false,
    "scrolled": false
   },
   "cell_type": "markdown",
   "source": [
    "## 6.4  GRIB文件"
   ]
  },
  {
   "metadata": {
    "id": "A8AE40BF8AB0428E8D01C93EF5455FAE",
    "notebookId": "635e70a6109d8fab661535da",
    "jupyter": {},
    "tags": [],
    "slideshow": {
     "slide_type": "slide"
    },
    "trusted": true,
    "mdEditEnable": false,
    "collapsed": false,
    "scrolled": false
   },
   "cell_type": "markdown",
   "source": [
    "### 6.4.1  使用PyNIO"
   ]
  },
  {
   "metadata": {
    "id": "376ACE19B7C34901B325B96F50DC786D",
    "notebookId": "635e70a6109d8fab661535da",
    "jupyter": {},
    "tags": [],
    "slideshow": {
     "slide_type": "slide"
    },
    "trusted": true,
    "collapsed": false,
    "scrolled": false
   },
   "cell_type": "code",
   "outputs": [
    {
     "output_type": "stream",
     "name": "stdout",
     "text": "<xarray.Dataset>\nDimensions:              (lat_0: 181, lon_0: 360, lv_ISBL0: 31, lv_AMSL1: 3, lv_HTGL2: 3, lv_PVL3: 2, lv_HTGL4: 2, lv_SIGL5: 4, lv_ISBL6: 21, lv_HTGL7: 3, lv_ISBL8: 26, lv_SPDL9: 2, lv_ISBL10: 17, lv_DBLL11: 4)\nCoordinates:\n  * lv_ISBL10            (lv_ISBL10) float32 100.0 200.0 300.0 ... 3.5e+04 4e+04\n  * lv_ISBL8             (lv_ISBL8) float32 1e+03 2e+03 3e+03 ... 9.75e+04 1e+05\n  * lv_HTGL7             (lv_HTGL7) float32 10.0 80.0 100.0\n  * lv_ISBL6             (lv_ISBL6) float32 1e+04 1.5e+04 ... 9.75e+04 1e+05\n  * lv_HTGL4             (lv_HTGL4) float32 2.0 80.0\n  * lv_PVL3              (lv_PVL3) float32 -2e-06 2e-06\n  * lv_HTGL2             (lv_HTGL2) float32 2.0 80.0 100.0\n  * lv_AMSL1             (lv_AMSL1) float32 1.829e+03 2.743e+03 3.658e+03\n  * lv_ISBL0             (lv_ISBL0) float32 100.0 200.0 300.0 ... 9.75e+04 1e+05\n  * lat_0                (lat_0) float32 90.0 89.0 88.0 ... -88.0 -89.0 -90.0\n  * lon_0                (lon_0) float32 0.0 1.0 2.0 3.0 ... 357.0 358.0 359.0\nDimensions without coordinates: lv_SIGL5, lv_SPDL9, lv_DBLL11\nData variables: (12/98)\n    TMP_P0_L1_GLL0       (lat_0, lon_0) float32 ...\n    TMP_P0_L6_GLL0       (lat_0, lon_0) float32 ...\n    TMP_P0_L7_GLL0       (lat_0, lon_0) float32 ...\n    TMP_P0_L100_GLL0     (lv_ISBL0, lat_0, lon_0) float32 ...\n    TMP_P0_L102_GLL0     (lv_AMSL1, lat_0, lon_0) float32 ...\n    TMP_P0_L103_GLL0     (lv_HTGL2, lat_0, lon_0) float32 ...\n    ...                   ...\n    lv_DBLL11_l1         (lv_DBLL11) float32 ...\n    lv_DBLL11_l0         (lv_DBLL11) float32 ...\n    lv_SPDL9_l1          (lv_SPDL9) float32 ...\n    lv_SPDL9_l0          (lv_SPDL9) float32 ...\n    lv_SIGL5_l1          (lv_SIGL5) float32 ...\n    lv_SIGL5_l0          (lv_SIGL5) float32 ...\n<xarray.DataArray 'TMP_P0_L1_GLL0' (lat_0: 181, lon_0: 360)>\narray([[273.23535, 273.23535, 273.23535, ..., 273.23535, 273.23535, 273.23535],\n       [273.13535, 273.13535, 273.13535, ..., 273.13535, 273.13535, 273.13535],\n       [273.13535, 273.13535, 273.13535, ..., 273.03537, 273.03537, 273.13535],\n       ...,\n       [219.43535, 219.43535, 219.53535, ..., 219.83536, 219.73535, 219.53535],\n       [218.63536, 218.63536, 218.63536, ..., 218.63536, 218.63536, 218.73535],\n       [219.93535, 219.93535, 219.93535, ..., 219.93535, 219.93535, 219.93535]],\n      dtype=float32)\nCoordinates:\n  * lat_0    (lat_0) float32 90.0 89.0 88.0 87.0 ... -87.0 -88.0 -89.0 -90.0\n  * lon_0    (lon_0) float32 0.0 1.0 2.0 3.0 4.0 ... 356.0 357.0 358.0 359.0\nAttributes:\n    center:                                         US National Weather Servi...\n    production_status:                              Operational products\n    long_name:                                      Temperature\n    units:                                          K\n    grid_type:                                      Latitude/longitude\n    parameter_discipline_and_category:              Meteorological products, ...\n    parameter_template_discipline_category_number:  [0 0 0 0]\n    level_type:                                     Ground or water surface\n    level:                                          [0.]\n    forecast_time:                                  [0]\n    forecast_time_units:                            hours\n    initial_time:                                   06/01/2019 (18:00)\n"
    }
   ],
   "source": [
    "# 使用PyNIO读取GRIB文件\n",
    "import xarray as xr\n",
    "dataset = xr.open_dataset('/home/mw/input/pythonbook9857/fnl_201906011800.grib2', engine='pynio') # 将文件路径改为自己的\n",
    "print(dataset)\n",
    "data = dataset['TMP_P0_L1_GLL0']\n",
    "print(data)"
   ],
   "execution_count": 8
  },
  {
   "metadata": {
    "id": "C084314772814E6299FDD041279A1604",
    "notebookId": "635e70a6109d8fab661535da",
    "jupyter": {},
    "tags": [],
    "slideshow": {
     "slide_type": "slide"
    },
    "trusted": true,
    "mdEditEnable": false,
    "collapsed": false,
    "scrolled": false
   },
   "cell_type": "markdown",
   "source": [
    "### 6.4.2  使用cfgrib"
   ]
  },
  {
   "metadata": {
    "id": "FE23075714334789A953E81D14255A12",
    "notebookId": "635e70a6109d8fab661535da",
    "jupyter": {},
    "tags": [],
    "slideshow": {
     "slide_type": "slide"
    },
    "trusted": true,
    "collapsed": false,
    "scrolled": false
   },
   "cell_type": "code",
   "outputs": [
    {
     "output_type": "stream",
     "name": "stderr",
     "text": "skipping variable: paramId==260131 shortName='o3mr'\nTraceback (most recent call last):\n  File \"/opt/conda/lib/python3.7/site-packages/cfgrib/dataset.py\", line 660, in build_dataset_components\n    dict_merge(variables, coord_vars)\n  File \"/opt/conda/lib/python3.7/site-packages/cfgrib/dataset.py\", line 593, in dict_merge\n    \"key=%r value=%r new_value=%r\" % (key, master[key], value)\ncfgrib.dataset.DatasetBuildError: key present and new value is different: key='isobaricInhPa' value=Variable(dimensions=('isobaricInhPa',), data=array([1000.,  975.,  950.,  925.,  900.,  850.,  800.,  750.,  700.,\n        650.,  600.,  550.,  500.,  450.,  400.,  350.,  300.,  250.,\n        200.,  150.,  100.,   70.,   50.,   30.,   20.,   10.,    7.,\n          5.,    3.,    2.,    1.])) new_value=Variable(dimensions=('isobaricInhPa',), data=array([400., 350., 300., 250., 200., 150., 100.,  70.,  50.,  30.,  20.,\n        10.,   7.,   5.,   3.,   2.,   1.]))\nskipping variable: paramId==3041 shortName='absv'\nTraceback (most recent call last):\n  File \"/opt/conda/lib/python3.7/site-packages/cfgrib/dataset.py\", line 660, in build_dataset_components\n    dict_merge(variables, coord_vars)\n  File \"/opt/conda/lib/python3.7/site-packages/cfgrib/dataset.py\", line 593, in dict_merge\n    \"key=%r value=%r new_value=%r\" % (key, master[key], value)\ncfgrib.dataset.DatasetBuildError: key present and new value is different: key='isobaricInhPa' value=Variable(dimensions=('isobaricInhPa',), data=array([1000.,  975.,  950.,  925.,  900.,  850.,  800.,  750.,  700.,\n        650.,  600.,  550.,  500.,  450.,  400.,  350.,  300.,  250.,\n        200.,  150.,  100.,   70.,   50.,   30.,   20.,   10.,    7.,\n          5.,    3.,    2.,    1.])) new_value=Variable(dimensions=('isobaricInhPa',), data=array([1000.,  975.,  950.,  925.,  900.,  850.,  800.,  750.,  700.,\n        650.,  600.,  550.,  500.,  450.,  400.,  350.,  300.,  250.,\n        200.,  150.,  100.,   70.,   50.,   30.,   20.,   10.]))\nskipping variable: paramId==135 shortName='w'\nTraceback (most recent call last):\n  File \"/opt/conda/lib/python3.7/site-packages/cfgrib/dataset.py\", line 660, in build_dataset_components\n    dict_merge(variables, coord_vars)\n  File \"/opt/conda/lib/python3.7/site-packages/cfgrib/dataset.py\", line 593, in dict_merge\n    \"key=%r value=%r new_value=%r\" % (key, master[key], value)\ncfgrib.dataset.DatasetBuildError: key present and new value is different: key='isobaricInhPa' value=Variable(dimensions=('isobaricInhPa',), data=array([1000.,  975.,  950.,  925.,  900.,  850.,  800.,  750.,  700.,\n        650.,  600.,  550.,  500.,  450.,  400.,  350.,  300.,  250.,\n        200.,  150.,  100.,   70.,   50.,   30.,   20.,   10.,    7.,\n          5.,    3.,    2.,    1.])) new_value=Variable(dimensions=('isobaricInhPa',), data=array([1000.,  975.,  950.,  925.,  900.,  850.,  800.,  750.,  700.,\n        650.,  600.,  550.,  500.,  450.,  400.,  350.,  300.,  250.,\n        200.,  150.,  100.]))\nskipping variable: paramId==260018 shortName='clwmr'\nTraceback (most recent call last):\n  File \"/opt/conda/lib/python3.7/site-packages/cfgrib/dataset.py\", line 660, in build_dataset_components\n    dict_merge(variables, coord_vars)\n  File \"/opt/conda/lib/python3.7/site-packages/cfgrib/dataset.py\", line 593, in dict_merge\n    \"key=%r value=%r new_value=%r\" % (key, master[key], value)\ncfgrib.dataset.DatasetBuildError: key present and new value is different: key='isobaricInhPa' value=Variable(dimensions=('isobaricInhPa',), data=array([1000.,  975.,  950.,  925.,  900.,  850.,  800.,  750.,  700.,\n        650.,  600.,  550.,  500.,  450.,  400.,  350.,  300.,  250.,\n        200.,  150.,  100.,   70.,   50.,   30.,   20.,   10.,    7.,\n          5.,    3.,    2.,    1.])) new_value=Variable(dimensions=('isobaricInhPa',), data=array([1000.,  975.,  950.,  925.,  900.,  850.,  800.,  750.,  700.,\n        650.,  600.,  550.,  500.,  450.,  400.,  350.,  300.,  250.,\n        200.,  150.,  100.]))\nskipping variable: paramId==260080 shortName='5wavh'\nTraceback (most recent call last):\n  File \"/opt/conda/lib/python3.7/site-packages/cfgrib/dataset.py\", line 660, in build_dataset_components\n    dict_merge(variables, coord_vars)\n  File \"/opt/conda/lib/python3.7/site-packages/cfgrib/dataset.py\", line 593, in dict_merge\n    \"key=%r value=%r new_value=%r\" % (key, master[key], value)\ncfgrib.dataset.DatasetBuildError: key present and new value is different: key='isobaricInhPa' value=Variable(dimensions=('isobaricInhPa',), data=array([1000.,  975.,  950.,  925.,  900.,  850.,  800.,  750.,  700.,\n        650.,  600.,  550.,  500.,  450.,  400.,  350.,  300.,  250.,\n        200.,  150.,  100.,   70.,   50.,   30.,   20.,   10.,    7.,\n          5.,    3.,    2.,    1.])) new_value=Variable(dimensions=(), data=500.0)\n"
    },
    {
     "output_type": "stream",
     "name": "stdout",
     "text": "<xarray.Dataset>\nDimensions:        (isobaricInhPa: 31, latitude: 181, longitude: 360)\nCoordinates:\n    time           datetime64[ns] ...\n    step           timedelta64[ns] ...\n  * isobaricInhPa  (isobaricInhPa) float64 1e+03 975.0 950.0 ... 3.0 2.0 1.0\n  * latitude       (latitude) float64 90.0 89.0 88.0 87.0 ... -88.0 -89.0 -90.0\n  * longitude      (longitude) float64 0.0 1.0 2.0 3.0 ... 357.0 358.0 359.0\n    valid_time     datetime64[ns] ...\nData variables:\n    gh             (isobaricInhPa, latitude, longitude) float32 ...\n    t              (isobaricInhPa, latitude, longitude) float32 ...\n    r              (isobaricInhPa, latitude, longitude) float32 ...\n    u              (isobaricInhPa, latitude, longitude) float32 ...\n    v              (isobaricInhPa, latitude, longitude) float32 ...\nAttributes:\n    GRIB_edition:            2\n    GRIB_centre:             kwbc\n    GRIB_centreDescription:  US National Weather Service - NCEP \n    GRIB_subCentre:          0\n    Conventions:             CF-1.7\n    institution:             US National Weather Service - NCEP \n    history:                 2023-03-02T09:18 GRIB to CDM+CF via cfgrib-0.9.9...\n<xarray.DataArray 'u' (isobaricInhPa: 31, latitude: 181, longitude: 360)>\n[2019960 values with dtype=float32]\nCoordinates:\n    time           datetime64[ns] ...\n    step           timedelta64[ns] ...\n  * isobaricInhPa  (isobaricInhPa) float64 1e+03 975.0 950.0 ... 3.0 2.0 1.0\n  * latitude       (latitude) float64 90.0 89.0 88.0 87.0 ... -88.0 -89.0 -90.0\n  * longitude      (longitude) float64 0.0 1.0 2.0 3.0 ... 357.0 358.0 359.0\n    valid_time     datetime64[ns] ...\nAttributes: (12/29)\n    GRIB_paramId:                             131\n    GRIB_dataType:                            fc\n    GRIB_numberOfPoints:                      65160\n    GRIB_typeOfLevel:                         isobaricInhPa\n    GRIB_stepUnits:                           1\n    GRIB_stepType:                            instant\n    ...                                       ...\n    GRIB_name:                                U component of wind\n    GRIB_shortName:                           u\n    GRIB_units:                               m s**-1\n    long_name:                                U component of wind\n    units:                                    m s**-1\n    standard_name:                            eastward_wind\n"
    }
   ],
   "source": [
    "# 6.4.2  使用cfgrib读取GRIB文件\n",
    "import xarray as xr\n",
    "# 将文件路径改为自己的\n",
    "dataset = xr.open_dataset('/home/mw/input/pythonbook9857/fnl_201906011800.grib2', \n",
    "                      engine='cfgrib',\n",
    "                      backend_kwargs={\n",
    "                         'filter_by_keys': {\n",
    "                            'typeOfLevel': 'isobaricInhPa'\n",
    "                         }\n",
    "                      }\n",
    "                     )\n",
    "print(dataset)\n",
    "print(dataset['u'])"
   ],
   "execution_count": 9
  },
  {
   "metadata": {
    "id": "BDB876FA0F83448F921E04780B4CE570",
    "notebookId": "635e70a6109d8fab661535da",
    "jupyter": {},
    "tags": [],
    "slideshow": {
     "slide_type": "slide"
    },
    "trusted": true,
    "mdEditEnable": false,
    "collapsed": false,
    "scrolled": false
   },
   "cell_type": "markdown",
   "source": [
    "## 6.5  GrADS二进制文件"
   ]
  },
  {
   "metadata": {
    "id": "CFF839C4EDB1435FA2E5B1A20609BA93",
    "notebookId": "635e70a6109d8fab661535da",
    "jupyter": {},
    "tags": [],
    "slideshow": {
     "slide_type": "slide"
    },
    "trusted": true,
    "mdEditEnable": false,
    "collapsed": false,
    "scrolled": false
   },
   "cell_type": "markdown",
   "source": [
    "### 6.5.1  站点数据"
   ]
  },
  {
   "metadata": {
    "id": "B12E56D29A3B44E59A28B2858EAD7BCA",
    "notebookId": "635e70a6109d8fab661535da",
    "jupyter": {},
    "tags": [],
    "slideshow": {
     "slide_type": "slide"
    },
    "trusted": true,
    "collapsed": false,
    "scrolled": false
   },
   "cell_type": "code",
   "outputs": [
    {
     "output_type": "stream",
     "name": "stdout",
     "text": "[                sta        lat         lon  time  nlev  nflag       var\n0    b'\\x01       '  51.720001  126.650002   0.0     1      1  0.098331\n1    b'\\x02       '  48.770000  121.919998   0.0     1      1 -0.167619\n2    b'\\x03       '  49.220001  119.750000   0.0     1      1 -0.064597\n3    b'\\x04       '  50.450001  121.699997   0.0     1      1 -0.046360\n4    b'\\x05       '  49.169998  125.230003   0.0     1      1  0.017577\n..              ...        ...         ...   ...   ...    ...       ...\n155  b'\\x9c       '  47.730000   88.080002   0.0     1      1 -0.036620\n156  b'\\x9d       '  46.730000   83.000000   0.0     1      1  0.071207\n157  b'\\x9e       '  44.430000   84.660004   0.0     1      1 -0.205051\n158  b'\\x9f       '  43.950001   81.330002   0.0     1      1  0.170275\n159  b'\\xa0       '  43.779999   87.620003   0.0     1      1 -0.103539\n\n[160 rows x 7 columns]]\n<class 'list'>\n"
    }
   ],
   "source": [
    "# 定义如下读取函数\n",
    "import numpy as np\n",
    "import pandas as pd\n",
    "def grads_sta(path_file, n_sta, n_time):\n",
    "    dt = np.dtype([('sta', 'S8'), ('lat', 'f4'), ('lon', 'f4'), \n",
    "                   ('time', 'f4'), ('nlev', 'i4'), ('nflag', 'i4'),\n",
    "                   ('var', 'f4')])\n",
    "    df_group = []\n",
    "    with open(path_file, 'rb') as fid:\n",
    "         for t in range(n_time):\n",
    "               data_raw = np.frombuffer(fid.read(n_sta * 32), dtype=dt)\n",
    "               fid.read(28)\n",
    "               df = pd.DataFrame(data_raw)         \n",
    "               try:\n",
    "                   df['sta'] = [x.decode() for x in df['sta']]\n",
    "               except:\n",
    "                   pass\n",
    "               df_group.append(df)\n",
    "    return df_group\n",
    "# 读取示例文件，可参考.ctl描述文件\n",
    "dat = grads_sta('/home/mw/input/pythonbook9857/r160.grd', 160, 1) # 将文件路径改为自己的\n",
    "print(dat)\n",
    "print(type(dat))"
   ],
   "execution_count": 10
  },
  {
   "metadata": {
    "id": "BB61C72A6167446C83450DA285894414",
    "notebookId": "635e70a6109d8fab661535da",
    "jupyter": {},
    "tags": [],
    "slideshow": {
     "slide_type": "slide"
    },
    "trusted": true,
    "mdEditEnable": false,
    "collapsed": false,
    "scrolled": false
   },
   "cell_type": "markdown",
   "source": [
    "### 6.5.2  栅格数据"
   ]
  },
  {
   "metadata": {
    "id": "4BE915BECDE04B838C1C4AB7FF633C69",
    "notebookId": "635e70a6109d8fab661535da",
    "jupyter": {},
    "tags": [],
    "slideshow": {
     "slide_type": "slide"
    },
    "trusted": true,
    "collapsed": false,
    "scrolled": false
   },
   "cell_type": "code",
   "outputs": [
    {
     "output_type": "stream",
     "name": "stdout",
     "text": "<xarray.Dataset>\nDimensions:  (time: 732, level: 1, lat: 73, lon: 144)\nCoordinates:\n  * time     (time) datetime64[ns] 1948-01-31 1948-02-29 ... 2008-12-31\n  * level    (level) int64 500\n  * lat      (lat) float64 -90.0 -87.5 -85.0 -82.5 -80.0 ... 82.5 85.0 87.5 90.0\n  * lon      (lon) float64 0.0 2.5 5.0 7.5 10.0 ... 350.0 352.5 355.0 357.5\nData variables:\n    hgt      (time, level, lat, lon) float32 5.189e+03 5.189e+03 ... 5.075e+03\n"
    }
   ],
   "source": [
    "# 定义如下读取函数\n",
    "import numpy as np\n",
    "import xarray as xr\n",
    "import pandas as pd\n",
    "def grads_grid(path_file, nx, ny, nt,\n",
    "             lon_0, lon_step, lat_0, lat_step,\n",
    "             t_0, t_freq, var_list, z_list):\n",
    "   data_raw = np.fromfile(path_file, dtype=np.float32)\n",
    "   n_var = len(var_list)\n",
    "   nz = len(z_list)\n",
    "   data_raw = data_raw.reshape((nt, n_var, nz, ny, nx))\n",
    "   time_list = pd.date_range(t_0, periods=nt, freq=t_freq)\n",
    "   lon = np.arange(lon_0, lon_0 + lon_step * nx, lon_step)\n",
    "   lat = np.arange(lat_0, lat_0 + lat_step * ny, lat_step)\n",
    "   data = xr.DataArray(data_raw,\n",
    "                    coords=[time_list, var_list, z_list, lat, lon],\n",
    "                    dims=['time', 'var', 'level', 'lat', 'lon']\n",
    "                   ).to_dataset('var')\n",
    "   return data\n",
    "# 读取示例文件，可参考.ctl描述文件\n",
    "dataset = grads_grid('/home/mw/input/pythonbook9857/hgt500.grd',\n",
    "                  nx=144, ny=73, nt=732,\n",
    "                  lon_0=0, lon_step=2.5, lat_0=-90, lat_step=2.5,\n",
    "                  t_0='1948-01-01', t_freq='1M', var_list=['hgt'],\n",
    "                  z_list=[500])\n",
    "print(dataset)"
   ],
   "execution_count": 11
  },
  {
   "metadata": {
    "id": "896C6AAC1B4F48DC8A1F6FA4D967B501",
    "notebookId": "635e70a6109d8fab661535da",
    "jupyter": {},
    "tags": [],
    "slideshow": {
     "slide_type": "slide"
    },
    "trusted": true,
    "mdEditEnable": false,
    "collapsed": false,
    "scrolled": false
   },
   "cell_type": "markdown",
   "source": [
    "## 6.6  WRF-ARW输出文件"
   ]
  },
  {
   "metadata": {
    "id": "FAEAC1C8E1744D8A80662A5891877388",
    "notebookId": "635e70a6109d8fab661535da",
    "jupyter": {},
    "tags": [],
    "slideshow": {
     "slide_type": "slide"
    },
    "trusted": true,
    "collapsed": false,
    "scrolled": false
   },
   "cell_type": "code",
   "outputs": [
    {
     "output_type": "stream",
     "name": "stdout",
     "text": "<xarray.DataArray 'rh' (Time: 5, bottom_top: 29, south_north: 49, west_east: 79)>\narray([[[[87.765434 , 85.98064  , 84.91124  , ..., 81.3592   ,\n          79.81483  , 81.41704  ],\n         [87.995636 , 86.22767  , 85.25411  , ..., 83.49108  ,\n          81.253586 , 81.55239  ],\n         [88.70185  , 87.21322  , 86.30212  , ..., 84.36489  ,\n          83.808624 , 83.382866 ],\n         ...,\n         [43.890274 , 45.305763 , 46.74152  , ..., 79.794525 ,\n          79.27631  , 78.8375   ],\n         [39.819405 , 41.26361  , 42.63604  , ..., 79.73092  ,\n          79.23843  , 78.76903  ],\n         [37.56467  , 38.025745 , 39.262104 , ..., 79.73279  ,\n          79.23924  , 78.71969  ]],\n\n        [[89.051445 , 86.849625 , 85.17071  , ..., 79.81156  ,\n          78.14068  , 79.16232  ],\n         [89.22471  , 87.07232  , 85.47679  , ..., 81.908    ,\n          80.53091  , 80.28641  ],\n         [89.795204 , 87.968445 , 86.57346  , ..., 83.796936 ,\n          82.867424 , 82.598114 ],\n...\n         [ 4.049299 ,  4.0986323,  4.12636  , ...,  6.4341807,\n           6.5087857,  6.608485 ],\n         [ 3.9992058,  4.052754 ,  4.0801926, ...,  6.392681 ,\n           6.4727077,  6.563373 ],\n         [ 3.947622 ,  3.9738657,  4.002276 , ...,  6.363432 ,\n           6.4367847,  6.513951 ]],\n\n        [[ 4.21838  ,  4.2060227,  4.201893 , ...,  5.0465074,\n           5.0882134,  5.14203  ],\n         [ 4.2712355,  4.2646527,  4.2615657, ...,  5.06661  ,\n           5.1020627,  5.126723 ],\n         [ 4.3191833,  4.324505 ,  4.3139987, ...,  5.089982 ,\n           5.105507 ,  5.109809 ],\n         ...,\n         [ 3.166993 ,  3.1939094,  3.2173321, ...,  4.870332 ,\n           4.891847 ,  4.9187264],\n         [ 3.1322336,  3.1641045,  3.1914012, ...,  4.8407125,\n           4.8697286,  4.8977094],\n         [ 3.100257 ,  3.123251 ,  3.1545112, ...,  4.8102155,\n           4.8391423,  4.8720045]]]], dtype=float32)\nCoordinates:\n    XLONG    (south_north, west_east) float32 113.2 113.3 113.4 ... 121.3 121.4\n    XLAT     (south_north, west_east) float32 29.68 29.68 29.68 ... 33.99 33.99\n    XTIME    (Time) float32 0.0 180.0 360.0 540.0 720.0\n  * Time     (Time) datetime64[ns] 2017-08-10 ... 2017-08-10T12:00:00\nDimensions without coordinates: bottom_top, south_north, west_east\nAttributes:\n    FieldType:    104\n    MemoryOrder:  XYZ\n    description:  relative humidity\n    units:        %\n    stagger:      \n    coordinates:  XLONG XLAT XTIME\n    projection:   LambertConformal(stand_lon=117.19999694824219, moad_cen_lat...\n<xarray.DataArray 'rh_interp' (Time: 5, level: 3, south_north: 49, west_east: 79)>\narray([[[[ 49.581455 ,  49.90141  ,  49.964336 , ...,  93.02744  ,\n           92.50517  ,  91.436905 ],\n         [ 49.854908 ,  50.216183 ,  50.33729  , ...,  94.29466  ,\n           93.958336 ,  92.881165 ],\n         [ 50.29943  ,  50.652588 ,  50.81059  , ...,  94.8869   ,\n           94.64059  ,  94.331085 ],\n         ...,\n         [ 43.85136  ,  44.185024 ,  44.534695 , ...,  65.72999  ,\n           66.07933  ,  66.988106 ],\n         [ 43.501328 ,  43.93895  ,  44.335472 , ...,  66.38105  ,\n           66.68885  ,  67.59361  ],\n         [ 43.071743 ,  43.59577  ,  44.11645  , ...,  67.04757  ,\n           67.32303  ,  68.26489  ]],\n\n        [[ 59.510532 ,  58.794968 ,  58.20066  , ...,  88.38223  ,\n           89.8404   ,  90.4845   ],\n         [ 60.2473   ,  59.721775 ,  59.27535  , ...,  88.13034  ,\n           89.4728   ,  90.00002  ],\n         [ 60.890114 ,  60.67282  ,  60.48124  , ...,  87.15515  ,\n           88.844986 ,  89.848656 ],\n...\n         [ 32.703304 ,  32.478714 ,  32.44395  , ...,  50.050068 ,\n           50.41752  ,  50.632175 ],\n         [ 33.32784  ,  33.011208 ,  32.852413 , ...,  48.91975  ,\n           49.255787 ,  49.405983 ],\n         [ 34.13029  ,  33.958523 ,  33.643333 , ...,  47.629578 ,\n           47.947124 ,  48.399437 ]],\n\n        [[ 24.025608 ,  23.000294 ,  21.980774 , ...,  16.391787 ,\n           17.90786  ,  19.738607 ],\n         [ 20.825268 ,  20.007761 ,  19.12427  , ...,  12.906076 ,\n           14.448949 ,  16.162752 ],\n         [ 18.05197  ,  17.35045  ,  16.605772 , ...,  12.18835  ,\n           12.27763  ,  14.094156 ],\n         ...,\n         [  4.564085 ,   4.439832 ,   4.360229 , ...,  18.472599 ,\n           19.609535 ,  19.641474 ],\n         [  4.6399007,   4.5138626,   4.4195275, ...,  18.654158 ,\n           19.900602 ,  20.3621   ],\n         [  4.7261467,   4.597047 ,   4.4673424, ...,  18.454733 ,\n           19.761063 ,  20.774572 ]]]], dtype=float32)\nCoordinates:\n    XLONG    (south_north, west_east) float32 113.2 113.3 113.4 ... 121.3 121.4\n    XLAT     (south_north, west_east) float32 29.68 29.68 29.68 ... 33.99 33.99\n    XTIME    (Time) float32 0.0 180.0 360.0 540.0 720.0\n  * Time     (Time) datetime64[ns] 2017-08-10 ... 2017-08-10T12:00:00\n  * level    (level) int64 850 700 500\nDimensions without coordinates: south_north, west_east\nAttributes:\n    FieldType:      104\n    units:          %\n    stagger:        \n    coordinates:    XLONG XLAT XTIME\n    projection:     LambertConformal(stand_lon=117.19999694824219, moad_cen_l...\n    missing_value:  9.969209968386869e+36\n    _FillValue:     9.969209968386869e+36\n    vert_units:     hPa\n"
    }
   ],
   "source": [
    "# 读取WRF-ARW输出文件\n",
    "import xarray as xr\n",
    "import wrf\n",
    "from netCDF4 import Dataset\n",
    "# 将文件路径改为自己的\n",
    "ncfile = Dataset('/home/mw/input/pythonbook9857/wrfout_d01_2017-08-10_000000.nc')\n",
    "p = wrf.getvar(ncfile,  'pressure', timeidx=wrf.ALL_TIMES)   # 对于getvar()函数，可以指定timeidx参数的值为整数以选择提取时次，例如timeidx=0\n",
    "rh = wrf.getvar(ncfile,  'rh', timeidx=wrf.ALL_TIMES) # timeidx=wrf.ALL_TIMES表明提取全部时次\n",
    "print(rh)\n",
    "# 将数据插值到等压面\n",
    "rh_500 = wrf.interplevel(rh, p, 500) # interplevel()函数支持同时插值到多个等压面\n",
    "rh_850_to_500 = wrf.interplevel(rh, p, [850, 700, 500])\n",
    "print(rh_850_to_500)"
   ],
   "execution_count": 12
  },
  {
   "metadata": {
    "id": "47BA830BA4E1441B8C99A3196B253516",
    "notebookId": "635e70a6109d8fab661535da",
    "jupyter": {},
    "tags": [],
    "slideshow": {
     "slide_type": "slide"
    },
    "trusted": true,
    "mdEditEnable": false,
    "collapsed": false,
    "scrolled": false
   },
   "cell_type": "markdown",
   "source": [
    "## 6.7  雷达基数据文件"
   ]
  },
  {
   "metadata": {
    "id": "E706BDB7D4B3499D80476C56D47C5D5B",
    "notebookId": "635e70a6109d8fab661535da",
    "jupyter": {},
    "tags": [],
    "slideshow": {
     "slide_type": "slide"
    },
    "trusted": true,
    "collapsed": false,
    "scrolled": false
   },
   "cell_type": "code",
   "outputs": [
    {
     "output_type": "stream",
     "name": "stdout",
     "text": "['REF', 'VEL', 'SW', 'azimuth', 'RF']\n<xarray.Dataset>\nDimensions:    (azimuth: 366, distance: 230)\nCoordinates:\n  * azimuth    (azimuth) float64 1.38 1.397 1.415 1.432 ... 1.349 1.366 1.383\n  * distance   (distance) float64 1.0 2.0 3.0 4.0 ... 227.0 228.0 229.0 230.0\nData variables:\n    REF        (azimuth, distance) float64 nan -8.5 2.0 2.0 ... nan nan nan nan\n    longitude  (azimuth, distance) float64 117.3 117.3 117.3 ... 119.7 119.7\n    latitude   (azimuth, distance) float64 31.87 31.87 31.87 ... 32.25 32.25\n    height     (azimuth, distance) float64 0.1764 0.1873 0.1983 ... 5.709 5.747\nAttributes:\n    elevation:        0.615234375\n    range:            230\n    scan_time:        2020-07-08 03:23:11.811000\n    site_code:        Z9551\n    site_name:        合肥\n    site_longitude:   117.25777777777778\n    site_latitude:    31.866944444444446\n    tangential_reso:  1.0\n    nyquist_vel:      8.52\n    task:             VCP21\n"
    }
   ],
   "source": [
    "import cinrad\n",
    "f = cinrad.io.CinradReader('/home/mw/input/pythonbook9857/RADA_CHN_DOR_L2_O-Z9551-SA-CAP-20200708032300.bin.bz2')\n",
    "print(f.available_product(0))\n",
    "# 读取反射率\n",
    "tilt_number = 0\n",
    "data_radius = 230\n",
    "r = f.get_data(tilt_number, data_radius, 'REF')\n",
    "print(r)"
   ],
   "execution_count": 13
  },
  {
   "metadata": {
    "id": "74F137CEDDAA4750A7DB894B6A92BEC0",
    "notebookId": "635e70a6109d8fab661535da",
    "jupyter": {},
    "tags": [],
    "slideshow": {
     "slide_type": "slide"
    },
    "trusted": true,
    "collapsed": false,
    "scrolled": false,
    "mdEditEnable": false
   },
   "cell_type": "markdown",
   "source": [
    "## 6.8  CIMISS的使用"
   ]
  },
  {
   "cell_type": "code",
   "source": [
    "import cimiss\n",
    "import numpy as np\n",
    "# host 不带http前缀，通常为zero-ice服务的纯IP地址\n",
    "client = cimiss.Query(user_id='myuserid', password='mypasswd', host='myhost')  # 请修改为你的账号、密码、IP地址\n",
    "resp_array_2d = client.array_2d(\n",
    "   interface_id=\"getSurfEleByTime\",\n",
    "   params={\n",
    "      \"dataCode\": \"SURF_CHN_MUL_HOR\",\n",
    "      \"elements\": \"Station_ID_C,PRE_1h,PRS\",\n",
    "      \"times\": \"20181224000000\",\n",
    "      \"orderby\": \"Station_ID_C:ASC\",\n",
    "      \"limitCnt\": \"3\",\n",
    "   },\n",
    "   dtypes={'PRE_1h': np.float, 'PRS': np.float}\n",
    ")\n",
    "print(resp_array_2d)"
   ],
   "metadata": {
    "id": "FE50395400D24CED8F9C9F6DE3917AA5",
    "notebookId": "635e70a6109d8fab661535da",
    "jupyter": {},
    "collapsed": false,
    "scrolled": false,
    "tags": [],
    "slideshow": {
     "slide_type": "slide"
    },
    "trusted": true
   },
   "outputs": [],
   "execution_count": null
  }
 ],
 "metadata": {
  "kernelspec": {
   "language": "python",
   "display_name": "Python 3",
   "name": "python3"
  },
  "language_info": {
   "codemirror_mode": {
    "name": "ipython",
    "version": 3
   },
   "name": "python",
   "mimetype": "text/x-python",
   "nbconvert_exporter": "python",
   "file_extension": ".py",
   "version": "3.5.2",
   "pygments_lexer": "ipython3"
  }
 },
 "nbformat": 4,
 "nbformat_minor": 0
}
