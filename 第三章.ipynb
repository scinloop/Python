{
 "cells": [
  {
   "cell_type": "markdown",
   "metadata": {
    "id": "D89B0EAB542642F98900CCC4D4E49360",
    "jupyter": {},
    "mdEditEnable": false,
    "notebookId": "635e2482818aeba64f1325e0",
    "scrolled": false,
    "slideshow": {
     "slide_type": "slide"
    },
    "tags": []
   },
   "source": [
    "# 第3章 NumPy：Python数值计算之源\n",
    "\n"
   ]
  },
  {
   "cell_type": "markdown",
   "metadata": {
    "id": "7321D7EE4C5242B68E00BB6CE29BD0F8",
    "jupyter": {},
    "mdEditEnable": false,
    "notebookId": "635e2482818aeba64f1325e0",
    "scrolled": false,
    "slideshow": {
     "slide_type": "slide"
    },
    "tags": []
   },
   "source": [
    "## 3.3  多维数组的特征"
   ]
  },
  {
   "cell_type": "markdown",
   "metadata": {
    "id": "810CF482643D4985AFA558B9F60AF78D",
    "jupyter": {},
    "mdEditEnable": false,
    "notebookId": "635e2482818aeba64f1325e0",
    "scrolled": false,
    "slideshow": {
     "slide_type": "slide"
    },
    "tags": []
   },
   "source": [
    "### 3.3.2 轴与维度"
   ]
  },
  {
   "cell_type": "code",
   "execution_count": 1,
   "metadata": {
    "id": "4FC61B519BE24DD590C9913A15FBDA95",
    "jupyter": {},
    "notebookId": "635e2482818aeba64f1325e0",
    "scrolled": false,
    "slideshow": {
     "slide_type": "slide"
    },
    "tags": [],
    "ExecuteTime": {
     "start_time": "2024-06-29T18:37:58.975655Z",
     "end_time": "2024-06-29T18:37:59.099823Z"
    }
   },
   "outputs": [
    {
     "name": "stdout",
     "output_type": "stream",
     "text": [
      "\n",
      "---向量---\n",
      "\n",
      "[1 2 3]\n",
      "\n",
      "---矩阵---\n",
      "\n",
      "[[1 2 3]\n",
      " [4 5 6]]\n",
      "\n",
      "---张量---\n",
      "\n",
      "[[[1 2 3]\n",
      "  [4 5 6]]\n",
      "\n",
      " [[1 2 3]\n",
      "  [4 5 6]]]\n"
     ]
    }
   ],
   "source": [
    "#一维至三维数组的创建\n",
    "import numpy as np\n",
    "vector = np.array([1, 2, 3])\n",
    "matrix = np.array([[1, 2, 3], [4, 5, 6]])\n",
    "tensor = np.array([[[1, 2, 3], [4, 5, 6]], [[1, 2, 3], [4, 5, 6]]])\n",
    "print('\\n---向量---\\n')\n",
    "print(vector) # 向量\n",
    "print('\\n---矩阵---\\n')\n",
    "print(matrix) # 矩阵\n",
    "print('\\n---张量---\\n')\n",
    "print(tensor) # 张量"
   ]
  },
  {
   "cell_type": "code",
   "execution_count": 2,
   "metadata": {
    "id": "16BEDEF83DF24B65ABB0E52615CECDCB",
    "jupyter": {},
    "notebookId": "635e2482818aeba64f1325e0",
    "scrolled": false,
    "slideshow": {
     "slide_type": "slide"
    },
    "tags": []
   },
   "outputs": [
    {
     "name": "stdout",
     "output_type": "stream",
     "text": [
      "3\n",
      "(2, 3)\n",
      "6\n"
     ]
    }
   ],
   "source": [
    "# 查看数组的相关维度属性\n",
    "print(tensor.ndim)\n",
    "print(matrix.shape)\n",
    "print(matrix.size)"
   ]
  },
  {
   "cell_type": "markdown",
   "metadata": {
    "id": "D672A6DA22044421924584DCEFE45A4F",
    "jupyter": {},
    "mdEditEnable": false,
    "notebookId": "635e2482818aeba64f1325e0",
    "scrolled": false,
    "slideshow": {
     "slide_type": "slide"
    },
    "tags": []
   },
   "source": [
    "## 3.4  创建N维数组 "
   ]
  },
  {
   "cell_type": "markdown",
   "metadata": {
    "id": "4677FBAEADE84E358AC0A438915C7ACF",
    "jupyter": {},
    "mdEditEnable": false,
    "notebookId": "635e2482818aeba64f1325e0",
    "scrolled": false,
    "slideshow": {
     "slide_type": "slide"
    },
    "tags": []
   },
   "source": [
    "### 3.4.1  np.array()——直接创建"
   ]
  },
  {
   "cell_type": "code",
   "execution_count": 3,
   "metadata": {
    "id": "6EF9069E52BF436FBDD20DC019D5230A",
    "jupyter": {},
    "notebookId": "635e2482818aeba64f1325e0",
    "scrolled": false,
    "slideshow": {
     "slide_type": "slide"
    },
    "tags": []
   },
   "outputs": [
    {
     "name": "stdout",
     "output_type": "stream",
     "text": [
      "[1 2 3]\n",
      "int32\n",
      "[1. 2. 3.]\n",
      "float64\n"
     ]
    }
   ],
   "source": [
    "# 使用np.array()创建数组\n",
    "import numpy as np\n",
    "\n",
    "a = np.array([1, 2, 3])\n",
    "b = np.array([1, 2, 3], dtype=np.float_)\n",
    "\n",
    "print(a)\n",
    "print(a.dtype)\n",
    "print(b)\n",
    "print(b.dtype)"
   ]
  },
  {
   "cell_type": "markdown",
   "metadata": {
    "id": "86C83D5F68E74C15A55C2E0265BE50A2",
    "jupyter": {},
    "mdEditEnable": false,
    "notebookId": "635e2482818aeba64f1325e0",
    "scrolled": false,
    "slideshow": {
     "slide_type": "slide"
    },
    "tags": []
   },
   "source": [
    "### 3.4.2  np.zeros()——根据shape参数创建数组"
   ]
  },
  {
   "cell_type": "code",
   "execution_count": 4,
   "metadata": {
    "id": "ABF04B9327EB491E9F91566B9D44C587",
    "jupyter": {},
    "notebookId": "635e2482818aeba64f1325e0",
    "scrolled": false,
    "slideshow": {
     "slide_type": "slide"
    },
    "tags": []
   },
   "outputs": [
    {
     "name": "stdout",
     "output_type": "stream",
     "text": [
      "[[0. 0. 0.]\n",
      " [0. 0. 0.]]\n",
      "float64\n",
      "[[0 0 0]\n",
      " [0 0 0]]\n",
      "int32\n"
     ]
    }
   ],
   "source": [
    "# 使用np.zeros()创建数组\n",
    "import numpy as np\n",
    "a = np.zeros((2, 3))\n",
    "b = np.zeros((2, 3), dtype=np.int_)\n",
    "print(a)\n",
    "print(a.dtype)\n",
    "print(b)\n",
    "print(b.dtype)"
   ]
  },
  {
   "cell_type": "markdown",
   "metadata": {
    "id": "6EA24C394D314EDB8CEED23968AF712C",
    "jupyter": {},
    "mdEditEnable": false,
    "notebookId": "635e2482818aeba64f1325e0",
    "scrolled": false,
    "slideshow": {
     "slide_type": "slide"
    },
    "tags": []
   },
   "source": [
    "### 3.4.3 np.arange()——根据起点、终点和步长创建"
   ]
  },
  {
   "cell_type": "code",
   "execution_count": 5,
   "metadata": {
    "id": "E96966AA9A444E188A7650715C531657",
    "jupyter": {},
    "mdEditEnable": false,
    "notebookId": "635e2482818aeba64f1325e0",
    "scrolled": false,
    "slideshow": {
     "slide_type": "slide"
    },
    "tags": []
   },
   "outputs": [
    {
     "name": "stdout",
     "output_type": "stream",
     "text": [
      "[0 1 2 3 4]\n",
      "int32\n",
      "[3 4]\n",
      "int32\n",
      "[3.  3.5 4.  4.5]\n",
      "float64\n",
      "[3.  3.5 4.  4.5]\n",
      "float32\n"
     ]
    }
   ],
   "source": [
    "# 使用np.arange()创建数组\n",
    "import numpy as np\n",
    "a = np.arange(5)\n",
    "b = np.arange(3, 5)\n",
    "c = np.arange(3, 5, 0.5)\n",
    "d = np.arange(3, 5, 0.5, dtype=np.float32)\n",
    "print(a)\n",
    "print(a.dtype)\n",
    "print(b)\n",
    "print(b.dtype)\n",
    "print(c)\n",
    "print(c.dtype)\n",
    "print(d)\n",
    "print(d.dtype)"
   ]
  },
  {
   "cell_type": "markdown",
   "metadata": {
    "id": "1FE9A4A201DA4094AD34EA7AF8D8FB8E",
    "jupyter": {},
    "mdEditEnable": false,
    "notebookId": "635e2482818aeba64f1325e0",
    "scrolled": false,
    "slideshow": {
     "slide_type": "slide"
    },
    "tags": []
   },
   "source": [
    "### 3.4.4  np.linspace()——根据起点、终点和元素数量创建"
   ]
  },
  {
   "cell_type": "code",
   "execution_count": 2,
   "metadata": {
    "id": "B794E952216E447B8927E40F361EEDD6",
    "jupyter": {},
    "notebookId": "635e2482818aeba64f1325e0",
    "scrolled": false,
    "slideshow": {
     "slide_type": "slide"
    },
    "tags": [],
    "ExecuteTime": {
     "start_time": "2024-06-29T20:24:56.923690Z",
     "end_time": "2024-06-29T20:24:56.944343Z"
    }
   },
   "outputs": [
    {
     "name": "stdout",
     "output_type": "stream",
     "text": [
      "[3.         3.66666667 4.33333333 5.        ]\n",
      "float64\n",
      "[3.        3.6666667 4.3333335 5.       ]\n",
      "float32\n"
     ]
    }
   ],
   "source": [
    "# 使用np.linspace()创建数组\n",
    "import numpy as np\n",
    "a = np.linspace(3, 5, 4)\n",
    "b = np.linspace(3, 5, 4, dtype=np.float32)\n",
    "print(a)\n",
    "print(a.dtype)\n",
    "print(b)\n",
    "print(b.dtype)"
   ]
  },
  {
   "cell_type": "markdown",
   "metadata": {
    "id": "1157920023E0423EAA3AC5CC1B4EDC26",
    "jupyter": {},
    "mdEditEnable": false,
    "notebookId": "635e2482818aeba64f1325e0",
    "scrolled": false,
    "slideshow": {
     "slide_type": "slide"
    },
    "tags": []
   },
   "source": [
    "### 3.4.5  np.random.randn()——生成符合标准正态分布的随机N维数组"
   ]
  },
  {
   "cell_type": "code",
   "execution_count": 7,
   "metadata": {
    "id": "C92205413D66478E8D0289D685127FEF",
    "jupyter": {},
    "notebookId": "635e2482818aeba64f1325e0",
    "scrolled": false,
    "slideshow": {
     "slide_type": "slide"
    },
    "tags": []
   },
   "outputs": [
    {
     "name": "stdout",
     "output_type": "stream",
     "text": [
      "[[ 0.70040766  0.7138872   1.66986757]\n",
      " [ 1.42028936 -0.24558459 -0.05336704]\n",
      " [ 0.19055098  0.74319883 -0.02324528]]\n"
     ]
    }
   ],
   "source": [
    "# 使用np.random.randn()创建数组\n",
    "import numpy as np\n",
    "a = np.random.randn(3, 3)\n",
    "print(a)"
   ]
  },
  {
   "cell_type": "markdown",
   "metadata": {
    "id": "D7342D7BB9BB434FB57B4740445E83A6",
    "jupyter": {},
    "mdEditEnable": false,
    "notebookId": "635e2482818aeba64f1325e0",
    "scrolled": false,
    "slideshow": {
     "slide_type": "slide"
    },
    "tags": []
   },
   "source": [
    "## 3.5 数组间运算和广播运算"
   ]
  },
  {
   "cell_type": "code",
   "execution_count": 8,
   "metadata": {
    "id": "53E76F65F27648FD8FEAE85EA097ED70",
    "jupyter": {},
    "notebookId": "635e2482818aeba64f1325e0",
    "scrolled": false,
    "slideshow": {
     "slide_type": "slide"
    },
    "tags": []
   },
   "outputs": [
    {
     "name": "stdout",
     "output_type": "stream",
     "text": [
      "[3 6 9]\n",
      "[-1 -2 -3]\n",
      "[ 2  8 18]\n",
      "[0.5 0.5 0.5]\n"
     ]
    }
   ],
   "source": [
    "#形状相同的数组之间的计算\n",
    "import numpy as np\n",
    "a = np.array([1, 2, 3])\n",
    "b = np.array([2, 4, 6])\n",
    "print(a + b)\n",
    "print(a - b)\n",
    "print(a * b)\n",
    "print(a / b)"
   ]
  },
  {
   "cell_type": "code",
   "execution_count": 9,
   "metadata": {
    "id": "3686C58784E644269D0CC0B33CFF077A",
    "jupyter": {},
    "notebookId": "635e2482818aeba64f1325e0",
    "scrolled": false,
    "slideshow": {
     "slide_type": "slide"
    },
    "tags": []
   },
   "outputs": [
    {
     "name": "stdout",
     "output_type": "stream",
     "text": [
      "[3 4 5]\n",
      "[-1  0  1]\n",
      "[2 4 6]\n",
      "[0.5 1.  1.5]\n"
     ]
    }
   ],
   "source": [
    "#对于N维数组和标量的广播运算\n",
    "import numpy as np\n",
    "a = np.array([1, 2, 3])\n",
    "print(a + 2)\n",
    "print(a - 2)\n",
    "print(a * 2)\n",
    "print(a / 2)"
   ]
  },
  {
   "cell_type": "code",
   "execution_count": 10,
   "metadata": {
    "id": "1CE817A4ACD343869580D7B0984E8081",
    "jupyter": {},
    "notebookId": "635e2482818aeba64f1325e0",
    "scrolled": false,
    "slideshow": {
     "slide_type": "slide"
    },
    "tags": []
   },
   "outputs": [
    {
     "name": "stdout",
     "output_type": "stream",
     "text": [
      "(3,)\n",
      "(5, 3)\n",
      "[[ 2  4  6]\n",
      " [ 5  7  9]\n",
      " [ 8 10 12]\n",
      " [ 1  3  5]\n",
      " [ 4  6  8]]\n",
      "(5, 3)\n"
     ]
    }
   ],
   "source": [
    "# 对于一维数组和二维数组之间的运算\n",
    "import numpy as np\n",
    "a = np.array([1, 2, 3])\n",
    "b = np.array([[1, 2, 3], \n",
    "            [4, 5, 6], \n",
    "            [7, 8, 9],\n",
    "            [0, 1, 2],\n",
    "            [3, 4, 5]])\n",
    "print(a.shape)\n",
    "print(b.shape)\n",
    "c = a + b\n",
    "print(c)\n",
    "print(c.shape)"
   ]
  },
  {
   "cell_type": "code",
   "execution_count": 11,
   "metadata": {
    "id": "A11D048FDE904FDE87AE25159BDF5ED2",
    "jupyter": {},
    "notebookId": "635e2482818aeba64f1325e0",
    "scrolled": false,
    "slideshow": {
     "slide_type": "slide"
    },
    "tags": []
   },
   "outputs": [
    {
     "name": "stdout",
     "output_type": "stream",
     "text": [
      "(1, 3)\n",
      "(5, 3)\n",
      "[[ 2  4  6]\n",
      " [ 5  7  9]\n",
      " [ 8 10 12]\n",
      " [ 1  3  5]\n",
      " [ 4  6  8]]\n",
      "(5, 3)\n"
     ]
    }
   ],
   "source": [
    "# 对于两个维度相同的N维数组之间的运算\n",
    "import numpy as np\n",
    "a = np.array([[1, 2, 3]])\n",
    "b = np.array([[1, 2, 3], \n",
    "            [4, 5, 6], \n",
    "            [7, 8, 9],\n",
    "            [0, 1, 2],\n",
    "            [3, 4, 5]])\n",
    "print(a.shape)\n",
    "print(b.shape)\n",
    "c = a + b\n",
    "print(c)\n",
    "print(c.shape)"
   ]
  },
  {
   "cell_type": "code",
   "execution_count": 12,
   "metadata": {
    "id": "1116BF6D3B574C9F8377FCA7587D35E6",
    "jupyter": {},
    "notebookId": "635e2482818aeba64f1325e0",
    "scrolled": false,
    "slideshow": {
     "slide_type": "slide"
    },
    "tags": []
   },
   "outputs": [
    {
     "name": "stdout",
     "output_type": "stream",
     "text": [
      "[[ 9.45 10.1  10.9 ]\n",
      " [ 9.55  9.75 10.75]]\n"
     ]
    }
   ],
   "source": [
    "# 将向量化用于两个场之间的运算\n",
    "import numpy as np\n",
    "t1 = np.array([[10.5, 13, 16.3], \n",
    "             [12, 12.5, 15.5]])\n",
    "t2 = np.array([[8.4, 7.2, 5.5], \n",
    "             [7.1, 7.0, 6.0]])\n",
    "t_mean = (t1 + t2) / 2\n",
    "print(t_mean)"
   ]
  },
  {
   "cell_type": "code",
   "execution_count": 3,
   "metadata": {
    "id": "AF4F6152848D4C7590046A43B4CB6901",
    "jupyter": {},
    "notebookId": "635e2482818aeba64f1325e0",
    "scrolled": false,
    "slideshow": {
     "slide_type": "slide"
    },
    "tags": [],
    "ExecuteTime": {
     "start_time": "2024-06-29T20:31:19.011988Z",
     "end_time": "2024-06-29T20:31:19.029587Z"
    }
   },
   "outputs": [
    {
     "name": "stdout",
     "output_type": "stream",
     "text": [
      "[[False  True  True]\n",
      " [False  True  True]]\n"
     ]
    }
   ],
   "source": [
    "# 多位数组的比较运算\n",
    "import numpy as np\n",
    "t1 = np.array([[10.5, 13, 16.3], \n",
    "             [12, 12.5, 15.5]])\n",
    "print(t1 > 12)"
   ]
  },
  {
   "cell_type": "code",
   "execution_count": 14,
   "metadata": {
    "id": "B4C55A6C32D744BB9F85ECE9BC731F76",
    "jupyter": {},
    "notebookId": "635e2482818aeba64f1325e0",
    "scrolled": false,
    "slideshow": {
     "slide_type": "slide"
    },
    "tags": []
   },
   "outputs": [
    {
     "name": "stdout",
     "output_type": "stream",
     "text": [
      "[[ True  True  True]\n",
      " [False  True  True]]\n",
      "[[False False False]\n",
      " [False  True False]]\n"
     ]
    }
   ],
   "source": [
    "# 多维数组的逻辑运算\n",
    "import numpy as np\n",
    "t1 = np.array([[10.5, 13, 16.3], \n",
    "             [12, 12.5, 15.5]])\n",
    "print((t1 > 12)| (t1 < 11))\n",
    "print((t1 > 12)& (t1 < 13))"
   ]
  },
  {
   "cell_type": "markdown",
   "metadata": {
    "id": "8D599280424540E6A39E44C3F58299AE",
    "jupyter": {},
    "mdEditEnable": false,
    "notebookId": "635e2482818aeba64f1325e0",
    "scrolled": false,
    "slideshow": {
     "slide_type": "slide"
    },
    "tags": []
   },
   "source": [
    "## 3.6 多维数组的索引和切片"
   ]
  },
  {
   "cell_type": "markdown",
   "metadata": {
    "id": "33EAD50069A0460A8BCC12024D8E6B82",
    "jupyter": {},
    "mdEditEnable": false,
    "notebookId": "635e2482818aeba64f1325e0",
    "scrolled": false,
    "slideshow": {
     "slide_type": "slide"
    },
    "tags": []
   },
   "source": [
    "### 3.6.1  普通索引和切片"
   ]
  },
  {
   "cell_type": "code",
   "execution_count": 15,
   "metadata": {
    "id": "CEEC4E40FA1347DF82986EB852F810F4",
    "jupyter": {},
    "notebookId": "635e2482818aeba64f1325e0",
    "scrolled": false,
    "slideshow": {
     "slide_type": "slide"
    },
    "tags": []
   },
   "outputs": [
    {
     "name": "stdout",
     "output_type": "stream",
     "text": [
      "[1 2 3] 第一个维度索引为0的序列\n",
      "[1 4 7] 第二个维度索引为0的序列\n",
      "[[1 2 3]\n",
      " [4 5 6]] 第一个维度索引为0、1的序列\n",
      "[[1 2]\n",
      " [4 5]] 第一个维度索引为0、1且第二个维度索引为0、1的序列\n",
      "[[1 2 3]\n",
      " [7 8 9]] 第一个维度索引间隔2的序列\n"
     ]
    }
   ],
   "source": [
    "# 通过索引获得需要的值\n",
    "import numpy as np\n",
    "a = np.array([[1, 2, 3], \n",
    "            [4, 5, 6], \n",
    "            [7, 8, 9]])\n",
    "print(a[0], '第一个维度索引为0的序列')\n",
    "print(a[:, 0], '第二个维度索引为0的序列')\n",
    "print(a[:2], '第一个维度索引为0、1的序列')\n",
    "print(a[:2, :2], '第一个维度索引为0、1且第二个维度索引为0、1的序列')\n",
    "print(a[::2, :], '第一个维度索引间隔2的序列')"
   ]
  },
  {
   "cell_type": "code",
   "execution_count": 16,
   "metadata": {
    "id": "0FAB12B78C6D4C3581D412FE08B4483C",
    "jupyter": {},
    "notebookId": "635e2482818aeba64f1325e0",
    "scrolled": false,
    "slideshow": {
     "slide_type": "slide"
    },
    "tags": []
   },
   "outputs": [
    {
     "name": "stdout",
     "output_type": "stream",
     "text": [
      "[[1 2 3]\n",
      " [4 0 6]\n",
      " [7 8 9]]\n"
     ]
    }
   ],
   "source": [
    "# 用于对索引位置赋值\n",
    "import numpy as np\n",
    "a = np.array([[1, 2, 3], \n",
    "            [4, 5, 6], \n",
    "            [7, 8, 9]])\n",
    "a[1, 1] = 0 \n",
    "print(a)"
   ]
  },
  {
   "cell_type": "code",
   "execution_count": 17,
   "metadata": {
    "id": "A41783A02B0E4ED79A8148E5F500EE8D",
    "jupyter": {},
    "notebookId": "635e2482818aeba64f1325e0",
    "scrolled": false,
    "slideshow": {
     "slide_type": "slide"
    },
    "tags": []
   },
   "outputs": [
    {
     "name": "stdout",
     "output_type": "stream",
     "text": [
      "[[0 0 0]\n",
      " [4 5 6]\n",
      " [0 0 0]]\n"
     ]
    }
   ],
   "source": [
    "# 应用广播运算使用标量对切片赋值\n",
    "import numpy as np\n",
    "a = np.array([[1, 2, 3], \n",
    "            [4, 5, 6], \n",
    "            [7, 8, 9]])\n",
    "a[::2, :] = 0 \n",
    "print(a)"
   ]
  },
  {
   "cell_type": "code",
   "execution_count": 18,
   "metadata": {
    "id": "8DC252A300D54E818A3FF1B3D2B82588",
    "jupyter": {},
    "notebookId": "635e2482818aeba64f1325e0",
    "scrolled": false,
    "slideshow": {
     "slide_type": "slide"
    },
    "tags": []
   },
   "outputs": [
    {
     "name": "stdout",
     "output_type": "stream",
     "text": [
      "[[0 0 0]\n",
      " [0 0 0]\n",
      " [0 0 0]]\n"
     ]
    }
   ],
   "source": [
    "# 将数组所有元素修改为特定值\n",
    "import numpy as np\n",
    "a = np.array([[1, 2, 3], \n",
    "            [4, 5, 6], \n",
    "            [7, 8, 9]])\n",
    "a[:] = 0 \n",
    "print(a)"
   ]
  },
  {
   "cell_type": "markdown",
   "metadata": {
    "id": "94E257E6BA324905B99C125D761D989C",
    "jupyter": {},
    "mdEditEnable": false,
    "notebookId": "635e2482818aeba64f1325e0",
    "scrolled": false,
    "slideshow": {
     "slide_type": "slide"
    },
    "tags": []
   },
   "source": [
    "### 3.6.2  高级索引"
   ]
  },
  {
   "cell_type": "code",
   "execution_count": 19,
   "metadata": {
    "id": "893D83BA48FF41A2A3EFAA51471DEE2E",
    "jupyter": {},
    "notebookId": "635e2482818aeba64f1325e0",
    "scrolled": false,
    "slideshow": {
     "slide_type": "slide"
    },
    "tags": []
   },
   "outputs": [
    {
     "name": "stdout",
     "output_type": "stream",
     "text": [
      "[5 6 7 8 9]\n",
      "[5 6 7]\n"
     ]
    }
   ],
   "source": [
    "# 利用逻辑索引取出符合条件的元素\n",
    "import numpy as np\n",
    "a = np.array([[1, 2, 3], \n",
    "            [4, 5, 6], \n",
    "            [7, 8, 9]])\n",
    "print(a[a>4])\n",
    "print(a[(a>4) & (a<8)])"
   ]
  },
  {
   "cell_type": "code",
   "execution_count": 4,
   "metadata": {
    "id": "5FCB2C60F1964D258832287BB3570F02",
    "jupyter": {},
    "notebookId": "635e2482818aeba64f1325e0",
    "scrolled": false,
    "slideshow": {
     "slide_type": "slide"
    },
    "tags": [],
    "ExecuteTime": {
     "start_time": "2024-06-29T20:39:47.604011Z",
     "end_time": "2024-06-29T20:39:47.627711Z"
    }
   },
   "outputs": [
    {
     "name": "stdout",
     "output_type": "stream",
     "text": [
      "[[1 2 3]\n",
      " [7 8 9]]\n",
      "[2 9]\n"
     ]
    }
   ],
   "source": [
    "# 花式索引\n",
    "import numpy as np\n",
    "a = np.array([[1, 2, 3], \n",
    "            [4, 5, 6], \n",
    "            [7, 8, 9]])\n",
    "print(a[[0, 2]])\n",
    "print(a[[0, 2], [1, 2]])"
   ]
  },
  {
   "cell_type": "markdown",
   "metadata": {
    "id": "CF2DED59A7004A838BE3E610F804D0AB",
    "jupyter": {},
    "mdEditEnable": false,
    "notebookId": "635e2482818aeba64f1325e0",
    "scrolled": false,
    "slideshow": {
     "slide_type": "slide"
    },
    "tags": []
   },
   "source": [
    "## 3.7  N维数组对象的方法"
   ]
  },
  {
   "cell_type": "markdown",
   "metadata": {
    "id": "BCE56C0868B347A4BE62E99165962CC4",
    "jupyter": {},
    "mdEditEnable": false,
    "notebookId": "635e2482818aeba64f1325e0",
    "scrolled": false,
    "slideshow": {
     "slide_type": "slide"
    },
    "tags": []
   },
   "source": [
    "### 3.7.1  reshape()——改变数组形状"
   ]
  },
  {
   "cell_type": "code",
   "execution_count": 5,
   "metadata": {
    "id": "EF1351796529454A89740381AF83AD22",
    "jupyter": {},
    "notebookId": "635e2482818aeba64f1325e0",
    "scrolled": false,
    "slideshow": {
     "slide_type": "slide"
    },
    "tags": [],
    "ExecuteTime": {
     "start_time": "2024-06-29T20:42:42.007232Z",
     "end_time": "2024-06-29T20:42:42.013133Z"
    }
   },
   "outputs": [
    {
     "name": "stdout",
     "output_type": "stream",
     "text": [
      "[1 2 3 4 5 6]\n",
      "(6,)\n",
      "[[1 2 3]\n",
      " [4 5 6]]\n",
      "(2, 3)\n",
      "[[1]\n",
      " [2]\n",
      " [3]\n",
      " [4]\n",
      " [5]\n",
      " [6]]\n",
      "(6, 1)\n"
     ]
    }
   ],
   "source": [
    "# 尝试修改一个一维向量的形状\n",
    "import numpy as np\n",
    "a = np.array([1, 2, 3, 4, 5, 6])\n",
    "print(a)\n",
    "print(a.shape)\n",
    "b = a.reshape(2, 3)\n",
    "print(b)\n",
    "print(b.shape)\n",
    "c = a.reshape(6, 1)\n",
    "print(c)\n",
    "print(c.shape)"
   ]
  },
  {
   "cell_type": "code",
   "execution_count": 7,
   "metadata": {
    "id": "B278A88457D4467A856482121E07569C",
    "jupyter": {},
    "notebookId": "635e2482818aeba64f1325e0",
    "scrolled": false,
    "slideshow": {
     "slide_type": "slide"
    },
    "tags": [],
    "ExecuteTime": {
     "start_time": "2024-06-29T20:43:50.464835Z",
     "end_time": "2024-06-29T20:43:50.469683Z"
    }
   },
   "outputs": [
    {
     "name": "stdout",
     "output_type": "stream",
     "text": [
      "[1 2 3 4 5 6]\n",
      "(6,)\n",
      "[[1 2 3]\n",
      " [4 5 6]]\n",
      "(2, 3)\n"
     ]
    }
   ],
   "source": [
    "# 利用特殊值-1自动计算长度\n",
    "import numpy as np\n",
    "a = np.array([1, 2, 3, 4, 5, 6])\n",
    "print(a)\n",
    "print(a.shape)\n",
    "b = a.reshape(2, -1)\n",
    "print(b)\n",
    "print(b.shape)"
   ]
  },
  {
   "cell_type": "code",
   "execution_count": 23,
   "metadata": {
    "id": "D536EB575CC6470CBCEF44E0DD3D6E6A",
    "jupyter": {},
    "notebookId": "635e2482818aeba64f1325e0",
    "scrolled": false,
    "slideshow": {
     "slide_type": "slide"
    },
    "tags": []
   },
   "outputs": [
    {
     "name": "stdout",
     "output_type": "stream",
     "text": [
      "[[1 2 3]\n",
      " [4 5 6]\n",
      " [7 8 9]]\n",
      "(3, 3)\n",
      "[1 2 3 4 5 6 7 8 9]\n",
      "(9,)\n"
     ]
    }
   ],
   "source": [
    "# 利用特殊值-1展开数组\n",
    "import numpy as np\n",
    "a = np.array([[1, 2, 3], \n",
    "            [4, 5, 6], \n",
    "            [7, 8, 9]])\n",
    "print(a)\n",
    "print(a.shape)\n",
    "b = a.reshape(-1)\n",
    "print(b)\n",
    "print(b.shape)"
   ]
  },
  {
   "cell_type": "markdown",
   "metadata": {
    "id": "F9C9EA98CE0548718B4159CCBC51F3FB",
    "jupyter": {},
    "mdEditEnable": false,
    "notebookId": "635e2482818aeba64f1325e0",
    "scrolled": false,
    "slideshow": {
     "slide_type": "slide"
    },
    "tags": []
   },
   "source": [
    "###  3.7.2  transpose()——交换轴"
   ]
  },
  {
   "cell_type": "code",
   "execution_count": 24,
   "metadata": {
    "id": "36034C8CD895474A89CEE3E8406AC538",
    "jupyter": {},
    "notebookId": "635e2482818aeba64f1325e0",
    "scrolled": false,
    "slideshow": {
     "slide_type": "slide"
    },
    "tags": []
   },
   "outputs": [
    {
     "name": "stdout",
     "output_type": "stream",
     "text": [
      "[[1 4 7]\n",
      " [2 5 8]\n",
      " [3 6 9]]\n"
     ]
    }
   ],
   "source": [
    "# 默认参数下的交换\n",
    "import numpy as np\n",
    "a = np.array([[1, 2, 3], \n",
    "            [4, 5, 6], \n",
    "            [7, 8, 9]])\n",
    "print(a.transpose())"
   ]
  },
  {
   "cell_type": "code",
   "execution_count": 9,
   "metadata": {
    "id": "99E6A766533D42B2907CA8A45ED4B49A",
    "jupyter": {},
    "notebookId": "635e2482818aeba64f1325e0",
    "scrolled": false,
    "slideshow": {
     "slide_type": "slide"
    },
    "tags": [],
    "ExecuteTime": {
     "start_time": "2024-06-29T20:45:33.702324Z",
     "end_time": "2024-06-29T20:45:33.709393Z"
    }
   },
   "outputs": [
    {
     "name": "stdout",
     "output_type": "stream",
     "text": [
      "(10, 15, 25)\n",
      "(15, 10, 25)\n"
     ]
    }
   ],
   "source": [
    "# 指定顺序的交换\n",
    "import numpy as np\n",
    "a = np.zeros((10, 15, 25))\n",
    "print(a.shape)\n",
    "b = a.transpose(1, 0, 2)\n",
    "print(b.shape)"
   ]
  },
  {
   "cell_type": "markdown",
   "metadata": {
    "id": "37E65F1890C2417C93A9D75FEAF43B01",
    "jupyter": {},
    "mdEditEnable": false,
    "notebookId": "635e2482818aeba64f1325e0",
    "scrolled": false,
    "slideshow": {
     "slide_type": "slide"
    },
    "tags": []
   },
   "source": [
    "### 3.7.3  mean()——计算平均值"
   ]
  },
  {
   "cell_type": "code",
   "execution_count": 10,
   "metadata": {
    "id": "076A2F566F294E21AE83EDCDCF7FD84A",
    "jupyter": {},
    "notebookId": "635e2482818aeba64f1325e0",
    "scrolled": false,
    "slideshow": {
     "slide_type": "slide"
    },
    "tags": [],
    "ExecuteTime": {
     "start_time": "2024-06-29T20:49:11.004193Z",
     "end_time": "2024-06-29T20:49:11.038780Z"
    }
   },
   "outputs": [
    {
     "name": "stdout",
     "output_type": "stream",
     "text": [
      "5.0\n",
      "5.0\n",
      "由于数组a只有两个维度，所以axis=(0, 1)等价于对所有维度取平均值\n",
      "[4. 5. 6.]\n",
      "[2. 5. 8.]\n"
     ]
    }
   ],
   "source": [
    "# 计算数组均值\n",
    "import numpy as np\n",
    "a = np.array([[1, 2, 3], \n",
    "            [4, 5, 6], \n",
    "            [7, 8, 9]])\n",
    "print(a.mean())\n",
    "print(a.mean(axis=(0, 1)))\n",
    "print('由于数组a只有两个维度，所以axis=(0, 1)等价于对所有维度取平均值')\n",
    "print(a.mean(axis=0))\n",
    "print(a.mean(axis=1))"
   ]
  },
  {
   "cell_type": "markdown",
   "metadata": {
    "id": "F1F27E59AB9A4F9D85059F595201DA60",
    "jupyter": {},
    "mdEditEnable": false,
    "notebookId": "635e2482818aeba64f1325e0",
    "scrolled": false,
    "slideshow": {
     "slide_type": "slide"
    },
    "tags": []
   },
   "source": [
    "### 3.7.4  sum()——计算元素和"
   ]
  },
  {
   "cell_type": "code",
   "execution_count": 12,
   "metadata": {
    "id": "5DF671FF58AB40B6B29241B83E3607A6",
    "jupyter": {},
    "notebookId": "635e2482818aeba64f1325e0",
    "scrolled": false,
    "slideshow": {
     "slide_type": "slide"
    },
    "tags": [],
    "ExecuteTime": {
     "start_time": "2024-06-29T20:50:19.381692Z",
     "end_time": "2024-06-29T20:50:19.387918Z"
    }
   },
   "outputs": [
    {
     "name": "stdout",
     "output_type": "stream",
     "text": [
      "45\n",
      "45\n",
      "[12 15 18]\n"
     ]
    }
   ],
   "source": [
    "# 计算数组元素之和\n",
    "import numpy as np\n",
    "a = np.array([[1, 2, 3], \n",
    "            [4, 5, 6], \n",
    "            [7, 8, 9]])\n",
    "print(a.sum())\n",
    "print(a.sum(axis=(0, 1)))\n",
    "print(a.sum(axis=0))"
   ]
  },
  {
   "cell_type": "code",
   "execution_count": 28,
   "metadata": {
    "id": "903FE84658C54342875E9C4C9B17408F",
    "jupyter": {},
    "notebookId": "635e2482818aeba64f1325e0",
    "scrolled": false,
    "slideshow": {
     "slide_type": "slide"
    },
    "tags": []
   },
   "outputs": [
    {
     "name": "stdout",
     "output_type": "stream",
     "text": [
      "2.581988897471611\n",
      "2.581988897471611\n",
      "[2.44948974 2.44948974 2.44948974]\n"
     ]
    }
   ],
   "source": [
    "# 计算数组元素标准差\n",
    "import numpy as np\n",
    "a = np.array([[1, 2, 3], \n",
    "            [4, 5, 6], \n",
    "            [7, 8, 9]])\n",
    "print(a.std())\n",
    "print(a.std(axis=(0, 1)))\n",
    "print(a.std(axis=0))"
   ]
  },
  {
   "cell_type": "markdown",
   "metadata": {
    "id": "1715A3909C29450180A36FFD8EEBB5BD",
    "jupyter": {},
    "mdEditEnable": false,
    "notebookId": "635e2482818aeba64f1325e0",
    "scrolled": false,
    "slideshow": {
     "slide_type": "slide"
    },
    "tags": []
   },
   "source": [
    "### 3.7.6  min()——取最小值/max()——取最大值"
   ]
  },
  {
   "cell_type": "code",
   "execution_count": 13,
   "metadata": {
    "id": "8D6C9984D53C4EF38DFCC67CA09CDB60",
    "jupyter": {},
    "notebookId": "635e2482818aeba64f1325e0",
    "scrolled": false,
    "slideshow": {
     "slide_type": "slide"
    },
    "tags": [],
    "ExecuteTime": {
     "start_time": "2024-06-29T20:51:07.774273Z",
     "end_time": "2024-06-29T20:51:07.804836Z"
    }
   },
   "outputs": [
    {
     "name": "stdout",
     "output_type": "stream",
     "text": [
      "9\n",
      "9\n",
      "[3 6 9]\n",
      "1\n",
      "1\n",
      "[1 2 3]\n"
     ]
    }
   ],
   "source": [
    "# 获取元素最大和最小值\n",
    "import numpy as np\n",
    "a = np.array([[1, 2, 3], \n",
    "            [4, 5, 6], \n",
    "            [7, 8, 9]])\n",
    "print(a.max())\n",
    "print(a.max(axis=(0, 1)))\n",
    "print(a.max(axis=1))\n",
    "print(a.min())\n",
    "print(a.min(axis=(0, 1)))\n",
    "print(a.min(axis=0))"
   ]
  },
  {
   "cell_type": "markdown",
   "metadata": {
    "id": "2FB1C4F9831E478E9B09E716BBD0C982",
    "jupyter": {},
    "mdEditEnable": false,
    "notebookId": "635e2482818aeba64f1325e0",
    "scrolled": false,
    "slideshow": {
     "slide_type": "slide"
    },
    "tags": []
   },
   "source": [
    "# 3.7.7  round()——进行四舍五入"
   ]
  },
  {
   "cell_type": "code",
   "execution_count": 30,
   "metadata": {
    "id": "C65F3F9D008247FC891091A493D29561",
    "jupyter": {},
    "notebookId": "635e2482818aeba64f1325e0",
    "scrolled": false,
    "slideshow": {
     "slide_type": "slide"
    },
    "tags": []
   },
   "outputs": [
    {
     "name": "stdout",
     "output_type": "stream",
     "text": [
      "[[1. 2. 2.]\n",
      " [4. 5. 7.]\n",
      " [7. 7. 9.]]\n",
      "[[1.1 2.2 2.2]\n",
      " [4.  5.5 6.8]\n",
      " [7.2 7.4 9.2]]\n"
     ]
    }
   ],
   "source": [
    "# 对数组四舍五入\n",
    "import numpy as np\n",
    "a = np.array([[1.12, 2.25, 2.15], \n",
    "            [4.03, 5.48, 6.75], \n",
    "            [7.25, 7.35, 9.22]])\n",
    "print(a.round())\n",
    "print(a.round(1))"
   ]
  },
  {
   "cell_type": "markdown",
   "metadata": {
    "id": "E1B5828BEB784BCCBB50548DC01965F9",
    "jupyter": {},
    "mdEditEnable": false,
    "notebookId": "635e2482818aeba64f1325e0",
    "scrolled": false,
    "slideshow": {
     "slide_type": "slide"
    },
    "tags": []
   },
   "source": [
    "### 3.7.8  dot()——执行向量/矩阵乘法"
   ]
  },
  {
   "cell_type": "code",
   "execution_count": 31,
   "metadata": {
    "id": "8A1CE0AA9A844693B725C7175E2723A6",
    "jupyter": {},
    "notebookId": "635e2482818aeba64f1325e0",
    "scrolled": false,
    "slideshow": {
     "slide_type": "slide"
    },
    "tags": []
   },
   "outputs": [
    {
     "name": "stdout",
     "output_type": "stream",
     "text": [
      "shape_a= (2, 3)\n",
      "shape_b= (3, 2)\n",
      "[[22 28]\n",
      " [49 64]]\n"
     ]
    }
   ],
   "source": [
    "# 矩阵乘法\n",
    "import numpy as np\n",
    "a = np.array([[1, 2, 3], \n",
    "            [4, 5, 6]])\n",
    "b = np.array([[1, 2], \n",
    "            [3, 4],\n",
    "            [5, 6]])\n",
    "print('shape_a=', a.shape)\n",
    "print('shape_b=', b.shape)\n",
    "c = a.dot(b)  # A×B\n",
    "print(c)"
   ]
  },
  {
   "cell_type": "code",
   "execution_count": 32,
   "metadata": {
    "id": "691D9E36B0D141BD8CCC7DADFD2E0460",
    "jupyter": {},
    "notebookId": "635e2482818aeba64f1325e0",
    "scrolled": false,
    "slideshow": {
     "slide_type": "slide"
    },
    "tags": []
   },
   "outputs": [
    {
     "name": "stdout",
     "output_type": "stream",
     "text": [
      "32\n"
     ]
    }
   ],
   "source": [
    "#向量乘法\n",
    "import numpy as np\n",
    "a = np.array([1, 2, 3])\n",
    "b = np.array([4, 5, 6])\n",
    "c = a.dot(b)\n",
    "print(c)"
   ]
  },
  {
   "cell_type": "markdown",
   "metadata": {
    "id": "4F22C26E98A846D09E99359DD4B953FF",
    "jupyter": {},
    "mdEditEnable": false,
    "notebookId": "635e2482818aeba64f1325e0",
    "scrolled": false,
    "slideshow": {
     "slide_type": "slide"
    },
    "tags": []
   },
   "source": [
    "### 3.7.9  astype()——转换数值类型"
   ]
  },
  {
   "cell_type": "code",
   "execution_count": 15,
   "metadata": {
    "id": "FB101026CC374AA588ACE43B6698EB7F",
    "jupyter": {},
    "notebookId": "635e2482818aeba64f1325e0",
    "scrolled": false,
    "slideshow": {
     "slide_type": "slide"
    },
    "tags": [],
    "ExecuteTime": {
     "start_time": "2024-06-29T20:53:48.707320Z",
     "end_time": "2024-06-29T20:53:48.713614Z"
    }
   },
   "outputs": [
    {
     "name": "stdout",
     "output_type": "stream",
     "text": [
      "float64\n",
      "float32\n",
      "int32\n",
      "[1 2 3]\n"
     ]
    }
   ],
   "source": [
    "# 使用astype()方法根据需要生成新数据类型的多维数组\n",
    "import numpy as np\n",
    "a = np.array([1.2, 2.4, 3.5])\n",
    "print(a.dtype)\n",
    "b = a.astype(np.float32)\n",
    "print(b.dtype)\n",
    "c = a.astype(np.int32)\n",
    "print(c.dtype)\n",
    "print(c)"
   ]
  },
  {
   "cell_type": "markdown",
   "metadata": {
    "id": "2A4574A61D5D402CB0C8DB9B436BFB23",
    "jupyter": {},
    "mdEditEnable": false,
    "notebookId": "635e2482818aeba64f1325e0",
    "scrolled": false,
    "slideshow": {
     "slide_type": "slide"
    },
    "tags": []
   },
   "source": [
    "## 3.10  文件读写"
   ]
  },
  {
   "cell_type": "markdown",
   "metadata": {
    "id": "5CBAAEFCE1C94F34B75164F6F554AC72",
    "jupyter": {},
    "mdEditEnable": false,
    "notebookId": "635e2482818aeba64f1325e0",
    "scrolled": false,
    "slideshow": {
     "slide_type": "slide"
    },
    "tags": []
   },
   "source": [
    "### 3.10.1  文本格式文件的读取"
   ]
  },
  {
   "cell_type": "code",
   "execution_count": 34,
   "metadata": {
    "id": "686B2410F0C647B496E50219EABDC3AC",
    "jupyter": {},
    "notebookId": "635e2482818aeba64f1325e0",
    "scrolled": false,
    "slideshow": {
     "slide_type": "slide"
    },
    "tags": []
   },
   "outputs": [
    {
     "ename": "FileNotFoundError",
     "evalue": "/home/mw/project/save_csv.csv not found.",
     "output_type": "error",
     "traceback": [
      "\u001B[1;31m---------------------------------------------------------------------------\u001B[0m",
      "\u001B[1;31mFileNotFoundError\u001B[0m                         Traceback (most recent call last)",
      "Cell \u001B[1;32mIn[34], line 3\u001B[0m\n\u001B[0;32m      1\u001B[0m \u001B[38;5;66;03m#读取没有列明的csv文件\u001B[39;00m\n\u001B[0;32m      2\u001B[0m \u001B[38;5;28;01mimport\u001B[39;00m \u001B[38;5;21;01mnumpy\u001B[39;00m \u001B[38;5;28;01mas\u001B[39;00m \u001B[38;5;21;01mnp\u001B[39;00m\n\u001B[1;32m----> 3\u001B[0m a \u001B[38;5;241m=\u001B[39m \u001B[43mnp\u001B[49m\u001B[38;5;241;43m.\u001B[39;49m\u001B[43mgenfromtxt\u001B[49m\u001B[43m(\u001B[49m\u001B[38;5;124;43m'\u001B[39;49m\u001B[38;5;124;43m/home/mw/project/save_csv.csv\u001B[39;49m\u001B[38;5;124;43m'\u001B[39;49m\u001B[43m,\u001B[49m\u001B[43m \u001B[49m\u001B[43mdelimiter\u001B[49m\u001B[38;5;241;43m=\u001B[39;49m\u001B[38;5;124;43m'\u001B[39;49m\u001B[38;5;124;43m,\u001B[39;49m\u001B[38;5;124;43m'\u001B[39;49m\u001B[43m)\u001B[49m\n\u001B[0;32m      4\u001B[0m \u001B[38;5;28mprint\u001B[39m(a)\n\u001B[0;32m      5\u001B[0m \u001B[38;5;66;03m# 读取空格作为分隔符的文件\u001B[39;00m\n",
      "File \u001B[1;32mD:\\anaconda\\lib\\site-packages\\numpy\\lib\\npyio.py:1959\u001B[0m, in \u001B[0;36mgenfromtxt\u001B[1;34m(fname, dtype, comments, delimiter, skip_header, skip_footer, converters, missing_values, filling_values, usecols, names, excludelist, deletechars, replace_space, autostrip, case_sensitive, defaultfmt, unpack, usemask, loose, invalid_raise, max_rows, encoding, ndmin, like)\u001B[0m\n\u001B[0;32m   1957\u001B[0m     fname \u001B[38;5;241m=\u001B[39m os_fspath(fname)\n\u001B[0;32m   1958\u001B[0m \u001B[38;5;28;01mif\u001B[39;00m \u001B[38;5;28misinstance\u001B[39m(fname, \u001B[38;5;28mstr\u001B[39m):\n\u001B[1;32m-> 1959\u001B[0m     fid \u001B[38;5;241m=\u001B[39m \u001B[43mnp\u001B[49m\u001B[38;5;241;43m.\u001B[39;49m\u001B[43mlib\u001B[49m\u001B[38;5;241;43m.\u001B[39;49m\u001B[43m_datasource\u001B[49m\u001B[38;5;241;43m.\u001B[39;49m\u001B[43mopen\u001B[49m\u001B[43m(\u001B[49m\u001B[43mfname\u001B[49m\u001B[43m,\u001B[49m\u001B[43m \u001B[49m\u001B[38;5;124;43m'\u001B[39;49m\u001B[38;5;124;43mrt\u001B[39;49m\u001B[38;5;124;43m'\u001B[39;49m\u001B[43m,\u001B[49m\u001B[43m \u001B[49m\u001B[43mencoding\u001B[49m\u001B[38;5;241;43m=\u001B[39;49m\u001B[43mencoding\u001B[49m\u001B[43m)\u001B[49m\n\u001B[0;32m   1960\u001B[0m     fid_ctx \u001B[38;5;241m=\u001B[39m contextlib\u001B[38;5;241m.\u001B[39mclosing(fid)\n\u001B[0;32m   1961\u001B[0m \u001B[38;5;28;01melse\u001B[39;00m:\n",
      "File \u001B[1;32mD:\\anaconda\\lib\\site-packages\\numpy\\lib\\_datasource.py:193\u001B[0m, in \u001B[0;36mopen\u001B[1;34m(path, mode, destpath, encoding, newline)\u001B[0m\n\u001B[0;32m    156\u001B[0m \u001B[38;5;124;03m\"\"\"\u001B[39;00m\n\u001B[0;32m    157\u001B[0m \u001B[38;5;124;03mOpen `path` with `mode` and return the file object.\u001B[39;00m\n\u001B[0;32m    158\u001B[0m \n\u001B[1;32m   (...)\u001B[0m\n\u001B[0;32m    189\u001B[0m \n\u001B[0;32m    190\u001B[0m \u001B[38;5;124;03m\"\"\"\u001B[39;00m\n\u001B[0;32m    192\u001B[0m ds \u001B[38;5;241m=\u001B[39m DataSource(destpath)\n\u001B[1;32m--> 193\u001B[0m \u001B[38;5;28;01mreturn\u001B[39;00m \u001B[43mds\u001B[49m\u001B[38;5;241;43m.\u001B[39;49m\u001B[43mopen\u001B[49m\u001B[43m(\u001B[49m\u001B[43mpath\u001B[49m\u001B[43m,\u001B[49m\u001B[43m \u001B[49m\u001B[43mmode\u001B[49m\u001B[43m,\u001B[49m\u001B[43m \u001B[49m\u001B[43mencoding\u001B[49m\u001B[38;5;241;43m=\u001B[39;49m\u001B[43mencoding\u001B[49m\u001B[43m,\u001B[49m\u001B[43m \u001B[49m\u001B[43mnewline\u001B[49m\u001B[38;5;241;43m=\u001B[39;49m\u001B[43mnewline\u001B[49m\u001B[43m)\u001B[49m\n",
      "File \u001B[1;32mD:\\anaconda\\lib\\site-packages\\numpy\\lib\\_datasource.py:533\u001B[0m, in \u001B[0;36mDataSource.open\u001B[1;34m(self, path, mode, encoding, newline)\u001B[0m\n\u001B[0;32m    530\u001B[0m     \u001B[38;5;28;01mreturn\u001B[39;00m _file_openers[ext](found, mode\u001B[38;5;241m=\u001B[39mmode,\n\u001B[0;32m    531\u001B[0m                               encoding\u001B[38;5;241m=\u001B[39mencoding, newline\u001B[38;5;241m=\u001B[39mnewline)\n\u001B[0;32m    532\u001B[0m \u001B[38;5;28;01melse\u001B[39;00m:\n\u001B[1;32m--> 533\u001B[0m     \u001B[38;5;28;01mraise\u001B[39;00m \u001B[38;5;167;01mFileNotFoundError\u001B[39;00m(\u001B[38;5;124mf\u001B[39m\u001B[38;5;124m\"\u001B[39m\u001B[38;5;132;01m{\u001B[39;00mpath\u001B[38;5;132;01m}\u001B[39;00m\u001B[38;5;124m not found.\u001B[39m\u001B[38;5;124m\"\u001B[39m)\n",
      "\u001B[1;31mFileNotFoundError\u001B[0m: /home/mw/project/save_csv.csv not found."
     ]
    }
   ],
   "source": [
    "#读取没有列明的csv文件\n",
    "import numpy as np\n",
    "a = np.genfromtxt('/home/mw/project/save_csv.csv', delimiter=',')\n",
    "print(a)\n",
    "# 读取空格作为分隔符的文件\n",
    "import numpy as np\n",
    "a = np.genfromtxt('/home/mw/project/save_txt.txt', delimiter=' ')\n",
    "print(a)"
   ]
  },
  {
   "cell_type": "markdown",
   "metadata": {
    "id": "CF1467CC45B942228E351E66337512F1",
    "jupyter": {},
    "mdEditEnable": false,
    "notebookId": "635e2482818aeba64f1325e0",
    "scrolled": false,
    "slideshow": {
     "slide_type": "slide"
    },
    "tags": []
   },
   "source": [
    "### 3.10.2  文本格式文件的写入"
   ]
  },
  {
   "cell_type": "code",
   "execution_count": 16,
   "metadata": {
    "id": "A76EF83F9FD64A048C9D2A6511DDBB11",
    "jupyter": {},
    "notebookId": "635e2482818aeba64f1325e0",
    "scrolled": false,
    "slideshow": {
     "slide_type": "slide"
    },
    "tags": [],
    "ExecuteTime": {
     "start_time": "2024-06-29T20:55:56.910901Z",
     "end_time": "2024-06-29T20:55:56.928441Z"
    }
   },
   "outputs": [],
   "source": [
    "# 保存为csv文件\n",
    "import numpy as np\n",
    "a = np.array([[10.5, 13, 16.3], \n",
    "            [12, 12.5, 15.5]])\n",
    "np.savetxt('save_csv.csv', a, delimiter=',')\n",
    "# 保存为空格作为分隔符的txt文件\n",
    "import numpy as np\n",
    "a = np.array([[10.5, 13, 16.3], \n",
    "            [12, 12.5, 15.5]])\n",
    "np.savetxt('save_txt.txt', a, delimiter=' ')"
   ]
  },
  {
   "cell_type": "markdown",
   "metadata": {
    "id": "933BFC62CBC4436992BF48A671837665",
    "jupyter": {},
    "mdEditEnable": false,
    "notebookId": "635e2482818aeba64f1325e0",
    "scrolled": false,
    "slideshow": {
     "slide_type": "slide"
    },
    "tags": []
   },
   "source": [
    "### 3.10.3  顺序二进制文件的读写"
   ]
  },
  {
   "cell_type": "code",
   "execution_count": null,
   "metadata": {
    "id": "2DD07A9EA583490E98C7DD51C7F9200F",
    "jupyter": {},
    "notebookId": "635e2482818aeba64f1325e0",
    "scrolled": false,
    "slideshow": {
     "slide_type": "slide"
    },
    "tags": []
   },
   "outputs": [],
   "source": [
    "# 二进制文件的读入\n",
    "import numpy as np\n",
    "a = np.fromfile('/home/mw/project/binary_raw.bin', dtype=np.float64)\n",
    "print(a)\n",
    "a = a.reshape((3, 3))\n",
    "print(a)"
   ]
  },
  {
   "cell_type": "code",
   "execution_count": null,
   "metadata": {
    "id": "7262BAF8F16344D08F364CF72CE1043B",
    "jupyter": {},
    "notebookId": "635e2482818aeba64f1325e0",
    "scrolled": false,
    "slideshow": {
     "slide_type": "slide"
    },
    "tags": []
   },
   "outputs": [],
   "source": [
    "# 二进制文件的写入\n",
    "import numpy as np\n",
    "a = np.array([[10.5, 13, 16.3], \n",
    "            [12, 12.5, 15.5],\n",
    "            [11.3, 12.2, 15.4]])\n",
    "print(a.dtype) #输出结果为float64\n",
    "a.tofile('binary_raw.bin')"
   ]
  }
 ],
 "metadata": {
  "kernelspec": {
   "display_name": "Python 3 (ipykernel)",
   "language": "python",
   "name": "python3"
  },
  "language_info": {
   "codemirror_mode": {
    "name": "ipython",
    "version": 3
   },
   "file_extension": ".py",
   "mimetype": "text/x-python",
   "name": "python",
   "nbconvert_exporter": "python",
   "pygments_lexer": "ipython3",
   "version": "3.10.9"
  }
 },
 "nbformat": 4,
 "nbformat_minor": 1
}
